{
  "nbformat": 4,
  "nbformat_minor": 0,
  "metadata": {
    "colab": {
      "name": "ML.ipynb",
      "provenance": [],
      "collapsed_sections": []
    },
    "kernelspec": {
      "display_name": "Python 3",
      "name": "python3"
    },
    "language_info": {
      "name": "python"
    }
  },
  "cells": [
    {
      "cell_type": "code",
      "metadata": {
        "colab": {
          "base_uri": "https://localhost:8080/"
        },
        "id": "P0cgwv7RJuKI",
        "outputId": "9d9bd200-d742-49b6-a449-ed713ebe4c07"
      },
      "source": [
        "from google.colab import drive\n",
        "drive.mount('/content/drive')"
      ],
      "execution_count": null,
      "outputs": [
        {
          "name": "stdout",
          "output_type": "stream",
          "text": [
            "Drive already mounted at /content/drive; to attempt to forcibly remount, call drive.mount(\"/content/drive\", force_remount=True).\n"
          ]
        }
      ]
    },
    {
      "cell_type": "code",
      "metadata": {
        "id": "Tc0CnjERMxI1"
      },
      "source": [
        "import numpy as np\n",
        "import pandas as pd\n",
        "import scipy\n",
        "from scipy.signal import filtfilt\n",
        "from scipy import stats\n",
        "\n",
        "import matplotlib.pyplot as plt\n",
        "\n",
        "from sklearn.model_selection import train_test_split \n",
        "\n",
        "import tensorflow as tf\n",
        "from sklearn.preprocessing import LabelEncoder\n",
        "\n",
        "from tensorflow import keras\n",
        "\n",
        "from keras.layers.core import Dense, Dropout\n",
        "from keras.models import Sequential\n",
        "from keras.callbacks import EarlyStopping\n",
        "from keras.layers import Embedding"
      ],
      "execution_count": null,
      "outputs": []
    },
    {
      "cell_type": "markdown",
      "metadata": {
        "id": "SIPGuggzR9mB"
      },
      "source": [
        "# Load Data"
      ]
    },
    {
      "cell_type": "code",
      "metadata": {
        "colab": {
          "base_uri": "https://localhost:8080/",
          "height": 112
        },
        "id": "i6GkJsYoM6ch",
        "outputId": "9cdfcaab-d863-438c-fb1a-de34da3507f5"
      },
      "source": [
        "df_word=pd.read_csv(\"/content/drive/MyDrive/Programs/final_project/input/classes_V01.txt\",sep=\"\\t\",header=None)\n",
        "\n",
        "df_word.columns=['name','repetition','target','category']\n",
        "\n",
        "df_word.head(2)"
      ],
      "execution_count": null,
      "outputs": [
        {
          "data": {
            "text/html": [
              "<div>\n",
              "<style scoped>\n",
              "    .dataframe tbody tr th:only-of-type {\n",
              "        vertical-align: middle;\n",
              "    }\n",
              "\n",
              "    .dataframe tbody tr th {\n",
              "        vertical-align: top;\n",
              "    }\n",
              "\n",
              "    .dataframe thead th {\n",
              "        text-align: right;\n",
              "    }\n",
              "</style>\n",
              "<table border=\"1\" class=\"dataframe\">\n",
              "  <thead>\n",
              "    <tr style=\"text-align: right;\">\n",
              "      <th></th>\n",
              "      <th>name</th>\n",
              "      <th>repetition</th>\n",
              "      <th>target</th>\n",
              "      <th>category</th>\n",
              "    </tr>\n",
              "  </thead>\n",
              "  <tbody>\n",
              "    <tr>\n",
              "      <th>0</th>\n",
              "      <td>domestic cat, house cat, Felis domesticus, Fel...</td>\n",
              "      <td>24</td>\n",
              "      <td>n02121808</td>\n",
              "      <td>Mammals</td>\n",
              "    </tr>\n",
              "    <tr>\n",
              "      <th>1</th>\n",
              "      <td>rock python, rock snake, Python sebae</td>\n",
              "      <td>29</td>\n",
              "      <td>n01744401</td>\n",
              "      <td>Reptile</td>\n",
              "    </tr>\n",
              "  </tbody>\n",
              "</table>\n",
              "</div>"
            ],
            "text/plain": [
              "                                                name  ...  category\n",
              "0  domestic cat, house cat, Felis domesticus, Fel...  ...   Mammals\n",
              "1              rock python, rock snake, Python sebae  ...   Reptile\n",
              "\n",
              "[2 rows x 4 columns]"
            ]
          },
          "execution_count": 4,
          "metadata": {},
          "output_type": "execute_result"
        }
      ]
    },
    {
      "cell_type": "code",
      "metadata": {
        "colab": {
          "base_uri": "https://localhost:8080/"
        },
        "id": "BEM1JmhePAln",
        "outputId": "405e9a0a-fb99-4e0d-b635-eaceb199dd65"
      },
      "source": [
        "#read complete merged file\n",
        "df=pd.read_csv(\"/content/drive/MyDrive/Programs/final_project/output/merged.csv\")\n",
        "df.shape"
      ],
      "execution_count": null,
      "outputs": [
        {
          "data": {
            "text/plain": [
              "(70060, 450)"
            ]
          },
          "execution_count": 5,
          "metadata": {},
          "output_type": "execute_result"
        }
      ]
    },
    {
      "cell_type": "code",
      "metadata": {
        "colab": {
          "base_uri": "https://localhost:8080/",
          "height": 287
        },
        "id": "tFh7Zk7nPCXf",
        "outputId": "8d817ef7-34ae-4d32-f9c5-8493ba0ad110"
      },
      "source": [
        "df=df.iloc[:,1:]    #all data\n",
        "#df=df.iloc[:100,1:]    #sample data (should be multiple of 5)\n",
        "df.head(6)"
      ],
      "execution_count": null,
      "outputs": [
        {
          "data": {
            "text/html": [
              "<div>\n",
              "<style scoped>\n",
              "    .dataframe tbody tr th:only-of-type {\n",
              "        vertical-align: middle;\n",
              "    }\n",
              "\n",
              "    .dataframe tbody tr th {\n",
              "        vertical-align: top;\n",
              "    }\n",
              "\n",
              "    .dataframe thead th {\n",
              "        text-align: right;\n",
              "    }\n",
              "</style>\n",
              "<table border=\"1\" class=\"dataframe\">\n",
              "  <thead>\n",
              "    <tr style=\"text-align: right;\">\n",
              "      <th></th>\n",
              "      <th>global_session_id</th>\n",
              "      <th>number_of_sessions</th>\n",
              "      <th>image_id</th>\n",
              "      <th>image_category</th>\n",
              "      <th>channels</th>\n",
              "      <th>t_1</th>\n",
              "      <th>t_2</th>\n",
              "      <th>t_3</th>\n",
              "      <th>t_4</th>\n",
              "      <th>t_5</th>\n",
              "      <th>t_6</th>\n",
              "      <th>t_7</th>\n",
              "      <th>t_8</th>\n",
              "      <th>t_9</th>\n",
              "      <th>t_10</th>\n",
              "      <th>t_11</th>\n",
              "      <th>t_12</th>\n",
              "      <th>t_13</th>\n",
              "      <th>t_14</th>\n",
              "      <th>t_15</th>\n",
              "      <th>t_16</th>\n",
              "      <th>t_17</th>\n",
              "      <th>t_18</th>\n",
              "      <th>t_19</th>\n",
              "      <th>t_20</th>\n",
              "      <th>t_21</th>\n",
              "      <th>t_22</th>\n",
              "      <th>t_23</th>\n",
              "      <th>t_24</th>\n",
              "      <th>t_25</th>\n",
              "      <th>t_26</th>\n",
              "      <th>t_27</th>\n",
              "      <th>t_28</th>\n",
              "      <th>t_29</th>\n",
              "      <th>t_30</th>\n",
              "      <th>t_31</th>\n",
              "      <th>t_32</th>\n",
              "      <th>t_33</th>\n",
              "      <th>t_34</th>\n",
              "      <th>t_35</th>\n",
              "      <th>...</th>\n",
              "      <th>t_405</th>\n",
              "      <th>t_406</th>\n",
              "      <th>t_407</th>\n",
              "      <th>t_408</th>\n",
              "      <th>t_409</th>\n",
              "      <th>t_410</th>\n",
              "      <th>t_411</th>\n",
              "      <th>t_412</th>\n",
              "      <th>t_413</th>\n",
              "      <th>t_414</th>\n",
              "      <th>t_415</th>\n",
              "      <th>t_416</th>\n",
              "      <th>t_417</th>\n",
              "      <th>t_418</th>\n",
              "      <th>t_419</th>\n",
              "      <th>t_420</th>\n",
              "      <th>t_421</th>\n",
              "      <th>t_422</th>\n",
              "      <th>t_423</th>\n",
              "      <th>t_424</th>\n",
              "      <th>t_425</th>\n",
              "      <th>t_426</th>\n",
              "      <th>t_427</th>\n",
              "      <th>t_428</th>\n",
              "      <th>t_429</th>\n",
              "      <th>t_430</th>\n",
              "      <th>t_431</th>\n",
              "      <th>t_432</th>\n",
              "      <th>t_433</th>\n",
              "      <th>t_434</th>\n",
              "      <th>t_435</th>\n",
              "      <th>t_436</th>\n",
              "      <th>t_437</th>\n",
              "      <th>t_438</th>\n",
              "      <th>t_439</th>\n",
              "      <th>t_440</th>\n",
              "      <th>t_441</th>\n",
              "      <th>t_442</th>\n",
              "      <th>t_443</th>\n",
              "      <th>t_444</th>\n",
              "    </tr>\n",
              "  </thead>\n",
              "  <tbody>\n",
              "    <tr>\n",
              "      <th>0</th>\n",
              "      <td>2602</td>\n",
              "      <td>1</td>\n",
              "      <td>4823</td>\n",
              "      <td>n02077923</td>\n",
              "      <td>AF3</td>\n",
              "      <td>4320.000000</td>\n",
              "      <td>4332.307692</td>\n",
              "      <td>4334.871795</td>\n",
              "      <td>4342.564103</td>\n",
              "      <td>4333.333333</td>\n",
              "      <td>4313.333333</td>\n",
              "      <td>4318.974359</td>\n",
              "      <td>4349.743590</td>\n",
              "      <td>4358.974359</td>\n",
              "      <td>4335.384615</td>\n",
              "      <td>4321.025641</td>\n",
              "      <td>4333.333333</td>\n",
              "      <td>4345.641026</td>\n",
              "      <td>4334.358974</td>\n",
              "      <td>4321.025641</td>\n",
              "      <td>4320.000000</td>\n",
              "      <td>4321.538462</td>\n",
              "      <td>4320.000000</td>\n",
              "      <td>4311.794872</td>\n",
              "      <td>4309.230769</td>\n",
              "      <td>4311.282051</td>\n",
              "      <td>4301.025641</td>\n",
              "      <td>4288.205128</td>\n",
              "      <td>4291.794872</td>\n",
              "      <td>4296.923077</td>\n",
              "      <td>4290.769231</td>\n",
              "      <td>4303.076923</td>\n",
              "      <td>4337.435897</td>\n",
              "      <td>4334.358974</td>\n",
              "      <td>4298.974359</td>\n",
              "      <td>4292.307692</td>\n",
              "      <td>4305.128205</td>\n",
              "      <td>4305.641026</td>\n",
              "      <td>4305.641026</td>\n",
              "      <td>4303.589744</td>\n",
              "      <td>...</td>\n",
              "      <td>NaN</td>\n",
              "      <td>NaN</td>\n",
              "      <td>NaN</td>\n",
              "      <td>NaN</td>\n",
              "      <td>NaN</td>\n",
              "      <td>NaN</td>\n",
              "      <td>NaN</td>\n",
              "      <td>NaN</td>\n",
              "      <td>NaN</td>\n",
              "      <td>NaN</td>\n",
              "      <td>NaN</td>\n",
              "      <td>NaN</td>\n",
              "      <td>NaN</td>\n",
              "      <td>NaN</td>\n",
              "      <td>NaN</td>\n",
              "      <td>NaN</td>\n",
              "      <td>NaN</td>\n",
              "      <td>NaN</td>\n",
              "      <td>NaN</td>\n",
              "      <td>NaN</td>\n",
              "      <td>NaN</td>\n",
              "      <td>NaN</td>\n",
              "      <td>NaN</td>\n",
              "      <td>NaN</td>\n",
              "      <td>NaN</td>\n",
              "      <td>NaN</td>\n",
              "      <td>NaN</td>\n",
              "      <td>NaN</td>\n",
              "      <td>NaN</td>\n",
              "      <td>NaN</td>\n",
              "      <td>NaN</td>\n",
              "      <td>NaN</td>\n",
              "      <td>NaN</td>\n",
              "      <td>NaN</td>\n",
              "      <td>NaN</td>\n",
              "      <td>NaN</td>\n",
              "      <td>NaN</td>\n",
              "      <td>NaN</td>\n",
              "      <td>NaN</td>\n",
              "      <td>NaN</td>\n",
              "    </tr>\n",
              "    <tr>\n",
              "      <th>1</th>\n",
              "      <td>2602</td>\n",
              "      <td>1</td>\n",
              "      <td>4823</td>\n",
              "      <td>n02077923</td>\n",
              "      <td>AF4</td>\n",
              "      <td>4294.871795</td>\n",
              "      <td>4305.128205</td>\n",
              "      <td>4298.974359</td>\n",
              "      <td>4307.179487</td>\n",
              "      <td>4312.307692</td>\n",
              "      <td>4284.102564</td>\n",
              "      <td>4274.871795</td>\n",
              "      <td>4314.358974</td>\n",
              "      <td>4330.769231</td>\n",
              "      <td>4324.615385</td>\n",
              "      <td>4311.282051</td>\n",
              "      <td>4275.384615</td>\n",
              "      <td>4284.615385</td>\n",
              "      <td>4322.564103</td>\n",
              "      <td>4318.461538</td>\n",
              "      <td>4285.641026</td>\n",
              "      <td>4272.820513</td>\n",
              "      <td>4307.692308</td>\n",
              "      <td>4353.333333</td>\n",
              "      <td>4341.538462</td>\n",
              "      <td>4307.179487</td>\n",
              "      <td>4307.692308</td>\n",
              "      <td>4307.692308</td>\n",
              "      <td>4304.615385</td>\n",
              "      <td>4321.538462</td>\n",
              "      <td>4312.307692</td>\n",
              "      <td>4292.307692</td>\n",
              "      <td>4298.461538</td>\n",
              "      <td>4285.641026</td>\n",
              "      <td>4278.461538</td>\n",
              "      <td>4311.282051</td>\n",
              "      <td>4318.974359</td>\n",
              "      <td>4297.435897</td>\n",
              "      <td>4301.025641</td>\n",
              "      <td>4321.538462</td>\n",
              "      <td>...</td>\n",
              "      <td>NaN</td>\n",
              "      <td>NaN</td>\n",
              "      <td>NaN</td>\n",
              "      <td>NaN</td>\n",
              "      <td>NaN</td>\n",
              "      <td>NaN</td>\n",
              "      <td>NaN</td>\n",
              "      <td>NaN</td>\n",
              "      <td>NaN</td>\n",
              "      <td>NaN</td>\n",
              "      <td>NaN</td>\n",
              "      <td>NaN</td>\n",
              "      <td>NaN</td>\n",
              "      <td>NaN</td>\n",
              "      <td>NaN</td>\n",
              "      <td>NaN</td>\n",
              "      <td>NaN</td>\n",
              "      <td>NaN</td>\n",
              "      <td>NaN</td>\n",
              "      <td>NaN</td>\n",
              "      <td>NaN</td>\n",
              "      <td>NaN</td>\n",
              "      <td>NaN</td>\n",
              "      <td>NaN</td>\n",
              "      <td>NaN</td>\n",
              "      <td>NaN</td>\n",
              "      <td>NaN</td>\n",
              "      <td>NaN</td>\n",
              "      <td>NaN</td>\n",
              "      <td>NaN</td>\n",
              "      <td>NaN</td>\n",
              "      <td>NaN</td>\n",
              "      <td>NaN</td>\n",
              "      <td>NaN</td>\n",
              "      <td>NaN</td>\n",
              "      <td>NaN</td>\n",
              "      <td>NaN</td>\n",
              "      <td>NaN</td>\n",
              "      <td>NaN</td>\n",
              "      <td>NaN</td>\n",
              "    </tr>\n",
              "    <tr>\n",
              "      <th>2</th>\n",
              "      <td>2602</td>\n",
              "      <td>1</td>\n",
              "      <td>4823</td>\n",
              "      <td>n02077923</td>\n",
              "      <td>T7</td>\n",
              "      <td>4187.692308</td>\n",
              "      <td>4200.000000</td>\n",
              "      <td>4208.717949</td>\n",
              "      <td>4199.487179</td>\n",
              "      <td>4199.487179</td>\n",
              "      <td>4208.205128</td>\n",
              "      <td>4210.769231</td>\n",
              "      <td>4228.205128</td>\n",
              "      <td>4258.974359</td>\n",
              "      <td>4257.948718</td>\n",
              "      <td>4232.820513</td>\n",
              "      <td>4235.384615</td>\n",
              "      <td>4251.282051</td>\n",
              "      <td>4246.666667</td>\n",
              "      <td>4245.128205</td>\n",
              "      <td>4245.641026</td>\n",
              "      <td>4237.948718</td>\n",
              "      <td>4237.948718</td>\n",
              "      <td>4237.435897</td>\n",
              "      <td>4229.743590</td>\n",
              "      <td>4237.435897</td>\n",
              "      <td>4245.641026</td>\n",
              "      <td>4230.769231</td>\n",
              "      <td>4222.051282</td>\n",
              "      <td>4230.256410</td>\n",
              "      <td>4232.307692</td>\n",
              "      <td>4227.179487</td>\n",
              "      <td>4231.282051</td>\n",
              "      <td>4244.102564</td>\n",
              "      <td>4250.769231</td>\n",
              "      <td>4241.538462</td>\n",
              "      <td>4231.794872</td>\n",
              "      <td>4237.435897</td>\n",
              "      <td>4244.615385</td>\n",
              "      <td>4244.615385</td>\n",
              "      <td>...</td>\n",
              "      <td>NaN</td>\n",
              "      <td>NaN</td>\n",
              "      <td>NaN</td>\n",
              "      <td>NaN</td>\n",
              "      <td>NaN</td>\n",
              "      <td>NaN</td>\n",
              "      <td>NaN</td>\n",
              "      <td>NaN</td>\n",
              "      <td>NaN</td>\n",
              "      <td>NaN</td>\n",
              "      <td>NaN</td>\n",
              "      <td>NaN</td>\n",
              "      <td>NaN</td>\n",
              "      <td>NaN</td>\n",
              "      <td>NaN</td>\n",
              "      <td>NaN</td>\n",
              "      <td>NaN</td>\n",
              "      <td>NaN</td>\n",
              "      <td>NaN</td>\n",
              "      <td>NaN</td>\n",
              "      <td>NaN</td>\n",
              "      <td>NaN</td>\n",
              "      <td>NaN</td>\n",
              "      <td>NaN</td>\n",
              "      <td>NaN</td>\n",
              "      <td>NaN</td>\n",
              "      <td>NaN</td>\n",
              "      <td>NaN</td>\n",
              "      <td>NaN</td>\n",
              "      <td>NaN</td>\n",
              "      <td>NaN</td>\n",
              "      <td>NaN</td>\n",
              "      <td>NaN</td>\n",
              "      <td>NaN</td>\n",
              "      <td>NaN</td>\n",
              "      <td>NaN</td>\n",
              "      <td>NaN</td>\n",
              "      <td>NaN</td>\n",
              "      <td>NaN</td>\n",
              "      <td>NaN</td>\n",
              "    </tr>\n",
              "    <tr>\n",
              "      <th>3</th>\n",
              "      <td>2602</td>\n",
              "      <td>1</td>\n",
              "      <td>4823</td>\n",
              "      <td>n02077923</td>\n",
              "      <td>T8</td>\n",
              "      <td>4203.076923</td>\n",
              "      <td>4224.615385</td>\n",
              "      <td>4249.743590</td>\n",
              "      <td>4231.794872</td>\n",
              "      <td>4190.769231</td>\n",
              "      <td>4186.666667</td>\n",
              "      <td>4208.717949</td>\n",
              "      <td>4223.589744</td>\n",
              "      <td>4226.153846</td>\n",
              "      <td>4229.230769</td>\n",
              "      <td>4233.846154</td>\n",
              "      <td>4222.564103</td>\n",
              "      <td>4210.256410</td>\n",
              "      <td>4215.384615</td>\n",
              "      <td>4217.948718</td>\n",
              "      <td>4202.051282</td>\n",
              "      <td>4188.717949</td>\n",
              "      <td>4202.564103</td>\n",
              "      <td>4215.897436</td>\n",
              "      <td>4219.487179</td>\n",
              "      <td>4226.666667</td>\n",
              "      <td>4214.358974</td>\n",
              "      <td>4183.589744</td>\n",
              "      <td>4184.102564</td>\n",
              "      <td>4221.538462</td>\n",
              "      <td>4242.564103</td>\n",
              "      <td>4226.153846</td>\n",
              "      <td>4217.948718</td>\n",
              "      <td>4225.128205</td>\n",
              "      <td>4208.717949</td>\n",
              "      <td>4185.128205</td>\n",
              "      <td>4206.153846</td>\n",
              "      <td>4228.717949</td>\n",
              "      <td>4204.102564</td>\n",
              "      <td>4182.051282</td>\n",
              "      <td>...</td>\n",
              "      <td>NaN</td>\n",
              "      <td>NaN</td>\n",
              "      <td>NaN</td>\n",
              "      <td>NaN</td>\n",
              "      <td>NaN</td>\n",
              "      <td>NaN</td>\n",
              "      <td>NaN</td>\n",
              "      <td>NaN</td>\n",
              "      <td>NaN</td>\n",
              "      <td>NaN</td>\n",
              "      <td>NaN</td>\n",
              "      <td>NaN</td>\n",
              "      <td>NaN</td>\n",
              "      <td>NaN</td>\n",
              "      <td>NaN</td>\n",
              "      <td>NaN</td>\n",
              "      <td>NaN</td>\n",
              "      <td>NaN</td>\n",
              "      <td>NaN</td>\n",
              "      <td>NaN</td>\n",
              "      <td>NaN</td>\n",
              "      <td>NaN</td>\n",
              "      <td>NaN</td>\n",
              "      <td>NaN</td>\n",
              "      <td>NaN</td>\n",
              "      <td>NaN</td>\n",
              "      <td>NaN</td>\n",
              "      <td>NaN</td>\n",
              "      <td>NaN</td>\n",
              "      <td>NaN</td>\n",
              "      <td>NaN</td>\n",
              "      <td>NaN</td>\n",
              "      <td>NaN</td>\n",
              "      <td>NaN</td>\n",
              "      <td>NaN</td>\n",
              "      <td>NaN</td>\n",
              "      <td>NaN</td>\n",
              "      <td>NaN</td>\n",
              "      <td>NaN</td>\n",
              "      <td>NaN</td>\n",
              "    </tr>\n",
              "    <tr>\n",
              "      <th>4</th>\n",
              "      <td>2602</td>\n",
              "      <td>1</td>\n",
              "      <td>4823</td>\n",
              "      <td>n02077923</td>\n",
              "      <td>Pz</td>\n",
              "      <td>4145.128205</td>\n",
              "      <td>4138.461538</td>\n",
              "      <td>4145.128205</td>\n",
              "      <td>4142.051282</td>\n",
              "      <td>4132.307692</td>\n",
              "      <td>4134.358974</td>\n",
              "      <td>4137.948718</td>\n",
              "      <td>4146.153846</td>\n",
              "      <td>4155.384615</td>\n",
              "      <td>4149.743590</td>\n",
              "      <td>4147.692308</td>\n",
              "      <td>4152.820513</td>\n",
              "      <td>4145.128205</td>\n",
              "      <td>4138.461538</td>\n",
              "      <td>4146.153846</td>\n",
              "      <td>4144.615385</td>\n",
              "      <td>4140.512821</td>\n",
              "      <td>4152.820513</td>\n",
              "      <td>4168.717949</td>\n",
              "      <td>4175.384615</td>\n",
              "      <td>4167.692308</td>\n",
              "      <td>4150.256410</td>\n",
              "      <td>4147.179487</td>\n",
              "      <td>4157.948718</td>\n",
              "      <td>4148.717949</td>\n",
              "      <td>4130.256410</td>\n",
              "      <td>4138.461538</td>\n",
              "      <td>4154.871795</td>\n",
              "      <td>4136.410256</td>\n",
              "      <td>4113.846154</td>\n",
              "      <td>4135.897436</td>\n",
              "      <td>4161.538462</td>\n",
              "      <td>4154.358974</td>\n",
              "      <td>4146.153846</td>\n",
              "      <td>4150.769231</td>\n",
              "      <td>...</td>\n",
              "      <td>NaN</td>\n",
              "      <td>NaN</td>\n",
              "      <td>NaN</td>\n",
              "      <td>NaN</td>\n",
              "      <td>NaN</td>\n",
              "      <td>NaN</td>\n",
              "      <td>NaN</td>\n",
              "      <td>NaN</td>\n",
              "      <td>NaN</td>\n",
              "      <td>NaN</td>\n",
              "      <td>NaN</td>\n",
              "      <td>NaN</td>\n",
              "      <td>NaN</td>\n",
              "      <td>NaN</td>\n",
              "      <td>NaN</td>\n",
              "      <td>NaN</td>\n",
              "      <td>NaN</td>\n",
              "      <td>NaN</td>\n",
              "      <td>NaN</td>\n",
              "      <td>NaN</td>\n",
              "      <td>NaN</td>\n",
              "      <td>NaN</td>\n",
              "      <td>NaN</td>\n",
              "      <td>NaN</td>\n",
              "      <td>NaN</td>\n",
              "      <td>NaN</td>\n",
              "      <td>NaN</td>\n",
              "      <td>NaN</td>\n",
              "      <td>NaN</td>\n",
              "      <td>NaN</td>\n",
              "      <td>NaN</td>\n",
              "      <td>NaN</td>\n",
              "      <td>NaN</td>\n",
              "      <td>NaN</td>\n",
              "      <td>NaN</td>\n",
              "      <td>NaN</td>\n",
              "      <td>NaN</td>\n",
              "      <td>NaN</td>\n",
              "      <td>NaN</td>\n",
              "      <td>NaN</td>\n",
              "    </tr>\n",
              "    <tr>\n",
              "      <th>5</th>\n",
              "      <td>2601</td>\n",
              "      <td>1</td>\n",
              "      <td>168</td>\n",
              "      <td>n02089078</td>\n",
              "      <td>AF3</td>\n",
              "      <td>4279.487179</td>\n",
              "      <td>4279.487179</td>\n",
              "      <td>4280.512821</td>\n",
              "      <td>4297.435897</td>\n",
              "      <td>4315.384615</td>\n",
              "      <td>4299.487179</td>\n",
              "      <td>4278.974359</td>\n",
              "      <td>4292.307692</td>\n",
              "      <td>4302.051282</td>\n",
              "      <td>4299.487179</td>\n",
              "      <td>4297.948718</td>\n",
              "      <td>4289.230769</td>\n",
              "      <td>4289.230769</td>\n",
              "      <td>4297.948718</td>\n",
              "      <td>4297.435897</td>\n",
              "      <td>4293.846154</td>\n",
              "      <td>4282.051282</td>\n",
              "      <td>4261.025641</td>\n",
              "      <td>4275.897436</td>\n",
              "      <td>4299.487179</td>\n",
              "      <td>4286.666667</td>\n",
              "      <td>4275.384615</td>\n",
              "      <td>4271.282051</td>\n",
              "      <td>4282.051282</td>\n",
              "      <td>4297.435897</td>\n",
              "      <td>4280.512821</td>\n",
              "      <td>4267.692308</td>\n",
              "      <td>4277.948718</td>\n",
              "      <td>4284.102564</td>\n",
              "      <td>4289.230769</td>\n",
              "      <td>4291.794872</td>\n",
              "      <td>4278.974359</td>\n",
              "      <td>4274.358974</td>\n",
              "      <td>4281.025641</td>\n",
              "      <td>4282.564103</td>\n",
              "      <td>...</td>\n",
              "      <td>NaN</td>\n",
              "      <td>NaN</td>\n",
              "      <td>NaN</td>\n",
              "      <td>NaN</td>\n",
              "      <td>NaN</td>\n",
              "      <td>NaN</td>\n",
              "      <td>NaN</td>\n",
              "      <td>NaN</td>\n",
              "      <td>NaN</td>\n",
              "      <td>NaN</td>\n",
              "      <td>NaN</td>\n",
              "      <td>NaN</td>\n",
              "      <td>NaN</td>\n",
              "      <td>NaN</td>\n",
              "      <td>NaN</td>\n",
              "      <td>NaN</td>\n",
              "      <td>NaN</td>\n",
              "      <td>NaN</td>\n",
              "      <td>NaN</td>\n",
              "      <td>NaN</td>\n",
              "      <td>NaN</td>\n",
              "      <td>NaN</td>\n",
              "      <td>NaN</td>\n",
              "      <td>NaN</td>\n",
              "      <td>NaN</td>\n",
              "      <td>NaN</td>\n",
              "      <td>NaN</td>\n",
              "      <td>NaN</td>\n",
              "      <td>NaN</td>\n",
              "      <td>NaN</td>\n",
              "      <td>NaN</td>\n",
              "      <td>NaN</td>\n",
              "      <td>NaN</td>\n",
              "      <td>NaN</td>\n",
              "      <td>NaN</td>\n",
              "      <td>NaN</td>\n",
              "      <td>NaN</td>\n",
              "      <td>NaN</td>\n",
              "      <td>NaN</td>\n",
              "      <td>NaN</td>\n",
              "    </tr>\n",
              "  </tbody>\n",
              "</table>\n",
              "<p>6 rows × 449 columns</p>\n",
              "</div>"
            ],
            "text/plain": [
              "   global_session_id  number_of_sessions  image_id  ... t_442 t_443  t_444\n",
              "0               2602                   1      4823  ...   NaN   NaN    NaN\n",
              "1               2602                   1      4823  ...   NaN   NaN    NaN\n",
              "2               2602                   1      4823  ...   NaN   NaN    NaN\n",
              "3               2602                   1      4823  ...   NaN   NaN    NaN\n",
              "4               2602                   1      4823  ...   NaN   NaN    NaN\n",
              "5               2601                   1       168  ...   NaN   NaN    NaN\n",
              "\n",
              "[6 rows x 449 columns]"
            ]
          },
          "execution_count": 6,
          "metadata": {},
          "output_type": "execute_result"
        }
      ]
    },
    {
      "cell_type": "code",
      "metadata": {
        "colab": {
          "base_uri": "https://localhost:8080/"
        },
        "id": "KJiqAIjCPEti",
        "outputId": "a0701773-20c1-482d-d553-eb9a60106f56"
      },
      "source": [
        "df.shape #check shape of all data"
      ],
      "execution_count": null,
      "outputs": [
        {
          "data": {
            "text/plain": [
              "(70060, 449)"
            ]
          },
          "execution_count": 7,
          "metadata": {},
          "output_type": "execute_result"
        }
      ]
    },
    {
      "cell_type": "code",
      "metadata": {
        "colab": {
          "base_uri": "https://localhost:8080/"
        },
        "id": "OaQvsWWAPIYu",
        "outputId": "dd4c790d-aef5-494a-8c67-a9a7a4405d2a"
      },
      "source": [
        "df.isnull().sum()  #check if there are any NA values"
      ],
      "execution_count": null,
      "outputs": [
        {
          "data": {
            "text/plain": [
              "global_session_id         0\n",
              "number_of_sessions        0\n",
              "image_id                  0\n",
              "image_category            0\n",
              "channels                  0\n",
              "                      ...  \n",
              "t_440                 70050\n",
              "t_441                 70055\n",
              "t_442                 70055\n",
              "t_443                 70055\n",
              "t_444                 70055\n",
              "Length: 449, dtype: int64"
            ]
          },
          "execution_count": 8,
          "metadata": {},
          "output_type": "execute_result"
        }
      ]
    },
    {
      "cell_type": "code",
      "metadata": {
        "colab": {
          "base_uri": "https://localhost:8080/"
        },
        "id": "APv-ioCpPKdJ",
        "outputId": "4d69fbde-0953-4b84-a4b8-4edd2c9fb5b7"
      },
      "source": [
        "#Drop Columns which have more than 90% NAs \n",
        "df.dropna(axis=1, thresh=int(0.1 * df.shape[0]),inplace=True)\n",
        "df.shape"
      ],
      "execution_count": null,
      "outputs": [
        {
          "data": {
            "text/plain": [
              "(70060, 397)"
            ]
          },
          "execution_count": 9,
          "metadata": {},
          "output_type": "execute_result"
        }
      ]
    },
    {
      "cell_type": "code",
      "metadata": {
        "id": "GhzXqHqoPMSu"
      },
      "source": [
        "df.fillna(0, inplace=True)        #replace NaN with 0  \n",
        "#df=df.ffill(axis = 1)"
      ],
      "execution_count": null,
      "outputs": []
    },
    {
      "cell_type": "code",
      "metadata": {
        "colab": {
          "base_uri": "https://localhost:8080/"
        },
        "id": "geTKXSuOPOdO",
        "outputId": "59fc1210-3d2f-4686-f036-91106e035bdf"
      },
      "source": [
        "df.isnull().sum()                   #verify there are no null values"
      ],
      "execution_count": null,
      "outputs": [
        {
          "data": {
            "text/plain": [
              "global_session_id     0\n",
              "number_of_sessions    0\n",
              "image_id              0\n",
              "image_category        0\n",
              "channels              0\n",
              "                     ..\n",
              "t_388                 0\n",
              "t_389                 0\n",
              "t_390                 0\n",
              "t_391                 0\n",
              "t_392                 0\n",
              "Length: 397, dtype: int64"
            ]
          },
          "execution_count": 11,
          "metadata": {},
          "output_type": "execute_result"
        }
      ]
    },
    {
      "cell_type": "code",
      "metadata": {
        "colab": {
          "base_uri": "https://localhost:8080/",
          "height": 193
        },
        "id": "WFsda3dHPP6v",
        "outputId": "c8026bf8-6dfe-436e-959b-2b7a4dbb941a"
      },
      "source": [
        "df_main=df.drop(['global_session_id',\t'number_of_sessions',\t'image_id',\t'channels'],axis=1)\n",
        "\n",
        "df_main.head(3)"
      ],
      "execution_count": null,
      "outputs": [
        {
          "data": {
            "text/html": [
              "<div>\n",
              "<style scoped>\n",
              "    .dataframe tbody tr th:only-of-type {\n",
              "        vertical-align: middle;\n",
              "    }\n",
              "\n",
              "    .dataframe tbody tr th {\n",
              "        vertical-align: top;\n",
              "    }\n",
              "\n",
              "    .dataframe thead th {\n",
              "        text-align: right;\n",
              "    }\n",
              "</style>\n",
              "<table border=\"1\" class=\"dataframe\">\n",
              "  <thead>\n",
              "    <tr style=\"text-align: right;\">\n",
              "      <th></th>\n",
              "      <th>image_category</th>\n",
              "      <th>t_1</th>\n",
              "      <th>t_2</th>\n",
              "      <th>t_3</th>\n",
              "      <th>t_4</th>\n",
              "      <th>t_5</th>\n",
              "      <th>t_6</th>\n",
              "      <th>t_7</th>\n",
              "      <th>t_8</th>\n",
              "      <th>t_9</th>\n",
              "      <th>t_10</th>\n",
              "      <th>t_11</th>\n",
              "      <th>t_12</th>\n",
              "      <th>t_13</th>\n",
              "      <th>t_14</th>\n",
              "      <th>t_15</th>\n",
              "      <th>t_16</th>\n",
              "      <th>t_17</th>\n",
              "      <th>t_18</th>\n",
              "      <th>t_19</th>\n",
              "      <th>t_20</th>\n",
              "      <th>t_21</th>\n",
              "      <th>t_22</th>\n",
              "      <th>t_23</th>\n",
              "      <th>t_24</th>\n",
              "      <th>t_25</th>\n",
              "      <th>t_26</th>\n",
              "      <th>t_27</th>\n",
              "      <th>t_28</th>\n",
              "      <th>t_29</th>\n",
              "      <th>t_30</th>\n",
              "      <th>t_31</th>\n",
              "      <th>t_32</th>\n",
              "      <th>t_33</th>\n",
              "      <th>t_34</th>\n",
              "      <th>t_35</th>\n",
              "      <th>t_36</th>\n",
              "      <th>t_37</th>\n",
              "      <th>t_38</th>\n",
              "      <th>t_39</th>\n",
              "      <th>...</th>\n",
              "      <th>t_353</th>\n",
              "      <th>t_354</th>\n",
              "      <th>t_355</th>\n",
              "      <th>t_356</th>\n",
              "      <th>t_357</th>\n",
              "      <th>t_358</th>\n",
              "      <th>t_359</th>\n",
              "      <th>t_360</th>\n",
              "      <th>t_361</th>\n",
              "      <th>t_362</th>\n",
              "      <th>t_363</th>\n",
              "      <th>t_364</th>\n",
              "      <th>t_365</th>\n",
              "      <th>t_366</th>\n",
              "      <th>t_367</th>\n",
              "      <th>t_368</th>\n",
              "      <th>t_369</th>\n",
              "      <th>t_370</th>\n",
              "      <th>t_371</th>\n",
              "      <th>t_372</th>\n",
              "      <th>t_373</th>\n",
              "      <th>t_374</th>\n",
              "      <th>t_375</th>\n",
              "      <th>t_376</th>\n",
              "      <th>t_377</th>\n",
              "      <th>t_378</th>\n",
              "      <th>t_379</th>\n",
              "      <th>t_380</th>\n",
              "      <th>t_381</th>\n",
              "      <th>t_382</th>\n",
              "      <th>t_383</th>\n",
              "      <th>t_384</th>\n",
              "      <th>t_385</th>\n",
              "      <th>t_386</th>\n",
              "      <th>t_387</th>\n",
              "      <th>t_388</th>\n",
              "      <th>t_389</th>\n",
              "      <th>t_390</th>\n",
              "      <th>t_391</th>\n",
              "      <th>t_392</th>\n",
              "    </tr>\n",
              "  </thead>\n",
              "  <tbody>\n",
              "    <tr>\n",
              "      <th>0</th>\n",
              "      <td>n02077923</td>\n",
              "      <td>4320.000000</td>\n",
              "      <td>4332.307692</td>\n",
              "      <td>4334.871795</td>\n",
              "      <td>4342.564103</td>\n",
              "      <td>4333.333333</td>\n",
              "      <td>4313.333333</td>\n",
              "      <td>4318.974359</td>\n",
              "      <td>4349.743590</td>\n",
              "      <td>4358.974359</td>\n",
              "      <td>4335.384615</td>\n",
              "      <td>4321.025641</td>\n",
              "      <td>4333.333333</td>\n",
              "      <td>4345.641026</td>\n",
              "      <td>4334.358974</td>\n",
              "      <td>4321.025641</td>\n",
              "      <td>4320.000000</td>\n",
              "      <td>4321.538462</td>\n",
              "      <td>4320.000000</td>\n",
              "      <td>4311.794872</td>\n",
              "      <td>4309.230769</td>\n",
              "      <td>4311.282051</td>\n",
              "      <td>4301.025641</td>\n",
              "      <td>4288.205128</td>\n",
              "      <td>4291.794872</td>\n",
              "      <td>4296.923077</td>\n",
              "      <td>4290.769231</td>\n",
              "      <td>4303.076923</td>\n",
              "      <td>4337.435897</td>\n",
              "      <td>4334.358974</td>\n",
              "      <td>4298.974359</td>\n",
              "      <td>4292.307692</td>\n",
              "      <td>4305.128205</td>\n",
              "      <td>4305.641026</td>\n",
              "      <td>4305.641026</td>\n",
              "      <td>4303.589744</td>\n",
              "      <td>4286.153846</td>\n",
              "      <td>4273.333333</td>\n",
              "      <td>4274.871795</td>\n",
              "      <td>4277.948718</td>\n",
              "      <td>...</td>\n",
              "      <td>4276.410256</td>\n",
              "      <td>4277.948718</td>\n",
              "      <td>4275.384615</td>\n",
              "      <td>4258.974359</td>\n",
              "      <td>4261.025641</td>\n",
              "      <td>4271.794872</td>\n",
              "      <td>4266.153846</td>\n",
              "      <td>4265.641026</td>\n",
              "      <td>4267.179487</td>\n",
              "      <td>4260.000000</td>\n",
              "      <td>4262.051282</td>\n",
              "      <td>4265.641026</td>\n",
              "      <td>4257.948718</td>\n",
              "      <td>4254.871795</td>\n",
              "      <td>4267.692308</td>\n",
              "      <td>4286.153846</td>\n",
              "      <td>4284.615385</td>\n",
              "      <td>4265.128205</td>\n",
              "      <td>4256.410256</td>\n",
              "      <td>4261.025641</td>\n",
              "      <td>4265.641026</td>\n",
              "      <td>4261.025641</td>\n",
              "      <td>4239.487179</td>\n",
              "      <td>4213.846154</td>\n",
              "      <td>4229.230769</td>\n",
              "      <td>4265.128205</td>\n",
              "      <td>4263.589744</td>\n",
              "      <td>4250.256410</td>\n",
              "      <td>4266.666667</td>\n",
              "      <td>4275.384615</td>\n",
              "      <td>4250.256410</td>\n",
              "      <td>4233.846154</td>\n",
              "      <td>4235.897436</td>\n",
              "      <td>4216.923077</td>\n",
              "      <td>4192.820513</td>\n",
              "      <td>4200.000000</td>\n",
              "      <td>4224.615385</td>\n",
              "      <td>4240.512821</td>\n",
              "      <td>4233.846154</td>\n",
              "      <td>4210.769231</td>\n",
              "    </tr>\n",
              "    <tr>\n",
              "      <th>1</th>\n",
              "      <td>n02077923</td>\n",
              "      <td>4294.871795</td>\n",
              "      <td>4305.128205</td>\n",
              "      <td>4298.974359</td>\n",
              "      <td>4307.179487</td>\n",
              "      <td>4312.307692</td>\n",
              "      <td>4284.102564</td>\n",
              "      <td>4274.871795</td>\n",
              "      <td>4314.358974</td>\n",
              "      <td>4330.769231</td>\n",
              "      <td>4324.615385</td>\n",
              "      <td>4311.282051</td>\n",
              "      <td>4275.384615</td>\n",
              "      <td>4284.615385</td>\n",
              "      <td>4322.564103</td>\n",
              "      <td>4318.461538</td>\n",
              "      <td>4285.641026</td>\n",
              "      <td>4272.820513</td>\n",
              "      <td>4307.692308</td>\n",
              "      <td>4353.333333</td>\n",
              "      <td>4341.538462</td>\n",
              "      <td>4307.179487</td>\n",
              "      <td>4307.692308</td>\n",
              "      <td>4307.692308</td>\n",
              "      <td>4304.615385</td>\n",
              "      <td>4321.538462</td>\n",
              "      <td>4312.307692</td>\n",
              "      <td>4292.307692</td>\n",
              "      <td>4298.461538</td>\n",
              "      <td>4285.641026</td>\n",
              "      <td>4278.461538</td>\n",
              "      <td>4311.282051</td>\n",
              "      <td>4318.974359</td>\n",
              "      <td>4297.435897</td>\n",
              "      <td>4301.025641</td>\n",
              "      <td>4321.538462</td>\n",
              "      <td>4325.128205</td>\n",
              "      <td>4320.000000</td>\n",
              "      <td>4294.871795</td>\n",
              "      <td>4271.282051</td>\n",
              "      <td>...</td>\n",
              "      <td>4238.461538</td>\n",
              "      <td>4242.564103</td>\n",
              "      <td>4290.769231</td>\n",
              "      <td>4284.615385</td>\n",
              "      <td>4238.974359</td>\n",
              "      <td>4250.769231</td>\n",
              "      <td>4297.948718</td>\n",
              "      <td>4325.641026</td>\n",
              "      <td>4326.666667</td>\n",
              "      <td>4294.871795</td>\n",
              "      <td>4265.128205</td>\n",
              "      <td>4254.358974</td>\n",
              "      <td>4251.282051</td>\n",
              "      <td>4272.307692</td>\n",
              "      <td>4273.846154</td>\n",
              "      <td>4240.000000</td>\n",
              "      <td>4239.487179</td>\n",
              "      <td>4269.230769</td>\n",
              "      <td>4267.692308</td>\n",
              "      <td>4254.871795</td>\n",
              "      <td>4265.128205</td>\n",
              "      <td>4272.820513</td>\n",
              "      <td>4254.358974</td>\n",
              "      <td>4223.589744</td>\n",
              "      <td>4254.358974</td>\n",
              "      <td>4302.564103</td>\n",
              "      <td>4257.948718</td>\n",
              "      <td>4215.384615</td>\n",
              "      <td>4256.410256</td>\n",
              "      <td>4264.102564</td>\n",
              "      <td>4211.794872</td>\n",
              "      <td>4210.256410</td>\n",
              "      <td>4243.589744</td>\n",
              "      <td>4232.820513</td>\n",
              "      <td>4211.282051</td>\n",
              "      <td>4222.051282</td>\n",
              "      <td>4228.717949</td>\n",
              "      <td>4213.846154</td>\n",
              "      <td>4220.000000</td>\n",
              "      <td>4246.666667</td>\n",
              "    </tr>\n",
              "    <tr>\n",
              "      <th>2</th>\n",
              "      <td>n02077923</td>\n",
              "      <td>4187.692308</td>\n",
              "      <td>4200.000000</td>\n",
              "      <td>4208.717949</td>\n",
              "      <td>4199.487179</td>\n",
              "      <td>4199.487179</td>\n",
              "      <td>4208.205128</td>\n",
              "      <td>4210.769231</td>\n",
              "      <td>4228.205128</td>\n",
              "      <td>4258.974359</td>\n",
              "      <td>4257.948718</td>\n",
              "      <td>4232.820513</td>\n",
              "      <td>4235.384615</td>\n",
              "      <td>4251.282051</td>\n",
              "      <td>4246.666667</td>\n",
              "      <td>4245.128205</td>\n",
              "      <td>4245.641026</td>\n",
              "      <td>4237.948718</td>\n",
              "      <td>4237.948718</td>\n",
              "      <td>4237.435897</td>\n",
              "      <td>4229.743590</td>\n",
              "      <td>4237.435897</td>\n",
              "      <td>4245.641026</td>\n",
              "      <td>4230.769231</td>\n",
              "      <td>4222.051282</td>\n",
              "      <td>4230.256410</td>\n",
              "      <td>4232.307692</td>\n",
              "      <td>4227.179487</td>\n",
              "      <td>4231.282051</td>\n",
              "      <td>4244.102564</td>\n",
              "      <td>4250.769231</td>\n",
              "      <td>4241.538462</td>\n",
              "      <td>4231.794872</td>\n",
              "      <td>4237.435897</td>\n",
              "      <td>4244.615385</td>\n",
              "      <td>4244.615385</td>\n",
              "      <td>4244.102564</td>\n",
              "      <td>4233.846154</td>\n",
              "      <td>4218.461538</td>\n",
              "      <td>4212.820513</td>\n",
              "      <td>...</td>\n",
              "      <td>4258.974359</td>\n",
              "      <td>4237.948718</td>\n",
              "      <td>4240.512821</td>\n",
              "      <td>4254.358974</td>\n",
              "      <td>4254.358974</td>\n",
              "      <td>4254.871795</td>\n",
              "      <td>4262.564103</td>\n",
              "      <td>4254.871795</td>\n",
              "      <td>4237.948718</td>\n",
              "      <td>4247.692308</td>\n",
              "      <td>4271.282051</td>\n",
              "      <td>4264.615385</td>\n",
              "      <td>4248.717949</td>\n",
              "      <td>4258.461538</td>\n",
              "      <td>4273.846154</td>\n",
              "      <td>4271.794872</td>\n",
              "      <td>4258.974359</td>\n",
              "      <td>4250.769231</td>\n",
              "      <td>4253.846154</td>\n",
              "      <td>4265.128205</td>\n",
              "      <td>4264.102564</td>\n",
              "      <td>4247.179487</td>\n",
              "      <td>4241.538462</td>\n",
              "      <td>4237.435897</td>\n",
              "      <td>4238.974359</td>\n",
              "      <td>4268.205128</td>\n",
              "      <td>4289.230769</td>\n",
              "      <td>4271.794872</td>\n",
              "      <td>4256.923077</td>\n",
              "      <td>4273.846154</td>\n",
              "      <td>4267.179487</td>\n",
              "      <td>4230.256410</td>\n",
              "      <td>4221.538462</td>\n",
              "      <td>4234.871795</td>\n",
              "      <td>4234.871795</td>\n",
              "      <td>4228.205128</td>\n",
              "      <td>4228.205128</td>\n",
              "      <td>4232.307692</td>\n",
              "      <td>4232.820513</td>\n",
              "      <td>4229.743590</td>\n",
              "    </tr>\n",
              "  </tbody>\n",
              "</table>\n",
              "<p>3 rows × 393 columns</p>\n",
              "</div>"
            ],
            "text/plain": [
              "  image_category          t_1  ...        t_391        t_392\n",
              "0      n02077923  4320.000000  ...  4233.846154  4210.769231\n",
              "1      n02077923  4294.871795  ...  4220.000000  4246.666667\n",
              "2      n02077923  4187.692308  ...  4232.820513  4229.743590\n",
              "\n",
              "[3 rows x 393 columns]"
            ]
          },
          "execution_count": 12,
          "metadata": {},
          "output_type": "execute_result"
        }
      ]
    },
    {
      "cell_type": "code",
      "metadata": {
        "colab": {
          "base_uri": "https://localhost:8080/"
        },
        "id": "bAboXAEIPVMA",
        "outputId": "28894564-b08b-4a3e-a96a-2b7ae6390294"
      },
      "source": [
        "df_main.shape               #check shape after dropping other columns"
      ],
      "execution_count": null,
      "outputs": [
        {
          "data": {
            "text/plain": [
              "(70060, 393)"
            ]
          },
          "execution_count": 13,
          "metadata": {},
          "output_type": "execute_result"
        }
      ]
    },
    {
      "cell_type": "code",
      "metadata": {
        "colab": {
          "base_uri": "https://localhost:8080/"
        },
        "id": "OK9VfV7lPXpD",
        "outputId": "c1f7ea0e-e552-4b27-8197-10150bb36a15"
      },
      "source": [
        "df_main.shape[0]/5"
      ],
      "execution_count": null,
      "outputs": [
        {
          "data": {
            "text/plain": [
              "14012.0"
            ]
          },
          "execution_count": 14,
          "metadata": {},
          "output_type": "execute_result"
        }
      ]
    },
    {
      "cell_type": "code",
      "metadata": {
        "colab": {
          "base_uri": "https://localhost:8080/"
        },
        "id": "aqPEe0-qPZLB",
        "outputId": "dbbd338a-d614-4956-9924-eb57749f7b0b"
      },
      "source": [
        "df_main.iloc[1,1:]      #view time stamps"
      ],
      "execution_count": null,
      "outputs": [
        {
          "data": {
            "text/plain": [
              "t_1      4294.87\n",
              "t_2      4305.13\n",
              "t_3      4298.97\n",
              "t_4      4307.18\n",
              "t_5      4312.31\n",
              "          ...   \n",
              "t_388    4222.05\n",
              "t_389    4228.72\n",
              "t_390    4213.85\n",
              "t_391       4220\n",
              "t_392    4246.67\n",
              "Name: 1, Length: 392, dtype: object"
            ]
          },
          "execution_count": 15,
          "metadata": {},
          "output_type": "execute_result"
        }
      ]
    },
    {
      "cell_type": "markdown",
      "metadata": {
        "id": "YWRu-Qv7R7DG"
      },
      "source": [
        "# Data Preparation\n",
        "1. Merging subcategory\n",
        "2. Applying filters\n",
        "3. Separating  X, y"
      ]
    },
    {
      "cell_type": "code",
      "metadata": {
        "id": "1khWqGj8PfX2"
      },
      "source": [
        "#apply filters to data\n",
        "\n",
        "def apply_bp_filter(signals,filter_type='bandpass'):\n",
        "\n",
        "  fs= 128.0              # sample rate, Hz\n",
        "  lowcut = 20.0\n",
        "  highcut = 50.0\n",
        "\n",
        "  nyq = 0.5*fs              #The Nyquist frequency is half the sampling rate\n",
        "  low = lowcut / nyq\n",
        "  high = highcut / nyq\n",
        "\n",
        "  order = 2 \n",
        "\n",
        "  if filter_type=='low':\n",
        "    b, a = scipy.signal.butter(order, low, btype='low', analog=False)\n",
        "  elif filter_type=='high':\n",
        "    b, a = scipy.signal.butter(order, high, btype='high', analog=False)\n",
        "  else:\n",
        "    b,a = scipy.signal.butter(order,(low,high),'bandpass',analog=False)\n",
        "\n",
        "  signals = scipy.signal.filtfilt(b,a,signals.T,axis=0)\n",
        "  \n",
        "  return pd.Series(signals.transpose())"
      ],
      "execution_count": null,
      "outputs": []
    },
    {
      "cell_type": "code",
      "metadata": {
        "id": "Mwk9uovKPhei"
      },
      "source": [
        "#visual representation of signals  #pass single row at a time\n",
        "\n",
        "def display_signal(single_row):\n",
        "\n",
        "    #print(type(single_row))\n",
        "    plt.figure(figsize=(10, 1))\n",
        "\n",
        "    #print(type(single_row))\n",
        "\n",
        "    plt.plot(range(len(single_row)), single_row)\n",
        "  \n",
        "    plt.title(\"Signal\")\n",
        "    plt.ylabel('frequency')\n",
        "    plt.xlabel('time')\n",
        "    #plt.legend()\n",
        "    plt.show()\n",
        "    print(\"\\n\")"
      ],
      "execution_count": null,
      "outputs": []
    },
    {
      "cell_type": "code",
      "metadata": {
        "id": "9XpqdacLPns4"
      },
      "source": [
        "# replace category with sub category\n",
        "\n",
        "def find_and_replace(word):\n",
        "  target_dict={\"Animals\":[\"Mammals\",\"Bird\",\"Reptile\",\"Fish\",\"amphibian\",\"Asteroidea\",\"Arthropods\",\"arachnids\",\"Insect\"],\n",
        "             \"Tool\":[\"Tool\",\"MusicInstrument\",\"MedicalInstrument\",\"Stationary\"],\n",
        "             \"Fashion\":[\"Clothe\",\"Cosmetics\"],\n",
        "             \"Home_Appliances\":[\"KitchenWare\",\"Electronics\",\"Furniture\"],\n",
        "             \"Transport\":[\"Vehicle\",\"shipboat\"],\n",
        "             \"Sports\":[\"Sports\"],\n",
        "             \"Place\":[\"Road\",\"Place\",\"Airport\",\"Event\"],\n",
        "             \"Food\":[\"Fruit\",\"Food\",\"Vegitable\"],\n",
        "             \"Human\":[\"Human\"]            \n",
        "             }\n",
        "  list_list=[]\n",
        "  for i in target_dict.values():\n",
        "    list_list.append(i)\n",
        "  for n in range(len(list_list)):\n",
        "     if word in list_list[n]:\n",
        "      key_index=n\n",
        "  keys_list = list(target_dict)\n",
        "  key = keys_list[key_index]\n",
        "  return key"
      ],
      "execution_count": null,
      "outputs": []
    },
    {
      "cell_type": "code",
      "metadata": {
        "id": "4YT9o1ErPsRW"
      },
      "source": [
        "#Data preparation : filtering, creating batches of 5 signals\n",
        "\n",
        "def prepare_data(data_frame,num_channels,unit_test=False):\n",
        "\n",
        "  signals_list=[]\n",
        "  signals_cat=[]\n",
        "  n=num_channels #number ofchannels \n",
        "\n",
        "  for i in range(0,data_frame.shape[0],num_channels):\n",
        "    \n",
        "    #print(\"i=\",i, \"\\n\",df_main[i:i+n])                 #info\n",
        "\n",
        "    channels_list=[]\n",
        "\n",
        "    df_batch=df_main[i:i+n]\n",
        "\n",
        "    class_label=df_batch.loc[i][0]\n",
        "    \n",
        "\n",
        "    sub_class_label=df_word.loc[df_word['target']==class_label,'category'].to_list()[0]\n",
        "\n",
        "    sub_class_label=find_and_replace(sub_class_label)      #sub_class level 2\n",
        "\n",
        "    \n",
        "    \n",
        "\n",
        "    #print(df_batch.loc[i][0])                          #info\n",
        "    #print(df_batch.iloc[:,1:])                         #info\n",
        "\n",
        "    for i, row in df_batch.iloc[:,1:].iterrows():\n",
        "\n",
        "        if unit_test: display_signal(row)                            #display signal before filter\n",
        "\n",
        "        row=apply_bp_filter(row)                        #apply bandpass filter\n",
        "        \n",
        "        row=apply_bp_filter(row,'low')                  #apply low pass filter\n",
        "\n",
        "        row=apply_bp_filter(row,'high')\n",
        "\n",
        "        if unit_test: display_signal(row)                            #display signal after filter\n",
        "\n",
        "        row_ls = row.values.tolist()                    # create a list of values from dataframe row\n",
        "\n",
        "        #print(\"lenght= \",len(row_ls))                  #info\n",
        "        #print(row_ls)                                  #info\n",
        "        \n",
        "        signals_list.append(row_ls)                    #append row list to signals list\n",
        "        signals_cat.append(sub_class_label)\n",
        "    \n",
        "    #signals_list.extend(channels_list) \n",
        "\n",
        "  return signals_list,signals_cat"
      ],
      "execution_count": null,
      "outputs": []
    },
    {
      "cell_type": "code",
      "metadata": {
        "colab": {
          "base_uri": "https://localhost:8080/",
          "height": 412
        },
        "id": "AoP06P1AP12X",
        "outputId": "4671a22d-c4c3-420e-c41e-e2323c2d6b6b"
      },
      "source": [
        "#get sample data unit test : set of five channels \n",
        "df_sample=df_main.iloc[:10,:].copy()\n",
        "df_sample"
      ],
      "execution_count": null,
      "outputs": [
        {
          "data": {
            "text/html": [
              "<div>\n",
              "<style scoped>\n",
              "    .dataframe tbody tr th:only-of-type {\n",
              "        vertical-align: middle;\n",
              "    }\n",
              "\n",
              "    .dataframe tbody tr th {\n",
              "        vertical-align: top;\n",
              "    }\n",
              "\n",
              "    .dataframe thead th {\n",
              "        text-align: right;\n",
              "    }\n",
              "</style>\n",
              "<table border=\"1\" class=\"dataframe\">\n",
              "  <thead>\n",
              "    <tr style=\"text-align: right;\">\n",
              "      <th></th>\n",
              "      <th>image_category</th>\n",
              "      <th>t_1</th>\n",
              "      <th>t_2</th>\n",
              "      <th>t_3</th>\n",
              "      <th>t_4</th>\n",
              "      <th>t_5</th>\n",
              "      <th>t_6</th>\n",
              "      <th>t_7</th>\n",
              "      <th>t_8</th>\n",
              "      <th>t_9</th>\n",
              "      <th>t_10</th>\n",
              "      <th>t_11</th>\n",
              "      <th>t_12</th>\n",
              "      <th>t_13</th>\n",
              "      <th>t_14</th>\n",
              "      <th>t_15</th>\n",
              "      <th>t_16</th>\n",
              "      <th>t_17</th>\n",
              "      <th>t_18</th>\n",
              "      <th>t_19</th>\n",
              "      <th>t_20</th>\n",
              "      <th>t_21</th>\n",
              "      <th>t_22</th>\n",
              "      <th>t_23</th>\n",
              "      <th>t_24</th>\n",
              "      <th>t_25</th>\n",
              "      <th>t_26</th>\n",
              "      <th>t_27</th>\n",
              "      <th>t_28</th>\n",
              "      <th>t_29</th>\n",
              "      <th>t_30</th>\n",
              "      <th>t_31</th>\n",
              "      <th>t_32</th>\n",
              "      <th>t_33</th>\n",
              "      <th>t_34</th>\n",
              "      <th>t_35</th>\n",
              "      <th>t_36</th>\n",
              "      <th>t_37</th>\n",
              "      <th>t_38</th>\n",
              "      <th>t_39</th>\n",
              "      <th>...</th>\n",
              "      <th>t_353</th>\n",
              "      <th>t_354</th>\n",
              "      <th>t_355</th>\n",
              "      <th>t_356</th>\n",
              "      <th>t_357</th>\n",
              "      <th>t_358</th>\n",
              "      <th>t_359</th>\n",
              "      <th>t_360</th>\n",
              "      <th>t_361</th>\n",
              "      <th>t_362</th>\n",
              "      <th>t_363</th>\n",
              "      <th>t_364</th>\n",
              "      <th>t_365</th>\n",
              "      <th>t_366</th>\n",
              "      <th>t_367</th>\n",
              "      <th>t_368</th>\n",
              "      <th>t_369</th>\n",
              "      <th>t_370</th>\n",
              "      <th>t_371</th>\n",
              "      <th>t_372</th>\n",
              "      <th>t_373</th>\n",
              "      <th>t_374</th>\n",
              "      <th>t_375</th>\n",
              "      <th>t_376</th>\n",
              "      <th>t_377</th>\n",
              "      <th>t_378</th>\n",
              "      <th>t_379</th>\n",
              "      <th>t_380</th>\n",
              "      <th>t_381</th>\n",
              "      <th>t_382</th>\n",
              "      <th>t_383</th>\n",
              "      <th>t_384</th>\n",
              "      <th>t_385</th>\n",
              "      <th>t_386</th>\n",
              "      <th>t_387</th>\n",
              "      <th>t_388</th>\n",
              "      <th>t_389</th>\n",
              "      <th>t_390</th>\n",
              "      <th>t_391</th>\n",
              "      <th>t_392</th>\n",
              "    </tr>\n",
              "  </thead>\n",
              "  <tbody>\n",
              "    <tr>\n",
              "      <th>0</th>\n",
              "      <td>n02077923</td>\n",
              "      <td>4320.000000</td>\n",
              "      <td>4332.307692</td>\n",
              "      <td>4334.871795</td>\n",
              "      <td>4342.564103</td>\n",
              "      <td>4333.333333</td>\n",
              "      <td>4313.333333</td>\n",
              "      <td>4318.974359</td>\n",
              "      <td>4349.743590</td>\n",
              "      <td>4358.974359</td>\n",
              "      <td>4335.384615</td>\n",
              "      <td>4321.025641</td>\n",
              "      <td>4333.333333</td>\n",
              "      <td>4345.641026</td>\n",
              "      <td>4334.358974</td>\n",
              "      <td>4321.025641</td>\n",
              "      <td>4320.000000</td>\n",
              "      <td>4321.538462</td>\n",
              "      <td>4320.000000</td>\n",
              "      <td>4311.794872</td>\n",
              "      <td>4309.230769</td>\n",
              "      <td>4311.282051</td>\n",
              "      <td>4301.025641</td>\n",
              "      <td>4288.205128</td>\n",
              "      <td>4291.794872</td>\n",
              "      <td>4296.923077</td>\n",
              "      <td>4290.769231</td>\n",
              "      <td>4303.076923</td>\n",
              "      <td>4337.435897</td>\n",
              "      <td>4334.358974</td>\n",
              "      <td>4298.974359</td>\n",
              "      <td>4292.307692</td>\n",
              "      <td>4305.128205</td>\n",
              "      <td>4305.641026</td>\n",
              "      <td>4305.641026</td>\n",
              "      <td>4303.589744</td>\n",
              "      <td>4286.153846</td>\n",
              "      <td>4273.333333</td>\n",
              "      <td>4274.871795</td>\n",
              "      <td>4277.948718</td>\n",
              "      <td>...</td>\n",
              "      <td>4276.410256</td>\n",
              "      <td>4277.948718</td>\n",
              "      <td>4275.384615</td>\n",
              "      <td>4258.974359</td>\n",
              "      <td>4261.025641</td>\n",
              "      <td>4271.794872</td>\n",
              "      <td>4266.153846</td>\n",
              "      <td>4265.641026</td>\n",
              "      <td>4267.179487</td>\n",
              "      <td>4260.000000</td>\n",
              "      <td>4262.051282</td>\n",
              "      <td>4265.641026</td>\n",
              "      <td>4257.948718</td>\n",
              "      <td>4254.871795</td>\n",
              "      <td>4267.692308</td>\n",
              "      <td>4286.153846</td>\n",
              "      <td>4284.615385</td>\n",
              "      <td>4265.128205</td>\n",
              "      <td>4256.410256</td>\n",
              "      <td>4261.025641</td>\n",
              "      <td>4265.641026</td>\n",
              "      <td>4261.025641</td>\n",
              "      <td>4239.487179</td>\n",
              "      <td>4213.846154</td>\n",
              "      <td>4229.230769</td>\n",
              "      <td>4265.128205</td>\n",
              "      <td>4263.589744</td>\n",
              "      <td>4250.256410</td>\n",
              "      <td>4266.666667</td>\n",
              "      <td>4275.384615</td>\n",
              "      <td>4250.256410</td>\n",
              "      <td>4233.846154</td>\n",
              "      <td>4235.897436</td>\n",
              "      <td>4216.923077</td>\n",
              "      <td>4192.820513</td>\n",
              "      <td>4200.000000</td>\n",
              "      <td>4224.615385</td>\n",
              "      <td>4240.512821</td>\n",
              "      <td>4233.846154</td>\n",
              "      <td>4210.769231</td>\n",
              "    </tr>\n",
              "    <tr>\n",
              "      <th>1</th>\n",
              "      <td>n02077923</td>\n",
              "      <td>4294.871795</td>\n",
              "      <td>4305.128205</td>\n",
              "      <td>4298.974359</td>\n",
              "      <td>4307.179487</td>\n",
              "      <td>4312.307692</td>\n",
              "      <td>4284.102564</td>\n",
              "      <td>4274.871795</td>\n",
              "      <td>4314.358974</td>\n",
              "      <td>4330.769231</td>\n",
              "      <td>4324.615385</td>\n",
              "      <td>4311.282051</td>\n",
              "      <td>4275.384615</td>\n",
              "      <td>4284.615385</td>\n",
              "      <td>4322.564103</td>\n",
              "      <td>4318.461538</td>\n",
              "      <td>4285.641026</td>\n",
              "      <td>4272.820513</td>\n",
              "      <td>4307.692308</td>\n",
              "      <td>4353.333333</td>\n",
              "      <td>4341.538462</td>\n",
              "      <td>4307.179487</td>\n",
              "      <td>4307.692308</td>\n",
              "      <td>4307.692308</td>\n",
              "      <td>4304.615385</td>\n",
              "      <td>4321.538462</td>\n",
              "      <td>4312.307692</td>\n",
              "      <td>4292.307692</td>\n",
              "      <td>4298.461538</td>\n",
              "      <td>4285.641026</td>\n",
              "      <td>4278.461538</td>\n",
              "      <td>4311.282051</td>\n",
              "      <td>4318.974359</td>\n",
              "      <td>4297.435897</td>\n",
              "      <td>4301.025641</td>\n",
              "      <td>4321.538462</td>\n",
              "      <td>4325.128205</td>\n",
              "      <td>4320.000000</td>\n",
              "      <td>4294.871795</td>\n",
              "      <td>4271.282051</td>\n",
              "      <td>...</td>\n",
              "      <td>4238.461538</td>\n",
              "      <td>4242.564103</td>\n",
              "      <td>4290.769231</td>\n",
              "      <td>4284.615385</td>\n",
              "      <td>4238.974359</td>\n",
              "      <td>4250.769231</td>\n",
              "      <td>4297.948718</td>\n",
              "      <td>4325.641026</td>\n",
              "      <td>4326.666667</td>\n",
              "      <td>4294.871795</td>\n",
              "      <td>4265.128205</td>\n",
              "      <td>4254.358974</td>\n",
              "      <td>4251.282051</td>\n",
              "      <td>4272.307692</td>\n",
              "      <td>4273.846154</td>\n",
              "      <td>4240.000000</td>\n",
              "      <td>4239.487179</td>\n",
              "      <td>4269.230769</td>\n",
              "      <td>4267.692308</td>\n",
              "      <td>4254.871795</td>\n",
              "      <td>4265.128205</td>\n",
              "      <td>4272.820513</td>\n",
              "      <td>4254.358974</td>\n",
              "      <td>4223.589744</td>\n",
              "      <td>4254.358974</td>\n",
              "      <td>4302.564103</td>\n",
              "      <td>4257.948718</td>\n",
              "      <td>4215.384615</td>\n",
              "      <td>4256.410256</td>\n",
              "      <td>4264.102564</td>\n",
              "      <td>4211.794872</td>\n",
              "      <td>4210.256410</td>\n",
              "      <td>4243.589744</td>\n",
              "      <td>4232.820513</td>\n",
              "      <td>4211.282051</td>\n",
              "      <td>4222.051282</td>\n",
              "      <td>4228.717949</td>\n",
              "      <td>4213.846154</td>\n",
              "      <td>4220.000000</td>\n",
              "      <td>4246.666667</td>\n",
              "    </tr>\n",
              "    <tr>\n",
              "      <th>2</th>\n",
              "      <td>n02077923</td>\n",
              "      <td>4187.692308</td>\n",
              "      <td>4200.000000</td>\n",
              "      <td>4208.717949</td>\n",
              "      <td>4199.487179</td>\n",
              "      <td>4199.487179</td>\n",
              "      <td>4208.205128</td>\n",
              "      <td>4210.769231</td>\n",
              "      <td>4228.205128</td>\n",
              "      <td>4258.974359</td>\n",
              "      <td>4257.948718</td>\n",
              "      <td>4232.820513</td>\n",
              "      <td>4235.384615</td>\n",
              "      <td>4251.282051</td>\n",
              "      <td>4246.666667</td>\n",
              "      <td>4245.128205</td>\n",
              "      <td>4245.641026</td>\n",
              "      <td>4237.948718</td>\n",
              "      <td>4237.948718</td>\n",
              "      <td>4237.435897</td>\n",
              "      <td>4229.743590</td>\n",
              "      <td>4237.435897</td>\n",
              "      <td>4245.641026</td>\n",
              "      <td>4230.769231</td>\n",
              "      <td>4222.051282</td>\n",
              "      <td>4230.256410</td>\n",
              "      <td>4232.307692</td>\n",
              "      <td>4227.179487</td>\n",
              "      <td>4231.282051</td>\n",
              "      <td>4244.102564</td>\n",
              "      <td>4250.769231</td>\n",
              "      <td>4241.538462</td>\n",
              "      <td>4231.794872</td>\n",
              "      <td>4237.435897</td>\n",
              "      <td>4244.615385</td>\n",
              "      <td>4244.615385</td>\n",
              "      <td>4244.102564</td>\n",
              "      <td>4233.846154</td>\n",
              "      <td>4218.461538</td>\n",
              "      <td>4212.820513</td>\n",
              "      <td>...</td>\n",
              "      <td>4258.974359</td>\n",
              "      <td>4237.948718</td>\n",
              "      <td>4240.512821</td>\n",
              "      <td>4254.358974</td>\n",
              "      <td>4254.358974</td>\n",
              "      <td>4254.871795</td>\n",
              "      <td>4262.564103</td>\n",
              "      <td>4254.871795</td>\n",
              "      <td>4237.948718</td>\n",
              "      <td>4247.692308</td>\n",
              "      <td>4271.282051</td>\n",
              "      <td>4264.615385</td>\n",
              "      <td>4248.717949</td>\n",
              "      <td>4258.461538</td>\n",
              "      <td>4273.846154</td>\n",
              "      <td>4271.794872</td>\n",
              "      <td>4258.974359</td>\n",
              "      <td>4250.769231</td>\n",
              "      <td>4253.846154</td>\n",
              "      <td>4265.128205</td>\n",
              "      <td>4264.102564</td>\n",
              "      <td>4247.179487</td>\n",
              "      <td>4241.538462</td>\n",
              "      <td>4237.435897</td>\n",
              "      <td>4238.974359</td>\n",
              "      <td>4268.205128</td>\n",
              "      <td>4289.230769</td>\n",
              "      <td>4271.794872</td>\n",
              "      <td>4256.923077</td>\n",
              "      <td>4273.846154</td>\n",
              "      <td>4267.179487</td>\n",
              "      <td>4230.256410</td>\n",
              "      <td>4221.538462</td>\n",
              "      <td>4234.871795</td>\n",
              "      <td>4234.871795</td>\n",
              "      <td>4228.205128</td>\n",
              "      <td>4228.205128</td>\n",
              "      <td>4232.307692</td>\n",
              "      <td>4232.820513</td>\n",
              "      <td>4229.743590</td>\n",
              "    </tr>\n",
              "    <tr>\n",
              "      <th>3</th>\n",
              "      <td>n02077923</td>\n",
              "      <td>4203.076923</td>\n",
              "      <td>4224.615385</td>\n",
              "      <td>4249.743590</td>\n",
              "      <td>4231.794872</td>\n",
              "      <td>4190.769231</td>\n",
              "      <td>4186.666667</td>\n",
              "      <td>4208.717949</td>\n",
              "      <td>4223.589744</td>\n",
              "      <td>4226.153846</td>\n",
              "      <td>4229.230769</td>\n",
              "      <td>4233.846154</td>\n",
              "      <td>4222.564103</td>\n",
              "      <td>4210.256410</td>\n",
              "      <td>4215.384615</td>\n",
              "      <td>4217.948718</td>\n",
              "      <td>4202.051282</td>\n",
              "      <td>4188.717949</td>\n",
              "      <td>4202.564103</td>\n",
              "      <td>4215.897436</td>\n",
              "      <td>4219.487179</td>\n",
              "      <td>4226.666667</td>\n",
              "      <td>4214.358974</td>\n",
              "      <td>4183.589744</td>\n",
              "      <td>4184.102564</td>\n",
              "      <td>4221.538462</td>\n",
              "      <td>4242.564103</td>\n",
              "      <td>4226.153846</td>\n",
              "      <td>4217.948718</td>\n",
              "      <td>4225.128205</td>\n",
              "      <td>4208.717949</td>\n",
              "      <td>4185.128205</td>\n",
              "      <td>4206.153846</td>\n",
              "      <td>4228.717949</td>\n",
              "      <td>4204.102564</td>\n",
              "      <td>4182.051282</td>\n",
              "      <td>4194.871795</td>\n",
              "      <td>4202.564103</td>\n",
              "      <td>4197.435897</td>\n",
              "      <td>4203.076923</td>\n",
              "      <td>...</td>\n",
              "      <td>4202.564103</td>\n",
              "      <td>4213.333333</td>\n",
              "      <td>4215.897436</td>\n",
              "      <td>4193.846154</td>\n",
              "      <td>4193.333333</td>\n",
              "      <td>4217.948718</td>\n",
              "      <td>4225.128205</td>\n",
              "      <td>4218.974359</td>\n",
              "      <td>4207.692308</td>\n",
              "      <td>4191.794872</td>\n",
              "      <td>4205.128205</td>\n",
              "      <td>4207.179487</td>\n",
              "      <td>4166.666667</td>\n",
              "      <td>4169.230769</td>\n",
              "      <td>4227.692308</td>\n",
              "      <td>4233.333333</td>\n",
              "      <td>4181.538462</td>\n",
              "      <td>4187.692308</td>\n",
              "      <td>4235.384615</td>\n",
              "      <td>4240.000000</td>\n",
              "      <td>4235.897436</td>\n",
              "      <td>4229.743590</td>\n",
              "      <td>4184.615385</td>\n",
              "      <td>4155.897436</td>\n",
              "      <td>4189.743590</td>\n",
              "      <td>4219.487179</td>\n",
              "      <td>4190.769231</td>\n",
              "      <td>4161.538462</td>\n",
              "      <td>4196.410256</td>\n",
              "      <td>4244.102564</td>\n",
              "      <td>4225.128205</td>\n",
              "      <td>4190.256410</td>\n",
              "      <td>4200.000000</td>\n",
              "      <td>4207.692308</td>\n",
              "      <td>4200.512821</td>\n",
              "      <td>4200.512821</td>\n",
              "      <td>4203.076923</td>\n",
              "      <td>4208.717949</td>\n",
              "      <td>4220.512821</td>\n",
              "      <td>4217.435897</td>\n",
              "    </tr>\n",
              "    <tr>\n",
              "      <th>4</th>\n",
              "      <td>n02077923</td>\n",
              "      <td>4145.128205</td>\n",
              "      <td>4138.461538</td>\n",
              "      <td>4145.128205</td>\n",
              "      <td>4142.051282</td>\n",
              "      <td>4132.307692</td>\n",
              "      <td>4134.358974</td>\n",
              "      <td>4137.948718</td>\n",
              "      <td>4146.153846</td>\n",
              "      <td>4155.384615</td>\n",
              "      <td>4149.743590</td>\n",
              "      <td>4147.692308</td>\n",
              "      <td>4152.820513</td>\n",
              "      <td>4145.128205</td>\n",
              "      <td>4138.461538</td>\n",
              "      <td>4146.153846</td>\n",
              "      <td>4144.615385</td>\n",
              "      <td>4140.512821</td>\n",
              "      <td>4152.820513</td>\n",
              "      <td>4168.717949</td>\n",
              "      <td>4175.384615</td>\n",
              "      <td>4167.692308</td>\n",
              "      <td>4150.256410</td>\n",
              "      <td>4147.179487</td>\n",
              "      <td>4157.948718</td>\n",
              "      <td>4148.717949</td>\n",
              "      <td>4130.256410</td>\n",
              "      <td>4138.461538</td>\n",
              "      <td>4154.871795</td>\n",
              "      <td>4136.410256</td>\n",
              "      <td>4113.846154</td>\n",
              "      <td>4135.897436</td>\n",
              "      <td>4161.538462</td>\n",
              "      <td>4154.358974</td>\n",
              "      <td>4146.153846</td>\n",
              "      <td>4150.769231</td>\n",
              "      <td>4161.538462</td>\n",
              "      <td>4171.282051</td>\n",
              "      <td>4164.615385</td>\n",
              "      <td>4145.641026</td>\n",
              "      <td>...</td>\n",
              "      <td>4117.435897</td>\n",
              "      <td>4120.512821</td>\n",
              "      <td>4122.051282</td>\n",
              "      <td>4129.230769</td>\n",
              "      <td>4135.897436</td>\n",
              "      <td>4135.897436</td>\n",
              "      <td>4141.025641</td>\n",
              "      <td>4146.153846</td>\n",
              "      <td>4142.051282</td>\n",
              "      <td>4139.487179</td>\n",
              "      <td>4135.897436</td>\n",
              "      <td>4125.641026</td>\n",
              "      <td>4116.410256</td>\n",
              "      <td>4112.820513</td>\n",
              "      <td>4107.179487</td>\n",
              "      <td>4101.025641</td>\n",
              "      <td>4105.128205</td>\n",
              "      <td>4116.923077</td>\n",
              "      <td>4121.025641</td>\n",
              "      <td>4125.128205</td>\n",
              "      <td>4140.512821</td>\n",
              "      <td>4146.666667</td>\n",
              "      <td>4140.000000</td>\n",
              "      <td>4137.948718</td>\n",
              "      <td>4138.974359</td>\n",
              "      <td>4141.025641</td>\n",
              "      <td>4145.641026</td>\n",
              "      <td>4134.871795</td>\n",
              "      <td>4117.948718</td>\n",
              "      <td>4109.230769</td>\n",
              "      <td>4096.410256</td>\n",
              "      <td>4093.846154</td>\n",
              "      <td>4104.615385</td>\n",
              "      <td>4096.410256</td>\n",
              "      <td>4073.333333</td>\n",
              "      <td>4069.743590</td>\n",
              "      <td>4085.641026</td>\n",
              "      <td>4099.487179</td>\n",
              "      <td>4108.205128</td>\n",
              "      <td>4114.871795</td>\n",
              "    </tr>\n",
              "    <tr>\n",
              "      <th>5</th>\n",
              "      <td>n02089078</td>\n",
              "      <td>4279.487179</td>\n",
              "      <td>4279.487179</td>\n",
              "      <td>4280.512821</td>\n",
              "      <td>4297.435897</td>\n",
              "      <td>4315.384615</td>\n",
              "      <td>4299.487179</td>\n",
              "      <td>4278.974359</td>\n",
              "      <td>4292.307692</td>\n",
              "      <td>4302.051282</td>\n",
              "      <td>4299.487179</td>\n",
              "      <td>4297.948718</td>\n",
              "      <td>4289.230769</td>\n",
              "      <td>4289.230769</td>\n",
              "      <td>4297.948718</td>\n",
              "      <td>4297.435897</td>\n",
              "      <td>4293.846154</td>\n",
              "      <td>4282.051282</td>\n",
              "      <td>4261.025641</td>\n",
              "      <td>4275.897436</td>\n",
              "      <td>4299.487179</td>\n",
              "      <td>4286.666667</td>\n",
              "      <td>4275.384615</td>\n",
              "      <td>4271.282051</td>\n",
              "      <td>4282.051282</td>\n",
              "      <td>4297.435897</td>\n",
              "      <td>4280.512821</td>\n",
              "      <td>4267.692308</td>\n",
              "      <td>4277.948718</td>\n",
              "      <td>4284.102564</td>\n",
              "      <td>4289.230769</td>\n",
              "      <td>4291.794872</td>\n",
              "      <td>4278.974359</td>\n",
              "      <td>4274.358974</td>\n",
              "      <td>4281.025641</td>\n",
              "      <td>4282.564103</td>\n",
              "      <td>4284.102564</td>\n",
              "      <td>4282.564103</td>\n",
              "      <td>4278.461538</td>\n",
              "      <td>4280.512821</td>\n",
              "      <td>...</td>\n",
              "      <td>4317.435897</td>\n",
              "      <td>4314.358974</td>\n",
              "      <td>4315.384615</td>\n",
              "      <td>4307.179487</td>\n",
              "      <td>4292.307692</td>\n",
              "      <td>4298.974359</td>\n",
              "      <td>4298.461538</td>\n",
              "      <td>4286.153846</td>\n",
              "      <td>4295.897436</td>\n",
              "      <td>4292.820513</td>\n",
              "      <td>4271.282051</td>\n",
              "      <td>4272.820513</td>\n",
              "      <td>4284.615385</td>\n",
              "      <td>4279.487179</td>\n",
              "      <td>4281.538462</td>\n",
              "      <td>4300.512821</td>\n",
              "      <td>4299.487179</td>\n",
              "      <td>4288.717949</td>\n",
              "      <td>4302.564103</td>\n",
              "      <td>4311.794872</td>\n",
              "      <td>4295.897436</td>\n",
              "      <td>4292.820513</td>\n",
              "      <td>4297.948718</td>\n",
              "      <td>4291.794872</td>\n",
              "      <td>4298.974359</td>\n",
              "      <td>4307.692308</td>\n",
              "      <td>4298.461538</td>\n",
              "      <td>4296.410256</td>\n",
              "      <td>4300.512821</td>\n",
              "      <td>4281.025641</td>\n",
              "      <td>4273.846154</td>\n",
              "      <td>4294.871795</td>\n",
              "      <td>0.000000</td>\n",
              "      <td>0.000000</td>\n",
              "      <td>0.000000</td>\n",
              "      <td>0.000000</td>\n",
              "      <td>0.000000</td>\n",
              "      <td>0.000000</td>\n",
              "      <td>0.000000</td>\n",
              "      <td>0.000000</td>\n",
              "    </tr>\n",
              "    <tr>\n",
              "      <th>6</th>\n",
              "      <td>n02089078</td>\n",
              "      <td>4258.974359</td>\n",
              "      <td>4278.974359</td>\n",
              "      <td>4263.589744</td>\n",
              "      <td>4233.333333</td>\n",
              "      <td>4228.205128</td>\n",
              "      <td>4262.564103</td>\n",
              "      <td>4279.487179</td>\n",
              "      <td>4238.461538</td>\n",
              "      <td>4218.974359</td>\n",
              "      <td>4250.256410</td>\n",
              "      <td>4270.256410</td>\n",
              "      <td>4268.717949</td>\n",
              "      <td>4250.769231</td>\n",
              "      <td>4231.282051</td>\n",
              "      <td>4233.333333</td>\n",
              "      <td>4266.153846</td>\n",
              "      <td>4266.153846</td>\n",
              "      <td>4224.615385</td>\n",
              "      <td>4231.794872</td>\n",
              "      <td>4260.000000</td>\n",
              "      <td>4244.102564</td>\n",
              "      <td>4228.205128</td>\n",
              "      <td>4239.487179</td>\n",
              "      <td>4248.205128</td>\n",
              "      <td>4248.205128</td>\n",
              "      <td>4244.615385</td>\n",
              "      <td>4236.923077</td>\n",
              "      <td>4248.205128</td>\n",
              "      <td>4250.256410</td>\n",
              "      <td>4244.615385</td>\n",
              "      <td>4272.307692</td>\n",
              "      <td>4258.974359</td>\n",
              "      <td>4215.897436</td>\n",
              "      <td>4226.153846</td>\n",
              "      <td>4251.794872</td>\n",
              "      <td>4254.358974</td>\n",
              "      <td>4240.512821</td>\n",
              "      <td>4234.358974</td>\n",
              "      <td>4252.820513</td>\n",
              "      <td>...</td>\n",
              "      <td>4271.794872</td>\n",
              "      <td>4262.051282</td>\n",
              "      <td>4262.051282</td>\n",
              "      <td>4268.205128</td>\n",
              "      <td>4274.871795</td>\n",
              "      <td>4269.743590</td>\n",
              "      <td>4261.538462</td>\n",
              "      <td>4260.512821</td>\n",
              "      <td>4253.333333</td>\n",
              "      <td>4251.794872</td>\n",
              "      <td>4265.128205</td>\n",
              "      <td>4255.384615</td>\n",
              "      <td>4243.589744</td>\n",
              "      <td>4258.461538</td>\n",
              "      <td>4265.128205</td>\n",
              "      <td>4264.102564</td>\n",
              "      <td>4272.307692</td>\n",
              "      <td>4267.692308</td>\n",
              "      <td>4261.025641</td>\n",
              "      <td>4274.358974</td>\n",
              "      <td>4270.256410</td>\n",
              "      <td>4244.102564</td>\n",
              "      <td>4239.487179</td>\n",
              "      <td>4269.230769</td>\n",
              "      <td>4298.974359</td>\n",
              "      <td>4276.923077</td>\n",
              "      <td>4245.641026</td>\n",
              "      <td>4246.153846</td>\n",
              "      <td>4238.974359</td>\n",
              "      <td>4232.307692</td>\n",
              "      <td>4250.256410</td>\n",
              "      <td>4249.743590</td>\n",
              "      <td>0.000000</td>\n",
              "      <td>0.000000</td>\n",
              "      <td>0.000000</td>\n",
              "      <td>0.000000</td>\n",
              "      <td>0.000000</td>\n",
              "      <td>0.000000</td>\n",
              "      <td>0.000000</td>\n",
              "      <td>0.000000</td>\n",
              "    </tr>\n",
              "    <tr>\n",
              "      <th>7</th>\n",
              "      <td>n02089078</td>\n",
              "      <td>4262.564103</td>\n",
              "      <td>4246.153846</td>\n",
              "      <td>4253.846154</td>\n",
              "      <td>4289.743590</td>\n",
              "      <td>4288.717949</td>\n",
              "      <td>4246.153846</td>\n",
              "      <td>4234.871795</td>\n",
              "      <td>4256.410256</td>\n",
              "      <td>4265.641026</td>\n",
              "      <td>4266.153846</td>\n",
              "      <td>4261.025641</td>\n",
              "      <td>4254.358974</td>\n",
              "      <td>4259.487179</td>\n",
              "      <td>4269.743590</td>\n",
              "      <td>4265.641026</td>\n",
              "      <td>4251.794872</td>\n",
              "      <td>4247.692308</td>\n",
              "      <td>4250.769231</td>\n",
              "      <td>4254.871795</td>\n",
              "      <td>4262.564103</td>\n",
              "      <td>4267.179487</td>\n",
              "      <td>4248.717949</td>\n",
              "      <td>4233.846154</td>\n",
              "      <td>4254.871795</td>\n",
              "      <td>4268.205128</td>\n",
              "      <td>4258.974359</td>\n",
              "      <td>4256.923077</td>\n",
              "      <td>4255.897436</td>\n",
              "      <td>4257.948718</td>\n",
              "      <td>4268.717949</td>\n",
              "      <td>4267.692308</td>\n",
              "      <td>4263.076923</td>\n",
              "      <td>4265.128205</td>\n",
              "      <td>4261.538462</td>\n",
              "      <td>4261.538462</td>\n",
              "      <td>4268.717949</td>\n",
              "      <td>4275.897436</td>\n",
              "      <td>4276.923077</td>\n",
              "      <td>4272.307692</td>\n",
              "      <td>...</td>\n",
              "      <td>4241.538462</td>\n",
              "      <td>4248.205128</td>\n",
              "      <td>4252.307692</td>\n",
              "      <td>4246.153846</td>\n",
              "      <td>4255.384615</td>\n",
              "      <td>4262.051282</td>\n",
              "      <td>4251.282051</td>\n",
              "      <td>4254.871795</td>\n",
              "      <td>4261.025641</td>\n",
              "      <td>4248.717949</td>\n",
              "      <td>4240.512821</td>\n",
              "      <td>4243.589744</td>\n",
              "      <td>4252.307692</td>\n",
              "      <td>4263.589744</td>\n",
              "      <td>4265.641026</td>\n",
              "      <td>4257.948718</td>\n",
              "      <td>4253.846154</td>\n",
              "      <td>4256.410256</td>\n",
              "      <td>4260.000000</td>\n",
              "      <td>4265.128205</td>\n",
              "      <td>4273.846154</td>\n",
              "      <td>4273.846154</td>\n",
              "      <td>4265.641026</td>\n",
              "      <td>4264.615385</td>\n",
              "      <td>4266.666667</td>\n",
              "      <td>4266.666667</td>\n",
              "      <td>4265.128205</td>\n",
              "      <td>4256.923077</td>\n",
              "      <td>4245.128205</td>\n",
              "      <td>4246.666667</td>\n",
              "      <td>4260.512821</td>\n",
              "      <td>4266.666667</td>\n",
              "      <td>0.000000</td>\n",
              "      <td>0.000000</td>\n",
              "      <td>0.000000</td>\n",
              "      <td>0.000000</td>\n",
              "      <td>0.000000</td>\n",
              "      <td>0.000000</td>\n",
              "      <td>0.000000</td>\n",
              "      <td>0.000000</td>\n",
              "    </tr>\n",
              "    <tr>\n",
              "      <th>8</th>\n",
              "      <td>n02089078</td>\n",
              "      <td>4180.512821</td>\n",
              "      <td>4206.153846</td>\n",
              "      <td>4236.410256</td>\n",
              "      <td>4184.615385</td>\n",
              "      <td>4162.564103</td>\n",
              "      <td>4224.102564</td>\n",
              "      <td>4218.974359</td>\n",
              "      <td>4167.179487</td>\n",
              "      <td>4192.307692</td>\n",
              "      <td>4233.333333</td>\n",
              "      <td>4217.948718</td>\n",
              "      <td>4196.923077</td>\n",
              "      <td>4194.358974</td>\n",
              "      <td>4198.461538</td>\n",
              "      <td>4205.641026</td>\n",
              "      <td>4200.000000</td>\n",
              "      <td>4183.589744</td>\n",
              "      <td>4189.230769</td>\n",
              "      <td>4211.282051</td>\n",
              "      <td>4198.461538</td>\n",
              "      <td>4176.923077</td>\n",
              "      <td>4196.923077</td>\n",
              "      <td>4203.589744</td>\n",
              "      <td>4187.179487</td>\n",
              "      <td>4193.846154</td>\n",
              "      <td>4194.358974</td>\n",
              "      <td>4188.717949</td>\n",
              "      <td>4207.179487</td>\n",
              "      <td>4225.128205</td>\n",
              "      <td>4215.384615</td>\n",
              "      <td>4191.794872</td>\n",
              "      <td>4192.307692</td>\n",
              "      <td>4204.102564</td>\n",
              "      <td>4188.717949</td>\n",
              "      <td>4178.461538</td>\n",
              "      <td>4201.025641</td>\n",
              "      <td>4209.230769</td>\n",
              "      <td>4198.461538</td>\n",
              "      <td>4192.307692</td>\n",
              "      <td>...</td>\n",
              "      <td>4212.307692</td>\n",
              "      <td>4210.769231</td>\n",
              "      <td>4184.102564</td>\n",
              "      <td>4177.435897</td>\n",
              "      <td>4198.974359</td>\n",
              "      <td>4207.179487</td>\n",
              "      <td>4199.487179</td>\n",
              "      <td>4191.282051</td>\n",
              "      <td>4178.461538</td>\n",
              "      <td>4164.615385</td>\n",
              "      <td>4170.769231</td>\n",
              "      <td>4190.256410</td>\n",
              "      <td>4190.256410</td>\n",
              "      <td>4181.025641</td>\n",
              "      <td>4189.743590</td>\n",
              "      <td>4210.256410</td>\n",
              "      <td>4208.717949</td>\n",
              "      <td>4177.435897</td>\n",
              "      <td>4169.743590</td>\n",
              "      <td>4197.435897</td>\n",
              "      <td>4212.820513</td>\n",
              "      <td>4212.820513</td>\n",
              "      <td>4206.666667</td>\n",
              "      <td>4185.641026</td>\n",
              "      <td>4184.102564</td>\n",
              "      <td>4207.692308</td>\n",
              "      <td>4195.897436</td>\n",
              "      <td>4165.641026</td>\n",
              "      <td>4171.282051</td>\n",
              "      <td>4190.769231</td>\n",
              "      <td>4190.256410</td>\n",
              "      <td>4175.897436</td>\n",
              "      <td>0.000000</td>\n",
              "      <td>0.000000</td>\n",
              "      <td>0.000000</td>\n",
              "      <td>0.000000</td>\n",
              "      <td>0.000000</td>\n",
              "      <td>0.000000</td>\n",
              "      <td>0.000000</td>\n",
              "      <td>0.000000</td>\n",
              "    </tr>\n",
              "    <tr>\n",
              "      <th>9</th>\n",
              "      <td>n02089078</td>\n",
              "      <td>4131.794872</td>\n",
              "      <td>4134.871795</td>\n",
              "      <td>4149.743590</td>\n",
              "      <td>4144.615385</td>\n",
              "      <td>4120.512821</td>\n",
              "      <td>4130.256410</td>\n",
              "      <td>4142.564103</td>\n",
              "      <td>4126.666667</td>\n",
              "      <td>4125.641026</td>\n",
              "      <td>4143.076923</td>\n",
              "      <td>4150.256410</td>\n",
              "      <td>4165.128205</td>\n",
              "      <td>4163.589744</td>\n",
              "      <td>4129.743590</td>\n",
              "      <td>4118.461538</td>\n",
              "      <td>4140.000000</td>\n",
              "      <td>4147.692308</td>\n",
              "      <td>4139.487179</td>\n",
              "      <td>4142.564103</td>\n",
              "      <td>4146.153846</td>\n",
              "      <td>4137.435897</td>\n",
              "      <td>4134.358974</td>\n",
              "      <td>4140.000000</td>\n",
              "      <td>4136.410256</td>\n",
              "      <td>4132.307692</td>\n",
              "      <td>4137.435897</td>\n",
              "      <td>4135.897436</td>\n",
              "      <td>4141.025641</td>\n",
              "      <td>4153.333333</td>\n",
              "      <td>4155.897436</td>\n",
              "      <td>4161.025641</td>\n",
              "      <td>4150.256410</td>\n",
              "      <td>4129.743590</td>\n",
              "      <td>4141.538462</td>\n",
              "      <td>4158.461538</td>\n",
              "      <td>4148.205128</td>\n",
              "      <td>4145.128205</td>\n",
              "      <td>4162.564103</td>\n",
              "      <td>4166.666667</td>\n",
              "      <td>...</td>\n",
              "      <td>4141.025641</td>\n",
              "      <td>4145.128205</td>\n",
              "      <td>4145.128205</td>\n",
              "      <td>4148.717949</td>\n",
              "      <td>4157.948718</td>\n",
              "      <td>4147.692308</td>\n",
              "      <td>4134.871795</td>\n",
              "      <td>4149.230769</td>\n",
              "      <td>4160.512821</td>\n",
              "      <td>4143.589744</td>\n",
              "      <td>4136.923077</td>\n",
              "      <td>4151.794872</td>\n",
              "      <td>4151.282051</td>\n",
              "      <td>4141.538462</td>\n",
              "      <td>4150.769231</td>\n",
              "      <td>4155.384615</td>\n",
              "      <td>4147.692308</td>\n",
              "      <td>4150.769231</td>\n",
              "      <td>4156.410256</td>\n",
              "      <td>4153.333333</td>\n",
              "      <td>4151.794872</td>\n",
              "      <td>4154.358974</td>\n",
              "      <td>4158.974359</td>\n",
              "      <td>4158.974359</td>\n",
              "      <td>4158.461538</td>\n",
              "      <td>4159.487179</td>\n",
              "      <td>4152.820513</td>\n",
              "      <td>4149.743590</td>\n",
              "      <td>4153.846154</td>\n",
              "      <td>4146.153846</td>\n",
              "      <td>4134.871795</td>\n",
              "      <td>4133.846154</td>\n",
              "      <td>0.000000</td>\n",
              "      <td>0.000000</td>\n",
              "      <td>0.000000</td>\n",
              "      <td>0.000000</td>\n",
              "      <td>0.000000</td>\n",
              "      <td>0.000000</td>\n",
              "      <td>0.000000</td>\n",
              "      <td>0.000000</td>\n",
              "    </tr>\n",
              "  </tbody>\n",
              "</table>\n",
              "<p>10 rows × 393 columns</p>\n",
              "</div>"
            ],
            "text/plain": [
              "  image_category          t_1  ...        t_391        t_392\n",
              "0      n02077923  4320.000000  ...  4233.846154  4210.769231\n",
              "1      n02077923  4294.871795  ...  4220.000000  4246.666667\n",
              "2      n02077923  4187.692308  ...  4232.820513  4229.743590\n",
              "3      n02077923  4203.076923  ...  4220.512821  4217.435897\n",
              "4      n02077923  4145.128205  ...  4108.205128  4114.871795\n",
              "5      n02089078  4279.487179  ...     0.000000     0.000000\n",
              "6      n02089078  4258.974359  ...     0.000000     0.000000\n",
              "7      n02089078  4262.564103  ...     0.000000     0.000000\n",
              "8      n02089078  4180.512821  ...     0.000000     0.000000\n",
              "9      n02089078  4131.794872  ...     0.000000     0.000000\n",
              "\n",
              "[10 rows x 393 columns]"
            ]
          },
          "execution_count": 20,
          "metadata": {},
          "output_type": "execute_result"
        }
      ]
    },
    {
      "cell_type": "code",
      "metadata": {
        "colab": {
          "base_uri": "https://localhost:8080/"
        },
        "id": "FHt87dLdRA3a",
        "outputId": "550536c0-38cf-4795-e00f-9a4fb83369fc"
      },
      "source": [
        "df_sample.shape"
      ],
      "execution_count": null,
      "outputs": [
        {
          "data": {
            "text/plain": [
              "(10, 393)"
            ]
          },
          "execution_count": 21,
          "metadata": {},
          "output_type": "execute_result"
        }
      ]
    },
    {
      "cell_type": "code",
      "metadata": {
        "colab": {
          "base_uri": "https://localhost:8080/",
          "height": 1000
        },
        "id": "MXrDOBWiP4TI",
        "outputId": "8af59410-2dd0-408e-8bb0-abdc0a2e8b44"
      },
      "source": [
        "#check sample data (5 signals): before and after filtering\n",
        "x_sample,y_sample = prepare_data(df_sample,1,unit_test=True) "
      ],
      "execution_count": null,
      "outputs": [
        {
          "data": {
            "image/png": "[encoded data removed]",
            "text/plain": [
              "<Figure size 720x72 with 1 Axes>"
            ]
          },
          "metadata": {},
          "output_type": "display_data"
        },
        {
          "name": "stdout",
          "output_type": "stream",
          "text": [
            "\n",
            "\n"
          ]
        },
        {
          "data": {
            "image/png": "[encoded data removed]",
            "text/plain": [
              "<Figure size 720x72 with 1 Axes>"
            ]
          },
          "metadata": {},
          "output_type": "display_data"
        },
        {
          "name": "stdout",
          "output_type": "stream",
          "text": [
            "\n",
            "\n"
          ]
        },
        {
          "data": {
            "image/png": "[encoded data removed]",
            "text/plain": [
              "<Figure size 720x72 with 1 Axes>"
            ]
          },
          "metadata": {},
          "output_type": "display_data"
        },
        {
          "name": "stdout",
          "output_type": "stream",
          "text": [
            "\n",
            "\n"
          ]
        },
        {
          "data": {
            "image/png": "[encoded data removed]",
            "text/plain": [
              "<Figure size 720x72 with 1 Axes>"
            ]
          },
          "metadata": {},
          "output_type": "display_data"
        },
        {
          "name": "stdout",
          "output_type": "stream",
          "text": [
            "\n",
            "\n"
          ]
        },
        {
          "data": {
            "image/png": "[encoded data removed]",
            "text/plain": [
              "<Figure size 720x72 with 1 Axes>"
            ]
          },
          "metadata": {},
          "output_type": "display_data"
        },
        {
          "name": "stdout",
          "output_type": "stream",
          "text": [
            "\n",
            "\n"
          ]
        },
        {
          "data": {
            "image/png": "[encoded data removed]",
            "text/plain": [
              "<Figure size 720x72 with 1 Axes>"
            ]
          },
          "metadata": {},
          "output_type": "display_data"
        },
        {
          "name": "stdout",
          "output_type": "stream",
          "text": [
            "\n",
            "\n"
          ]
        },
        {
          "data": {
            "image/png": "[encoded data removed]",
            "text/plain": [
              "<Figure size 720x72 with 1 Axes>"
            ]
          },
          "metadata": {},
          "output_type": "display_data"
        },
        {
          "name": "stdout",
          "output_type": "stream",
          "text": [
            "\n",
            "\n"
          ]
        },
        {
          "data": {
            "image/png": "[encoded data removed]",
            "text/plain": [
              "<Figure size 720x72 with 1 Axes>"
            ]
          },
          "metadata": {},
          "output_type": "display_data"
        },
        {
          "name": "stdout",
          "output_type": "stream",
          "text": [
            "\n",
            "\n"
          ]
        },
        {
          "data": {
            "image/png": "[encoded data removed]",
            "text/plain": [
              "<Figure size 720x72 with 1 Axes>"
            ]
          },
          "metadata": {},
          "output_type": "display_data"
        },
        {
          "name": "stdout",
          "output_type": "stream",
          "text": [
            "\n",
            "\n"
          ]
        },
        {
          "data": {
            "image/png": "[encoded data removed]",
            "text/plain": [
              "<Figure size 720x72 with 1 Axes>"
            ]
          },
          "metadata": {},
          "output_type": "display_data"
        },
        {
          "name": "stdout",
          "output_type": "stream",
          "text": [
            "\n",
            "\n"
          ]
        },
        {
          "data": {
            "image/png": "[encoded data removed]",
            "text/plain": [
              "<Figure size 720x72 with 1 Axes>"
            ]
          },
          "metadata": {},
          "output_type": "display_data"
        },
        {
          "name": "stdout",
          "output_type": "stream",
          "text": [
            "\n",
            "\n"
          ]
        },
        {
          "data": {
            "image/png": "[encoded data removed]",
            "text/plain": [
              "<Figure size 720x72 with 1 Axes>"
            ]
          },
          "metadata": {},
          "output_type": "display_data"
        },
        {
          "name": "stdout",
          "output_type": "stream",
          "text": [
            "\n",
            "\n"
          ]
        },
        {
          "data": {
            "image/png": "[encoded data removed]",
            "text/plain": [
              "<Figure size 720x72 with 1 Axes>"
            ]
          },
          "metadata": {},
          "output_type": "display_data"
        },
        {
          "name": "stdout",
          "output_type": "stream",
          "text": [
            "\n",
            "\n"
          ]
        },
        {
          "data": {
            "image/png": "[encoded data removed]",
            "text/plain": [
              "<Figure size 720x72 with 1 Axes>"
            ]
          },
          "metadata": {},
          "output_type": "display_data"
        },
        {
          "name": "stdout",
          "output_type": "stream",
          "text": [
            "\n",
            "\n"
          ]
        },
        {
          "data": {
            "image/png": "[encoded data removed]",
            "text/plain": [
              "<Figure size 720x72 with 1 Axes>"
            ]
          },
          "metadata": {},
          "output_type": "display_data"
        },
        {
          "name": "stdout",
          "output_type": "stream",
          "text": [
            "\n",
            "\n"
          ]
        },
        {
          "data": {
            "image/png": "[encoded data removed]",
            "text/plain": [
              "<Figure size 720x72 with 1 Axes>"
            ]
          },
          "metadata": {},
          "output_type": "display_data"
        },
        {
          "name": "stdout",
          "output_type": "stream",
          "text": [
            "\n",
            "\n"
          ]
        },
        {
          "data": {
            "image/png": "[encoded data removed]",
            "text/plain": [
              "<Figure size 720x72 with 1 Axes>"
            ]
          },
          "metadata": {},
          "output_type": "display_data"
        },
        {
          "name": "stdout",
          "output_type": "stream",
          "text": [
            "\n",
            "\n"
          ]
        },
        {
          "data": {
            "image/png": "[encoded data removed]",
            "text/plain": [
              "<Figure size 720x72 with 1 Axes>"
            ]
          },
          "metadata": {},
          "output_type": "display_data"
        },
        {
          "name": "stdout",
          "output_type": "stream",
          "text": [
            "\n",
            "\n"
          ]
        },
        {
          "data": {
            "image/png": "[encoded data removed]",
            "text/plain": [
              "<Figure size 720x72 with 1 Axes>"
            ]
          },
          "metadata": {},
          "output_type": "display_data"
        },
        {
          "name": "stdout",
          "output_type": "stream",
          "text": [
            "\n",
            "\n"
          ]
        },
        {
          "data": {
            "image/png": "[encoded data removed]",
            "text/plain": [
              "<Figure size 720x72 with 1 Axes>"
            ]
          },
          "metadata": {},
          "output_type": "display_data"
        },
        {
          "name": "stdout",
          "output_type": "stream",
          "text": [
            "\n",
            "\n"
          ]
        }
      ]
    },
    {
      "cell_type": "code",
      "metadata": {
        "colab": {
          "base_uri": "https://localhost:8080/"
        },
        "id": "ZPtJlxtZQIUe",
        "outputId": "2d405892-6e45-479c-d1d6-7c3e1d403598"
      },
      "source": [
        "len(x_sample)"
      ],
      "execution_count": null,
      "outputs": [
        {
          "data": {
            "text/plain": [
              "10"
            ]
          },
          "execution_count": 23,
          "metadata": {},
          "output_type": "execute_result"
        }
      ]
    },
    {
      "cell_type": "code",
      "metadata": {
        "colab": {
          "base_uri": "https://localhost:8080/"
        },
        "id": "c25FpfinP_k7",
        "outputId": "e2157dde-0601-4d8a-ae54-752545635319"
      },
      "source": [
        "print(x_sample)"
      ],
      "execution_count": null,
      "outputs": [
        {
          "name": "stdout",
          "output_type": "stream",
          "text": [
            "[[0.003340646422917158, -0.0013345061191356684, -0.0036715109903271027, 0.00923915340825349, 0.006862109939662969, -0.013778663925186032, -0.014109127177142754, 0.013023838855561133, 0.018533542942043665, -0.006669963762625348, -0.018527992480851723, 0.0004964346916402299, 0.014294237824555385, 0.002565266655282096, -0.008335233600435896, -0.0034574645355653867, 0.004287513871713227, 0.003618153291230783, -0.0037859667990707184, -0.0032389424233621456, 0.005091323871583728, 0.0011894324853074425, -0.006366609328268834, 0.004171917271093093, 0.008780482878335587, -0.012036649483158132, -0.013127778907840892, 0.01721220982907859, 0.015645423332123428, -0.014856552392655565, -0.011720284172884541, 0.006740194526408335, 0.002672854777490551, 0.0005929307123109673, 0.004841005642051678, -0.002865571259577054, -0.006361458238180642, 0.0006928344806655783, 0.004169245591733968, 0.002895639685038931, -0.003193455129641892, -0.004443599175305766, 0.004629811395817686, 0.0014294968772722845, -0.005990313183468888, 0.004805125911268679, 0.005749377438484334, -0.00883924074082107, -0.005184866642869022, 0.00654234011464841, 0.0057320522210597795, 0.0002781314823301507, -0.006259979753960068, -0.00537215689237428, 0.004281154631039175, 0.0033088547654480226, 0.0003454066184440819, 0.0060842160544873295, -0.004470612383125835, -0.0173382267377323, 0.005418677101269514, 0.02377812121303144, -0.004049631803287022, -0.022757735278633548, 0.002105855039794111, 0.016669932596691958, 0.0009297672094945534, -0.009732592682860395, -0.0053943335496460035, 0.003929121476001967, 0.008859739269770696, 0.0019512374157076564, -0.009238041003513385, -0.008325537522232647, 0.008214574783242671, 0.011656808881393926, -0.00836567580505138, -0.008276270164615756, 0.008083102466502044, -0.0003491336217263585, -0.003446728112345373, 0.008607628399035436, -0.004732457855250232, -0.011794115099618719, 0.0106316057140257, 0.009763429035987243, -0.0112944643146786, -0.006524646007197662, 0.00980801766240667, 0.005914553162638468, -0.009467044358476357, -0.008035989832770837, 0.009738349793362537, 0.01060756931433053, -0.008882935112734415, -0.011782378664702864, 0.006146727820842032, 0.00973037558558716, -0.0009721860405601064, -0.0026108909874981295, -0.00652649752325995, -0.006747512025522571, 0.013921372988805764, 0.009660538158587782, -0.016945155964694834, -0.0012867009026106633, 0.01231570104958282, -0.011794883855844995, -0.0007934696066072973, 0.019287335357063642, -0.012473391085270735, -0.019047534684754085, 0.021184979730682348, 0.017084613127993968, -0.0218725642088089, -0.017889050355822556, 0.016765535709120708, 0.01900062297549254, -0.013286356041993626, -0.017080678605680993, 0.01651524788159668, 0.014627847032499473, -0.021846516917520813, -0.014848376605466344, 0.020571981239725534, 0.014958113945811768, -0.011739902709473313, -0.011537891672328573, 0.0025547121202200897, 0.007107909054883862, 0.0014943257167626548, -0.005176101529592213, -0.001707545799346912, 0.0036653564282743594, 0.0018889618120097136, 0.0015538557141885096, -0.002607026571488714, -0.009357516609219178, 0.001486313824556062, 0.013564925572761928, 0.0021006514387459044, -0.01023861961587567, -0.005562809098020994, 0.0023961214573593693, 0.00653215266005981, 0.0034816881253862137, -0.005644171486205856, -0.004215623873228161, 0.00534889540906924, 0.0015552782110677967, -0.006826658480656186, 0.002125021093920719, 0.00925199111737585, -0.0060145162321610535, -0.011538090469929806, 0.007871135450972951, 0.012293565764127027, -0.004019035644903831, -0.009544962248625362, -0.005106292666713698, 0.0036569359043945077, 0.013194749439939401, 0.002060642072569522, -0.013801902426679728, -0.005475124626972508, 0.006859731889125926, 0.007320455427294653, 0.0003886176388106649, -0.008928904460348868, -0.00012888159137727524, 0.010398970813292592, -0.007112674697619167, -0.010225978579030043, 0.013202092735805835, 0.007239941116250769, -0.012708109519973459, -0.003438671598605436, 0.008152087691239904, 0.002293202464503666, -0.005151408769241986, -0.004346541153098526, 0.006624385050878744, 0.006940630429157466, -0.011583097886434253, -0.007394558476303848, 0.01677992911790132, 0.005188633556258138, -0.018482896881842632, -0.0015091147325697, 0.013697677627004318, -0.0028040311928290602, -0.0024514787211748343, 0.007276193159623946, -0.010404400580626309, -0.009753675514265838, 0.018118975050069888, 0.007420817731812784, -0.0177995604980581, -0.0006604648924602372, 0.012418688366907956, -0.006350409997250574, -0.006959496136425786, 0.009582060468641988, 0.003496719705548661, -0.008381988795907302, -0.0010086930275974536, 0.004616386943023599, -0.0012002556834480819, -0.0004687111540767661, 0.002319963259053972, -0.0022613231255860567, -0.001992455008592646, 0.0026396358979302453, 0.0011867231705412415, -0.0016276410009896428, -0.000576552023798482, 0.0016906218065615508, -0.0005083372843350897, -0.00394071376270004, 0.00266219574182531, 0.0057991517860470805, -0.004510011944681501, -0.0038114450862523326, 0.0033564610018163056, -0.0008619934861289083, 0.0011496244605494412, 0.0031485793703027835, -0.005001023717407963, -0.0007729327713628083, 0.004392922130321254, -0.0031177545589938195, -0.0017873547228077792, 0.004044216489008211, 0.003381551064766392, -0.0005399985909993682, -0.009743018399423752, -0.004932339654204211, 0.013359248715833837, 0.008125844295840843, -0.008405809241556409, -0.006515577483962382, -0.0012120420292659854, 0.0012611129497515678, 0.007697571828326054, 0.0037351944596043145, -0.008539372567380434, -0.0047982940549330996, 0.0053702926846003, 0.0016928702178801098, 0.0008945491572398974, 0.0021577018905268894, -0.008725144677588462, -0.0038786292239738063, 0.013483377681218312, 0.004614293280011415, -0.010659999868316318, -0.006711704500000793, 0.0012350187488623181, 0.008938299249448214, 0.008434217519655025, -0.007599813124019278, -0.012960241588701989, 0.00207247100801675, 0.012431580997159998, 0.002937014804542327, -0.010460652827511529, -0.002194232498749911, 0.010511773856976084, -0.0030974823122243396, -0.012853708215682047, 0.006381560758434346, 0.013058889716493587, -0.0045686931951935215, -0.007581997704444414, 0.0008373043553514545, 0.0009956193306325425, 0.0017419572237729881, -0.0012289149368938772, -0.003226282015519057, 0.008645024012151094, 0.0037406082377384195, -0.01585873226349984, -0.0034889745615031, 0.016826154088383588, 0.004589999575795733, -0.012347868231103414, -0.007777065616375501, 0.00774304674902559, 0.009667318317209678, -0.006371296745869785, -0.00727600392182035, 0.0059613056424795315, 0.002282989184473886, -0.0032850782970012824, 0.0016860974935152314, 0.0007809811328902466, -0.0031372614080424728, -0.0031480655582779267, 0.003010362805762278, 0.008474188374733021, -0.0030670712059457433, -0.009543386881850763, 0.0039417991313914534, 0.003763696368096637, -0.0042633688594103745, 0.0036939665550842853, 0.0027425360975169857, -0.006351984791424711, 0.0001789507528585461, 0.002711984934892849, -0.004120759116773591, 0.003779262018282511, 0.009280883898025467, -0.009864286934641326, -0.014097967053215787, 0.01577596357874473, 0.01563021523240013, -0.021277639268550162, -0.012383388607174015, 0.021888613370264248, 0.005197648162239599, -0.014208208009012055, 0.0027568247142891102, 0.001944205023621047, -0.0070945355849974905, 0.007566574584116249, 0.006346287237980092, -0.010160283969480542, -0.003658463808891478, 0.0069966982305123245, 0.0025232419207857895, -0.002525478391171583, -0.0031811306003891567, 0.0004064651564270605, 0.003954840215150097, -0.000831114156085516, -0.00402108595800859, 0.0015972387377522186, 0.0042113396161610845, -0.0003610521862054386, -0.005231026022920774, -0.0034916802331152303, 0.006038871852115269, 0.007930185994960268, -0.005834061367410433, -0.010602316980236053, 0.006106187530926146, 0.01135824232064591, -0.007942306504487866, -0.010305169357345191, 0.009648714356728367, 0.006029125379134131, -0.009334531094023338, 0.001199867378425787, 0.006913223760889242, -0.007064628917589081, -0.0030723144628564455, 0.007146620042761725, -0.0004735402358526765, -0.001973937081358643, 0.0012400991226262457, -0.004166189549966801, 0.0003373070236462805, 0.008443366105729596, -0.0001267919821968697, -0.01076978636629055, -0.004180435660011698, 0.010709941259238064, 0.009521973887923835, -0.006521396820498013, -0.010958761902927674, -0.0023277786131185862, 0.00652236771915729, 0.01309284087379518, 0.0011871377612375496, -0.020829931216905802, -0.006661058107231506, 0.022538243295470647, 0.0060949244524193084, -0.019506010889307136, -0.00039549042807317074, 0.014644127680865707, -0.007128546721379904, -0.010496964641043523, 0.01263535144345413, 0.009495606124409445, -0.011444756370726228, -0.010793110858469904, 0.0026715442983249373, 0.008544289738113605, 0.006188302250390475, 0.00033289503097131204], [0.0053920878269799214, 0.0013787738209257688, -0.011155162902558219, 0.004789455860043408, 0.019474827418129958, -0.008535144974765364, -0.02339101022293262, 0.005357400790265218, 0.01312505712384832, 0.009452624764181468, 0.0032464216055134464, -0.02438548439868827, -0.016115734287198296, 0.025671006925880344, 0.024573236666257624, -0.012073047613423399, -0.030651469177911422, -0.004225538038422846, 0.030549935393012873, 0.010019682415613455, -0.01961938549355496, -0.003768077739314358, 0.002099398969557605, -0.0038306322342444455, 0.010256887092691118, 0.0021562970660425843, -0.00909903564015483, 0.007807147441555465, -0.0024439190598920264, -0.01654909769984101, 0.013167826164492111, 0.018043090177455028, -0.013797658702719833, -0.01411825512559536, 0.002995691451526208, 0.008529041202425425, 0.012267660768148524, -0.0020103110840037864, -0.021236738445539242, -0.005566516203819722, 0.01883996179740873, 0.010931385539494718, -0.010164591025510232, -0.008631055073662661, 0.003152229383779669, -0.001995843974122837, -0.0007191644834601595, 0.01339282141646727, 0.001418553596873113, -0.016625817686090786, -0.003259235979052621, 0.01092193902581676, 0.005579968156281813, -0.0033188472196955484, -0.008457457139801967, -0.0008865031482834219, 0.010146672476766372, 0.0035170838728249276, -0.007220534821730193, -0.00818240008832498, -0.0004759610672581849, 0.013171176405120841, 0.007470774834656727, -0.012774126808788963, -0.008514534660476976, 0.004458024077632095, 0.005441398215679672, 0.008042970826582167, -0.004124222204086783, -0.018042329165281625, 0.0054241879104264985, 0.020290356691952508, -0.004834216294771646, -0.014416978729214458, 0.00023496738949810476, 0.005484824305588481, 0.006031615396620333, 0.0016594857448663347, -0.010946235633073545, -0.006608607043348255, 0.011910157611054599, 0.009135627721638943, -0.007304338942797248, -0.007200877057091675, -7.983000414620543e-05, 0.002335564838680088, 0.002724878457395139, 0.00034967818257646433, 0.004559934185489688, 0.001583744585064599, -0.016510326270056025, -0.007504816386604107, 0.019546934005339262, 0.01662738941534755, -0.0066730779040759455, -0.02588824878654828, -0.011512121889945087, 0.028344486356835914, 0.017827935751403807, -0.01883163453166513, -0.00901940013719791, 0.0015319002536209447, -0.0034634972383158144, 0.010662626809965658, 0.010323878964227227, -0.007795674759378235, -0.01205361338518032, -0.005849905812531324, 0.012566641035152265, 0.01564545040555123, -0.013615373370642522, -0.011918519734151806, 0.01412973865344533, -0.002399491657248339, -0.011944149019871444, 0.01804678701647281, 0.008238363907544816, -0.02776016424735314, -0.009132070981332301, 0.028063231342800362, 0.018292123470877154, -0.017446416990501555, -0.02910966157326985, -0.002921167676053901, 0.029566829950424485, 0.02496805313024631, -0.01583485729824224, -0.03448635682027255, -0.0025742423218147285, 0.02255848161738963, 0.013044827234035841, 0.0042568022387066435, -0.012259517158821443, -0.028887420079115947, 0.005406018247408368, 0.03845960249510871, 0.0029295775222850755, -0.033112168292476936, -0.010425269766043934, 0.022495894189521477, 0.012420423980666302, -0.015954105141119734, -0.004757140170433143, 0.01572670002737505, -0.008391206940713367, -0.01744449435931784, 0.016110630960810262, 0.015769675650458944, -0.011011417334126392, -0.009871656167637684, -0.003934518598948332, 0.0033943220140188416, 0.016911405112478992, 0.0013372038921652656, -0.016443757908728193, -0.006600445975936491, 0.0027654470056034178, 0.01420309984371729, 0.01159672749763914, -0.020322322973022004, -0.015244898251617536, 0.019794055842338818, 0.00884472121213962, -0.014203812443953488, -0.0010576608006745893, 0.011612105669383987, -0.0018529696511713546, -0.01671214490176017, 4.821721828498257e-05, 0.0243004130997545, 0.002150293885285502, -0.026099406290397236, -0.00010903970212862261, 0.02067072238926942, -0.006320401517617138, -0.012078337784149126, 0.010585374068001889, 0.0037180500047716836, -0.005777841941292002, 0.0016137818343993733, -0.005870571067585364, -0.000620869185968215, 0.013872704124208272, -0.007343022440316672, -0.011375545107155183, 0.018452946832050898, 0.0026103972777704104, -0.026711836120075487, 0.0037094400922607624, 0.027726009428806438, -0.004526041077306928, -0.0220609354113096, 0.0018412932262670007, 0.015112944487522848, 0.004090335579485918, -0.011564335901324217, -0.013720083446377151, 0.010010168664757641, 0.022355843766590177, -0.005808988230259408, -0.02359702166441528, -0.0005169063347346247, 0.017172320712605344, 0.0021729941075967225, -0.006884113851431664, 0.004378334544365739, -0.0043133190932042684, -0.012912425606756433, 0.011985832855439107, 0.013848178335755232, -0.010902612909272117, -0.004631938727622933, 0.0022667359092183124, -0.009187762989611948, 0.006473752812380157, 0.021400595812439485, -0.010133879252465634, -0.029796654637598043, 0.009194326967167524, 0.03326612224528531, -0.006173752940943808, -0.029819566605939176, 0.0022680941094251096, 0.020790499189667074, 0.0033077972555157643, -0.01140214036852251, -0.010877982484202083, 0.0046133075415463985, 0.016700129022033848, -0.00012693007336778313, -0.014701659779298791, -0.0021217233438668073, 0.003504600668090717, 0.0032098036098774305, 0.010315500060288784, -0.004909663014129168, -0.01757423964709292, 0.005051033812210291, 0.01470293326907778, 4.10112573536129e-05, -0.005598771980525492, -0.008517071913708388, -0.0038251704113462983, 0.014359401478114995, 0.010148539818679091, -0.014246224731230647, -0.01161869318549367, 0.009622814703543897, 0.006297442787905012, -0.0037247691122019857, 0.00588292442814033, -0.0009403256818746961, -0.019011046374047057, 0.0027227136355924757, 0.023360171482549357, -0.000623028683020551, -0.014851442567015689, -0.005588285433075716, -0.0006263161805461063, 0.01488644923332593, 0.013170859653796777, -0.023100004219279754, -0.01566258429161311, 0.023716402501448026, 0.007485455170492639, -0.01499750232038497, 0.003840442290472551, 0.004129081832326534, -0.00862531877579099, 0.00029527890672789367, 0.0051388179440546074, 0.0022951975963827623, 0.0010159450095009307, -0.005511917742746655, -0.005929977624512784, 0.0036159730294060945, 0.00842925234067392, 0.003679863028253084, -0.005925597410022286, -0.01181577756408038, -0.0020460545692817227, 0.01590641196865067, 0.009442347847930643, -0.014333828139859712, -0.00948020000303602, 0.008097100897002198, 0.001706201488030603, -2.7540069513542e-05, 0.009811636196353144, -0.0051170122043164255, -0.020545046379554028, 0.004438360794640673, 0.02556090240328999, -0.00041774119476890685, -0.021273228620737158, -0.00295902960047709, 0.010519517825075113, 0.004893703268339733, -0.0015875771074961944, -0.005802974300257205, -0.0012205753588290882, 0.005086259061054049, 0.0024685986302275587, -0.003258498232561723, -0.007471596585662259, 0.0024580968365777956, 0.01339152197684546, -0.003866951572025206, -0.0138510882061963, 0.007083670493450025, 0.00893611351045797, -0.011208025124335018, -0.004130430288387988, 0.014018952937247014, 0.002386537451380298, -0.011431582474938777, -0.003471284752736104, 0.0024101296759219213, 0.007184046337991417, 0.005734982924241607, -0.01150719605351732, -0.003807551664923246, 0.012125908480060734, -0.006164962434999661, -0.008128872350298329, 0.011873816341377992, 0.004169951728984784, -0.006994401113902395, -0.004546337414261369, -0.0011254106936724774, 0.008057112123428469, 0.00306701399011757, -0.010285696230124229, 0.0012172224420639016, 0.009041413269187518, -0.0065766145037635644, -0.005341092480470709, 0.010693283864125533, 0.0005708853173790308, -0.01353738741080125, 0.0036439869246776536, 0.014523984758953345, -0.004308260572109112, -0.013463642328761283, 0.0002674714376254758, 0.010953773987349596, 0.005423183936592994, -0.006398987417345814, -0.01033507694030419, -0.0018264535040603278, 0.01667008041355479, 0.013025093807121838, -0.025998392992082054, -0.022926037666523756, 0.0322752777578701, 0.02709509510320082, -0.025697719539094874, -0.024207652697152415, 0.006388525114074948, 0.01579204666815687, 0.010258319586927089, -0.004673262808403908, -0.009356084500583884, -0.0062858417501747595, -0.005309432823915334, 0.01468722339868701, 0.016858192606876942, -0.01825214904154229, -0.01560115958336599, 0.016657329569431258, 0.007042611138114084, -0.015042790919711044, -0.0020312999073191264, 0.021127804400311635, 0.003309138156026576, -0.035160785919798584, -0.003502014280213449, 0.04687003606849051, -0.0037934417851026216, -0.04661755398379322, 0.015123980898513677, 0.0355065526067726, -0.022220810301567407, -0.020869919785518366, 0.021976707914072944, 0.0073729546084218885, -0.017656380768608666, 0.0021786541612044586, 0.013842430675465072, -0.004295900192527946, -0.012903478587526818, 0.0010796185700586904], [0.0034556115414013377, 0.002263131228044629, 0.004325082223013389, -0.002128819987333688, -0.0026114071992220287, 0.004975484521101338, -0.007945747393992392, -0.007688936690461452, 0.015572575059366954, 0.00994069685509171, -0.016009442579766008, -0.007716637042152048, 0.010177088864961298, 0.002080062333520154, -0.002409789030169801, 0.0009610365562450742, -0.0025455757877891286, 0.0018859188090002332, 0.0027773878400952066, -0.0075379783805148825, 2.4689337312234236e-05, 0.010538134421152721, -0.0029896746965728666, -0.009209198319072201, 0.004566314617466163, 0.006875252099883173, -0.004391887110505858, -0.007037853897821183, 0.002491769913357284, 0.008666248285001748, 0.0001250427442823646, -0.007659733085964604, -0.0013481441052705786, 0.0026056796048605597, -5.814701099536145e-05, 0.002713197086761182, 0.002470086414652054, -0.0034958080663091795, -0.0026357407514905748, -0.0010637507540928945, -0.0003484440394463991, 0.008350929284614787, 0.0035993146874491538, -0.015348221892519578, -0.0039621697062626115, 0.019250127394018376, 0.0014801285274257765, -0.01822013092691594, 0.0012672661025226956, 0.013354404722965417, -0.0020971622679419114, -0.007586567600692026, 0.0014028557872486952, 0.0024454498696733604, -0.0016102715532779499, 0.0016920224959956513, 0.003530341845135641, -0.0028274918670621887, -0.004010244294536388, -0.0015647515160945686, -0.00035645149362965693, 0.009576385577347796, 0.007996014158683168, -0.01395840989077285, -0.01346817006447671, 0.00905800987834533, 0.012967470498036402, 0.0023227962898191967, -0.007219752620479518, -0.011738386333334343, 0.0003644974591241494, 0.014149176716993759, 0.0026606436123568656, -0.011417730557711642, 0.0008994120384385792, 0.007881370255819368, -0.008488051807493414, -0.005849168106558792, 0.012807480524604925, 0.005124504485258056, -0.009150161494304997, -0.004672056411293401, 0.0012658485222091197, 0.004201175208983851, 0.003494654820563871, -0.0036884240553342216, -0.002704198859806855, 0.0022325101814227523, -0.0005564065147501524, -3.0317583541895335e-05, 0.0028802067079882485, -0.0003453990594443645, -0.0035259236022834395, -0.0015239082971289703, 0.0038901303695644167, 0.0014446572280886207, -0.00527705481040701, 0.002904039029440021, 0.006779270365107618, -0.007030689023666055, -0.006430591648531011, 0.005585697611210788, 0.0044536698011380296, 3.515498343610243e-05, -0.0025337249016000813, -0.003841485849460078, 0.0003323779306393941, 0.003133856649217885, 0.0034238454675695603, -0.0012563816283592943, -0.007180228777975473, 0.0022027784766722597, 0.0075347938856924375, -0.0043157456658110055, -0.0036048138213155313, 0.0024105221315047203, -0.001319167086740322, 0.004129989245374117, 0.0027455515895976677, -0.010193605394006657, 0.00021026243668757424, 0.011894229554910724, -0.0042337739337142515, -0.009762158081064514, 0.006876870106641782, 0.006076262983352513, -0.00915506836252939, -0.002949626085700753, 0.011335753800173543, 0.0013034787066998144, -0.010322820911909588, 8.381049655534299e-05, 0.004326013891507589, -0.0028262568634694132, 0.0031726819548080843, 0.0063278470702175325, -0.006920810703862486, -0.008014897509973447, 0.005438207653246267, 0.00558643686940179, -0.0017644299972639742, 0.0005657524708053761, -0.00016309785415426215, -0.006101072145274025, -0.0006767639766053408, 0.005616088274141364, 0.001982446092034594, 0.0008531914208174314, -0.001285501622382515, -0.00642144279915559, -0.0017553344129703973, 0.005453510869801672, 0.0067661127797317335, -0.00017971554987522196, -0.013308284992560373, -0.0030888632827138418, 0.01841036677406964, 0.000572836967179911, -0.01790943202011106, 0.006851718236419833, 0.01242764339246899, -0.014330407387238646, -0.007311905880387653, 0.016450007336464522, 0.0055436967324711695, -0.012133067719804195, -0.004885781602662056, 0.004999448748597476, 0.0019448872099711032, 0.0007551850193051584, 0.0034507404876968515, -0.003582830347448855, -0.007734840296079265, 0.004704893293786148, 0.007870304536487531, -0.00524441893436037, -0.005550711412281725, 0.003941852647283988, 0.004243259358810307, 0.0001258748150419727, -0.0037454427350846614, -0.004090100979227107, 0.0014226240557183543, 0.0035965690740308648, 0.0031810133812681853, 0.0019417745891042396, -0.007783153423749894, -0.008087471899394613, 0.009889498389530942, 0.010343450182135212, -0.008334978060660372, -0.009522471199285499, 0.0035940931254431, 0.009328783237775525, 0.0017339622854394346, -0.009712960465458081, -0.003998508030134828, 0.0072194797326103795, 0.0022019979830462484, -0.001193992693339009, 0.0005922141952620606, -0.004633033257745728, -0.0009179798664550433, 0.0065510485856364, -0.0015192715560806182, -0.004468708955971225, 0.0044067902664905855, 0.0016362971187800688, -0.005619631227853444, -0.0017078319200236748, 0.00517168273497678, 0.005109844820861365, -0.004786679244352363, -0.008235518149277875, 0.005423279265351478, 0.006996637600676404, -0.0056831229503055865, -0.0007810575047791772, 0.003601029127305297, -0.00682699451482795, 0.0005012188981967048, 0.010791866916001553, -0.004049600823166886, -0.009168895528922236, 0.00502219678134147, 0.004458401290500937, -0.004281402699578321, 0.00040077227386713614, 0.004376443019390153, -0.004665257758334629, -0.005725282695292138, 0.007566285124522564, 0.005759218317524509, -0.0077156389998470935, -0.002652523397842549, 0.005709137419928618, -0.0019322298714425574, -0.003649587598538411, 0.00459637927313285, 0.002357793995343205, -0.0039974039934230505, -0.0017198796664454558, 0.0022493163938877877, 0.0022298723647390145, -0.0019621854571109736, -0.004238089145598981, 0.002645502439709308, 0.0068000046804345135, -0.0013033795627969628, -0.007818654673482962, -0.003516897399002794, 0.005396701679975928, 0.009021318869561904, -0.0002547177874700486, -0.010950524932487537, -0.00382804919226434, 0.009227093050189726, 0.0037517858298550524, -0.007808459394783841, -0.0002322901552099351, 0.008533282421517345, -0.003788702568220341, -0.00886471873298685, 0.006069243366572321, 0.005944918154915815, -0.0060758967770926375, -0.00014072247201084406, 0.004662075202287515, -0.005171382168493907, -0.0030109958085683675, 0.00638628522928276, 0.0022250456196454826, -0.0027619715971462276, -0.003657392952567288, -0.0030167525641486203, 0.007007177302005449, 0.0066233190127207115, -0.008423993902921069, -0.00475277469179629, 0.0043646859831396965, -0.0012137614528280778, 0.0031288983413946094, 0.004661194898592775, -0.008507140332470813, -0.0006531386878845464, 0.009093572197460122, -0.007448459923150104, -0.006751831311721003, 0.011763251851662845, 0.004427993941131175, -0.008953911383394651, -0.002981597690819942, 0.0024814576240797612, 0.0009626702788632516, 0.0030412639597163157, 0.0029707491373246768, -0.006219554166800997, -0.007406525956865612, 0.00698327283300249, 0.009258239947090003, -0.004285838306969256, -0.007986170940106353, -0.0011701798832144698, 0.006629828117517625, 0.004692083115667817, -0.00821220560911509, -0.002402736544624315, 0.012968340800838786, -0.002626342512779641, -0.018128002531105365, 0.003349791036620304, 0.019391336919670876, 0.0015060774908840606, -0.015105213197135392, -0.004917737146548846, 0.008587407346839167, 0.0008647151356771564, -0.003924150346028524, 0.007782488891913755, 0.002108053204897519, -0.013294369511100869, -0.002543896393743113, 0.011699671245885206, 0.00419803269432178, -0.005696470505957113, -0.0052216718666613085, 0.001274291039922534, 0.004956469044065654, -0.001676366517176398, -0.00524188773010547, 0.0044430904660727605, 0.007680184142061242, -0.0056068163964090945, -0.011009158048968829, 0.00497048661898952, 0.012527567496967514, -0.00501908225564715, -0.011592484194358554, 0.006800766520927836, 0.010205989495459764, -0.008773161649696668, -0.009301669600159388, 0.008511109832716562, 0.006908288451852528, -0.0052533531952939265, -0.0025102299463146023, 0.0009901209683537576, 8.49848721622816e-05, 0.0020930991388824105, -0.0029742139075415964, -0.0041819101481340056, 0.008308234218016958, 0.005676132514278487, -0.01032069271358851, -0.004706812944033727, 0.007731350779202938, -0.0004228401898170057, -0.004579796169331476, 0.00817678409976027, 0.0041465748695698875, -0.01487020068813855, -0.005414910453837176, 0.017631694057333978, 0.006322761452349029, -0.015778251993961424, -0.006968084939414133, 0.010078501611998891, 0.007991526909946204, -0.001975536682062354, -0.008482624214527697, -0.005266655091572868, 0.006746940379592528, 0.006493354072418078, -0.002423682220815078, 0.0006088917191696087, -0.002394375877236763, -0.0115151083054058, 0.005620695267428751, 0.01911268976451066, -0.008154612166086955, -0.020611525520648235, 0.010961655796934448, 0.017588848525753268, -0.011651708185794554, -0.012390461402209356, 0.008451216113713675, 0.0073310102499079275, -0.004045330932468523, -0.003961599909875177, 0.0012859419926513505, 0.0022989716063574095, 0.000736621617184727], [0.0015937695809166686, -0.004398514908950631, 0.015739766866726165, 0.009271172232274465, -0.01848435670796339, -0.011899873056773421, 0.009730203331118792, 0.009509202442582871, -0.0036497536192443055, -0.003656798843879666, 0.00509036758075792, -0.0007254958458470686, -0.010047966145708548, 0.0013774951353139346, 0.013340969687189497, 0.00042017532931997066, -0.011026646901375017, -0.0011327956133245411, 0.0016155090090687317, -0.0027173881792480203, 0.009775362294932003, 0.010839632176311871, -0.014568112329284897, -0.017799623821935107, 0.01161732585895918, 0.017886240223041094, -0.0092325285192952, -0.01158635589055666, 0.013900602532526287, 0.004549071159662955, -0.021846019026743983, -0.0006547184477176558, 0.024399918091583615, -0.0009076394624803041, -0.01883839078082971, 0.002728160408815959, 0.011045326680581101, -0.005719562182473727, -0.008142689696178564, 0.007550924567630757, 0.011190348478638463, -0.004058024990526314, -0.0156712151616184, -0.0056498351610018045, 0.016747329685911243, 0.015652667962887907, -0.013155985928036785, -0.017760590435399244, 0.0068095660716015576, 0.009825307295059437, 0.0011519244723383597, 0.002631497778241371, -0.011628150779980964, -0.012760845508914924, 0.022451801287473927, 0.017893600913245863, -0.02570367982711088, -0.017586271001095936, 0.01598930877584819, 0.009629125512362557, -0.00022126390404900512, 0.006454587416390755, -0.007137416798778343, -0.0235756263977711, 0.00016849714732974658, 0.031637267239072946, 0.011875456691267345, -0.0282993450671292, -0.016566006102081414, 0.02041497890806389, 0.01261057369302102, -0.014329067853342889, -0.007768836377275614, 0.009097553591788552, 0.0061014782120618945, -0.0014860398433636625, -0.004058416645133605, -0.006395021744167525, -0.0017131783338761191, 0.009239036386512078, 0.00859518828401993, -0.006485370160695224, -0.011167083430512832, 0.0032999170957485136, 0.007857915148829742, -0.0036358927991628188, -0.003248700646150051, 0.005565709107655736, 0.002671493640122145, -0.003946082883688222, -0.004827509364844145, -0.004376769165677565, 0.0030907137799293504, 0.018727582534808256, 0.004428828230301245, -0.0357094449682067, -0.010474630829400587, 0.04903243808682327, 0.00792363262664647, -0.050124074755682466, 0.0008889726609265444, 0.035813399493675194, -0.008507322496963047, -0.015621999725604654, 0.011271117877170219, 0.0032447621363461614, -0.00999627136882188, -0.0005799533574190573, 0.006098545067426924, -0.001508796797324595, -0.00011696946703357997, 0.008185718741998164, -0.007389082372478615, -0.015110441665593813, 0.014512275326322543, 0.01700306893243521, -0.018387411319518304, -0.014835738571882919, 0.01736448436787392, 0.012398380656784763, -0.011771364013669103, -0.009280950921704246, 0.0029985503768881817, 0.002138454287781268, 0.006351283944251258, 0.008221923407095377, -0.012121384746930091, -0.016028934714721145, 0.010840438973247544, 0.01591007915426926, -0.0036554735576652293, -0.007569194913309556, -0.0032161680849118798, -0.002052250262418829, 0.005177451932582334, 0.003797252245381839, -0.0048015371144903415, 0.002699319064062884, 0.006095124986108452, -0.008101145296002806, -0.007652686275423062, 0.006295309417694169, 0.0072374237382564505, -0.0017112638500730208, -0.007026596939061448, 0.0011049873456498395, 0.008980189975800244, -0.004333751593092507, -0.009687193688460435, 0.006966046486959509, 0.0037290416208752546, -0.007264950431853731, 0.008929661720747537, 0.006419415598938679, -0.020808214316878827, -0.004763837032138615, 0.022933318958642188, 0.0011501384636775358, -0.01283854241096426, 0.004490102225596355, -0.0027150984076525385, -0.009449557903432382, 0.012830786473275731, 0.01041044190485325, -0.011869238639007542, -0.007102892944678233, 0.0032558238019610164, 0.0017876944293535929, 0.006323878046751949, 0.003949829538808425, -0.012653908136961675, -0.009250021821277018, 0.013716074805744223, 0.01295036577055271, -0.00939828185413694, -0.015330017272329329, 0.002965442795641296, 0.0186421285576331, 0.000591569586122288, -0.024020111807849485, 0.0006526465014291515, 0.029577874829000997, -0.0028464370292563494, -0.032615062808808326, 0.00042472339038459456, 0.032764831777247684, 0.006209817189871281, -0.03141510588164701, -0.010671322317297054, 0.027731476656263722, 0.009218833575793756, -0.018126200082109103, -0.004394052169181078, 0.0018068613612998718, -0.00010921449502061288, 0.015384255725967808, 0.0032267417052069085, -0.024911966747538667, -0.005625867843773872, 0.022832747737909206, 0.007990034603247015, -0.012434029616478947, -0.009795802059570851, 5.1188650062361334e-05, 0.009863876786963878, 0.010085357221952914, -0.008454682808849553, -0.016337337874159356, 0.007421262039600385, 0.01814618847201044, -0.008548187831746781, -0.01656034267873537, 0.01196803896268081, 0.014497700916444024, -0.014813847235805106, -0.014361546756507075, 0.013722366790155708, 0.015608471239938363, -0.010399571297189922, -0.015144928544582367, 0.009568313518922077, 0.010348587189966979, -0.010786056309555899, -0.00225981857874716, 0.009481716719724902, -0.004866352058905713, -0.005259168353170683, 0.008565510989032375, 0.001988374390070098, -0.010976233046590827, -0.0009886221359819256, 0.013721111405750915, -0.0006467423026746419, -0.01292293185334109, 0.00567179009468207, 0.004693107916450825, -0.013382416240583582, 0.006671645944263638, 0.020392767068174625, -0.012055301647390215, -0.022858199063803594, 0.008077350018598672, 0.018087662180121294, 0.0006952367851318694, -0.007207356243018883, -0.0088176487181165, -0.002572743836279396, 0.013839940877882068, 0.0029311642411819043, -0.013826142274550167, 0.00487389733406343, 0.007192135247750522, -0.009076607280089119, 0.0031316397980478724, 0.002557017723639749, -0.009053897821520879, 0.006607684937934276, 0.0040767839220673, -0.007127972502693744, 0.009035504959534781, 0.000714296184430631, -0.01979454130700866, 0.0023257095289549276, 0.020750197352963302, 0.0017861047163916927, -0.014443143214618573, -0.007585461922215056, 0.008165229745004644, 0.009724717498225715, -0.004378829038835328, -0.008689210871352214, -0.0007344730576170034, 0.007294645487690007, 0.009486773199913428, -0.00604055486860959, -0.0174190472041599, 0.00397601796203406, 0.018660664041717408, -0.0016098627395255433, -0.013249329448932732, 0.0006424805864702569, 0.005530606350468143, -0.002001443739164592, 0.0013787839399965244, 0.005199535335095152, -0.00528408725961431, -0.008127631716470044, 0.0022381837902066943, 0.007756217847235089, 0.009729996432456693, -0.004370925990130889, -0.024409062239882578, 0.0043257471557901625, 0.030040120262031924, -0.012717018818888258, -0.020300636192199083, 0.023520347186788214, 0.0010671689194642368, -0.02458697902264813, 0.015080150446527886, 0.013151993594166125, -0.02064286301104338, 0.0005019418787949015, 0.017858822770886323, -0.005415596710774823, -0.012319605671719719, 0.001131323935792447, 0.006693685850345181, 0.004450776196858124, -0.002327590635938982, -0.005526690837876025, 0.0017001960381620254, 0.00312059902994323, -0.005690440320288672, -0.00035968487180443017, 0.010890868295130236, -0.0006563093061694679, -0.011628120630536832, -0.002069053098510916, 0.0045940757517422765, 0.006943418731442143, 0.007147252362400658, -0.006962802555082364, -0.014958241174972978, -0.0005820570875193533, 0.012304651640433335, 0.007468945426575908, -0.0014599307042354537, -0.00590936272345415, -0.009117942417176336, 0.0006628583070918586, 0.012174060320223785, -0.0016845186318785663, -0.006106864479519563, 0.009218353178361973, -0.003341326783057345, -0.012718202182313508, 0.005292251446973295, 0.003369905225983256, 0.00574860390891541, 0.014926149289766582, -0.02023354995740248, -0.02818318565532158, 0.02240983430350559, 0.026999153224448666, -0.010358203317463125, -0.016263271537127717, -0.0021683226288892084, 0.006765183334564143, 0.005398293960527194, -0.0011181048618333148, -0.004218469181398225, -0.005077293915110475, 0.006344384756414077, 0.011714569598535647, -0.009863868985380796, -0.013309896621719945, 0.007645244346606647, 0.009291887014127703, 0.0019547859526073304, -0.00719989730807791, -0.014124457587069122, 0.013181362728171633, 0.024527378859371726, -0.02412080390798215, -0.031822437590112856, 0.031405600222347105, 0.0335547869469821, -0.02855713315318705, -0.025109704196283084, 0.015265752087638371, 0.005889318445695322, 0.0011984264325043265, 0.016539852512829897, -0.010332502542617085, -0.03266571834333479, 0.007889507031138325, 0.03985152120771096, 0.001041813160462389, -0.04081540809549386, -0.008154013438649257, 0.03633810520460941, 0.008673190691227683, -0.025693093250828226, -0.0044645317259467895, 0.012043069126864312, 0.0019530964641725447, -0.0020863740851836256, -0.00390886526781405, -0.0009534756411981877, 0.006202767665119552, 0.0016927723061758403], [0.0005449503319890137, -0.006733910661148559, 0.003856656019003496, 0.004573271548390497, -0.0033793321563234677, -0.001743502849025495, -0.0016616261962798399, 0.0012088106309749026, 0.005500840230229106, -0.0030445837145366378, -0.004389467289865013, 0.005090377658011444, -0.0007968874415144787, -0.005105295466318582, 0.006123805457698374, 0.0040371565648016665, -0.007573463739690901, -0.0046747983465993004, 0.0038612389925857258, 0.007407258414669977, 0.00195811303032622, -0.010351074791561176, -0.005381203348014454, 0.01302735959418909, 0.0053019860689991, -0.01681318871223754, -0.003903070489304013, 0.021451081879754086, 0.0029688904552417697, -0.023335073577406062, -0.0029715665639704104, 0.01900179891796015, 0.004338539518812383, -0.009631880423880652, -0.006777123668405436, 0.0006071784540996545, 0.00839430906749471, 0.003181537323365489, -0.008112541376138491, -0.0016609583610694106, 0.00765166435682329, -0.0005126941616803279, -0.008555420650205604, -0.00031313325109198374, 0.009237052783363824, 0.0020648021604209995, -0.007494437242621322, -0.0006112294784284579, 0.0038580221356285587, -0.003875300594607322, -0.0006741065878106175, 0.00784494690551369, -0.0004257220617650435, -0.009490160502761259, -0.00023733209201918636, 0.00934032419501572, 0.0006653301963704863, -0.007649186943949417, 0.00037278484182508374, 0.004412990160270914, -0.0014359631320106886, -0.0009961974594779061, 0.0007304039399662118, -0.0008143037049478986, 0.001065768051696851, 0.0010932525584830088, -0.0021910991272416644, -0.0008337396575075142, 0.002511832205823273, -0.0006484272670174714, -0.0030386567845232136, 0.004433493949964154, 0.0031334476091171926, -0.008985148323557455, -0.00045700175879835256, 0.010931996157480387, -0.004982196917712083, -0.008080201157228382, 0.009122526462752304, 0.0015180321445008946, -0.007941467939006422, 0.004178106424275493, 0.0015366214415265702, -0.004952822343023563, 0.0060362341953727385, 0.002142538516710891, -0.009905508013380589, -0.00018230913096740345, 0.008755865555807117, 0.0009146285822366814, -0.006142507381407468, -0.0037825422971016795, 0.0054463875071520135, 0.008103389646769429, -0.005399681588055822, -0.012036749695668179, 0.0036279701478973874, 0.01315282480678013, -0.0013764442465827014, -0.010855204026349754, 0.0007653852337830272, 0.005643379501776905, -0.0007287555282044973, 0.001162147804324621, -0.0007235476186799629, -0.005332558753716574, 0.0029485260298526862, 0.002939742729403561, -0.003412601174820579, 0.0034343386113699107, 0.0005702621971576682, -0.00756191915581104, 0.003773375345289587, 0.00765019472301421, -0.0049336870622585715, -0.00626456713221686, 0.0004862952117932946, 0.005197540123187289, 0.005688817399584212, -0.005015784759917081, -0.007666733822010237, 0.006340065139659963, 0.004624452174022546, -0.00836478417336755, -0.00044872752485617014, 0.008542042444632806, -0.0022708301603107813, -0.005520886531015658, 0.004494065854680847, 0.0011646413199310143, -0.007697316488856435, 0.0015711648744481553, 0.01123755321146012, -0.002220656741349295, -0.013322883209966049, 0.0028229395702127204, 0.013336042340935692, -0.004735555090056291, -0.012050390768521803, 0.007035726813658701, 0.010089086158719021, -0.007890268603196625, -0.007652724267166099, 0.006504752296525964, 0.005526752221088232, -0.003895956539251513, -0.004770590347454133, 0.0022104462167447784, 0.005461156657725829, -0.0029142421608524, -0.006659677185767687, 0.0049962799232316545, 0.007065544397581058, -0.005730069162016849, -0.005536969218831351, 0.004409299329066096, 0.0023619411433255717, -0.0036124249481325303, 0.00015430975627167011, 0.004931277946076671, -0.00036501742564221535, -0.006400879697927828, 0.00018926964623194268, 0.0064217206069932635, -0.0029047595233792608, -0.006281127804993946, 0.008351321326694347, 0.006486337099896942, -0.012577485749529625, -0.0046348277466414945, 0.012061552886418065, -0.0008941691255752188, -0.007196598032765392, 0.007554889127621677, 0.0019406147108585376, -0.010565391946150401, -0.0002435683375034258, 0.008180908773643103, 0.0029393047421089353, -0.003985299496063374, -0.007736676779596072, 0.002573004445568894, 0.010622826500719544, -0.004325717759691206, -0.008177220450948097, 0.00613112393434206, 0.001127123072996013, -0.00553274484380822, 0.005549026136636721, 0.002729391513837112, -0.007917665219895035, 0.0005340964221473097, 0.006728921202254076, -0.0029746771556505482, -0.0046951758379367055, 0.004385999178483484, 0.002585812686768142, -0.005049715649400418, 0.00023954893162996785, 0.005195404119418055, -0.0035063607959080014, -0.004526748929328308, 0.006034846476372485, 0.002356556037254692, -0.006436642869599403, 0.0014951133287274495, 0.0035150731377884496, -0.006131871282415836, 0.0018504373440491459, 0.009412494333875237, -0.006126816905352224, -0.00879893638785277, 0.0068321949353038584, 0.00406961717912672, -0.005168707517447149, 0.001422624296717381, 0.003272721323283936, -0.004154867968602432, -0.0014806414337751178, 0.0041404380597251066, -0.0007564422355273066, -0.0035735459700548945, 0.003545877441733611, 0.00343562221431532, -0.005924836776853417, -0.0034906998002380138, 0.006239513078431063, 0.004405818646918503, -0.0044718852605933335, -0.00700994801530759, 0.00259576364940522, 0.009243264437056134, -0.00140599199438547, -0.007322276893715598, -0.00012731288837907525, 0.0012939317513946669, 0.0013931639565359201, 0.0037201283182367083, 0.00043582053009457735, -0.00334788514958519, -0.005719844709655805, -0.0009004696308460406, 0.010417371311217425, 0.0040044463037654755, -0.011118807520380376, -0.004131915035278958, 0.008414886558084849, 0.0033801808677745605, -0.00394199391379286, -0.0015630171432582324, -0.0009026363954175495, -0.0038976814191582004, 0.0037174643172810254, 0.010476363075374055, -0.003666403373577684, -0.011816754859838848, 0.002425665678686245, 0.00763955381499825, -0.0001077461937015506, -0.0035713534001366996, -0.00419040425478695, 0.0017834895529181259, 0.00821754734665352, 0.0004655616658003265, -0.008866057590860097, -0.0045594905284993105, 0.006646410380680704, 0.008226086940131603, -0.004418046891006113, -0.008701035640885584, 0.0039968753415911724, 0.006315592759353002, -0.004562090363644114, -0.004652228412385691, 0.003016904837768343, 0.006204781032803454, 0.0024630723014962145, -0.00930887842929031, -0.009316594447573908, 0.01089801166520163, 0.013206758572190213, -0.009455075587908021, -0.01238314018561326, 0.0049926855312284225, 0.0087216057300487, 0.00028233423372293724, -0.006671677828262511, -0.0029387794657884385, 0.009866338991064028, 0.0027787853351043004, -0.01652417374583972, -0.003050619916680931, 0.020646265470907952, 0.004678176489410185, -0.01910610306408478, -0.004284710769680072, 0.014450708147895909, -0.0005539782826433168, -0.00986603585893355, 0.006764898066214224, 0.0052622561776099145, -0.0082082087499551, -0.00026775902246166817, 0.0026015943723780707, -0.002298274035979302, 0.005315350276732798, -0.0006722190936205275, -0.009247542257484143, 0.007137541669443378, 0.008085830790396691, -0.010565231596987997, -0.004397599261377696, 0.007329248623168205, -0.0004106141697906114, -0.0011987644680616586, 0.005408399599238183, -0.0016183154516433802, -0.007923059059763203, 1.2914173224184283e-05, 0.005716250865730426, 0.0016719911367863577, 0.0001820055834495368, 0.000628466052106454, -0.005886744452789045, -0.0063655504062431634, 0.007326610580669156, 0.01087926221767124, -0.003934106155460691, -0.010020131936805874, -0.0002114188113447029, 0.005431661944291143, 0.0011418593889010358, -0.0035486592987775943, 0.000574526376490339, 0.00716071551461937, -0.002502989472622284, -0.01091633850912342, 0.004191302954865262, 0.008545099369078001, -0.005742218633866897, -0.001690923654744742, 0.005462957947172113, -0.0025610572574378113, -0.0014852114738457996, 0.0010939152843080658, -0.004794708050591066, 0.0026992339368665306, 0.008718124118796338, -0.004623316870516438, -0.007297792051207924, 0.003588768928337113, 0.002904291541847518, -0.0006792305462896867, -0.00021954108540180235, -0.00207512597548239, 0.0008653238084931063, 0.0026830802472501284, -0.002576102991163975, -0.0009775764367603653, 0.0026776299414070564, -0.0012411313337545116, -0.000995989300111829, 0.002331712980113211, -0.0009550625099980589, -0.0023545006468323093, 0.002431587896360218, 0.002135365768554662, -0.003837974852264148, -0.0013561198855519079, 0.005508018236698573, -0.0007330172445748075, -0.006794508304112415, 0.002646808957246945, 0.00609080690191833, -0.0014446930606431744, -0.0027054496182690214, -0.0027965333485271554, -0.0011750457335345423, 0.005423062085089889, 0.002082283972154142, -0.002089404412222329, 0.0010619835792504998, -0.005426324437266748, -0.006045141313284505, 0.010496140038316481, 0.009611901132852478, -0.008899500500652772, -0.009587619165417772, 0.002823527916710958, 0.005767140268228204, 0.0023667785441444794, -9.71639569747381e-05], [0.0011163311292754414, -0.003463062070186201, -0.010981447169548506, 0.0011738075230069856, 0.017957023803715944, 0.0007905755458924319, -0.0173329554443716, -0.0014647791910629045, 0.008479883029081314, 0.0032958721815116963, 0.0015776857225641935, -0.005202875872975528, -0.00555655149665019, 0.002079266732897778, 0.0028099970522207605, 0.00796811912673453, 0.0012553359170010743, -0.01774887526558299, -0.00303887628786648, 0.017923886652714945, 0.005501158833033657, -0.00934727839898802, -0.011484964168911501, 0.0015821948361095664, 0.016052214589694316, 0.0005704053887365685, -0.012339884886704632, -0.0009734112608008084, 0.0022322186510275763, 0.00290152396419265, 0.005557903732098826, -0.004093587563147615, -0.006249531193587983, 0.002042998908003697, 0.0026802812603064262, 0.00159275819897015, 0.0006514908878401011, -0.0037093643836111825, -0.0025394447421444367, 0.0035084549149533547, 0.0033932937129903234, -0.0015474416050191733, -0.002516976855801839, -0.002239555576687924, -0.00046172958278544287, 0.006924839483269223, 0.0032977676410121722, -0.009278756764037527, -0.0031804412898223076, 0.006985671380354419, 0.0011444575529065467, -0.0020739443445287, -0.0017117817958256629, -0.0005590911530360705, 0.0069187815206826556, -0.001975608841558753, -0.013167056858222037, 0.007160542759766137, 0.01578836263087858, -0.00922399440580847, -0.014402077357612444, 0.005839136025074538, 0.011255053702673542, -0.0012200994956110076, -0.006504618290026186, 0.0003556425912037593, -0.0007277650433016795, -0.0023605456864409582, 0.007549511279732407, 0.003334253414273661, -0.008587351698717431, -0.0037902934083439196, 0.003325989513768118, 0.0076189401012741135, 0.0017526743258492214, -0.013594709416299616, -0.0004250544200984285, 0.014026928209042739, -0.006405619147850145, -0.00504505426456391, 0.012386619189416888, -0.006401738673777536, -0.011846231631438713, 0.010584867456887593, 0.004139241196206553, -0.006682279689298297, 0.004982696565617847, 0.0015309062225795029, -0.0072983573057899135, -3.4592519236754243e-06, 0.0010760430111699556, 0.001996871620011411, 0.005970013731558202, -0.006280594995634024, -0.006147782779167369, 0.011588977910650892, 0.0009674281994753673, -0.015017396207846792, 0.00228474543770817, 0.013917471336214533, 8.364163648088598e-05, -0.009288193660479779, -0.004955725043377834, 0.004739511116096488, 0.007061208115247413, -0.0021988099932279096, -0.005125801927701521, 0.0006048301609315591, 0.002715837277529479, 0.0006234271119505007, -0.0030367635169979714, 3.6895077643676968e-06, 0.004631351315356807, -0.0018658493016800643, -0.0040147608260122924, 0.0006237480115274766, 0.001181119091264859, 0.005491378016580286, 0.0004913032495042977, -0.010823111894058055, 0.0008583258072195473, 0.007328896234602925, -0.003999886380622908, 0.005411297401629838, 0.007431137860005797, -0.017535105085475372, -0.010408689484289342, 0.019137901038187483, 0.011240172336143016, -0.011311650468778115, -0.008060811696122591, 0.002809674577394384, 0.0023339830219044995, 0.0009633537067086969, 0.0015485588503072177, -8.969091100429708e-05, -0.0013380828494530864, -0.004167922772260375, -0.0012062289182767708, 0.008631460016949822, 0.0031875742446756013, -0.007063450887689969, -0.0024524368418369635, -0.0027126176762870945, -0.0012305304719473836, 0.013194123432890935, 0.005145609292361951, -0.015038957810972918, -0.007060524301669658, 0.007884377071746254, 0.008482046277059948, 0.0015899856886658174, -0.010847359470956478, -0.008462730362030556, 0.012158501725665715, 0.011492202639282733, -0.010476698773153385, -0.010096868007551312, 0.007086416117040044, 0.004413035922904834, -0.004804754205622806, 0.003456926906661178, 0.005307658039336957, -0.010980572196210663, -0.007537885964801156, 0.016154068358875055, 0.007726874409378385, -0.016273877147571888, -0.002956612634862325, 0.009887667114829904, -0.004667152966936127, -0.0010696924687568481, 0.009852247526291744, -0.0032763899672965807, -0.01025852614882795, 0.0018780661533502113, 0.00811761441634785, -0.0002751054655776306, -0.005945335434490173, 0.002548313044937881, 0.003936640962680632, -0.0062514910761512004, -0.0023822282665433413, 0.0072594692367988645, 0.002904435734261807, -0.006243288196992258, -0.004705042803604018, 0.007166968836451608, 0.0032145384474640305, -0.010788463777101407, 0.003583551040643552, 0.0131761219392736, -0.010454994489777183, -0.010851160762790503, 0.010772721757878044, 0.005210165733564948, -0.004972987525187043, -0.001218558526327684, -0.00052680844709587, 0.001910760180407557, 0.0013819687907460148, -0.0045642300659582405, 0.0009032255000273807, 0.003859734149553695, -0.0027607368412776653, 0.0008880562572980089, 0.0037965836195997618, -0.004392967618883043, -0.007071420807143484, 0.002590990327460165, 0.013632903030684353, 0.002369512012066849, -0.018379187240121393, -0.006400952744089861, 0.015307243985743794, 0.008396685292574306, -0.00647036662624132, -0.008614619615879239, 0.000502102247961443, 0.00665354343485507, -0.001906452222536195, -0.002830312903379645, 0.006687241026076444, -0.0014534312207356323, -0.009279973194509857, 0.004864447469817885, 0.009353169706553897, -0.006539271733366068, -0.009413671679826128, 0.0064087566529686234, 0.009156706346577687, -0.00467114832205839, -0.006288698753204426, 0.0006265682123907756, 0.0013402207491248629, 0.0051427337680031195, 0.0017631303343769778, -0.0076483785477452024, 4.6123584073922384e-05, 0.0017778980825702009, -0.004753947051808382, 0.008964435129390515, 0.006354800406992102, -0.013641651974640397, -0.002190118014251667, 0.006728402322126912, -0.003029654082039055, 0.005001010491379894, 0.004044900002145845, -0.011250691520665077, -0.002343479554490528, 0.009496824882152796, 0.0019201922098712526, -0.004563060734796223, -0.0016423276630423596, 0.00018678163400247857, -0.0019244066260430959, 0.0042319874752273345, 0.006616105769678084, -0.008330576117875937, -0.006439490676813448, 0.008607718146510396, 0.0004104931772637207, -0.004995279699516795, 0.006022472329206486, 0.0030023540239000075, -0.007870952673629434, -0.005178276187085339, 0.004989072505941203, 0.006670257214518922, -0.0001084447805919618, -0.002659544521505203, -0.004667543692465531, -0.004830375385738434, 0.008179193063112065, 0.010085588121748775, -0.008720059665564646, -0.010059712339365538, 0.005894024660290773, 0.005574701561886713, -0.003192320530550127, 0.0003608990101763997, 0.004125404178972102, -0.0030030563325576876, -0.0068729732897269274, -0.0011134328443909419, 0.006806689330174949, 0.008652863579667425, -0.002597471518182735, -0.011511025324851643, -0.002629315213867542, 0.0067048211285157125, 0.004702257347766208, 3.4574358713158025e-05, -0.0025152759192802335, -0.002452906393910247, -0.001075244401462244, 0.0020650129703307847, 0.003456986717836794, -0.004399393719860069, -0.005300017898517946, 0.008584302622689492, 0.0077760858665943105, -0.007725611275334691, -0.010313326428795688, 0.0006994149116622298, 0.01203881257823239, 0.004237594742636429, -0.012497997824434214, -0.000489672038872087, 0.011650703173401583, -0.007623654189710197, -0.00997349569592489, 0.010398036084329923, 0.006902121967434904, -0.005565952781576041, -0.0006614245703856683, 0.0009254235277373311, -0.008201900429824504, -0.003063157840675766, 0.01488022055122294, 0.008648166992125278, -0.014059022737374196, -0.01017628118571269, 0.0056618873252214826, 0.006055972117536463, 0.004261572027433451, -0.0008668953691877004, -0.009668763267648746, -0.0021175377074964374, 0.010548871913537376, 0.00425605944190215, -0.010222194841588372, -0.00686505827198839, 0.00838368986168673, 0.00715434721653369, -0.0018445778067537324, -0.002456995457821301, -0.008594897882109135, -0.003419555371514104, 0.017094546087903548, 0.003499095579398157, -0.018641300959102138, 0.00256296053868815, 0.013588954648085991, -0.007715777660588891, -0.007305668930195525, 0.00727083330334081, 0.00514014779416085, -0.00392900074464553, -0.006050111347236243, 0.0022374861478332074, 0.0038668044892734114, -0.002281446464004274, 0.0029305386679302618, 0.0005532043189952554, -0.007443966515711608, 0.004258659574175943, 0.003860674639143836, -0.0087596223664712, 0.004281971813693166, 0.009148510667230911, -0.00996060027556302, -0.0046798725880397764, 0.010978217381229206, -0.0035459091964078512, -0.006790045168190408, 0.010319978488548195, -0.00036443097523341465, -0.010353856224771685, -0.002319588207076019, 0.016559341145760492, 0.010027610725245788, -0.0233814891271685, 0.0072376139673790835, -0.04580319603697022, -0.01796514344106774, 0.1443107554430318, 0.01162347579914709, 0.06531382793877241, -0.21828714580027753, -0.6659403341900865, 0.7355886119105373, 1.0420693425527987, -1.0311809558238425, -0.7507960160789087, 0.663662891105611, 0.24445204294769696, -0.0844167161847659, -0.020746694230479465, -0.1646661791880843, -0.02720596716911615], [-0.005495652134183602, 0.02496133198870704, 0.013479279075357859, -0.021297067204216376, -0.024097022999845, 0.014079271436283675, 0.03347603290929123, -0.009068823362985989, -0.030372540646358994, 0.00039989820976591914, 0.0173440062478152, 0.009896305802986016, -0.00032076549447595214, -0.017941437338126646, -0.013935756469106948, 0.023298375140842133, 0.019073749755688714, -0.025963905333917656, -0.014028010267067945, 0.023563094363329665, 0.005589946847629954, -0.015091124495558394, -0.0023080948040490722, 0.004998868080237325, 0.005219569832955865, -0.0008448853976142762, -0.00582594430018496, 0.005427828006022682, -0.0038718889198842664, -0.012478083358210905, 0.018624015334539158, 0.014538961522258018, -0.024573501607039902, -0.012860164580680157, 0.018132873705004843, 0.013200192976310168, -0.009113161315577972, -0.015858255279389305, 0.0038358161490926372, 0.016983829315333904, 0.0025084085547942263, -0.015921696654827386, -0.014209209655113665, 0.014571494213311205, 0.025217084016122653, -0.010763231144086295, -0.026335201081205933, -0.001647173450053165, 0.01851747805107999, 0.02276081113651045, -0.0115999528898345, -0.04095682994769634, 0.009413715984199008, 0.0432100812339624, -0.00484543459238887, -0.02870035516589477, -0.007128081518722906, 0.0075512829701719075, 0.01893917680524458, 0.010495647169411069, -0.01779854556618115, -0.021665691337827774, 0.00041129339414484444, 0.025449313811595736, 0.022334358958657777, -0.021566656394027925, -0.03400003279542332, 0.010909520364654514, 0.026364984356506405, 0.0017775346084657542, -0.007255576847885722, -0.008173740220941684, -0.006401483882467338, 0.0021225025672249338, 0.005329390963758248, 0.013724411044625281, 0.004292411914291343, -0.02809008455747176, -0.01047908447634257, 0.029041584418467783, 0.008969620794600345, -0.014161890738633939, -0.004254679921273426, -0.005461433564781442, 8.393333257035234e-06, 0.014539041137851351, 0.005675779205930029, -0.008864084127866052, -0.014767902367245178, -0.001956884621178343, 0.023935629019702708, 0.007080210813689772, -0.026592121236963293, -0.004881264891603603, 0.01919878291642989, 0.0004991664657922178, -0.006391162447085562, 0.0017612621269788202, -0.0015576572984273276, -0.0015695504812162113, -0.0005900962540431162, 0.0012457310533969404, 0.006931926261090406, -0.002630013018105372, -0.006961376633584323, 0.004818233203269707, -0.0036156487129608613, -0.006132501711358642, 0.018059586433057193, 0.007289966478574335, -0.024247661272891352, -0.009941740410888252, 0.01788411716601243, 0.013184531584354148, -0.0083221730842684, -0.01416824781100706, 0.007132426029910034, 0.012219916947765459, -0.013691480224206458, -0.009947796729215301, 0.017091579458854794, 0.008477106106124246, -0.010682961194371446, -0.004965801694833547, -0.0001908815359113157, -0.001313640793346745, 0.0053007487426231965, 0.0046836995907937416, -0.0003995214514856062, -0.0006583171390017869, -0.010509691568543858, -0.005123894057803899, 0.020035748505485, 0.002352494936894864, -0.021908844123987335, 0.00941257129281974, 0.014490971483576852, -0.017751653614110564, -0.003252632363420235, 0.011565206661192321, -0.003978221692846266, 0.005725471136838834, 0.006434942522853083, -0.02026526836635855, -0.009534389656250091, 0.02310076288023176, 0.013685395160375896, -0.01757986761580638, -0.012952458758067727, 0.011327885972351862, 0.0071349098320733825, -0.006511165768375034, -0.004923591987351315, 0.0009904133224392085, 0.01056891856995883, 0.005862112501042946, -0.01571751370550474, -0.011753526662273736, 0.009990407842847165, 0.013684639736269238, 0.004644676571759916, -0.010850882446933994, -0.014508559252531528, 0.005584802955368017, 0.008698416555821365, -0.0008248231158751694, 0.008882190597525708, -0.0021374767103913336, -0.02270565363223697, 0.002922329796080621, 0.020489414807643675, -0.0010972947999962762, -0.004516616004154932, -0.003015247608010774, -0.011589306203775854, 0.006926421005626202, 0.017050352396254097, -0.007072281868548743, -0.01344154680195125, 0.00352501420918324, 0.008808792567622101, -0.0013002980956034393, -0.0061940478104434375, 0.003197419666326697, 0.0025816601054154333, -0.004141704999623727, 0.003453601940121581, -0.0029178850508399692, -0.00815638487261462, 0.01677255216389261, 0.007314438179196739, -0.027114019871678045, -0.0022140247428481755, 0.025056692620139515, -0.0018354806942875203, -0.012551956141312992, 0.002580633912203305, -0.0005504297989157498, -0.003020805632625567, 0.006815059139041304, 0.005806967331759426, -0.006507224938676143, -0.007990189997886534, 0.004088634676251564, 0.00394674396948765, -0.0021862861112494983, 0.005764206946637631, 0.0009743944916282164, -0.01215798825289123, -0.0013011772570076848, 0.007764580048995341, 0.003154097639477882, 0.004303807365431378, -0.0022464395669422356, -0.014082856332768588, -0.005064220109685743, 0.01520950184502328, 0.01362319062501794, -0.009865156387712716, -0.013809326393269608, 0.004530155536089195, 0.0057051648261222145, -0.002799707804412341, -0.0011309371134896147, 0.0029852617092243593, 0.007733995981860552, -0.001178789082316574, -0.018013315350572538, -0.004198817384189722, 0.018977381806999996, 0.010127634993033943, -0.007479057295698911, -0.011472535432310638, -0.00838566532933678, 0.006203059722190611, 0.018967796868231163, 0.002132081513045253, -0.01959414717862322, -0.0074076676821860435, 0.0104553293514485, 0.006957458813037899, 0.004355559938497988, -0.00380179418845626, -0.017687478467778035, 0.0010838585418165626, 0.022627870445591742, 0.003340246549420488, -0.016146074040199763, -0.01261990800546614, 0.0009462207325002846, 0.0233463268774799, 0.013876681334578492, -0.027268357656112224, -0.01671482316180707, 0.02012432634474144, 0.003445560817194427, -0.006286669103135219, 0.016530158072089976, -0.0048285883192018845, -0.027628544929316746, 0.006840928931368978, 0.022101931277172696, -0.0013320127938621744, -0.006622662875260168, -0.006492351218122472, -0.004143260647699952, 0.015285627583054665, 0.0008117070049841228, -0.026209278610681622, 0.012529087142695709, 0.03492430986410999, -0.0221784494412176, -0.03161233713875947, 0.016671609886972173, 0.013109011172895361, 0.0025827067467078177, 0.009033006268064634, -0.02084075116537768, -0.01858153220335316, 0.023289706943074074, 0.011046677873107189, -0.01015747504172061, 0.004000217525457466, -0.0039756548011792275, -0.014238930933115583, 0.0054734342424622925, 0.01472747653521905, 0.0056939792789486385, -0.009235488996547468, -0.017092959964956807, 0.004932178079778638, 0.016701489816243878, -0.00589940967339452, -0.005460120603889234, 0.010093774194239184, -0.004320045344643477, -0.012020833516223062, 0.0032140107736636074, 0.009676439091382516, 0.006326160130359573, -0.00715919826452496, -0.015152229481352444, 0.006938437101428033, 0.017039865478737065, -0.003653012505802463, -0.013001100286127422, -0.00786473354920555, 0.007744386142503248, 0.022660657636900915, -0.002071778313348689, -0.031413083770433115, -0.0071371596491385005, 0.03268194859169592, 0.018696759057224177, -0.031859099012720916, -0.02626471173128704, 0.030564594669661584, 0.026401970322664368, -0.02488068076771465, -0.021244584433343674, 0.013502418860498019, 0.014322070150648639, -0.001437299509596538, -0.008176970686003232, -0.004787341665324154, 0.004822799718158661, 0.0018729435058290993, -0.0056903820403162745, 0.009257265556905508, 0.010011733502988679, -0.023072252175764838, -0.013949869377190253, 0.030385373239680526, 0.014454520072973716, -0.02439668302150728, -0.013630642242213328, 0.007867246563128098, 0.01417186766487892, 0.008615174924177087, -0.012325036683871428, -0.016529730646449328, 0.0028649700921165363, 0.014832817682062394, 0.01146504521943665, -0.0071582313303857805, -0.022588988094734506, -0.0016289509499458708, 0.02604585964701234, 0.007269702609927986, -0.02262243806939602, -0.008441675885955739, 0.014949641433848334, 0.0073410473710912305, -0.006161319704852342, -0.006661003940699567, -4.9875431008049136e-05, 0.006119956138251921, 0.0009914615621927463, -0.0027357649226222116, 0.002030633018820309, -0.004639459329917977, -0.0037157107178113122, 0.011377793324541724, 0.0011535529339934516, -0.011224961462194413, 0.0015524420366741323, 0.005941977966746406, -0.0011675605539651563, -4.187987108209522e-06, -0.0012481306668106606, -0.014141494641846457, 0.015137944003250926, 0.030904106856744308, -0.02782797946448741, -0.020075641449508595, -0.039451449475593175, 0.007549186958419704, 0.13782496345863451, 0.0005612691455171709, 0.06784426516536571, -0.22361523667763727, -0.6584730703430294, 0.7430136979154767, 1.0276392552598188, -1.0295852189246546, -0.7405135768719262, 0.6581196469166827, 0.2423033793462323, -0.08265357538801077, -0.02174861586179202, -0.16309232361106435, -0.026616272443538883], [0.0021327851368939527, -0.021961260235231785, -0.01617575338092914, 0.02148351913082361, 0.022915205152832734, -0.015913130637184497, -0.020085713660623658, 0.006243512070887226, 0.0107597792838841, 0.0038213449144870112, -0.0019244463087736813, -0.009018209820125755, -0.0036959742053109352, 0.008249987072497137, 0.006009636065719651, -0.0038442396322190117, -0.00401718955581611, -0.0007760802209624178, -0.0032064241191780314, 0.0033356968006864477, 0.012632417892916392, -0.003999546372753876, -0.017287187164985507, 0.0033773962154604008, 0.012964659238239152, -0.0008215705709628367, -0.003755883357892769, -0.0030339045922809773, -0.0022231294263548185, 0.004852425065228519, 0.0017068298865817386, -0.003010303632340065, 0.001862194383263855, 0.000662506849939304, -0.0037336364531952307, -0.0010214817466919772, 0.0019178965697017433, 0.0023970110556042964, 0.0029291176686687733, -0.0014081245197861956, -0.008541614219830752, -0.0013188889521279085, 0.011834115182591172, 0.002249262904037194, -0.010500901064267314, -0.0005969114145939827, 0.005163620370056851, -0.0003902794031598149, -2.7716366035603632e-05, -0.0015502734533936477, -0.00011254337532110102, 0.004010906940186053, -0.005233217982569652, -0.0035604658099585903, 0.011235950133663578, 0.0014168160219390764, -0.012505315149493665, -0.0018929716590181632, 0.008195540598870425, 0.005341206070723846, -0.002147118633821537, -0.00688220226042905, -0.0011558450195724096, 0.0038641022334375157, 0.00040353976487193365, -0.0004026217370888983, 0.0024179593185109836, 0.0011329841608172485, -0.005071829280136988, -0.0038596760784120835, 0.006760489937703548, 0.002540980419862492, -0.006411203414347734, 0.004545099904343504, 0.002284215114106952, -0.012815762507865291, 0.0044267888689729275, 0.01617812380528992, -0.008698215412266537, -0.012674753935877124, 0.007475999775384464, 0.006812567181687048, -0.003419438954024206, -0.005409790212239799, 0.0006251220022727619, 0.009526429803554006, -0.000276957907513356, -0.012649952286263345, 0.00150331429320229, 0.008442799162595204, -0.0026770393066369936, 0.0015550187983292738, 0.002153195731629686, -0.008912132460019664, -0.00045264681185064673, 0.0065393381573045336, 0.00014111969617694627, 0.004031818690571916, -0.0020323515701787254, -0.013879605546209225, 0.00331264215792567, 0.015123621138298135, -0.00047538241306860005, -0.007674872884121509, -0.006171766138568065, -0.001608780224877108, 0.011578032728063967, 0.005977502665156627, -0.011115164292811522, -0.0053646924571027575, 0.006515492896999461, 0.00523411556668418, -0.0039175066314286675, -0.009048065649020345, 0.005594327646813495, 0.014309422023074876, -0.006852422168769544, -0.016806871301959955, 0.0027988961212553395, 0.01600983996272517, 0.004000251324003822, -0.014131227877030021, -0.005351519185073646, 0.01183370488718299, -0.002565903097447945, -0.007886376021299013, 0.013484583592886727, 0.0023314923739160332, -0.018176439793610655, 0.0027430785002467905, 0.015160405700772355, -0.005618841097253374, -0.009999012882554146, 0.006132626032322158, 0.0061737025482670954, -0.004557009497271964, -0.0024353015406903926, 0.0015574370531748142, -0.0016893085888674908, 0.0007331615270095094, 0.0040741845300536995, -0.0002115872112727114, -0.004902291723353147, -0.002081721606606512, 0.0075328374598191885, 0.002586818924699386, -0.012090073978623602, 0.00021329094773976176, 0.013894755920603895, -0.003928022928648575, -0.010841104443988392, 0.005747552562200605, 0.006425226850377572, -0.005269060616359739, -0.0033404593538352663, 0.0031402897268507832, 0.0003659816018466563, 0.00025148754951352745, 0.00248958356243172, -0.0036815616019343408, -0.0017491404023137996, 0.004628144718744287, -0.004221555342598779, -0.0011834875994089162, 0.011471457818068402, -0.005937091744845677, -0.013902714022573589, 0.013659871181465824, 0.008734271148257993, -0.018414215596372824, 0.0014840025243083037, 0.01796999633431763, -0.010519786024615686, -0.012864974883029514, 0.012824753254466605, 0.006359244295639837, -0.008268185314257439, -0.0021620296305465943, 0.002210280176702591, 0.0021581309879236325, 7.896161952208801e-05, -0.00581368828498045, 0.0017094350550075988, 0.010409027988925736, -0.004226430965176743, -0.012398950424326398, 0.005063966207511064, 0.010262149477096994, -0.004314691340985407, -0.005892875645765206, 0.00262443674648984, 0.0022020032872957515, -7.235237905410486e-05, 9.363907983289395e-05, -0.0029189044740461196, -0.0020935063445878307, 0.005056279659317162, 0.00396022284961972, -0.004997805079128012, -0.0047642785022023485, 0.0026736162626559566, 0.004707123023381248, -2.398328934125841e-05, -0.004742056113127153, -0.0003897699227479027, 0.004149205938014084, -0.001912672756503343, -0.0014600873479561464, 0.005260367195003301, -0.0023573730085759683, -0.008404077166919419, 0.004474625403931858, 0.010959741875058682, -0.003728646219118094, -0.011628877508765232, 0.0011255906941977228, 0.009353908321982358, 0.0024878161643364545, -0.006831507383076141, -0.0065553605013071465, 0.008991217224898429, 0.009227576400422294, -0.016283272262601328, -0.008501866503395987, 0.023032477601108537, 0.004985046799936896, -0.024050041630008897, -0.001682086768804025, 0.019752314646709814, 0.0011186472917920527, -0.01382877732495921, -0.003557697460984565, 0.00869179270262729, 0.007492153904733519, -0.004620382087800434, -0.010666505915815154, 0.0018626751022324936, 0.010481070848975557, -0.001450703992721375, -0.005439166790899202, 0.0036015758397909925, -0.002101258877413711, -0.006562389193566878, 0.006741780017310352, 0.007716168293371682, -0.005677163873352518, -0.006168190998483745, 0.0013973808030960455, 0.004150378035142278, 0.0023306226282055367, -0.004331578460884783, -0.004553573536845185, 0.005781174536251177, 0.006428104109212968, -0.005040778616957311, -0.008218009145294388, 0.0010449603167222788, 0.00783092572167821, 0.003894801801948032, -0.0030550023995371198, -0.007836055985154192, -0.004496668613396791, 0.010606858881479816, 0.009786256999331529, -0.011398895990854642, -0.009850775188250765, 0.009045764547844939, 0.006613388637294002, -0.005472180844765631, -0.0029356533635699197, 0.004443305870358414, -0.0012307982648323012, -0.005600806825944965, 0.006264912518241477, 0.0043373891688950825, -0.008864660643781164, 0.0005554458906240839, 0.004663143622480732, -0.003892321062045469, 0.005117750975819879, 0.0016740714807992618, -0.013396409017368856, 0.0029801386401642404, 0.015227577104148543, -0.0053513067672333785, -0.013019186284569587, 0.0059083260794246095, 0.01175962989710114, -0.007288712173258936, -0.011818212316132726, 0.008854004042939815, 0.009480205558489439, -0.00815974096184624, -0.0034619046755932515, 0.004807914147141696, -0.0025769459359587504, -0.0001985583040398109, 0.004879553114105678, -0.004733642364866939, -0.003982710111739203, 0.009198253308079544, 0.0024758579720550586, -0.010535736755223138, -0.0011705667085852812, 0.0058721912292825475, -4.6005490216599956e-05, 0.002825847089004286, 0.00014330792378924526, -0.008913053120493149, 0.0015525255197988523, 0.008454432470450423, -0.0038423409468092604, -0.004206805471954947, 0.005454918619577066, 0.0009631633380185262, -0.006235949121678045, -0.0003535306397787197, 0.005460213615211862, 0.0009390396644443294, -0.001542523709697574, -0.0008691403401268807, -0.0048827216209723495, -3.2173284047389374e-05, 0.009456852099474307, 0.0002989475676432457, -0.00771733772885107, 0.0009525236955140823, -0.00028474811591486324, -0.0025438541596133407, 0.009971985252265404, 0.001931906508990655, -0.016110715501103448, 0.0032677504438784633, 0.01600424273513005, -0.012569222311632842, -0.010340014573835583, 0.020401792235816854, 0.0025734865990093793, -0.02003214029390988, 0.0030811916731438216, 0.011166385189111738, -0.004111727076488039, -0.0003681676323054978, 0.0007541577706876115, -0.006374044656618583, 0.004048768519126269, 0.008304031938667546, -0.006013490491929034, -0.007964178889432865, 0.003656060335012359, 0.007615916591319176, -0.0008672145975358943, -0.007110513976954395, 0.002033669424715542, 0.00427902846955547, -0.005470322153671218, 0.001670873178988367, 0.005950014136161811, -0.007580289842365818, -0.003055926048121529, 0.008975998641912678, 0.0017390908397802995, -0.005368735909970864, -0.0034828469730331397, 0.0002917124205396213, 0.0035191619929977646, 0.004718292795525906, -0.0020507373808750988, -0.007057599506810096, 0.003980218477489188, -0.003938763566206727, 0.0035708625673039835, 0.01818595512871868, -0.016033421978121555, -0.0009610687381991848, -0.044854101525974896, -0.01720720613995312, 0.13799996253609645, 0.021842674344007898, 0.06894472801700638, -0.23408503923424573, -0.6612062477438504, 0.745698451305502, 1.032637972384645, -1.0311865634550095, -0.7446619212409233, 0.6599936388636447, 0.2434960285353137, -0.0831691972460658, -0.021511418399899455, -0.16366752952228972, -0.026892177872839887], [-0.0011415353175391989, 0.009527595852929623, 0.03268813316682606, -0.02276275840388478, -0.04177723680498435, 0.035723231879053324, 0.030884924530660933, -0.038599529739668084, -0.01571681344900028, 0.02875257667853765, 0.008237596302496378, -0.013605729032987379, -0.007939733964421618, 0.0011107926696988998, 0.010686679424313119, 0.005909674092230729, -0.015144425550804055, -0.0072523507510954864, 0.019818796714659317, 0.0030305605076353173, -0.019761964246296445, 0.0032965194745252085, 0.011225301045175079, -0.005678139090440554, 0.0019694325958980793, 0.0034505803836103054, -0.011769954895262235, -0.0022424110317576717, 0.01523898311389826, 0.003973185314991657, -0.01617359096902302, -0.003708290834468204, 0.01724142288166486, -0.0006110307523220235, -0.0155591097197086, 0.0033311834978380084, 0.00939453811131779, -0.0006334654535542963, -0.004388171479383186, -0.0014959684595596918, 0.006143336064259772, -0.003770628753126906, -0.010357240029153688, 0.011210317980219191, 0.008793198124951187, -0.00931870698288725, -0.002013214353392934, -0.0027251573686440413, -0.0023017708563338084, 0.013680334959019824, 0.002038591741185534, -0.01579251116012817, -0.004061761968851152, 0.013144549805230036, 0.013311192313607095, -0.0124388279584066, -0.024016472958194045, 0.012720216977461923, 0.026776964440349722, -0.009737210578467033, -0.02111706533348156, 0.005307833578445786, 0.014353737252756342, -0.004673235133243632, -0.00971943961863357, 0.007428298285914025, 0.0031233037951044007, -0.007718884080110958, 0.007392695282242265, 0.0019288444722393376, -0.015888743080725947, 0.007375356536459839, 0.01571422056013462, -0.014028136821280896, -0.007498745270321933, 0.013997382232028892, -0.0031389088781100744, -0.009390679016528956, 0.011197993895006742, 0.006018018002775278, -0.013846709330264724, -0.0062399726413921545, 0.01115890197418114, 0.005748427991360463, -0.006568655782325148, 0.0004121928140573641, 0.0035571736477042577, -0.009439617905189369, -0.0015536935346206083, 0.012531744731751745, -0.0027238700529784972, -0.006287806087861764, 0.008869771397936604, -0.002331853435233448, -0.010385681247557168, 0.0052744797248186846, 0.002874137534630415, -0.0031918383099680155, 0.0073721413703754955, 0.0014412704299252704, -0.009211355760142122, -0.0004574814505711039, 1.652944174046359e-05, -0.0025078289806639634, 0.012206415806089246, 0.005644780248280241, -0.018115613661939485, -0.006081369351799032, 0.013886177117709387, 0.007253137263708879, -0.001776396521285959, -0.01270460329270548, -0.011040105205010243, 0.016657732175329478, 0.01590864594422741, -0.010337928538172713, -0.009880803164229346, -0.004535384764483664, -0.00016886527902428916, 0.01627316861305854, 0.004063535798568465, -0.01735588473707888, 0.0010089278095419766, 0.011410626516181677, -0.009850277569930965, -0.0041535163831281545, 0.017386218513064478, -0.0049333559608366094, -0.02172568736773548, 0.016869724546009476, 0.021447181977093364, -0.025893744836511943, -0.016373325744338526, 0.02529686341839574, 0.009193172774053744, -0.017426123070152517, -0.0018052924969504097, 0.01130324013644227, -0.006873936506477522, -0.011337527213323234, 0.01575281853587041, 0.013878813023648347, -0.018583050777655923, -0.01457590986501352, 0.011664471457266234, 0.013374524718478876, -0.0012129025014359467, -0.010894954176004456, -0.0031488744352736776, 0.005628912792464307, -0.00030581967754700606, 0.002334970739196066, 0.005996391030184362, -0.009706246418883669, -0.010158972277100758, 0.014155469896765496, 0.014003014843948853, -0.0156281801998968, -0.018026887393529284, 0.014088809886645506, 0.017490338835752364, -0.010816329906210084, -0.00750104297786299, 0.00973213538144344, -0.008407730206921786, -0.01279421668796234, 0.019840353760245094, 0.01657406261706308, -0.020796903919434423, -0.016798063677501068, 0.015990809129243697, 0.013716475320450623, -0.01422705873037913, -0.010813160032585959, 0.01684717030102626, 0.010669486220633328, -0.015963735325857223, -0.013366129961291898, 0.005610171755346522, 0.01690873150351035, 0.009299236405136245, -0.01849114887726066, -0.01842806533561359, 0.016464160314991972, 0.017666094698740867, -0.011328579809649846, -0.01231266473860708, 0.004800928066674776, 0.009338127195627762, 0.0014269374579406885, -0.00897629385443338, -0.0059203566865601055, 0.006522847022261477, 0.0074567918790468, -0.0010063855761774827, -0.0056898909099246464, -0.0027007264864785108, 0.0018321406726407655, 0.0005743583717935877, 0.0016500100080690415, 0.0057439935397840345, -0.001535856710103865, -0.011934311003468827, -0.004910907736540819, 0.016616083059819917, 0.015617603189145877, -0.02131315792026036, -0.02138752651241769, 0.02490513405290714, 0.014543684748537764, -0.022829662953910642, -0.0004486978236318863, 0.014525830735296081, -0.007395018038497237, -0.006963248935300689, 0.005006497915188067, 0.006566539838264449, -0.002104602329410043, -0.011323303262519473, 0.005878823610350805, 0.015450582065991585, -0.009683324519084442, -0.01813954430418374, 0.0037382763869789727, 0.02127246226655315, 0.01009878026137789, -0.02159905830530484, -0.021086474724514817, 0.013518591123896685, 0.022892585683264362, 0.0009661430650093356, -0.01869671096971757, -0.011580127798247044, 0.014282245710644402, 0.01039718226016032, -0.010591339476449219, -0.001206637863395527, 0.006097690974886253, -0.003255250708120719, -0.0026998014717228742, -0.005171676792676296, 0.0028679437087459573, 0.021010020950530166, -0.003780644543233935, -0.03204978419380537, 0.0007150792125432161, 0.03235231879558622, 0.005944441980565179, -0.024931112555931036, -0.011109803280625993, 0.015008551681085227, 0.01079435610675649, -0.005882791982802346, -0.006298463268047337, 0.00024095475006064796, 0.002910923187558848, 1.67071554217289e-05, -0.0034807310845436914, 0.002989659715913142, 0.004784062548575974, -0.004230082186793491, -0.0023885807048043654, 0.002773970879337489, -0.003764693845856553, -0.0040828508608121115, 0.01053411679190141, 0.012211467494098014, -0.015149376117409727, -0.022628251406536518, 0.016401545467229123, 0.026208689690778386, -0.013976054104484572, -0.01937625364426321, 0.007329008354806944, 0.008016197960448059, 0.0037375265091503466, -0.0014996760428186862, -0.016661327163623025, 0.004098018526814826, 0.02547294146317825, -0.011628841053136248, -0.024013565778747723, 0.015560610286812939, 0.011717140235075236, -0.012284988669072978, 0.0034369311787458257, 0.008599487359444163, -0.011408695325711558, -0.013576301584195191, 0.010174972818514044, 0.02503025752227641, -0.005256136591664412, -0.030526771181729813, 0.0011012223911104, 0.022357274835255347, 0.0015092175362653032, -0.006158411467169209, -0.001741723827374522, -0.005452639106657347, -0.0022842147956303096, 0.0046583656549999165, 0.010517928387113573, 0.005810038597648511, -0.018809471861141708, -0.016615910504129167, 0.021414494407350992, 0.01959544085486542, -0.016974295434276258, -0.011749999537064262, 0.010374926779994723, -0.003900292048766043, -0.006653609728333367, 0.018675175464020304, 0.005094954372961962, -0.023575818189676342, -0.0016933665427824613, 0.017211690185188665, -0.004292191547890855, -0.006204352296670988, 0.008643425784683748, -0.0024931586005459277, -0.006985663454555498, 0.007155949082360861, -0.0005181445236164175, -0.009227253494466674, 0.010821379501874569, 0.008551727150257, -0.021497585875027474, -0.004221480721138658, 0.028704978064912273, 0.00029267369670602904, -0.02615798200013533, -0.004457525377168901, 0.013062768888096106, 0.01716912746926952, 0.0005551969805794085, -0.027350717958670286, -0.0038789031006400167, 0.02327293726569292, -0.0014312426004553548, -0.0050537643255273166, 0.004138890589302926, -0.015103995603415146, 0.001802396165697677, 0.023866472149049616, -0.010881297579117724, -0.018756702567207576, 0.013998797272028076, 0.00937407602606176, -0.007973292787609942, -0.005818620475012101, -0.0032322939175276353, 0.008156815797790764, 0.012677747271229813, -0.009304947456433506, -0.014868224975567002, 0.0056669764711664745, 0.008862912062970869, -0.0010075409650125659, 0.0012149881122490167, -0.00010899085260104163, -0.009336269939467564, -0.002387918188197547, 0.013060712380676845, 0.0067260494375703484, -0.014972039994139994, -0.010716599247959632, 0.014469174063567451, 0.013833476019100465, -0.008285237122964813, -0.02184139485760984, 0.009636760717396968, 0.02434147467436834, -0.013488414470685833, 0.004917044756233641, -0.05573326180147822, -0.02759942994358526, 0.15440072973259322, 0.02965579912928981, 0.04597227766686285, -0.23371702295896452, -0.6293630091410908, 0.7329502504381618, 1.000221959851665, -1.0117923959094244, -0.7254216082770475, 0.6476444472685422, 0.23850968414201978, -0.08203952339746032, -0.021552707387475428, -0.1607289474099868, -0.02554537858838496], [-0.002744232805624116, -0.005629593429096047, 0.010697235784522533, 0.004289839820359602, -0.016640397148944892, -0.0012561918805925748, 0.017171990687009177, -0.002071197181286285, -0.008830157192565906, -0.000990209174551393, -0.004117586267332869, 0.007959187955562485, 0.014429247274169452, -0.011485410229788235, -0.016501095238394714, 0.009480731350835539, 0.010979790845609967, -0.006244923329823575, -0.003130859651289842, 0.004860697100598864, -0.002632891890769513, -0.0036155354579750425, 0.004318575796631394, 0.0004084272716931383, -0.0017264599063608293, 0.002996181535346126, -0.0016704618730350607, -0.0031280137231109876, -8.41895777790023e-05, 4.677835179136766e-05, 0.007789236221714171, 0.0021889821128838853, -0.01488244329126433, -0.000750957499807599, 0.01628798752698257, -0.0027864452294326207, -0.013805050077975995, 0.005415826108436668, 0.010270741821144418, -0.00626280350664217, -0.004990532554173936, 0.005631323049422314, -0.001877090750546761, -0.002835906962673528, 0.005346745487801417, -0.00206705137034133, -0.0004896986939313115, 0.0055765481202250874, -0.009431945546079356, -0.0037260485602504108, 0.013861742124311321, -0.002099046496924055, -0.006840860726180323, 0.00612603788760582, -0.004679513945629529, -0.005534859474219303, 0.008545132714797682, 0.0034080620202420545, -0.001616725398188404, -0.003318999721253683, -0.008346806710908662, 0.003947386144207805, 0.01372404333795971, -0.0016739944363971231, -0.014346229922315077, -0.002791470931676799, 0.01345142563901813, 0.004095613700087489, -0.011617799789937357, 0.00039816087018107894, 0.007145756749787041, -0.005872804382001155, -0.00023217028938369005, 0.005378786794593563, -0.005403668625405346, 0.0010392892866283923, 0.0055281723837229515, -0.005839989848834863, 0.00010140654753821665, 0.0036475367535487024, -0.006437658155422706, 0.0018487974341637149, 0.006991963807360445, -0.002917220694217383, -0.00029120932870956365, -0.003108832288665192, -0.007706075882850357, 0.011641338336550091, 0.009746789500121754, -0.015054577418351159, -0.00544244634349355, 0.009105455821889145, 0.0008658408163395581, 0.001793439215180331, -0.0008671977012161402, -0.007615728159300199, 0.0041591202026248905, 0.0034914547462334164, -0.005787624562287783, 0.0051081938790297435, 0.0029696573850025564, -0.008589511482207289, 0.002209659593513792, 0.002803165363998827, -0.0050683137102613095, 0.007172341093716481, 0.002795358769284631, -0.01280787882316976, 0.0021992243772677223, 0.011688374982420428, -0.004253403909150015, -0.00892259361806615, 0.0015645278003811373, 0.008869041333142891, 0.0010634008208574392, -0.009357789758310985, 0.0005942385975161854, 0.00626881680286903, -0.0031771052300537594, -0.000534985437420933, 0.0009379051155128312, -0.0032841437903079924, 0.004092451563371688, 0.0036881573798006146, -0.004810214148863502, -0.003716740874837297, 0.001047649867062858, 0.0059702002968806305, 0.00017384003248530804, -0.008504716603253977, 0.003963155681083927, 0.0070895274657704985, -0.008754949717518917, -0.001290555546665224, 0.009987021041941928, -0.004325819835803017, -0.008892437633999233, 0.00639448560293194, 0.008107602830646606, -0.006633708237796215, -0.007166079807231511, 0.007259347669744787, 0.005034110513727318, -0.006969558604333967, -0.00420090787555875, 0.004950328718168219, 0.007310982539040518, -0.0043085304417326276, -0.011413047751709239, 0.007393834392860323, 0.011276871631511635, -0.011495187233076952, -0.007202235775072604, 0.012381277167478076, 0.004168231184104045, -0.009198350903259125, -0.004684449562035739, 0.004547332100890736, 0.006855683742493317, -0.0015546670670375713, -0.008166456574201075, 0.000640244469210181, 0.008222532258921457, 0.0006551368724752368, -0.008151904789217637, -0.0034052813115696967, 0.008386796882056787, 0.005232880571958827, -0.007242946083618843, -0.004312255941567148, 0.0022448281572130797, 0.0023673658318891346, 0.006323719981971198, -0.002158180955802855, -0.014038741872574746, 0.004087465288099694, 0.016420815080837314, -0.006073904733457855, -0.013413622861207447, 0.006272166196474662, 0.008136992166940148, -0.005388672546795601, -0.003436617569779151, 0.00549817520566758, 0.0007052063548002034, -0.007207649109633869, 0.0004277442791241615, 0.009062407878655252, -0.001386889280773193, -0.009223544564553477, 0.002714300007594428, 0.007323577368384074, -0.003960348056712748, -0.004890939340296088, 0.0048899078948444995, 0.0037939408133694534, -0.005210309756971112, -0.004187443978670351, 0.003888732954942957, 0.004391716965944907, -3.98138899364792e-05, -0.003333624036266741, -0.0049738419614509324, 0.0021284519424933, 0.007070759905636027, -0.0016963429515443043, -0.003261077792819853, 0.0008295351059374742, -0.00428127915643992, 0.0008389082848496111, 0.010291906661773886, -0.0009372155813233624, -0.011594517564044747, -0.0012044789746415395, 0.008348219878877027, 0.0016625854900820195, -0.002563023266634576, 0.0021441582655035455, -0.0024745484539861317, -0.00598288977306898, 0.0036662246671244677, 0.004417605621658425, -0.0010666914368104453, 0.001318465877450767, -0.002028268908044947, -0.005999642299808628, 0.00327003576092828, 0.007489246686972235, -0.0038270293947795116, -0.0070084587478759595, 0.005217531679594166, 0.005856381090832436, -0.006082734007195069, -0.004999741354325504, 0.00446542424950659, 0.0051073393776339075, -0.001024533484920028, -0.005417274777692281, -0.0018894061972608107, 0.004832502192660621, 0.002769717400663215, -0.004098102249233379, -0.0015873310315815076, 0.004547020406116343, -0.0012643104191933853, -0.005454130033922913, 0.005404546272164154, 0.004851234099591997, -0.0094358363579364, -0.0019776739212612996, 0.011135708922978707, -0.0026317797711321767, -0.009666693167047397, 0.007837874323854882, 0.00618692871139218, -0.011675564620291321, -0.0023889290482085263, 0.01295879870154535, -0.0001323763092135155, -0.013523056939951327, 0.00045459911198960246, 0.015807761180109202, 0.0004958463465424131, -0.01864083258961036, -0.0012645698241365924, 0.018654180925438628, 0.0023523119823643055, -0.015112561167259885, -0.004661127962511993, 0.010726638129592365, 0.006154977338874929, -0.007839713849042163, -0.0035210218831529475, 0.005228948918750086, -0.0025505799224001544, -0.0003602666152438497, 0.006765193843668752, -0.005131338195063436, -0.005455984596285346, 0.006330765005021682, 0.00100047908117984, -0.00269909703744709, 0.0022936532498706035, -0.0007625596086666996, -0.0038651429287836405, 0.001254645978851048, 0.005358411327569853, -0.0012206438884325114, -0.006386844085930364, 0.0027504493120472056, 0.004957779839438868, -0.003723646015871255, -0.0005390998652355246, 0.001113716544086053, -0.004437022309667576, 0.004337963995036224, 0.0060706562566494, -0.008951616365085263, -0.0028727951405380214, 0.010440289105029813, -0.0026845509213687174, -0.009065394824082158, 0.006949163510603271, 0.005987047459751618, -0.007137837080457532, -0.002900258888356562, 0.0017455391050254867, 0.001487446589903207, 0.0069920818358289475, -0.0012553350835646303, -0.012668282133872362, -0.00028634065967529654, 0.011153053748731179, 0.004077489351127481, -0.005749973698161758, -0.007777603463811029, 0.0025138682700993303, 0.00836682690725035, -0.0027522030290044906, -0.005585812518806183, 0.0029108344715274657, 0.0020824409353376976, 3.063799240665731e-05, -6.335600455591216e-05, -0.0049179141484930865, -0.0007830813253487645, 0.007535938557232303, 0.0011235127413804407, -0.0048652514646671825, -0.0005526595963483219, -0.0018051504305318178, -1.888767281830084e-05, 0.00784922777750736, -0.001806296543418606, -0.009084093657580249, 0.0059473141305909916, 0.005288587871002821, -0.009118816166962857, -0.0004044324093239659, 0.008806433676498698, -0.00143433561962869, -0.0053946052714341835, -0.00030069542501303705, 0.0011444949819439344, 0.002994603607379005, 0.0012519487077092373, -0.0037404258973008646, -0.0007521521729913555, 0.0016797590267662486, -0.0007452401681978119, 0.0010486996991151364, 0.0007812309336472992, -0.0009100316277512146, 0.0005297282278847256, -0.0035511098467728734, -0.0012103872398868164, 0.01009161933833649, 0.00011373193194797251, -0.01479563568876022, 0.0023410113332767947, 0.015190247571617698, -0.005022820246711224, -0.011686857458089605, 0.007196266241470316, 0.006039132478269054, -0.008595975495094024, 0.0017396088595178067, 0.0061994671837447245, -0.008226956320157974, 0.0005474818361660718, 0.0012000690831902939, 0.005761959033299173, 0.010862103631772245, -0.019284751109643623, 0.004446090539498387, -0.040569182407083376, -0.016672023580888012, 0.13509610341823644, 0.013883755184831648, 0.06097630546068314, -0.21557055971516076, -0.633434765353112, 0.7136882039786426, 0.9951365825757255, -0.9959301652254517, -0.7189953472213223, 0.6399760150837073, 0.23530569313105343, -0.0815238134607974, -0.020664347082921898, -0.1587512785220597, -0.02567138276328393]]\n"
          ]
        }
      ]
    },
    {
      "cell_type": "markdown",
      "metadata": {
        "id": "MHwcsevoOOq5"
      },
      "source": [
        "# Prepare data X, y"
      ]
    },
    {
      "cell_type": "code",
      "metadata": {
        "id": "zPRy8DlKQMLQ"
      },
      "source": [
        "#get final data for model : X, y\n",
        "X,y = prepare_data(df_main,1)\n",
        "\n",
        "X= np.array(X)   #convert X to numpy array\n",
        "\n",
        "le = LabelEncoder()\n",
        "y = le.fit_transform(y)                                 #for ML models\n",
        "yy = tf.keras.utils.to_categorical(le.fit_transform(y)) #for cateorical problems/DNN"
      ],
      "execution_count": null,
      "outputs": []
    },
    {
      "cell_type": "markdown",
      "metadata": {
        "id": "w-tjrHT1OBBj"
      },
      "source": [
        "# Resampling : X, y"
      ]
    },
    {
      "cell_type": "code",
      "metadata": {
        "colab": {
          "base_uri": "https://localhost:8080/"
        },
        "id": "I7QG2qyMOZeQ",
        "outputId": "1faf3bce-0e50-45f7-fb45-79fe24c57c4b"
      },
      "source": [
        "orig_shape = X.shape\n",
        "\n",
        "#take backup copy\n",
        "X_orig=X.copy()\n",
        "y_orig=y.copy()\n",
        "\n",
        "orig_shape  #original shape of X"
      ],
      "execution_count": null,
      "outputs": [
        {
          "data": {
            "text/plain": [
              "(70060, 392)"
            ]
          },
          "execution_count": 27,
          "metadata": {},
          "output_type": "execute_result"
        }
      ]
    },
    {
      "cell_type": "code",
      "metadata": {
        "colab": {
          "base_uri": "https://localhost:8080/"
        },
        "id": "ufLn9ho1dMjf",
        "outputId": "5db9481e-4c6a-4bef-f4d7-1d21d65d9845"
      },
      "source": [
        "from imblearn.over_sampling import RandomOverSampler\n",
        "from imblearn.under_sampling import RandomUnderSampler\n",
        "from collections import Counter\n",
        "import collections, numpy\n",
        "\n",
        "#function to print count  of classes\n",
        "def print_counter(y_data):\n",
        "  counter = Counter(y)\n",
        "  for k,v in counter.items():\n",
        "    per = v / len(y) * 100\n",
        "    print('Class=%d, n=%d (%.3f%%)' % (k, v, per))\n",
        "  #plot the distribution of classes\n",
        "  plt.bar(counter.keys(), counter.values())\n",
        "  plt.show()"
      ],
      "execution_count": null,
      "outputs": [
        {
          "name": "stderr",
          "output_type": "stream",
          "text": [
            "/usr/local/lib/python3.7/dist-packages/sklearn/externals/six.py:31: FutureWarning: The module is deprecated in version 0.21 and will be removed in version 0.23 since we've dropped support for Python 2.7. Please rely on the official version of six (https://pypi.org/project/six/).\n",
            "  \"(https://pypi.org/project/six/).\", FutureWarning)\n",
            "/usr/local/lib/python3.7/dist-packages/sklearn/utils/deprecation.py:144: FutureWarning: The sklearn.neighbors.base module is  deprecated in version 0.22 and will be removed in version 0.24. The corresponding classes / functions should instead be imported from sklearn.neighbors. Anything that cannot be imported from sklearn.neighbors is now part of the private API.\n",
            "  warnings.warn(message, FutureWarning)\n"
          ]
        }
      ]
    },
    {
      "cell_type": "code",
      "metadata": {
        "colab": {
          "base_uri": "https://localhost:8080/",
          "height": 422
        },
        "id": "gsB3llIZOfmP",
        "outputId": "a73ae3d3-efc2-4b83-8459-d6f1c2a922e1"
      },
      "source": [
        "print_counter(y) #original y distribution"
      ],
      "execution_count": null,
      "outputs": [
        {
          "name": "stdout",
          "output_type": "stream",
          "text": [
            "Class=0, n=38675 (55.203%)\n",
            "Class=2, n=3190 (4.553%)\n",
            "Class=5, n=2695 (3.847%)\n",
            "Class=7, n=5045 (7.201%)\n",
            "Class=3, n=8565 (12.225%)\n",
            "Class=8, n=5895 (8.414%)\n",
            "Class=6, n=2905 (4.146%)\n",
            "Class=4, n=745 (1.063%)\n",
            "Class=1, n=2345 (3.347%)\n"
          ]
        },
        {
          "data": {
            "image/png": "[encoded data removed]",
            "text/plain": [
              "<Figure size 432x288 with 1 Axes>"
            ]
          },
          "metadata": {},
          "output_type": "display_data"
        }
      ]
    },
    {
      "cell_type": "code",
      "metadata": {
        "colab": {
          "base_uri": "https://localhost:8080/"
        },
        "id": "QqX-IPKZdHR7",
        "outputId": "01044397-857d-4602-faed-b2651b328308"
      },
      "source": [
        "\n",
        "count_class=collections.Counter(y)\n",
        "print(count_class) #occurances of all classes\n",
        "count_class[0] #number of occurances of class 0"
      ],
      "execution_count": null,
      "outputs": [
        {
          "name": "stdout",
          "output_type": "stream",
          "text": [
            "Counter({0: 38675, 3: 8565, 8: 5895, 7: 5045, 2: 3190, 6: 2905, 5: 2695, 1: 2345, 4: 745})\n"
          ]
        },
        {
          "data": {
            "text/plain": [
              "38675"
            ]
          },
          "execution_count": 30,
          "metadata": {},
          "output_type": "execute_result"
        }
      ]
    },
    {
      "cell_type": "code",
      "metadata": {
        "colab": {
          "base_uri": "https://localhost:8080/"
        },
        "id": "8fRq_DYNlJhd",
        "outputId": "a1405048-9ed8-4d56-eb6f-ac41eb68ef98"
      },
      "source": [
        "int(count_class[0]*25/100)  #retain 25% of data from 0 with 0 class"
      ],
      "execution_count": null,
      "outputs": [
        {
          "data": {
            "text/plain": [
              "9668"
            ]
          },
          "execution_count": 31,
          "metadata": {},
          "output_type": "execute_result"
        }
      ]
    },
    {
      "cell_type": "markdown",
      "metadata": {
        "id": "r6B8X-eROofQ"
      },
      "source": [
        "### undersampling majority class"
      ]
    },
    {
      "cell_type": "code",
      "metadata": {
        "colab": {
          "base_uri": "https://localhost:8080/",
          "height": 477
        },
        "id": "jynqC6KndPBO",
        "outputId": "cabbea1d-81d7-40ed-f26f-c96396490c69"
      },
      "source": [
        "from imblearn.under_sampling import RandomUnderSampler\n",
        "\n",
        "\n",
        "rus = RandomUnderSampler({0:int(count_class[0]*25/100)},random_state=0)\n",
        "rus.fit(X, y)\n",
        "X, y = rus.fit_resample(X, y)\n",
        "\n",
        "\n",
        "print_counter(y)"
      ],
      "execution_count": null,
      "outputs": [
        {
          "name": "stdout",
          "output_type": "stream",
          "text": [
            "Class=0, n=9668 (23.550%)\n",
            "Class=1, n=2345 (5.712%)\n",
            "Class=2, n=3190 (7.770%)\n",
            "Class=3, n=8565 (20.863%)\n",
            "Class=4, n=745 (1.815%)\n",
            "Class=5, n=2695 (6.565%)\n",
            "Class=6, n=2905 (7.076%)\n",
            "Class=7, n=5045 (12.289%)\n",
            "Class=8, n=5895 (14.359%)\n"
          ]
        },
        {
          "name": "stderr",
          "output_type": "stream",
          "text": [
            "/usr/local/lib/python3.7/dist-packages/sklearn/utils/deprecation.py:87: FutureWarning: Function safe_indexing is deprecated; safe_indexing is deprecated in version 0.22 and will be removed in version 0.24.\n",
            "  warnings.warn(msg, category=FutureWarning)\n"
          ]
        },
        {
          "data": {
            "image/png": "[encoded data removed]",
            "text/plain": [
              "<Figure size 432x288 with 1 Axes>"
            ]
          },
          "metadata": {},
          "output_type": "display_data"
        }
      ]
    },
    {
      "cell_type": "markdown",
      "metadata": {
        "id": "VmfS5OurOuk2"
      },
      "source": [
        "### oversampling minority class"
      ]
    },
    {
      "cell_type": "code",
      "metadata": {
        "colab": {
          "base_uri": "https://localhost:8080/",
          "height": 477
        },
        "id": "n9RPSOdsdRc1",
        "outputId": "6311ee92-970c-44a6-95c2-777162a01ff4"
      },
      "source": [
        "from imblearn.over_sampling import RandomOverSampler\n",
        "\n",
        "ros = RandomOverSampler(random_state=0)\n",
        "ros.fit(X, y)\n",
        "X, y = ros.fit_resample(X, y)\n",
        "\n",
        "print_counter(y)"
      ],
      "execution_count": null,
      "outputs": [
        {
          "name": "stderr",
          "output_type": "stream",
          "text": [
            "/usr/local/lib/python3.7/dist-packages/sklearn/utils/deprecation.py:87: FutureWarning: Function safe_indexing is deprecated; safe_indexing is deprecated in version 0.22 and will be removed in version 0.24.\n",
            "  warnings.warn(msg, category=FutureWarning)\n"
          ]
        },
        {
          "name": "stdout",
          "output_type": "stream",
          "text": [
            "Class=0, n=9668 (11.111%)\n",
            "Class=1, n=9668 (11.111%)\n",
            "Class=2, n=9668 (11.111%)\n",
            "Class=3, n=9668 (11.111%)\n",
            "Class=4, n=9668 (11.111%)\n",
            "Class=5, n=9668 (11.111%)\n",
            "Class=6, n=9668 (11.111%)\n",
            "Class=7, n=9668 (11.111%)\n",
            "Class=8, n=9668 (11.111%)\n"
          ]
        },
        {
          "data": {
            "image/png": "[encoded data removed]",
            "text/plain": [
              "<Figure size 432x288 with 1 Axes>"
            ]
          },
          "metadata": {},
          "output_type": "display_data"
        }
      ]
    },
    {
      "cell_type": "markdown",
      "metadata": {
        "id": "pmVxNRrwO1re"
      },
      "source": [
        "# After sampling X, y"
      ]
    },
    {
      "cell_type": "code",
      "metadata": {
        "id": "CoRkkfc1dXGd"
      },
      "source": [
        "X=X \n",
        "y=y\n",
        "yy = tf.keras.utils.to_categorical(le.fit_transform(y)) #for cateorical problems/DNN"
      ],
      "execution_count": null,
      "outputs": []
    },
    {
      "cell_type": "code",
      "metadata": {
        "colab": {
          "base_uri": "https://localhost:8080/"
        },
        "id": "23vPbGezTSkT",
        "outputId": "5a421bc5-ddb0-4dea-d459-d0d5774fd525"
      },
      "source": [
        "X.shape, y.shape, yy.shape"
      ],
      "execution_count": null,
      "outputs": [
        {
          "data": {
            "text/plain": [
              "((87012, 392), (87012,), (87012, 9))"
            ]
          },
          "execution_count": 35,
          "metadata": {},
          "output_type": "execute_result"
        }
      ]
    },
    {
      "cell_type": "code",
      "metadata": {
        "colab": {
          "base_uri": "https://localhost:8080/"
        },
        "id": "AAy3PF9UTWRX",
        "outputId": "851663fc-74f5-4563-e687-45f5494c7bdd"
      },
      "source": [
        "type(X), type(y), type(yy)"
      ],
      "execution_count": null,
      "outputs": [
        {
          "data": {
            "text/plain": [
              "(numpy.ndarray, numpy.ndarray, numpy.ndarray)"
            ]
          },
          "execution_count": 36,
          "metadata": {},
          "output_type": "execute_result"
        }
      ]
    },
    {
      "cell_type": "code",
      "metadata": {
        "colab": {
          "base_uri": "https://localhost:8080/"
        },
        "id": "wuKUcFgsblPp",
        "outputId": "5ce349f9-65fb-4eac-9265-2c9af45cf517"
      },
      "source": [
        "len(X[1])"
      ],
      "execution_count": null,
      "outputs": [
        {
          "data": {
            "text/plain": [
              "392"
            ]
          },
          "execution_count": 37,
          "metadata": {},
          "output_type": "execute_result"
        }
      ]
    },
    {
      "cell_type": "code",
      "metadata": {
        "colab": {
          "base_uri": "https://localhost:8080/"
        },
        "id": "fei78-L8TcVY",
        "outputId": "974212d6-0df5-4e8c-830c-8284bf41ca0b"
      },
      "source": [
        "y[:6]"
      ],
      "execution_count": null,
      "outputs": [
        {
          "data": {
            "text/plain": [
              "array([0, 0, 0, 0, 0, 0])"
            ]
          },
          "execution_count": 38,
          "metadata": {},
          "output_type": "execute_result"
        }
      ]
    },
    {
      "cell_type": "code",
      "metadata": {
        "colab": {
          "base_uri": "https://localhost:8080/"
        },
        "id": "NoCeQdYKTdjd",
        "outputId": "3321a54c-23a4-4ad5-c080-ac7c4a38e91f"
      },
      "source": [
        "yy[:7]"
      ],
      "execution_count": null,
      "outputs": [
        {
          "data": {
            "text/plain": [
              "array([[1., 0., 0., 0., 0., 0., 0., 0., 0.],\n",
              "       [1., 0., 0., 0., 0., 0., 0., 0., 0.],\n",
              "       [1., 0., 0., 0., 0., 0., 0., 0., 0.],\n",
              "       [1., 0., 0., 0., 0., 0., 0., 0., 0.],\n",
              "       [1., 0., 0., 0., 0., 0., 0., 0., 0.],\n",
              "       [1., 0., 0., 0., 0., 0., 0., 0., 0.],\n",
              "       [1., 0., 0., 0., 0., 0., 0., 0., 0.]], dtype=float32)"
            ]
          },
          "execution_count": 39,
          "metadata": {},
          "output_type": "execute_result"
        }
      ]
    },
    {
      "cell_type": "code",
      "metadata": {
        "id": "ksxtg1hETffN"
      },
      "source": [
        "#shuffle data\n",
        "idx = np.random.permutation(len(X))\n",
        "X_nn = X[idx]\n",
        "y_nn = yy[idx]                  #for simple caegorical problem\n",
        "y_ml = y[idx]                   #for ML models"
      ],
      "execution_count": null,
      "outputs": []
    },
    {
      "cell_type": "code",
      "metadata": {
        "colab": {
          "base_uri": "https://localhost:8080/"
        },
        "id": "HFtWHaHJThSB",
        "outputId": "8755736c-7b55-4054-ffea-1bed9fac96ee"
      },
      "source": [
        "X_nn.shape, y_nn.shape, y_ml.shape"
      ],
      "execution_count": null,
      "outputs": [
        {
          "data": {
            "text/plain": [
              "((87012, 392), (87012, 9), (87012,))"
            ]
          },
          "execution_count": 41,
          "metadata": {},
          "output_type": "execute_result"
        }
      ]
    },
    {
      "cell_type": "code",
      "metadata": {
        "colab": {
          "base_uri": "https://localhost:8080/"
        },
        "id": "raQeypQxTin5",
        "outputId": "20810337-2824-4a03-a7e9-f8fad893c67e"
      },
      "source": [
        "num_labels = len(np.unique(y_ml))\n",
        "num_labels"
      ],
      "execution_count": null,
      "outputs": [
        {
          "data": {
            "text/plain": [
              "9"
            ]
          },
          "execution_count": 42,
          "metadata": {},
          "output_type": "execute_result"
        }
      ]
    },
    {
      "cell_type": "code",
      "metadata": {
        "id": "dtZwPqmlcwyM"
      },
      "source": [
        "#plot accuracies\n",
        "def plot_accuracy(history, plot_type=\"accuracy\"):\n",
        "  if plot_type==\"categorical_accuracy\":\n",
        "    plt.plot(history.history['categorical_accuracy'])\n",
        "    plt.plot(history.history['val_categorical_accuracy'])\n",
        "  else:\n",
        "    plt.plot(history.history['accuracy'])\n",
        "    plt.plot(history.history['val_accuracy'])\n",
        "  \n",
        "  plt.title('Model accuracy')\n",
        "  plt.ylabel('Accuracy')\n",
        "  plt.xlabel('Epoch')\n",
        "  plt.legend(['Train', 'Test'], loc='upper left')\n",
        "  plt.show()\n",
        "  print(\"\\n\")\n",
        "\n",
        "#plot loss graph\n",
        "def plot_loss(history):\n",
        "  plt.plot(history.history['loss']) \n",
        "  plt.plot(history.history['val_loss']) \n",
        "  plt.title('Model loss') \n",
        "  plt.ylabel('Loss') \n",
        "  plt.xlabel('Epoch') \n",
        "  plt.legend(['Train', 'Test'], loc='upper left') \n",
        "  plt.show()\n",
        "  print(\"\\n\")"
      ],
      "execution_count": null,
      "outputs": []
    },
    {
      "cell_type": "markdown",
      "metadata": {
        "id": "q8-PTZSDctZ_"
      },
      "source": [
        "# ML Models"
      ]
    },
    {
      "cell_type": "code",
      "metadata": {
        "id": "E8xwe-HzkCrm"
      },
      "source": [
        "\n",
        "from sklearn.model_selection import StratifiedKFold\n",
        "from sklearn.model_selection import GridSearchCV\n",
        "\n",
        "from sklearn.metrics import roc_curve, roc_auc_score\n",
        "from sklearn.metrics import confusion_matrix\n",
        "from sklearn.metrics import classification_report, accuracy_score\n",
        "\n",
        "from sklearn.neighbors import KNeighborsClassifier\n",
        "from sklearn.linear_model import LogisticRegression\n",
        "from sklearn.tree import DecisionTreeClassifier\n",
        "from sklearn.ensemble import BaggingClassifier\n",
        "\n",
        "import warnings\n",
        "warnings.filterwarnings(\"ignore\")"
      ],
      "execution_count": null,
      "outputs": []
    },
    {
      "cell_type": "code",
      "metadata": {
        "colab": {
          "base_uri": "https://localhost:8080/"
        },
        "id": "QdwInjnScNNk",
        "outputId": "9ab0f2ec-45b2-4e96-ecde-1958dcb79615"
      },
      "source": [
        "#y_nn for categorical\n",
        "\n",
        "X_train, X_test, y_train, y_test = train_test_split(X_nn,y_ml, test_size=0.3, random_state = 2021,shuffle=True)\n",
        "\n",
        "X_train.shape, X_test.shape, y_train.shape, y_test.shape"
      ],
      "execution_count": null,
      "outputs": [
        {
          "data": {
            "text/plain": [
              "((60908, 392), (26104, 392), (60908,), (26104,))"
            ]
          },
          "execution_count": 45,
          "metadata": {},
          "output_type": "execute_result"
        }
      ]
    },
    {
      "cell_type": "markdown",
      "metadata": {
        "id": "YC60zm4hkeqP"
      },
      "source": [
        "# 1. Logistic regression"
      ]
    },
    {
      "cell_type": "code",
      "metadata": {
        "colab": {
          "base_uri": "https://localhost:8080/"
        },
        "id": "edzbyLcckvn3",
        "outputId": "b4c70c67-f5a7-4df9-991b-84e741dd8d9b"
      },
      "source": [
        "#only logistic regeression\n",
        "\n",
        "model_lr = LogisticRegression()\n",
        "model_lr.fit(X_train,y_train)\n",
        "\n",
        "y_pred = model_lr.predict(X_test)\n",
        "\n",
        "#print(confusion_matrix(y_test, y_pred))\n",
        "#print(classification_report(y_test, y_pred))\n",
        "print(\"Accuracy = \",accuracy_score(y_test, y_pred))"
      ],
      "execution_count": null,
      "outputs": [
        {
          "name": "stdout",
          "output_type": "stream",
          "text": [
            "Accuracy =  0.15576156910818265\n"
          ]
        }
      ]
    },
    {
      "cell_type": "markdown",
      "metadata": {
        "id": "nPW-nb5EkQ-U"
      },
      "source": [
        "# 2. Bagging Classifier"
      ]
    },
    {
      "cell_type": "code",
      "metadata": {
        "colab": {
          "base_uri": "https://localhost:8080/"
        },
        "id": "0l7xlNaYk2pZ",
        "outputId": "7b942ce6-0c3c-418f-d918-46aec81fcebb"
      },
      "source": [
        "# Default\n",
        "\n",
        "#Default\n",
        "\n",
        "model_bg = BaggingClassifier(random_state=2021,oob_score=True,\n",
        "                             max_features=X_train.shape[1],\n",
        "                             n_estimators=15,\n",
        "                             max_samples=X_train.shape[0])\n",
        "\n",
        "model_bg.fit( X_train , y_train )\n",
        "\n",
        "print(\"Out of Bag Score = \" + \"{:.4f}\".format(model_bg.oob_score_))\n",
        "\n",
        "y_pred = model_bg.predict(X_test)\n",
        "\n",
        "#print(confusion_matrix(y_test, y_pred))\n",
        "#print(classification_report(y_test, y_pred))\n",
        "print(\"Accuracy = \", accuracy_score(y_test, y_pred))"
      ],
      "execution_count": null,
      "outputs": [
        {
          "name": "stdout",
          "output_type": "stream",
          "text": [
            "Out of Bag Score = 0.7078\n",
            "Accuracy =  0.7324931045050567\n"
          ]
        }
      ]
    },
    {
      "cell_type": "code",
      "metadata": {
        "colab": {
          "base_uri": "https://localhost:8080/"
        },
        "id": "IsqUJfH_kX3K",
        "outputId": "c0ad36bc-ca06-4893-8513-741246cb1667"
      },
      "source": [
        "#bagging with logistic regression\n",
        "\n",
        "logreg = LogisticRegression()\n",
        "\n",
        "model_bg = BaggingClassifier(base_estimator = logreg ,\n",
        "                             random_state=2021,oob_score=True,\n",
        "                             max_features=X_train.shape[1],\n",
        "                             n_estimators=15,max_samples=X_train.shape[0])\n",
        "                             \n",
        "model_bg.fit( X_train , y_train )\n",
        "\n",
        "print(\"Out of Bag Score = \" + \"{:.4f}\".format(model_bg.oob_score_))\n",
        "\n",
        "y_pred = model_bg.predict(X_test)\n",
        "\n",
        "#print(confusion_matrix(y_test, y_pred))\n",
        "#print(classification_report(y_test, y_pred))\n",
        "print(\"Accuracy = \",accuracy_score(y_test, y_pred))"
      ],
      "execution_count": null,
      "outputs": [
        {
          "name": "stdout",
          "output_type": "stream",
          "text": [
            "Out of Bag Score = 0.1631\n",
            "Accuracy =  0.1598605577689243\n"
          ]
        }
      ]
    },
    {
      "cell_type": "markdown",
      "metadata": {
        "id": "6r-R2omylEq0"
      },
      "source": [
        "# 3. Decision Tree"
      ]
    },
    {
      "cell_type": "code",
      "metadata": {
        "colab": {
          "base_uri": "https://localhost:8080/"
        },
        "id": "mlq3IBvllIJr",
        "outputId": "6d5a95e1-e1ff-493c-d416-84ea97fe8af5"
      },
      "source": [
        "# descision tree : default\n",
        "\n",
        "model_dt = DecisionTreeClassifier(max_depth=4,\n",
        "                             min_samples_leaf=10,\n",
        "                             random_state=2021)\n",
        "model_dt.fit(X_train,y_train)\n",
        "\n",
        "y_pred = model_dt.predict(X_test)\n",
        "\n",
        "#print(confusion_matrix(y_test, y_pred))\n",
        "#print(classification_report(y_test, y_pred))\n",
        "print(\"Accuracy = \", accuracy_score(y_test,y_pred))"
      ],
      "execution_count": null,
      "outputs": [
        {
          "name": "stdout",
          "output_type": "stream",
          "text": [
            "Accuracy =  0.12634079068342016\n"
          ]
        }
      ]
    },
    {
      "cell_type": "code",
      "metadata": {
        "colab": {
          "base_uri": "https://localhost:8080/"
        },
        "id": "jrnP_vMslJeD",
        "outputId": "8f08ca67-dc6a-4657-bc95-ce31a81b3501"
      },
      "source": [
        "# decision tree : tunning \n",
        "\n",
        "depth_range = [3,4,5] #,6,7,8,9]\n",
        "minsplit_range = [5,10]#,20,25,30]\n",
        "minleaf_range = [5,10,15]\n",
        "\n",
        "parameters = dict(max_depth=depth_range,\n",
        "                  min_samples_split=minsplit_range, \n",
        "                  min_samples_leaf=minleaf_range)\n",
        "\n",
        "\n",
        "\n",
        "kfold = StratifiedKFold(n_splits=5, random_state=2020,shuffle=True)\n",
        "\n",
        "\n",
        "\n",
        "clf = DecisionTreeClassifier(random_state=2021)\n",
        "cv = GridSearchCV(clf, param_grid=parameters,\n",
        "                  cv=kfold,scoring='roc_auc_ovr')\n",
        "\n",
        "cv.fit(X,y)\n",
        "\n",
        "# Viewing all parameter sets\n",
        "df_cv = pd.DataFrame(cv.cv_results_)\n",
        "\n",
        "# Best Parameters\n",
        "print(\"best params = \",cv.best_params_)\n",
        "\n",
        "print(\"best score = \",cv.best_score_)\n",
        "\n",
        "best_model = cv.best_estimator_\n",
        "\n",
        "best_model.fit(X_train,y_train)\n",
        "\n",
        "y_pred = best_model.predict(X_test)\n",
        "\n",
        "\n",
        "#print(confusion_matrix(y_test, y_pred))\n",
        "#print(classification_report(y_test, y_pred))\n",
        "print(\"Accuracy = \", accuracy_score(y_test,y_pred))"
      ],
      "execution_count": null,
      "outputs": [
        {
          "name": "stdout",
          "output_type": "stream",
          "text": [
            "best params =  {'max_depth': 5, 'min_samples_leaf': 5, 'min_samples_split': 5}\n",
            "best score =  0.5330781404876506\n",
            "Accuracy =  0.136569108182654\n"
          ]
        }
      ]
    },
    {
      "cell_type": "markdown",
      "metadata": {
        "id": "Yr8KJHvpTlAj"
      },
      "source": [
        "# 4. XG Boost"
      ]
    },
    {
      "cell_type": "code",
      "metadata": {
        "colab": {
          "background_save": true
        },
        "id": "SCv23aOTTnB6",
        "outputId": "d5c5a874-92cc-44dd-9d18-71733d0eaf9f"
      },
      "source": [
        "from xgboost import XGBClassifier\n",
        "\n",
        "clf = XGBClassifier(random_state=2021)\n",
        "clf.fit(X_train,y_train)\n",
        "\n",
        "y_pred = clf.predict(X_test)\n",
        "\n",
        "print(\"Accuracy = \", accuracy_score(y_test,y_pred))"
      ],
      "execution_count": null,
      "outputs": [
        {
          "name": "stdout",
          "output_type": "stream",
          "text": [
            "Accuracy =  0.32768924302788843\n"
          ]
        }
      ]
    }
  ]
}