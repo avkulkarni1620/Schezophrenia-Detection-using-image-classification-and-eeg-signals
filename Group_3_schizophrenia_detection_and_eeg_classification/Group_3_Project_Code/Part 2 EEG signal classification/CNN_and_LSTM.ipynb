{
  "nbformat": 4,
  "nbformat_minor": 0,
  "metadata": {
    "colab": {
      "name": "CNN_and_LSTM.ipynb",
      "provenance": [],
      "collapsed_sections": [
        "YA8wW-Ti_sqf"
      ]
    },
    "kernelspec": {
      "name": "python3",
      "display_name": "Python 3"
    },
    "language_info": {
      "name": "python"
    },
    "accelerator": "GPU"
  },
  "cells": [
    {
      "cell_type": "code",
      "metadata": {
        "colab": {
          "base_uri": "https://localhost:8080/"
        },
        "id": "tC1uHVBA9InL",
        "outputId": "2c8bfcf1-317d-492a-c193-9555e32e663f"
      },
      "source": [
        "from google.colab import drive\n",
        "drive.mount('/content/drive')"
      ],
      "execution_count": 1,
      "outputs": [
        {
          "output_type": "stream",
          "name": "stdout",
          "text": [
            "Mounted at /content/drive\n"
          ]
        }
      ]
    },
    {
      "cell_type": "code",
      "metadata": {
        "id": "8RCXZI9A5uCs"
      },
      "source": [
        "import numpy as np\n",
        "import pandas as pd\n",
        "import scipy\n",
        "from scipy.signal import filtfilt\n",
        "from scipy import stats\n",
        "\n",
        "import matplotlib.pyplot as plt\n",
        "\n",
        "from sklearn.model_selection import train_test_split \n",
        "\n",
        "import tensorflow as tf\n",
        "from sklearn.preprocessing import LabelEncoder\n",
        "\n",
        "from tensorflow import keras\n",
        "\n",
        "from keras.layers.core import Dense, Dropout\n",
        "from keras.layers.recurrent import LSTM\n",
        "from keras.models import Sequential\n",
        "from keras.callbacks import EarlyStopping\n",
        "from keras.layers import Embedding\n"
      ],
      "execution_count": 2,
      "outputs": []
    },
    {
      "cell_type": "markdown",
      "metadata": {
        "id": "6Sl5oq0wSMgp"
      },
      "source": [
        "# Load Data"
      ]
    },
    {
      "cell_type": "code",
      "metadata": {
        "colab": {
          "base_uri": "https://localhost:8080/",
          "height": 112
        },
        "id": "JLC419p2fyWD",
        "outputId": "2b106191-32e8-4096-90e9-837507a5018c"
      },
      "source": [
        "df_word=pd.read_csv(\"/content/drive/MyDrive/Programs/final_project/input/classes_V01.txt\",sep=\"\\t\",header=None)\n",
        "\n",
        "df_word.columns=['name','repetition','target','category']\n",
        "\n",
        "df_word.head(2)"
      ],
      "execution_count": 3,
      "outputs": [
        {
          "output_type": "execute_result",
          "data": {
            "text/html": [
              "<div>\n",
              "<style scoped>\n",
              "    .dataframe tbody tr th:only-of-type {\n",
              "        vertical-align: middle;\n",
              "    }\n",
              "\n",
              "    .dataframe tbody tr th {\n",
              "        vertical-align: top;\n",
              "    }\n",
              "\n",
              "    .dataframe thead th {\n",
              "        text-align: right;\n",
              "    }\n",
              "</style>\n",
              "<table border=\"1\" class=\"dataframe\">\n",
              "  <thead>\n",
              "    <tr style=\"text-align: right;\">\n",
              "      <th></th>\n",
              "      <th>name</th>\n",
              "      <th>repetition</th>\n",
              "      <th>target</th>\n",
              "      <th>category</th>\n",
              "    </tr>\n",
              "  </thead>\n",
              "  <tbody>\n",
              "    <tr>\n",
              "      <th>0</th>\n",
              "      <td>domestic cat, house cat, Felis domesticus, Fel...</td>\n",
              "      <td>24</td>\n",
              "      <td>n02121808</td>\n",
              "      <td>Mammals</td>\n",
              "    </tr>\n",
              "    <tr>\n",
              "      <th>1</th>\n",
              "      <td>rock python, rock snake, Python sebae</td>\n",
              "      <td>29</td>\n",
              "      <td>n01744401</td>\n",
              "      <td>Reptile</td>\n",
              "    </tr>\n",
              "  </tbody>\n",
              "</table>\n",
              "</div>"
            ],
            "text/plain": [
              "                                                name  ...  category\n",
              "0  domestic cat, house cat, Felis domesticus, Fel...  ...   Mammals\n",
              "1              rock python, rock snake, Python sebae  ...   Reptile\n",
              "\n",
              "[2 rows x 4 columns]"
            ]
          },
          "metadata": {},
          "execution_count": 3
        }
      ]
    },
    {
      "cell_type": "code",
      "metadata": {
        "colab": {
          "base_uri": "https://localhost:8080/"
        },
        "id": "hJdhSpMTdbHn",
        "outputId": "62e10795-7b9e-4599-8ff1-8efb10588532"
      },
      "source": [
        "#read complete merged file\n",
        "df=pd.read_csv(\"/content/drive/MyDrive/Programs/final_project/output/merged.csv\")\n",
        "df.shape"
      ],
      "execution_count": 4,
      "outputs": [
        {
          "output_type": "execute_result",
          "data": {
            "text/plain": [
              "(70060, 450)"
            ]
          },
          "metadata": {},
          "execution_count": 4
        }
      ]
    },
    {
      "cell_type": "code",
      "metadata": {
        "colab": {
          "base_uri": "https://localhost:8080/",
          "height": 287
        },
        "id": "FoGeUL-M51oH",
        "outputId": "4b3f4b80-25e1-4e01-b359-9f449a17c3cf"
      },
      "source": [
        "df=df.iloc[:,1:]    #all data\n",
        "#df=df.iloc[:100,1:]    #sample data (should be multiple of 5)\n",
        "df.head(6)"
      ],
      "execution_count": 5,
      "outputs": [
        {
          "output_type": "execute_result",
          "data": {
            "text/html": [
              "<div>\n",
              "<style scoped>\n",
              "    .dataframe tbody tr th:only-of-type {\n",
              "        vertical-align: middle;\n",
              "    }\n",
              "\n",
              "    .dataframe tbody tr th {\n",
              "        vertical-align: top;\n",
              "    }\n",
              "\n",
              "    .dataframe thead th {\n",
              "        text-align: right;\n",
              "    }\n",
              "</style>\n",
              "<table border=\"1\" class=\"dataframe\">\n",
              "  <thead>\n",
              "    <tr style=\"text-align: right;\">\n",
              "      <th></th>\n",
              "      <th>global_session_id</th>\n",
              "      <th>number_of_sessions</th>\n",
              "      <th>image_id</th>\n",
              "      <th>image_category</th>\n",
              "      <th>channels</th>\n",
              "      <th>t_1</th>\n",
              "      <th>t_2</th>\n",
              "      <th>t_3</th>\n",
              "      <th>t_4</th>\n",
              "      <th>t_5</th>\n",
              "      <th>t_6</th>\n",
              "      <th>t_7</th>\n",
              "      <th>t_8</th>\n",
              "      <th>t_9</th>\n",
              "      <th>t_10</th>\n",
              "      <th>t_11</th>\n",
              "      <th>t_12</th>\n",
              "      <th>t_13</th>\n",
              "      <th>t_14</th>\n",
              "      <th>t_15</th>\n",
              "      <th>t_16</th>\n",
              "      <th>t_17</th>\n",
              "      <th>t_18</th>\n",
              "      <th>t_19</th>\n",
              "      <th>t_20</th>\n",
              "      <th>t_21</th>\n",
              "      <th>t_22</th>\n",
              "      <th>t_23</th>\n",
              "      <th>t_24</th>\n",
              "      <th>t_25</th>\n",
              "      <th>t_26</th>\n",
              "      <th>t_27</th>\n",
              "      <th>t_28</th>\n",
              "      <th>t_29</th>\n",
              "      <th>t_30</th>\n",
              "      <th>t_31</th>\n",
              "      <th>t_32</th>\n",
              "      <th>t_33</th>\n",
              "      <th>t_34</th>\n",
              "      <th>t_35</th>\n",
              "      <th>...</th>\n",
              "      <th>t_405</th>\n",
              "      <th>t_406</th>\n",
              "      <th>t_407</th>\n",
              "      <th>t_408</th>\n",
              "      <th>t_409</th>\n",
              "      <th>t_410</th>\n",
              "      <th>t_411</th>\n",
              "      <th>t_412</th>\n",
              "      <th>t_413</th>\n",
              "      <th>t_414</th>\n",
              "      <th>t_415</th>\n",
              "      <th>t_416</th>\n",
              "      <th>t_417</th>\n",
              "      <th>t_418</th>\n",
              "      <th>t_419</th>\n",
              "      <th>t_420</th>\n",
              "      <th>t_421</th>\n",
              "      <th>t_422</th>\n",
              "      <th>t_423</th>\n",
              "      <th>t_424</th>\n",
              "      <th>t_425</th>\n",
              "      <th>t_426</th>\n",
              "      <th>t_427</th>\n",
              "      <th>t_428</th>\n",
              "      <th>t_429</th>\n",
              "      <th>t_430</th>\n",
              "      <th>t_431</th>\n",
              "      <th>t_432</th>\n",
              "      <th>t_433</th>\n",
              "      <th>t_434</th>\n",
              "      <th>t_435</th>\n",
              "      <th>t_436</th>\n",
              "      <th>t_437</th>\n",
              "      <th>t_438</th>\n",
              "      <th>t_439</th>\n",
              "      <th>t_440</th>\n",
              "      <th>t_441</th>\n",
              "      <th>t_442</th>\n",
              "      <th>t_443</th>\n",
              "      <th>t_444</th>\n",
              "    </tr>\n",
              "  </thead>\n",
              "  <tbody>\n",
              "    <tr>\n",
              "      <th>0</th>\n",
              "      <td>2602</td>\n",
              "      <td>1</td>\n",
              "      <td>4823</td>\n",
              "      <td>n02077923</td>\n",
              "      <td>AF3</td>\n",
              "      <td>4320.000000</td>\n",
              "      <td>4332.307692</td>\n",
              "      <td>4334.871795</td>\n",
              "      <td>4342.564103</td>\n",
              "      <td>4333.333333</td>\n",
              "      <td>4313.333333</td>\n",
              "      <td>4318.974359</td>\n",
              "      <td>4349.743590</td>\n",
              "      <td>4358.974359</td>\n",
              "      <td>4335.384615</td>\n",
              "      <td>4321.025641</td>\n",
              "      <td>4333.333333</td>\n",
              "      <td>4345.641026</td>\n",
              "      <td>4334.358974</td>\n",
              "      <td>4321.025641</td>\n",
              "      <td>4320.000000</td>\n",
              "      <td>4321.538462</td>\n",
              "      <td>4320.000000</td>\n",
              "      <td>4311.794872</td>\n",
              "      <td>4309.230769</td>\n",
              "      <td>4311.282051</td>\n",
              "      <td>4301.025641</td>\n",
              "      <td>4288.205128</td>\n",
              "      <td>4291.794872</td>\n",
              "      <td>4296.923077</td>\n",
              "      <td>4290.769231</td>\n",
              "      <td>4303.076923</td>\n",
              "      <td>4337.435897</td>\n",
              "      <td>4334.358974</td>\n",
              "      <td>4298.974359</td>\n",
              "      <td>4292.307692</td>\n",
              "      <td>4305.128205</td>\n",
              "      <td>4305.641026</td>\n",
              "      <td>4305.641026</td>\n",
              "      <td>4303.589744</td>\n",
              "      <td>...</td>\n",
              "      <td>NaN</td>\n",
              "      <td>NaN</td>\n",
              "      <td>NaN</td>\n",
              "      <td>NaN</td>\n",
              "      <td>NaN</td>\n",
              "      <td>NaN</td>\n",
              "      <td>NaN</td>\n",
              "      <td>NaN</td>\n",
              "      <td>NaN</td>\n",
              "      <td>NaN</td>\n",
              "      <td>NaN</td>\n",
              "      <td>NaN</td>\n",
              "      <td>NaN</td>\n",
              "      <td>NaN</td>\n",
              "      <td>NaN</td>\n",
              "      <td>NaN</td>\n",
              "      <td>NaN</td>\n",
              "      <td>NaN</td>\n",
              "      <td>NaN</td>\n",
              "      <td>NaN</td>\n",
              "      <td>NaN</td>\n",
              "      <td>NaN</td>\n",
              "      <td>NaN</td>\n",
              "      <td>NaN</td>\n",
              "      <td>NaN</td>\n",
              "      <td>NaN</td>\n",
              "      <td>NaN</td>\n",
              "      <td>NaN</td>\n",
              "      <td>NaN</td>\n",
              "      <td>NaN</td>\n",
              "      <td>NaN</td>\n",
              "      <td>NaN</td>\n",
              "      <td>NaN</td>\n",
              "      <td>NaN</td>\n",
              "      <td>NaN</td>\n",
              "      <td>NaN</td>\n",
              "      <td>NaN</td>\n",
              "      <td>NaN</td>\n",
              "      <td>NaN</td>\n",
              "      <td>NaN</td>\n",
              "    </tr>\n",
              "    <tr>\n",
              "      <th>1</th>\n",
              "      <td>2602</td>\n",
              "      <td>1</td>\n",
              "      <td>4823</td>\n",
              "      <td>n02077923</td>\n",
              "      <td>AF4</td>\n",
              "      <td>4294.871795</td>\n",
              "      <td>4305.128205</td>\n",
              "      <td>4298.974359</td>\n",
              "      <td>4307.179487</td>\n",
              "      <td>4312.307692</td>\n",
              "      <td>4284.102564</td>\n",
              "      <td>4274.871795</td>\n",
              "      <td>4314.358974</td>\n",
              "      <td>4330.769231</td>\n",
              "      <td>4324.615385</td>\n",
              "      <td>4311.282051</td>\n",
              "      <td>4275.384615</td>\n",
              "      <td>4284.615385</td>\n",
              "      <td>4322.564103</td>\n",
              "      <td>4318.461538</td>\n",
              "      <td>4285.641026</td>\n",
              "      <td>4272.820513</td>\n",
              "      <td>4307.692308</td>\n",
              "      <td>4353.333333</td>\n",
              "      <td>4341.538462</td>\n",
              "      <td>4307.179487</td>\n",
              "      <td>4307.692308</td>\n",
              "      <td>4307.692308</td>\n",
              "      <td>4304.615385</td>\n",
              "      <td>4321.538462</td>\n",
              "      <td>4312.307692</td>\n",
              "      <td>4292.307692</td>\n",
              "      <td>4298.461538</td>\n",
              "      <td>4285.641026</td>\n",
              "      <td>4278.461538</td>\n",
              "      <td>4311.282051</td>\n",
              "      <td>4318.974359</td>\n",
              "      <td>4297.435897</td>\n",
              "      <td>4301.025641</td>\n",
              "      <td>4321.538462</td>\n",
              "      <td>...</td>\n",
              "      <td>NaN</td>\n",
              "      <td>NaN</td>\n",
              "      <td>NaN</td>\n",
              "      <td>NaN</td>\n",
              "      <td>NaN</td>\n",
              "      <td>NaN</td>\n",
              "      <td>NaN</td>\n",
              "      <td>NaN</td>\n",
              "      <td>NaN</td>\n",
              "      <td>NaN</td>\n",
              "      <td>NaN</td>\n",
              "      <td>NaN</td>\n",
              "      <td>NaN</td>\n",
              "      <td>NaN</td>\n",
              "      <td>NaN</td>\n",
              "      <td>NaN</td>\n",
              "      <td>NaN</td>\n",
              "      <td>NaN</td>\n",
              "      <td>NaN</td>\n",
              "      <td>NaN</td>\n",
              "      <td>NaN</td>\n",
              "      <td>NaN</td>\n",
              "      <td>NaN</td>\n",
              "      <td>NaN</td>\n",
              "      <td>NaN</td>\n",
              "      <td>NaN</td>\n",
              "      <td>NaN</td>\n",
              "      <td>NaN</td>\n",
              "      <td>NaN</td>\n",
              "      <td>NaN</td>\n",
              "      <td>NaN</td>\n",
              "      <td>NaN</td>\n",
              "      <td>NaN</td>\n",
              "      <td>NaN</td>\n",
              "      <td>NaN</td>\n",
              "      <td>NaN</td>\n",
              "      <td>NaN</td>\n",
              "      <td>NaN</td>\n",
              "      <td>NaN</td>\n",
              "      <td>NaN</td>\n",
              "    </tr>\n",
              "    <tr>\n",
              "      <th>2</th>\n",
              "      <td>2602</td>\n",
              "      <td>1</td>\n",
              "      <td>4823</td>\n",
              "      <td>n02077923</td>\n",
              "      <td>T7</td>\n",
              "      <td>4187.692308</td>\n",
              "      <td>4200.000000</td>\n",
              "      <td>4208.717949</td>\n",
              "      <td>4199.487179</td>\n",
              "      <td>4199.487179</td>\n",
              "      <td>4208.205128</td>\n",
              "      <td>4210.769231</td>\n",
              "      <td>4228.205128</td>\n",
              "      <td>4258.974359</td>\n",
              "      <td>4257.948718</td>\n",
              "      <td>4232.820513</td>\n",
              "      <td>4235.384615</td>\n",
              "      <td>4251.282051</td>\n",
              "      <td>4246.666667</td>\n",
              "      <td>4245.128205</td>\n",
              "      <td>4245.641026</td>\n",
              "      <td>4237.948718</td>\n",
              "      <td>4237.948718</td>\n",
              "      <td>4237.435897</td>\n",
              "      <td>4229.743590</td>\n",
              "      <td>4237.435897</td>\n",
              "      <td>4245.641026</td>\n",
              "      <td>4230.769231</td>\n",
              "      <td>4222.051282</td>\n",
              "      <td>4230.256410</td>\n",
              "      <td>4232.307692</td>\n",
              "      <td>4227.179487</td>\n",
              "      <td>4231.282051</td>\n",
              "      <td>4244.102564</td>\n",
              "      <td>4250.769231</td>\n",
              "      <td>4241.538462</td>\n",
              "      <td>4231.794872</td>\n",
              "      <td>4237.435897</td>\n",
              "      <td>4244.615385</td>\n",
              "      <td>4244.615385</td>\n",
              "      <td>...</td>\n",
              "      <td>NaN</td>\n",
              "      <td>NaN</td>\n",
              "      <td>NaN</td>\n",
              "      <td>NaN</td>\n",
              "      <td>NaN</td>\n",
              "      <td>NaN</td>\n",
              "      <td>NaN</td>\n",
              "      <td>NaN</td>\n",
              "      <td>NaN</td>\n",
              "      <td>NaN</td>\n",
              "      <td>NaN</td>\n",
              "      <td>NaN</td>\n",
              "      <td>NaN</td>\n",
              "      <td>NaN</td>\n",
              "      <td>NaN</td>\n",
              "      <td>NaN</td>\n",
              "      <td>NaN</td>\n",
              "      <td>NaN</td>\n",
              "      <td>NaN</td>\n",
              "      <td>NaN</td>\n",
              "      <td>NaN</td>\n",
              "      <td>NaN</td>\n",
              "      <td>NaN</td>\n",
              "      <td>NaN</td>\n",
              "      <td>NaN</td>\n",
              "      <td>NaN</td>\n",
              "      <td>NaN</td>\n",
              "      <td>NaN</td>\n",
              "      <td>NaN</td>\n",
              "      <td>NaN</td>\n",
              "      <td>NaN</td>\n",
              "      <td>NaN</td>\n",
              "      <td>NaN</td>\n",
              "      <td>NaN</td>\n",
              "      <td>NaN</td>\n",
              "      <td>NaN</td>\n",
              "      <td>NaN</td>\n",
              "      <td>NaN</td>\n",
              "      <td>NaN</td>\n",
              "      <td>NaN</td>\n",
              "    </tr>\n",
              "    <tr>\n",
              "      <th>3</th>\n",
              "      <td>2602</td>\n",
              "      <td>1</td>\n",
              "      <td>4823</td>\n",
              "      <td>n02077923</td>\n",
              "      <td>T8</td>\n",
              "      <td>4203.076923</td>\n",
              "      <td>4224.615385</td>\n",
              "      <td>4249.743590</td>\n",
              "      <td>4231.794872</td>\n",
              "      <td>4190.769231</td>\n",
              "      <td>4186.666667</td>\n",
              "      <td>4208.717949</td>\n",
              "      <td>4223.589744</td>\n",
              "      <td>4226.153846</td>\n",
              "      <td>4229.230769</td>\n",
              "      <td>4233.846154</td>\n",
              "      <td>4222.564103</td>\n",
              "      <td>4210.256410</td>\n",
              "      <td>4215.384615</td>\n",
              "      <td>4217.948718</td>\n",
              "      <td>4202.051282</td>\n",
              "      <td>4188.717949</td>\n",
              "      <td>4202.564103</td>\n",
              "      <td>4215.897436</td>\n",
              "      <td>4219.487179</td>\n",
              "      <td>4226.666667</td>\n",
              "      <td>4214.358974</td>\n",
              "      <td>4183.589744</td>\n",
              "      <td>4184.102564</td>\n",
              "      <td>4221.538462</td>\n",
              "      <td>4242.564103</td>\n",
              "      <td>4226.153846</td>\n",
              "      <td>4217.948718</td>\n",
              "      <td>4225.128205</td>\n",
              "      <td>4208.717949</td>\n",
              "      <td>4185.128205</td>\n",
              "      <td>4206.153846</td>\n",
              "      <td>4228.717949</td>\n",
              "      <td>4204.102564</td>\n",
              "      <td>4182.051282</td>\n",
              "      <td>...</td>\n",
              "      <td>NaN</td>\n",
              "      <td>NaN</td>\n",
              "      <td>NaN</td>\n",
              "      <td>NaN</td>\n",
              "      <td>NaN</td>\n",
              "      <td>NaN</td>\n",
              "      <td>NaN</td>\n",
              "      <td>NaN</td>\n",
              "      <td>NaN</td>\n",
              "      <td>NaN</td>\n",
              "      <td>NaN</td>\n",
              "      <td>NaN</td>\n",
              "      <td>NaN</td>\n",
              "      <td>NaN</td>\n",
              "      <td>NaN</td>\n",
              "      <td>NaN</td>\n",
              "      <td>NaN</td>\n",
              "      <td>NaN</td>\n",
              "      <td>NaN</td>\n",
              "      <td>NaN</td>\n",
              "      <td>NaN</td>\n",
              "      <td>NaN</td>\n",
              "      <td>NaN</td>\n",
              "      <td>NaN</td>\n",
              "      <td>NaN</td>\n",
              "      <td>NaN</td>\n",
              "      <td>NaN</td>\n",
              "      <td>NaN</td>\n",
              "      <td>NaN</td>\n",
              "      <td>NaN</td>\n",
              "      <td>NaN</td>\n",
              "      <td>NaN</td>\n",
              "      <td>NaN</td>\n",
              "      <td>NaN</td>\n",
              "      <td>NaN</td>\n",
              "      <td>NaN</td>\n",
              "      <td>NaN</td>\n",
              "      <td>NaN</td>\n",
              "      <td>NaN</td>\n",
              "      <td>NaN</td>\n",
              "    </tr>\n",
              "    <tr>\n",
              "      <th>4</th>\n",
              "      <td>2602</td>\n",
              "      <td>1</td>\n",
              "      <td>4823</td>\n",
              "      <td>n02077923</td>\n",
              "      <td>Pz</td>\n",
              "      <td>4145.128205</td>\n",
              "      <td>4138.461538</td>\n",
              "      <td>4145.128205</td>\n",
              "      <td>4142.051282</td>\n",
              "      <td>4132.307692</td>\n",
              "      <td>4134.358974</td>\n",
              "      <td>4137.948718</td>\n",
              "      <td>4146.153846</td>\n",
              "      <td>4155.384615</td>\n",
              "      <td>4149.743590</td>\n",
              "      <td>4147.692308</td>\n",
              "      <td>4152.820513</td>\n",
              "      <td>4145.128205</td>\n",
              "      <td>4138.461538</td>\n",
              "      <td>4146.153846</td>\n",
              "      <td>4144.615385</td>\n",
              "      <td>4140.512821</td>\n",
              "      <td>4152.820513</td>\n",
              "      <td>4168.717949</td>\n",
              "      <td>4175.384615</td>\n",
              "      <td>4167.692308</td>\n",
              "      <td>4150.256410</td>\n",
              "      <td>4147.179487</td>\n",
              "      <td>4157.948718</td>\n",
              "      <td>4148.717949</td>\n",
              "      <td>4130.256410</td>\n",
              "      <td>4138.461538</td>\n",
              "      <td>4154.871795</td>\n",
              "      <td>4136.410256</td>\n",
              "      <td>4113.846154</td>\n",
              "      <td>4135.897436</td>\n",
              "      <td>4161.538462</td>\n",
              "      <td>4154.358974</td>\n",
              "      <td>4146.153846</td>\n",
              "      <td>4150.769231</td>\n",
              "      <td>...</td>\n",
              "      <td>NaN</td>\n",
              "      <td>NaN</td>\n",
              "      <td>NaN</td>\n",
              "      <td>NaN</td>\n",
              "      <td>NaN</td>\n",
              "      <td>NaN</td>\n",
              "      <td>NaN</td>\n",
              "      <td>NaN</td>\n",
              "      <td>NaN</td>\n",
              "      <td>NaN</td>\n",
              "      <td>NaN</td>\n",
              "      <td>NaN</td>\n",
              "      <td>NaN</td>\n",
              "      <td>NaN</td>\n",
              "      <td>NaN</td>\n",
              "      <td>NaN</td>\n",
              "      <td>NaN</td>\n",
              "      <td>NaN</td>\n",
              "      <td>NaN</td>\n",
              "      <td>NaN</td>\n",
              "      <td>NaN</td>\n",
              "      <td>NaN</td>\n",
              "      <td>NaN</td>\n",
              "      <td>NaN</td>\n",
              "      <td>NaN</td>\n",
              "      <td>NaN</td>\n",
              "      <td>NaN</td>\n",
              "      <td>NaN</td>\n",
              "      <td>NaN</td>\n",
              "      <td>NaN</td>\n",
              "      <td>NaN</td>\n",
              "      <td>NaN</td>\n",
              "      <td>NaN</td>\n",
              "      <td>NaN</td>\n",
              "      <td>NaN</td>\n",
              "      <td>NaN</td>\n",
              "      <td>NaN</td>\n",
              "      <td>NaN</td>\n",
              "      <td>NaN</td>\n",
              "      <td>NaN</td>\n",
              "    </tr>\n",
              "    <tr>\n",
              "      <th>5</th>\n",
              "      <td>2601</td>\n",
              "      <td>1</td>\n",
              "      <td>168</td>\n",
              "      <td>n02089078</td>\n",
              "      <td>AF3</td>\n",
              "      <td>4279.487179</td>\n",
              "      <td>4279.487179</td>\n",
              "      <td>4280.512821</td>\n",
              "      <td>4297.435897</td>\n",
              "      <td>4315.384615</td>\n",
              "      <td>4299.487179</td>\n",
              "      <td>4278.974359</td>\n",
              "      <td>4292.307692</td>\n",
              "      <td>4302.051282</td>\n",
              "      <td>4299.487179</td>\n",
              "      <td>4297.948718</td>\n",
              "      <td>4289.230769</td>\n",
              "      <td>4289.230769</td>\n",
              "      <td>4297.948718</td>\n",
              "      <td>4297.435897</td>\n",
              "      <td>4293.846154</td>\n",
              "      <td>4282.051282</td>\n",
              "      <td>4261.025641</td>\n",
              "      <td>4275.897436</td>\n",
              "      <td>4299.487179</td>\n",
              "      <td>4286.666667</td>\n",
              "      <td>4275.384615</td>\n",
              "      <td>4271.282051</td>\n",
              "      <td>4282.051282</td>\n",
              "      <td>4297.435897</td>\n",
              "      <td>4280.512821</td>\n",
              "      <td>4267.692308</td>\n",
              "      <td>4277.948718</td>\n",
              "      <td>4284.102564</td>\n",
              "      <td>4289.230769</td>\n",
              "      <td>4291.794872</td>\n",
              "      <td>4278.974359</td>\n",
              "      <td>4274.358974</td>\n",
              "      <td>4281.025641</td>\n",
              "      <td>4282.564103</td>\n",
              "      <td>...</td>\n",
              "      <td>NaN</td>\n",
              "      <td>NaN</td>\n",
              "      <td>NaN</td>\n",
              "      <td>NaN</td>\n",
              "      <td>NaN</td>\n",
              "      <td>NaN</td>\n",
              "      <td>NaN</td>\n",
              "      <td>NaN</td>\n",
              "      <td>NaN</td>\n",
              "      <td>NaN</td>\n",
              "      <td>NaN</td>\n",
              "      <td>NaN</td>\n",
              "      <td>NaN</td>\n",
              "      <td>NaN</td>\n",
              "      <td>NaN</td>\n",
              "      <td>NaN</td>\n",
              "      <td>NaN</td>\n",
              "      <td>NaN</td>\n",
              "      <td>NaN</td>\n",
              "      <td>NaN</td>\n",
              "      <td>NaN</td>\n",
              "      <td>NaN</td>\n",
              "      <td>NaN</td>\n",
              "      <td>NaN</td>\n",
              "      <td>NaN</td>\n",
              "      <td>NaN</td>\n",
              "      <td>NaN</td>\n",
              "      <td>NaN</td>\n",
              "      <td>NaN</td>\n",
              "      <td>NaN</td>\n",
              "      <td>NaN</td>\n",
              "      <td>NaN</td>\n",
              "      <td>NaN</td>\n",
              "      <td>NaN</td>\n",
              "      <td>NaN</td>\n",
              "      <td>NaN</td>\n",
              "      <td>NaN</td>\n",
              "      <td>NaN</td>\n",
              "      <td>NaN</td>\n",
              "      <td>NaN</td>\n",
              "    </tr>\n",
              "  </tbody>\n",
              "</table>\n",
              "<p>6 rows × 449 columns</p>\n",
              "</div>"
            ],
            "text/plain": [
              "   global_session_id  number_of_sessions  image_id  ... t_442 t_443  t_444\n",
              "0               2602                   1      4823  ...   NaN   NaN    NaN\n",
              "1               2602                   1      4823  ...   NaN   NaN    NaN\n",
              "2               2602                   1      4823  ...   NaN   NaN    NaN\n",
              "3               2602                   1      4823  ...   NaN   NaN    NaN\n",
              "4               2602                   1      4823  ...   NaN   NaN    NaN\n",
              "5               2601                   1       168  ...   NaN   NaN    NaN\n",
              "\n",
              "[6 rows x 449 columns]"
            ]
          },
          "metadata": {},
          "execution_count": 5
        }
      ]
    },
    {
      "cell_type": "code",
      "metadata": {
        "colab": {
          "base_uri": "https://localhost:8080/"
        },
        "id": "QInBskXL6mqH",
        "outputId": "b48a89e4-8070-4b2b-f114-9247d24449f3"
      },
      "source": [
        "df.shape #check shape of all data"
      ],
      "execution_count": 6,
      "outputs": [
        {
          "output_type": "execute_result",
          "data": {
            "text/plain": [
              "(70060, 449)"
            ]
          },
          "metadata": {},
          "execution_count": 6
        }
      ]
    },
    {
      "cell_type": "code",
      "metadata": {
        "colab": {
          "base_uri": "https://localhost:8080/"
        },
        "id": "bQYhNRuHA1s4",
        "outputId": "12e999dc-e095-470c-8edf-1c9c16239fae"
      },
      "source": [
        "df.isnull().sum()  #check if there are any NA values"
      ],
      "execution_count": 7,
      "outputs": [
        {
          "output_type": "execute_result",
          "data": {
            "text/plain": [
              "global_session_id         0\n",
              "number_of_sessions        0\n",
              "image_id                  0\n",
              "image_category            0\n",
              "channels                  0\n",
              "                      ...  \n",
              "t_440                 70050\n",
              "t_441                 70055\n",
              "t_442                 70055\n",
              "t_443                 70055\n",
              "t_444                 70055\n",
              "Length: 449, dtype: int64"
            ]
          },
          "metadata": {},
          "execution_count": 7
        }
      ]
    },
    {
      "cell_type": "code",
      "metadata": {
        "colab": {
          "base_uri": "https://localhost:8080/"
        },
        "id": "SuX-g68y_uTU",
        "outputId": "7645eb2d-a8db-40be-d42b-05cf49ff9165"
      },
      "source": [
        "#Drop Columns which have more than 90% NAs \n",
        "df.dropna(axis=1, thresh=int(0.1 * df.shape[0]),inplace=True)\n",
        "df.shape"
      ],
      "execution_count": 8,
      "outputs": [
        {
          "output_type": "execute_result",
          "data": {
            "text/plain": [
              "(70060, 397)"
            ]
          },
          "metadata": {},
          "execution_count": 8
        }
      ]
    },
    {
      "cell_type": "code",
      "metadata": {
        "id": "AQOG16KrAtnP"
      },
      "source": [
        "df.fillna(0, inplace=True)        #replace NaN with 0  "
      ],
      "execution_count": 9,
      "outputs": []
    },
    {
      "cell_type": "code",
      "metadata": {
        "colab": {
          "base_uri": "https://localhost:8080/"
        },
        "id": "1IQTWAZXA6iH",
        "outputId": "503af9b6-24a4-43b8-cfcc-207b15cb1c31"
      },
      "source": [
        "df.isnull().sum()                   #verify there are no null values"
      ],
      "execution_count": 10,
      "outputs": [
        {
          "output_type": "execute_result",
          "data": {
            "text/plain": [
              "global_session_id     0\n",
              "number_of_sessions    0\n",
              "image_id              0\n",
              "image_category        0\n",
              "channels              0\n",
              "                     ..\n",
              "t_388                 0\n",
              "t_389                 0\n",
              "t_390                 0\n",
              "t_391                 0\n",
              "t_392                 0\n",
              "Length: 397, dtype: int64"
            ]
          },
          "metadata": {},
          "execution_count": 10
        }
      ]
    },
    {
      "cell_type": "code",
      "metadata": {
        "colab": {
          "base_uri": "https://localhost:8080/",
          "height": 193
        },
        "id": "McORFcY-BitK",
        "outputId": "af73f617-3d06-4085-b4b2-67022700e1b0"
      },
      "source": [
        "df_main=df.drop(['global_session_id',\t'number_of_sessions',\t'image_id',\t'channels'],axis=1)\n",
        "\n",
        "df_main.head(3)"
      ],
      "execution_count": 11,
      "outputs": [
        {
          "output_type": "execute_result",
          "data": {
            "text/html": [
              "<div>\n",
              "<style scoped>\n",
              "    .dataframe tbody tr th:only-of-type {\n",
              "        vertical-align: middle;\n",
              "    }\n",
              "\n",
              "    .dataframe tbody tr th {\n",
              "        vertical-align: top;\n",
              "    }\n",
              "\n",
              "    .dataframe thead th {\n",
              "        text-align: right;\n",
              "    }\n",
              "</style>\n",
              "<table border=\"1\" class=\"dataframe\">\n",
              "  <thead>\n",
              "    <tr style=\"text-align: right;\">\n",
              "      <th></th>\n",
              "      <th>image_category</th>\n",
              "      <th>t_1</th>\n",
              "      <th>t_2</th>\n",
              "      <th>t_3</th>\n",
              "      <th>t_4</th>\n",
              "      <th>t_5</th>\n",
              "      <th>t_6</th>\n",
              "      <th>t_7</th>\n",
              "      <th>t_8</th>\n",
              "      <th>t_9</th>\n",
              "      <th>t_10</th>\n",
              "      <th>t_11</th>\n",
              "      <th>t_12</th>\n",
              "      <th>t_13</th>\n",
              "      <th>t_14</th>\n",
              "      <th>t_15</th>\n",
              "      <th>t_16</th>\n",
              "      <th>t_17</th>\n",
              "      <th>t_18</th>\n",
              "      <th>t_19</th>\n",
              "      <th>t_20</th>\n",
              "      <th>t_21</th>\n",
              "      <th>t_22</th>\n",
              "      <th>t_23</th>\n",
              "      <th>t_24</th>\n",
              "      <th>t_25</th>\n",
              "      <th>t_26</th>\n",
              "      <th>t_27</th>\n",
              "      <th>t_28</th>\n",
              "      <th>t_29</th>\n",
              "      <th>t_30</th>\n",
              "      <th>t_31</th>\n",
              "      <th>t_32</th>\n",
              "      <th>t_33</th>\n",
              "      <th>t_34</th>\n",
              "      <th>t_35</th>\n",
              "      <th>t_36</th>\n",
              "      <th>t_37</th>\n",
              "      <th>t_38</th>\n",
              "      <th>t_39</th>\n",
              "      <th>...</th>\n",
              "      <th>t_353</th>\n",
              "      <th>t_354</th>\n",
              "      <th>t_355</th>\n",
              "      <th>t_356</th>\n",
              "      <th>t_357</th>\n",
              "      <th>t_358</th>\n",
              "      <th>t_359</th>\n",
              "      <th>t_360</th>\n",
              "      <th>t_361</th>\n",
              "      <th>t_362</th>\n",
              "      <th>t_363</th>\n",
              "      <th>t_364</th>\n",
              "      <th>t_365</th>\n",
              "      <th>t_366</th>\n",
              "      <th>t_367</th>\n",
              "      <th>t_368</th>\n",
              "      <th>t_369</th>\n",
              "      <th>t_370</th>\n",
              "      <th>t_371</th>\n",
              "      <th>t_372</th>\n",
              "      <th>t_373</th>\n",
              "      <th>t_374</th>\n",
              "      <th>t_375</th>\n",
              "      <th>t_376</th>\n",
              "      <th>t_377</th>\n",
              "      <th>t_378</th>\n",
              "      <th>t_379</th>\n",
              "      <th>t_380</th>\n",
              "      <th>t_381</th>\n",
              "      <th>t_382</th>\n",
              "      <th>t_383</th>\n",
              "      <th>t_384</th>\n",
              "      <th>t_385</th>\n",
              "      <th>t_386</th>\n",
              "      <th>t_387</th>\n",
              "      <th>t_388</th>\n",
              "      <th>t_389</th>\n",
              "      <th>t_390</th>\n",
              "      <th>t_391</th>\n",
              "      <th>t_392</th>\n",
              "    </tr>\n",
              "  </thead>\n",
              "  <tbody>\n",
              "    <tr>\n",
              "      <th>0</th>\n",
              "      <td>n02077923</td>\n",
              "      <td>4320.000000</td>\n",
              "      <td>4332.307692</td>\n",
              "      <td>4334.871795</td>\n",
              "      <td>4342.564103</td>\n",
              "      <td>4333.333333</td>\n",
              "      <td>4313.333333</td>\n",
              "      <td>4318.974359</td>\n",
              "      <td>4349.743590</td>\n",
              "      <td>4358.974359</td>\n",
              "      <td>4335.384615</td>\n",
              "      <td>4321.025641</td>\n",
              "      <td>4333.333333</td>\n",
              "      <td>4345.641026</td>\n",
              "      <td>4334.358974</td>\n",
              "      <td>4321.025641</td>\n",
              "      <td>4320.000000</td>\n",
              "      <td>4321.538462</td>\n",
              "      <td>4320.000000</td>\n",
              "      <td>4311.794872</td>\n",
              "      <td>4309.230769</td>\n",
              "      <td>4311.282051</td>\n",
              "      <td>4301.025641</td>\n",
              "      <td>4288.205128</td>\n",
              "      <td>4291.794872</td>\n",
              "      <td>4296.923077</td>\n",
              "      <td>4290.769231</td>\n",
              "      <td>4303.076923</td>\n",
              "      <td>4337.435897</td>\n",
              "      <td>4334.358974</td>\n",
              "      <td>4298.974359</td>\n",
              "      <td>4292.307692</td>\n",
              "      <td>4305.128205</td>\n",
              "      <td>4305.641026</td>\n",
              "      <td>4305.641026</td>\n",
              "      <td>4303.589744</td>\n",
              "      <td>4286.153846</td>\n",
              "      <td>4273.333333</td>\n",
              "      <td>4274.871795</td>\n",
              "      <td>4277.948718</td>\n",
              "      <td>...</td>\n",
              "      <td>4276.410256</td>\n",
              "      <td>4277.948718</td>\n",
              "      <td>4275.384615</td>\n",
              "      <td>4258.974359</td>\n",
              "      <td>4261.025641</td>\n",
              "      <td>4271.794872</td>\n",
              "      <td>4266.153846</td>\n",
              "      <td>4265.641026</td>\n",
              "      <td>4267.179487</td>\n",
              "      <td>4260.000000</td>\n",
              "      <td>4262.051282</td>\n",
              "      <td>4265.641026</td>\n",
              "      <td>4257.948718</td>\n",
              "      <td>4254.871795</td>\n",
              "      <td>4267.692308</td>\n",
              "      <td>4286.153846</td>\n",
              "      <td>4284.615385</td>\n",
              "      <td>4265.128205</td>\n",
              "      <td>4256.410256</td>\n",
              "      <td>4261.025641</td>\n",
              "      <td>4265.641026</td>\n",
              "      <td>4261.025641</td>\n",
              "      <td>4239.487179</td>\n",
              "      <td>4213.846154</td>\n",
              "      <td>4229.230769</td>\n",
              "      <td>4265.128205</td>\n",
              "      <td>4263.589744</td>\n",
              "      <td>4250.256410</td>\n",
              "      <td>4266.666667</td>\n",
              "      <td>4275.384615</td>\n",
              "      <td>4250.256410</td>\n",
              "      <td>4233.846154</td>\n",
              "      <td>4235.897436</td>\n",
              "      <td>4216.923077</td>\n",
              "      <td>4192.820513</td>\n",
              "      <td>4200.000000</td>\n",
              "      <td>4224.615385</td>\n",
              "      <td>4240.512821</td>\n",
              "      <td>4233.846154</td>\n",
              "      <td>4210.769231</td>\n",
              "    </tr>\n",
              "    <tr>\n",
              "      <th>1</th>\n",
              "      <td>n02077923</td>\n",
              "      <td>4294.871795</td>\n",
              "      <td>4305.128205</td>\n",
              "      <td>4298.974359</td>\n",
              "      <td>4307.179487</td>\n",
              "      <td>4312.307692</td>\n",
              "      <td>4284.102564</td>\n",
              "      <td>4274.871795</td>\n",
              "      <td>4314.358974</td>\n",
              "      <td>4330.769231</td>\n",
              "      <td>4324.615385</td>\n",
              "      <td>4311.282051</td>\n",
              "      <td>4275.384615</td>\n",
              "      <td>4284.615385</td>\n",
              "      <td>4322.564103</td>\n",
              "      <td>4318.461538</td>\n",
              "      <td>4285.641026</td>\n",
              "      <td>4272.820513</td>\n",
              "      <td>4307.692308</td>\n",
              "      <td>4353.333333</td>\n",
              "      <td>4341.538462</td>\n",
              "      <td>4307.179487</td>\n",
              "      <td>4307.692308</td>\n",
              "      <td>4307.692308</td>\n",
              "      <td>4304.615385</td>\n",
              "      <td>4321.538462</td>\n",
              "      <td>4312.307692</td>\n",
              "      <td>4292.307692</td>\n",
              "      <td>4298.461538</td>\n",
              "      <td>4285.641026</td>\n",
              "      <td>4278.461538</td>\n",
              "      <td>4311.282051</td>\n",
              "      <td>4318.974359</td>\n",
              "      <td>4297.435897</td>\n",
              "      <td>4301.025641</td>\n",
              "      <td>4321.538462</td>\n",
              "      <td>4325.128205</td>\n",
              "      <td>4320.000000</td>\n",
              "      <td>4294.871795</td>\n",
              "      <td>4271.282051</td>\n",
              "      <td>...</td>\n",
              "      <td>4238.461538</td>\n",
              "      <td>4242.564103</td>\n",
              "      <td>4290.769231</td>\n",
              "      <td>4284.615385</td>\n",
              "      <td>4238.974359</td>\n",
              "      <td>4250.769231</td>\n",
              "      <td>4297.948718</td>\n",
              "      <td>4325.641026</td>\n",
              "      <td>4326.666667</td>\n",
              "      <td>4294.871795</td>\n",
              "      <td>4265.128205</td>\n",
              "      <td>4254.358974</td>\n",
              "      <td>4251.282051</td>\n",
              "      <td>4272.307692</td>\n",
              "      <td>4273.846154</td>\n",
              "      <td>4240.000000</td>\n",
              "      <td>4239.487179</td>\n",
              "      <td>4269.230769</td>\n",
              "      <td>4267.692308</td>\n",
              "      <td>4254.871795</td>\n",
              "      <td>4265.128205</td>\n",
              "      <td>4272.820513</td>\n",
              "      <td>4254.358974</td>\n",
              "      <td>4223.589744</td>\n",
              "      <td>4254.358974</td>\n",
              "      <td>4302.564103</td>\n",
              "      <td>4257.948718</td>\n",
              "      <td>4215.384615</td>\n",
              "      <td>4256.410256</td>\n",
              "      <td>4264.102564</td>\n",
              "      <td>4211.794872</td>\n",
              "      <td>4210.256410</td>\n",
              "      <td>4243.589744</td>\n",
              "      <td>4232.820513</td>\n",
              "      <td>4211.282051</td>\n",
              "      <td>4222.051282</td>\n",
              "      <td>4228.717949</td>\n",
              "      <td>4213.846154</td>\n",
              "      <td>4220.000000</td>\n",
              "      <td>4246.666667</td>\n",
              "    </tr>\n",
              "    <tr>\n",
              "      <th>2</th>\n",
              "      <td>n02077923</td>\n",
              "      <td>4187.692308</td>\n",
              "      <td>4200.000000</td>\n",
              "      <td>4208.717949</td>\n",
              "      <td>4199.487179</td>\n",
              "      <td>4199.487179</td>\n",
              "      <td>4208.205128</td>\n",
              "      <td>4210.769231</td>\n",
              "      <td>4228.205128</td>\n",
              "      <td>4258.974359</td>\n",
              "      <td>4257.948718</td>\n",
              "      <td>4232.820513</td>\n",
              "      <td>4235.384615</td>\n",
              "      <td>4251.282051</td>\n",
              "      <td>4246.666667</td>\n",
              "      <td>4245.128205</td>\n",
              "      <td>4245.641026</td>\n",
              "      <td>4237.948718</td>\n",
              "      <td>4237.948718</td>\n",
              "      <td>4237.435897</td>\n",
              "      <td>4229.743590</td>\n",
              "      <td>4237.435897</td>\n",
              "      <td>4245.641026</td>\n",
              "      <td>4230.769231</td>\n",
              "      <td>4222.051282</td>\n",
              "      <td>4230.256410</td>\n",
              "      <td>4232.307692</td>\n",
              "      <td>4227.179487</td>\n",
              "      <td>4231.282051</td>\n",
              "      <td>4244.102564</td>\n",
              "      <td>4250.769231</td>\n",
              "      <td>4241.538462</td>\n",
              "      <td>4231.794872</td>\n",
              "      <td>4237.435897</td>\n",
              "      <td>4244.615385</td>\n",
              "      <td>4244.615385</td>\n",
              "      <td>4244.102564</td>\n",
              "      <td>4233.846154</td>\n",
              "      <td>4218.461538</td>\n",
              "      <td>4212.820513</td>\n",
              "      <td>...</td>\n",
              "      <td>4258.974359</td>\n",
              "      <td>4237.948718</td>\n",
              "      <td>4240.512821</td>\n",
              "      <td>4254.358974</td>\n",
              "      <td>4254.358974</td>\n",
              "      <td>4254.871795</td>\n",
              "      <td>4262.564103</td>\n",
              "      <td>4254.871795</td>\n",
              "      <td>4237.948718</td>\n",
              "      <td>4247.692308</td>\n",
              "      <td>4271.282051</td>\n",
              "      <td>4264.615385</td>\n",
              "      <td>4248.717949</td>\n",
              "      <td>4258.461538</td>\n",
              "      <td>4273.846154</td>\n",
              "      <td>4271.794872</td>\n",
              "      <td>4258.974359</td>\n",
              "      <td>4250.769231</td>\n",
              "      <td>4253.846154</td>\n",
              "      <td>4265.128205</td>\n",
              "      <td>4264.102564</td>\n",
              "      <td>4247.179487</td>\n",
              "      <td>4241.538462</td>\n",
              "      <td>4237.435897</td>\n",
              "      <td>4238.974359</td>\n",
              "      <td>4268.205128</td>\n",
              "      <td>4289.230769</td>\n",
              "      <td>4271.794872</td>\n",
              "      <td>4256.923077</td>\n",
              "      <td>4273.846154</td>\n",
              "      <td>4267.179487</td>\n",
              "      <td>4230.256410</td>\n",
              "      <td>4221.538462</td>\n",
              "      <td>4234.871795</td>\n",
              "      <td>4234.871795</td>\n",
              "      <td>4228.205128</td>\n",
              "      <td>4228.205128</td>\n",
              "      <td>4232.307692</td>\n",
              "      <td>4232.820513</td>\n",
              "      <td>4229.743590</td>\n",
              "    </tr>\n",
              "  </tbody>\n",
              "</table>\n",
              "<p>3 rows × 393 columns</p>\n",
              "</div>"
            ],
            "text/plain": [
              "  image_category          t_1  ...        t_391        t_392\n",
              "0      n02077923  4320.000000  ...  4233.846154  4210.769231\n",
              "1      n02077923  4294.871795  ...  4220.000000  4246.666667\n",
              "2      n02077923  4187.692308  ...  4232.820513  4229.743590\n",
              "\n",
              "[3 rows x 393 columns]"
            ]
          },
          "metadata": {},
          "execution_count": 11
        }
      ]
    },
    {
      "cell_type": "code",
      "metadata": {
        "colab": {
          "base_uri": "https://localhost:8080/"
        },
        "id": "QCbGsZ5iCcFJ",
        "outputId": "ad6803fc-4619-4455-81ec-dd19182b90ea"
      },
      "source": [
        "df_main.shape               #check shape after dropping other columns"
      ],
      "execution_count": 12,
      "outputs": [
        {
          "output_type": "execute_result",
          "data": {
            "text/plain": [
              "(70060, 393)"
            ]
          },
          "metadata": {},
          "execution_count": 12
        }
      ]
    },
    {
      "cell_type": "code",
      "metadata": {
        "colab": {
          "base_uri": "https://localhost:8080/"
        },
        "id": "P3bRMmhiFnmV",
        "outputId": "d4770328-cf55-4eca-da91-5558fb041a7e"
      },
      "source": [
        "df_main.shape[0]/5"
      ],
      "execution_count": 13,
      "outputs": [
        {
          "output_type": "execute_result",
          "data": {
            "text/plain": [
              "14012.0"
            ]
          },
          "metadata": {},
          "execution_count": 13
        }
      ]
    },
    {
      "cell_type": "code",
      "metadata": {
        "colab": {
          "base_uri": "https://localhost:8080/"
        },
        "id": "tEx897kfJJdO",
        "outputId": "8f7a1f0e-8e08-4828-9174-457ff3155135"
      },
      "source": [
        "df_main.iloc[1,1:]      #view time stamps"
      ],
      "execution_count": 14,
      "outputs": [
        {
          "output_type": "execute_result",
          "data": {
            "text/plain": [
              "t_1      4294.87\n",
              "t_2      4305.13\n",
              "t_3      4298.97\n",
              "t_4      4307.18\n",
              "t_5      4312.31\n",
              "          ...   \n",
              "t_388    4222.05\n",
              "t_389    4228.72\n",
              "t_390    4213.85\n",
              "t_391       4220\n",
              "t_392    4246.67\n",
              "Name: 1, Length: 392, dtype: object"
            ]
          },
          "metadata": {},
          "execution_count": 14
        }
      ]
    },
    {
      "cell_type": "code",
      "metadata": {
        "id": "g4NrclpzLjKs"
      },
      "source": [
        "\n",
        "num_channels=5"
      ],
      "execution_count": 15,
      "outputs": []
    },
    {
      "cell_type": "markdown",
      "metadata": {
        "id": "ddnEmPgISHXS"
      },
      "source": [
        "# Data Preparation\n",
        "1. Merging subcategory\n",
        "2. Applying filters\n",
        "3. Separating  X, y"
      ]
    },
    {
      "cell_type": "code",
      "metadata": {
        "id": "kDV0FSLkYshN"
      },
      "source": [
        "#apply filters to data\n",
        "\n",
        "def apply_bp_filter(signals,filter_type='bandpass'):\n",
        "\n",
        "  fs= 128.0              # sample rate, Hz\n",
        "  lowcut = 20.0\n",
        "  highcut = 50.0\n",
        "\n",
        "  nyq = 0.5*fs              #The Nyquist frequency is half the sampling rate\n",
        "  low = lowcut / nyq\n",
        "  high = highcut / nyq\n",
        "\n",
        "  order = 2 \n",
        "\n",
        "  if filter_type=='low':\n",
        "    b, a = scipy.signal.butter(order, low, btype='low', analog=False)\n",
        "  elif filter_type=='high':\n",
        "    b, a = scipy.signal.butter(order, high, btype='high', analog=False)\n",
        "  else:\n",
        "    b,a = scipy.signal.butter(order,(low,high),'bandpass',analog=False)\n",
        "\n",
        "  signals = scipy.signal.filtfilt(b,a,signals.T,axis=0)\n",
        "  \n",
        "  return pd.Series(signals.transpose())"
      ],
      "execution_count": 16,
      "outputs": []
    },
    {
      "cell_type": "code",
      "metadata": {
        "id": "TWTnaHKVZtWL"
      },
      "source": [
        "#visual representation of signals  #pass single row at a time\n",
        "\n",
        "def display_signal(single_row):\n",
        "\n",
        "    #print(type(single_row))\n",
        "    plt.figure(figsize=(10, 1))\n",
        "\n",
        "    #print(type(single_row))\n",
        "\n",
        "    plt.plot(range(len(single_row)), single_row)\n",
        "  \n",
        "    plt.title(\"Signal\")\n",
        "    plt.ylabel('frequency')\n",
        "    plt.xlabel('time')\n",
        "    #plt.legend()\n",
        "    plt.show()\n",
        "    print(\"\\n\")"
      ],
      "execution_count": 17,
      "outputs": []
    },
    {
      "cell_type": "code",
      "metadata": {
        "id": "Ov9FMurHI1OR"
      },
      "source": [
        "# replace category with sub category\n",
        "\n",
        "def find_and_replace(word):\n",
        "  target_dict={\"Animals\":[\"Mammals\",\"Bird\",\"Reptile\",\"Fish\",\"amphibian\",\"Asteroidea\",\"Arthropods\",\"arachnids\",\"Insect\"],\n",
        "             \"Tool\":[\"Tool\",\"MusicInstrument\",\"MedicalInstrument\",\"Stationary\"],\n",
        "             \"Fashion\":[\"Clothe\",\"Cosmetics\"],\n",
        "             \"Home_Appliances\":[\"KitchenWare\",\"Electronics\",\"Furniture\"],\n",
        "             \"Transport\":[\"Vehicle\",\"shipboat\"],\n",
        "             \"Sports\":[\"Sports\"],\n",
        "             \"Place\":[\"Road\",\"Place\",\"Airport\",\"Event\"],\n",
        "             \"Food\":[\"Fruit\",\"Food\",\"Vegitable\"],\n",
        "             \"Human\":[\"Human\"]            \n",
        "             }\n",
        "  list_list=[]\n",
        "  for i in target_dict.values():\n",
        "    list_list.append(i)\n",
        "  for n in range(len(list_list)):\n",
        "     if word in list_list[n]:\n",
        "      key_index=n\n",
        "  keys_list = list(target_dict)\n",
        "  key = keys_list[key_index]\n",
        "  return key"
      ],
      "execution_count": 18,
      "outputs": []
    },
    {
      "cell_type": "code",
      "metadata": {
        "id": "0v0Q5cz8VTK8"
      },
      "source": [
        "#Data preparation : filtering, creating batches of 5 signals\n",
        "\n",
        "def prepare_data(data_frame,num_channels,unit_test=False):\n",
        "\n",
        "  n=num_channels #number ofchannels \n",
        "  signals_list=[]\n",
        "  signals_cat=[]\n",
        "  \n",
        "  for i in range(0,data_frame.shape[0],num_channels):\n",
        "    \n",
        "    channels_list=[]\n",
        "    df_batch=df_main[i:i+n]\n",
        "    class_label=df_batch.loc[i][0]\n",
        "    sub_class_label=df_word.loc[df_word['target']==class_label,'category'].to_list()[0]\n",
        "    sub_class_label=find_and_replace(sub_class_label)      #sub_class level 2\n",
        "    signals_cat.append(sub_class_label)\n",
        "\n",
        "    for i, row in df_batch.iloc[:,1:].iterrows():\n",
        "\n",
        "        if unit_test: display_signal(row)                            #display signal before filter\n",
        "\n",
        "        row=apply_bp_filter(row)                        #apply bandpass filter    \n",
        "        row=apply_bp_filter(row,'low')                  #apply low pass filter\n",
        "        row=apply_bp_filter(row,'high')\n",
        "\n",
        "        if unit_test: display_signal(row)                            #display signal after filter\n",
        "\n",
        "        row_ls = row.values.tolist()                    # create a list of values from dataframe row       \n",
        "        channels_list.append(row_ls)                    #append row list to channels list\n",
        "    \n",
        "    signals_list.append(channels_list) \n",
        "\n",
        "  return signals_list,signals_cat"
      ],
      "execution_count": 19,
      "outputs": []
    },
    {
      "cell_type": "code",
      "metadata": {
        "colab": {
          "base_uri": "https://localhost:8080/",
          "height": 256
        },
        "id": "4bld37MqU1H9",
        "outputId": "151eb0f2-9dd6-4dfa-f713-3478c401404c"
      },
      "source": [
        "#get sample data unit test : set of five channels \n",
        "df_sample=df_main.iloc[:5,:].copy()\n",
        "df_sample"
      ],
      "execution_count": 20,
      "outputs": [
        {
          "output_type": "execute_result",
          "data": {
            "text/html": [
              "<div>\n",
              "<style scoped>\n",
              "    .dataframe tbody tr th:only-of-type {\n",
              "        vertical-align: middle;\n",
              "    }\n",
              "\n",
              "    .dataframe tbody tr th {\n",
              "        vertical-align: top;\n",
              "    }\n",
              "\n",
              "    .dataframe thead th {\n",
              "        text-align: right;\n",
              "    }\n",
              "</style>\n",
              "<table border=\"1\" class=\"dataframe\">\n",
              "  <thead>\n",
              "    <tr style=\"text-align: right;\">\n",
              "      <th></th>\n",
              "      <th>image_category</th>\n",
              "      <th>t_1</th>\n",
              "      <th>t_2</th>\n",
              "      <th>t_3</th>\n",
              "      <th>t_4</th>\n",
              "      <th>t_5</th>\n",
              "      <th>t_6</th>\n",
              "      <th>t_7</th>\n",
              "      <th>t_8</th>\n",
              "      <th>t_9</th>\n",
              "      <th>t_10</th>\n",
              "      <th>t_11</th>\n",
              "      <th>t_12</th>\n",
              "      <th>t_13</th>\n",
              "      <th>t_14</th>\n",
              "      <th>t_15</th>\n",
              "      <th>t_16</th>\n",
              "      <th>t_17</th>\n",
              "      <th>t_18</th>\n",
              "      <th>t_19</th>\n",
              "      <th>t_20</th>\n",
              "      <th>t_21</th>\n",
              "      <th>t_22</th>\n",
              "      <th>t_23</th>\n",
              "      <th>t_24</th>\n",
              "      <th>t_25</th>\n",
              "      <th>t_26</th>\n",
              "      <th>t_27</th>\n",
              "      <th>t_28</th>\n",
              "      <th>t_29</th>\n",
              "      <th>t_30</th>\n",
              "      <th>t_31</th>\n",
              "      <th>t_32</th>\n",
              "      <th>t_33</th>\n",
              "      <th>t_34</th>\n",
              "      <th>t_35</th>\n",
              "      <th>t_36</th>\n",
              "      <th>t_37</th>\n",
              "      <th>t_38</th>\n",
              "      <th>t_39</th>\n",
              "      <th>...</th>\n",
              "      <th>t_353</th>\n",
              "      <th>t_354</th>\n",
              "      <th>t_355</th>\n",
              "      <th>t_356</th>\n",
              "      <th>t_357</th>\n",
              "      <th>t_358</th>\n",
              "      <th>t_359</th>\n",
              "      <th>t_360</th>\n",
              "      <th>t_361</th>\n",
              "      <th>t_362</th>\n",
              "      <th>t_363</th>\n",
              "      <th>t_364</th>\n",
              "      <th>t_365</th>\n",
              "      <th>t_366</th>\n",
              "      <th>t_367</th>\n",
              "      <th>t_368</th>\n",
              "      <th>t_369</th>\n",
              "      <th>t_370</th>\n",
              "      <th>t_371</th>\n",
              "      <th>t_372</th>\n",
              "      <th>t_373</th>\n",
              "      <th>t_374</th>\n",
              "      <th>t_375</th>\n",
              "      <th>t_376</th>\n",
              "      <th>t_377</th>\n",
              "      <th>t_378</th>\n",
              "      <th>t_379</th>\n",
              "      <th>t_380</th>\n",
              "      <th>t_381</th>\n",
              "      <th>t_382</th>\n",
              "      <th>t_383</th>\n",
              "      <th>t_384</th>\n",
              "      <th>t_385</th>\n",
              "      <th>t_386</th>\n",
              "      <th>t_387</th>\n",
              "      <th>t_388</th>\n",
              "      <th>t_389</th>\n",
              "      <th>t_390</th>\n",
              "      <th>t_391</th>\n",
              "      <th>t_392</th>\n",
              "    </tr>\n",
              "  </thead>\n",
              "  <tbody>\n",
              "    <tr>\n",
              "      <th>0</th>\n",
              "      <td>n02077923</td>\n",
              "      <td>4320.000000</td>\n",
              "      <td>4332.307692</td>\n",
              "      <td>4334.871795</td>\n",
              "      <td>4342.564103</td>\n",
              "      <td>4333.333333</td>\n",
              "      <td>4313.333333</td>\n",
              "      <td>4318.974359</td>\n",
              "      <td>4349.743590</td>\n",
              "      <td>4358.974359</td>\n",
              "      <td>4335.384615</td>\n",
              "      <td>4321.025641</td>\n",
              "      <td>4333.333333</td>\n",
              "      <td>4345.641026</td>\n",
              "      <td>4334.358974</td>\n",
              "      <td>4321.025641</td>\n",
              "      <td>4320.000000</td>\n",
              "      <td>4321.538462</td>\n",
              "      <td>4320.000000</td>\n",
              "      <td>4311.794872</td>\n",
              "      <td>4309.230769</td>\n",
              "      <td>4311.282051</td>\n",
              "      <td>4301.025641</td>\n",
              "      <td>4288.205128</td>\n",
              "      <td>4291.794872</td>\n",
              "      <td>4296.923077</td>\n",
              "      <td>4290.769231</td>\n",
              "      <td>4303.076923</td>\n",
              "      <td>4337.435897</td>\n",
              "      <td>4334.358974</td>\n",
              "      <td>4298.974359</td>\n",
              "      <td>4292.307692</td>\n",
              "      <td>4305.128205</td>\n",
              "      <td>4305.641026</td>\n",
              "      <td>4305.641026</td>\n",
              "      <td>4303.589744</td>\n",
              "      <td>4286.153846</td>\n",
              "      <td>4273.333333</td>\n",
              "      <td>4274.871795</td>\n",
              "      <td>4277.948718</td>\n",
              "      <td>...</td>\n",
              "      <td>4276.410256</td>\n",
              "      <td>4277.948718</td>\n",
              "      <td>4275.384615</td>\n",
              "      <td>4258.974359</td>\n",
              "      <td>4261.025641</td>\n",
              "      <td>4271.794872</td>\n",
              "      <td>4266.153846</td>\n",
              "      <td>4265.641026</td>\n",
              "      <td>4267.179487</td>\n",
              "      <td>4260.000000</td>\n",
              "      <td>4262.051282</td>\n",
              "      <td>4265.641026</td>\n",
              "      <td>4257.948718</td>\n",
              "      <td>4254.871795</td>\n",
              "      <td>4267.692308</td>\n",
              "      <td>4286.153846</td>\n",
              "      <td>4284.615385</td>\n",
              "      <td>4265.128205</td>\n",
              "      <td>4256.410256</td>\n",
              "      <td>4261.025641</td>\n",
              "      <td>4265.641026</td>\n",
              "      <td>4261.025641</td>\n",
              "      <td>4239.487179</td>\n",
              "      <td>4213.846154</td>\n",
              "      <td>4229.230769</td>\n",
              "      <td>4265.128205</td>\n",
              "      <td>4263.589744</td>\n",
              "      <td>4250.256410</td>\n",
              "      <td>4266.666667</td>\n",
              "      <td>4275.384615</td>\n",
              "      <td>4250.256410</td>\n",
              "      <td>4233.846154</td>\n",
              "      <td>4235.897436</td>\n",
              "      <td>4216.923077</td>\n",
              "      <td>4192.820513</td>\n",
              "      <td>4200.000000</td>\n",
              "      <td>4224.615385</td>\n",
              "      <td>4240.512821</td>\n",
              "      <td>4233.846154</td>\n",
              "      <td>4210.769231</td>\n",
              "    </tr>\n",
              "    <tr>\n",
              "      <th>1</th>\n",
              "      <td>n02077923</td>\n",
              "      <td>4294.871795</td>\n",
              "      <td>4305.128205</td>\n",
              "      <td>4298.974359</td>\n",
              "      <td>4307.179487</td>\n",
              "      <td>4312.307692</td>\n",
              "      <td>4284.102564</td>\n",
              "      <td>4274.871795</td>\n",
              "      <td>4314.358974</td>\n",
              "      <td>4330.769231</td>\n",
              "      <td>4324.615385</td>\n",
              "      <td>4311.282051</td>\n",
              "      <td>4275.384615</td>\n",
              "      <td>4284.615385</td>\n",
              "      <td>4322.564103</td>\n",
              "      <td>4318.461538</td>\n",
              "      <td>4285.641026</td>\n",
              "      <td>4272.820513</td>\n",
              "      <td>4307.692308</td>\n",
              "      <td>4353.333333</td>\n",
              "      <td>4341.538462</td>\n",
              "      <td>4307.179487</td>\n",
              "      <td>4307.692308</td>\n",
              "      <td>4307.692308</td>\n",
              "      <td>4304.615385</td>\n",
              "      <td>4321.538462</td>\n",
              "      <td>4312.307692</td>\n",
              "      <td>4292.307692</td>\n",
              "      <td>4298.461538</td>\n",
              "      <td>4285.641026</td>\n",
              "      <td>4278.461538</td>\n",
              "      <td>4311.282051</td>\n",
              "      <td>4318.974359</td>\n",
              "      <td>4297.435897</td>\n",
              "      <td>4301.025641</td>\n",
              "      <td>4321.538462</td>\n",
              "      <td>4325.128205</td>\n",
              "      <td>4320.000000</td>\n",
              "      <td>4294.871795</td>\n",
              "      <td>4271.282051</td>\n",
              "      <td>...</td>\n",
              "      <td>4238.461538</td>\n",
              "      <td>4242.564103</td>\n",
              "      <td>4290.769231</td>\n",
              "      <td>4284.615385</td>\n",
              "      <td>4238.974359</td>\n",
              "      <td>4250.769231</td>\n",
              "      <td>4297.948718</td>\n",
              "      <td>4325.641026</td>\n",
              "      <td>4326.666667</td>\n",
              "      <td>4294.871795</td>\n",
              "      <td>4265.128205</td>\n",
              "      <td>4254.358974</td>\n",
              "      <td>4251.282051</td>\n",
              "      <td>4272.307692</td>\n",
              "      <td>4273.846154</td>\n",
              "      <td>4240.000000</td>\n",
              "      <td>4239.487179</td>\n",
              "      <td>4269.230769</td>\n",
              "      <td>4267.692308</td>\n",
              "      <td>4254.871795</td>\n",
              "      <td>4265.128205</td>\n",
              "      <td>4272.820513</td>\n",
              "      <td>4254.358974</td>\n",
              "      <td>4223.589744</td>\n",
              "      <td>4254.358974</td>\n",
              "      <td>4302.564103</td>\n",
              "      <td>4257.948718</td>\n",
              "      <td>4215.384615</td>\n",
              "      <td>4256.410256</td>\n",
              "      <td>4264.102564</td>\n",
              "      <td>4211.794872</td>\n",
              "      <td>4210.256410</td>\n",
              "      <td>4243.589744</td>\n",
              "      <td>4232.820513</td>\n",
              "      <td>4211.282051</td>\n",
              "      <td>4222.051282</td>\n",
              "      <td>4228.717949</td>\n",
              "      <td>4213.846154</td>\n",
              "      <td>4220.000000</td>\n",
              "      <td>4246.666667</td>\n",
              "    </tr>\n",
              "    <tr>\n",
              "      <th>2</th>\n",
              "      <td>n02077923</td>\n",
              "      <td>4187.692308</td>\n",
              "      <td>4200.000000</td>\n",
              "      <td>4208.717949</td>\n",
              "      <td>4199.487179</td>\n",
              "      <td>4199.487179</td>\n",
              "      <td>4208.205128</td>\n",
              "      <td>4210.769231</td>\n",
              "      <td>4228.205128</td>\n",
              "      <td>4258.974359</td>\n",
              "      <td>4257.948718</td>\n",
              "      <td>4232.820513</td>\n",
              "      <td>4235.384615</td>\n",
              "      <td>4251.282051</td>\n",
              "      <td>4246.666667</td>\n",
              "      <td>4245.128205</td>\n",
              "      <td>4245.641026</td>\n",
              "      <td>4237.948718</td>\n",
              "      <td>4237.948718</td>\n",
              "      <td>4237.435897</td>\n",
              "      <td>4229.743590</td>\n",
              "      <td>4237.435897</td>\n",
              "      <td>4245.641026</td>\n",
              "      <td>4230.769231</td>\n",
              "      <td>4222.051282</td>\n",
              "      <td>4230.256410</td>\n",
              "      <td>4232.307692</td>\n",
              "      <td>4227.179487</td>\n",
              "      <td>4231.282051</td>\n",
              "      <td>4244.102564</td>\n",
              "      <td>4250.769231</td>\n",
              "      <td>4241.538462</td>\n",
              "      <td>4231.794872</td>\n",
              "      <td>4237.435897</td>\n",
              "      <td>4244.615385</td>\n",
              "      <td>4244.615385</td>\n",
              "      <td>4244.102564</td>\n",
              "      <td>4233.846154</td>\n",
              "      <td>4218.461538</td>\n",
              "      <td>4212.820513</td>\n",
              "      <td>...</td>\n",
              "      <td>4258.974359</td>\n",
              "      <td>4237.948718</td>\n",
              "      <td>4240.512821</td>\n",
              "      <td>4254.358974</td>\n",
              "      <td>4254.358974</td>\n",
              "      <td>4254.871795</td>\n",
              "      <td>4262.564103</td>\n",
              "      <td>4254.871795</td>\n",
              "      <td>4237.948718</td>\n",
              "      <td>4247.692308</td>\n",
              "      <td>4271.282051</td>\n",
              "      <td>4264.615385</td>\n",
              "      <td>4248.717949</td>\n",
              "      <td>4258.461538</td>\n",
              "      <td>4273.846154</td>\n",
              "      <td>4271.794872</td>\n",
              "      <td>4258.974359</td>\n",
              "      <td>4250.769231</td>\n",
              "      <td>4253.846154</td>\n",
              "      <td>4265.128205</td>\n",
              "      <td>4264.102564</td>\n",
              "      <td>4247.179487</td>\n",
              "      <td>4241.538462</td>\n",
              "      <td>4237.435897</td>\n",
              "      <td>4238.974359</td>\n",
              "      <td>4268.205128</td>\n",
              "      <td>4289.230769</td>\n",
              "      <td>4271.794872</td>\n",
              "      <td>4256.923077</td>\n",
              "      <td>4273.846154</td>\n",
              "      <td>4267.179487</td>\n",
              "      <td>4230.256410</td>\n",
              "      <td>4221.538462</td>\n",
              "      <td>4234.871795</td>\n",
              "      <td>4234.871795</td>\n",
              "      <td>4228.205128</td>\n",
              "      <td>4228.205128</td>\n",
              "      <td>4232.307692</td>\n",
              "      <td>4232.820513</td>\n",
              "      <td>4229.743590</td>\n",
              "    </tr>\n",
              "    <tr>\n",
              "      <th>3</th>\n",
              "      <td>n02077923</td>\n",
              "      <td>4203.076923</td>\n",
              "      <td>4224.615385</td>\n",
              "      <td>4249.743590</td>\n",
              "      <td>4231.794872</td>\n",
              "      <td>4190.769231</td>\n",
              "      <td>4186.666667</td>\n",
              "      <td>4208.717949</td>\n",
              "      <td>4223.589744</td>\n",
              "      <td>4226.153846</td>\n",
              "      <td>4229.230769</td>\n",
              "      <td>4233.846154</td>\n",
              "      <td>4222.564103</td>\n",
              "      <td>4210.256410</td>\n",
              "      <td>4215.384615</td>\n",
              "      <td>4217.948718</td>\n",
              "      <td>4202.051282</td>\n",
              "      <td>4188.717949</td>\n",
              "      <td>4202.564103</td>\n",
              "      <td>4215.897436</td>\n",
              "      <td>4219.487179</td>\n",
              "      <td>4226.666667</td>\n",
              "      <td>4214.358974</td>\n",
              "      <td>4183.589744</td>\n",
              "      <td>4184.102564</td>\n",
              "      <td>4221.538462</td>\n",
              "      <td>4242.564103</td>\n",
              "      <td>4226.153846</td>\n",
              "      <td>4217.948718</td>\n",
              "      <td>4225.128205</td>\n",
              "      <td>4208.717949</td>\n",
              "      <td>4185.128205</td>\n",
              "      <td>4206.153846</td>\n",
              "      <td>4228.717949</td>\n",
              "      <td>4204.102564</td>\n",
              "      <td>4182.051282</td>\n",
              "      <td>4194.871795</td>\n",
              "      <td>4202.564103</td>\n",
              "      <td>4197.435897</td>\n",
              "      <td>4203.076923</td>\n",
              "      <td>...</td>\n",
              "      <td>4202.564103</td>\n",
              "      <td>4213.333333</td>\n",
              "      <td>4215.897436</td>\n",
              "      <td>4193.846154</td>\n",
              "      <td>4193.333333</td>\n",
              "      <td>4217.948718</td>\n",
              "      <td>4225.128205</td>\n",
              "      <td>4218.974359</td>\n",
              "      <td>4207.692308</td>\n",
              "      <td>4191.794872</td>\n",
              "      <td>4205.128205</td>\n",
              "      <td>4207.179487</td>\n",
              "      <td>4166.666667</td>\n",
              "      <td>4169.230769</td>\n",
              "      <td>4227.692308</td>\n",
              "      <td>4233.333333</td>\n",
              "      <td>4181.538462</td>\n",
              "      <td>4187.692308</td>\n",
              "      <td>4235.384615</td>\n",
              "      <td>4240.000000</td>\n",
              "      <td>4235.897436</td>\n",
              "      <td>4229.743590</td>\n",
              "      <td>4184.615385</td>\n",
              "      <td>4155.897436</td>\n",
              "      <td>4189.743590</td>\n",
              "      <td>4219.487179</td>\n",
              "      <td>4190.769231</td>\n",
              "      <td>4161.538462</td>\n",
              "      <td>4196.410256</td>\n",
              "      <td>4244.102564</td>\n",
              "      <td>4225.128205</td>\n",
              "      <td>4190.256410</td>\n",
              "      <td>4200.000000</td>\n",
              "      <td>4207.692308</td>\n",
              "      <td>4200.512821</td>\n",
              "      <td>4200.512821</td>\n",
              "      <td>4203.076923</td>\n",
              "      <td>4208.717949</td>\n",
              "      <td>4220.512821</td>\n",
              "      <td>4217.435897</td>\n",
              "    </tr>\n",
              "    <tr>\n",
              "      <th>4</th>\n",
              "      <td>n02077923</td>\n",
              "      <td>4145.128205</td>\n",
              "      <td>4138.461538</td>\n",
              "      <td>4145.128205</td>\n",
              "      <td>4142.051282</td>\n",
              "      <td>4132.307692</td>\n",
              "      <td>4134.358974</td>\n",
              "      <td>4137.948718</td>\n",
              "      <td>4146.153846</td>\n",
              "      <td>4155.384615</td>\n",
              "      <td>4149.743590</td>\n",
              "      <td>4147.692308</td>\n",
              "      <td>4152.820513</td>\n",
              "      <td>4145.128205</td>\n",
              "      <td>4138.461538</td>\n",
              "      <td>4146.153846</td>\n",
              "      <td>4144.615385</td>\n",
              "      <td>4140.512821</td>\n",
              "      <td>4152.820513</td>\n",
              "      <td>4168.717949</td>\n",
              "      <td>4175.384615</td>\n",
              "      <td>4167.692308</td>\n",
              "      <td>4150.256410</td>\n",
              "      <td>4147.179487</td>\n",
              "      <td>4157.948718</td>\n",
              "      <td>4148.717949</td>\n",
              "      <td>4130.256410</td>\n",
              "      <td>4138.461538</td>\n",
              "      <td>4154.871795</td>\n",
              "      <td>4136.410256</td>\n",
              "      <td>4113.846154</td>\n",
              "      <td>4135.897436</td>\n",
              "      <td>4161.538462</td>\n",
              "      <td>4154.358974</td>\n",
              "      <td>4146.153846</td>\n",
              "      <td>4150.769231</td>\n",
              "      <td>4161.538462</td>\n",
              "      <td>4171.282051</td>\n",
              "      <td>4164.615385</td>\n",
              "      <td>4145.641026</td>\n",
              "      <td>...</td>\n",
              "      <td>4117.435897</td>\n",
              "      <td>4120.512821</td>\n",
              "      <td>4122.051282</td>\n",
              "      <td>4129.230769</td>\n",
              "      <td>4135.897436</td>\n",
              "      <td>4135.897436</td>\n",
              "      <td>4141.025641</td>\n",
              "      <td>4146.153846</td>\n",
              "      <td>4142.051282</td>\n",
              "      <td>4139.487179</td>\n",
              "      <td>4135.897436</td>\n",
              "      <td>4125.641026</td>\n",
              "      <td>4116.410256</td>\n",
              "      <td>4112.820513</td>\n",
              "      <td>4107.179487</td>\n",
              "      <td>4101.025641</td>\n",
              "      <td>4105.128205</td>\n",
              "      <td>4116.923077</td>\n",
              "      <td>4121.025641</td>\n",
              "      <td>4125.128205</td>\n",
              "      <td>4140.512821</td>\n",
              "      <td>4146.666667</td>\n",
              "      <td>4140.000000</td>\n",
              "      <td>4137.948718</td>\n",
              "      <td>4138.974359</td>\n",
              "      <td>4141.025641</td>\n",
              "      <td>4145.641026</td>\n",
              "      <td>4134.871795</td>\n",
              "      <td>4117.948718</td>\n",
              "      <td>4109.230769</td>\n",
              "      <td>4096.410256</td>\n",
              "      <td>4093.846154</td>\n",
              "      <td>4104.615385</td>\n",
              "      <td>4096.410256</td>\n",
              "      <td>4073.333333</td>\n",
              "      <td>4069.743590</td>\n",
              "      <td>4085.641026</td>\n",
              "      <td>4099.487179</td>\n",
              "      <td>4108.205128</td>\n",
              "      <td>4114.871795</td>\n",
              "    </tr>\n",
              "  </tbody>\n",
              "</table>\n",
              "<p>5 rows × 393 columns</p>\n",
              "</div>"
            ],
            "text/plain": [
              "  image_category          t_1  ...        t_391        t_392\n",
              "0      n02077923  4320.000000  ...  4233.846154  4210.769231\n",
              "1      n02077923  4294.871795  ...  4220.000000  4246.666667\n",
              "2      n02077923  4187.692308  ...  4232.820513  4229.743590\n",
              "3      n02077923  4203.076923  ...  4220.512821  4217.435897\n",
              "4      n02077923  4145.128205  ...  4108.205128  4114.871795\n",
              "\n",
              "[5 rows x 393 columns]"
            ]
          },
          "metadata": {},
          "execution_count": 20
        }
      ]
    },
    {
      "cell_type": "code",
      "metadata": {
        "colab": {
          "base_uri": "https://localhost:8080/",
          "height": 1000
        },
        "id": "QNqgjNOwWGJW",
        "outputId": "3021c6e4-a7d9-4f6c-bbf4-c0ac189b91cb"
      },
      "source": [
        "#check sample data (5 signals): before and after filtering\n",
        "x_sample,y_sample = prepare_data(df_sample,5,unit_test=True) "
      ],
      "execution_count": 21,
      "outputs": [
        {
          "output_type": "display_data",
          "data": {
            "image/png": "[encoded data removed]",
            "text/plain": [
              "<Figure size 720x72 with 1 Axes>"
            ]
          },
          "metadata": {
            "needs_background": "light"
          }
        },
        {
          "output_type": "stream",
          "name": "stdout",
          "text": [
            "\n",
            "\n"
          ]
        },
        {
          "output_type": "display_data",
          "data": {
            "image/png": "[encoded data removed]",
            "text/plain": [
              "<Figure size 720x72 with 1 Axes>"
            ]
          },
          "metadata": {
            "needs_background": "light"
          }
        },
        {
          "output_type": "stream",
          "name": "stdout",
          "text": [
            "\n",
            "\n"
          ]
        },
        {
          "output_type": "display_data",
          "data": {
            "image/png": "[encoded data removed]",
            "text/plain": [
              "<Figure size 720x72 with 1 Axes>"
            ]
          },
          "metadata": {
            "needs_background": "light"
          }
        },
        {
          "output_type": "stream",
          "name": "stdout",
          "text": [
            "\n",
            "\n"
          ]
        },
        {
          "output_type": "display_data",
          "data": {
            "image/png": "[encoded data removed]",
            "text/plain": [
              "<Figure size 720x72 with 1 Axes>"
            ]
          },
          "metadata": {
            "needs_background": "light"
          }
        },
        {
          "output_type": "stream",
          "name": "stdout",
          "text": [
            "\n",
            "\n"
          ]
        },
        {
          "output_type": "display_data",
          "data": {
            "image/png": "[encoded data removed]",
            "text/plain": [
              "<Figure size 720x72 with 1 Axes>"
            ]
          },
          "metadata": {
            "needs_background": "light"
          }
        },
        {
          "output_type": "stream",
          "name": "stdout",
          "text": [
            "\n",
            "\n"
          ]
        },
        {
          "output_type": "display_data",
          "data": {
            "image/png": "[encoded data removed]",
            "text/plain": [
              "<Figure size 720x72 with 1 Axes>"
            ]
          },
          "metadata": {
            "needs_background": "light"
          }
        },
        {
          "output_type": "stream",
          "name": "stdout",
          "text": [
            "\n",
            "\n"
          ]
        },
        {
          "output_type": "display_data",
          "data": {
            "image/png": "[encoded data removed]",
            "text/plain": [
              "<Figure size 720x72 with 1 Axes>"
            ]
          },
          "metadata": {
            "needs_background": "light"
          }
        },
        {
          "output_type": "stream",
          "name": "stdout",
          "text": [
            "\n",
            "\n"
          ]
        },
        {
          "output_type": "display_data",
          "data": {
            "image/png": "[encoded data removed]",
            "text/plain": [
              "<Figure size 720x72 with 1 Axes>"
            ]
          },
          "metadata": {
            "needs_background": "light"
          }
        },
        {
          "output_type": "stream",
          "name": "stdout",
          "text": [
            "\n",
            "\n"
          ]
        },
        {
          "output_type": "display_data",
          "data": {
            "image/png": "[encoded data removed]",
            "text/plain": [
              "<Figure size 720x72 with 1 Axes>"
            ]
          },
          "metadata": {
            "needs_background": "light"
          }
        },
        {
          "output_type": "stream",
          "name": "stdout",
          "text": [
            "\n",
            "\n"
          ]
        },
        {
          "output_type": "display_data",
          "data": {
            "image/png": "[encoded data removed]",
            "text/plain": [
              "<Figure size 720x72 with 1 Axes>"
            ]
          },
          "metadata": {
            "needs_background": "light"
          }
        },
        {
          "output_type": "stream",
          "name": "stdout",
          "text": [
            "\n",
            "\n"
          ]
        }
      ]
    },
    {
      "cell_type": "markdown",
      "metadata": {
        "id": "85wjWVqEOJDw"
      },
      "source": [
        "### Create X, y"
      ]
    },
    {
      "cell_type": "code",
      "metadata": {
        "id": "J0WETk1RWh5P"
      },
      "source": [
        "#get final data for model : X, y\n",
        "X,y = prepare_data(df_main,5)\n",
        "\n",
        "X= np.array(X)   #convert X to numpy array\n",
        "\n",
        "le = LabelEncoder()\n",
        "y = le.fit_transform(y)                                 #for ML models\n",
        "yy = tf.keras.utils.to_categorical(le.fit_transform(y)) #for cateorical problems"
      ],
      "execution_count": 22,
      "outputs": []
    },
    {
      "cell_type": "markdown",
      "metadata": {
        "id": "q7Z2miWk_ua6"
      },
      "source": [
        "# Resampling X, y"
      ]
    },
    {
      "cell_type": "code",
      "metadata": {
        "colab": {
          "base_uri": "https://localhost:8080/"
        },
        "id": "G3sz5K2cASnn",
        "outputId": "b4951ea9-07c2-4283-c356-3ae10061fc14"
      },
      "source": [
        "orig_shape = X.shape\n",
        "\n",
        "#take backup\n",
        "X_orig=X.copy()\n",
        "y_orig=y.copy()\n",
        "\n",
        "print(orig_shape)\n",
        "X = np.reshape(X, (X.shape[0],-1))\n",
        "X.shape #after reshaping"
      ],
      "execution_count": 23,
      "outputs": [
        {
          "output_type": "stream",
          "name": "stdout",
          "text": [
            "(14012, 5, 392)\n"
          ]
        },
        {
          "output_type": "execute_result",
          "data": {
            "text/plain": [
              "(14012, 1960)"
            ]
          },
          "metadata": {},
          "execution_count": 23
        }
      ]
    },
    {
      "cell_type": "code",
      "metadata": {
        "id": "-uax3InoCn19",
        "colab": {
          "base_uri": "https://localhost:8080/"
        },
        "outputId": "f08efaab-80ce-4a1a-a26b-bd2ee4ab2d53"
      },
      "source": [
        "from imblearn.over_sampling import RandomOverSampler\n",
        "from imblearn.under_sampling import RandomUnderSampler\n",
        "from collections import Counter\n",
        "import collections, numpy\n",
        "\n",
        "def print_counter(y_data):\n",
        "  counter = Counter(y)\n",
        "  for k,v in counter.items():\n",
        "    per = v / len(y) * 100\n",
        "    print('Class=%d, n=%d (%.3f%%)' % (k, v, per))\n",
        "  #plot the distribution of classes\n",
        "  plt.bar(counter.keys(), counter.values())\n",
        "  plt.show()"
      ],
      "execution_count": 24,
      "outputs": [
        {
          "output_type": "stream",
          "name": "stderr",
          "text": [
            "/usr/local/lib/python3.7/dist-packages/sklearn/externals/six.py:31: FutureWarning: The module is deprecated in version 0.21 and will be removed in version 0.23 since we've dropped support for Python 2.7. Please rely on the official version of six (https://pypi.org/project/six/).\n",
            "  \"(https://pypi.org/project/six/).\", FutureWarning)\n",
            "/usr/local/lib/python3.7/dist-packages/sklearn/utils/deprecation.py:144: FutureWarning: The sklearn.neighbors.base module is  deprecated in version 0.22 and will be removed in version 0.24. The corresponding classes / functions should instead be imported from sklearn.neighbors. Anything that cannot be imported from sklearn.neighbors is now part of the private API.\n",
            "  warnings.warn(message, FutureWarning)\n"
          ]
        }
      ]
    },
    {
      "cell_type": "code",
      "metadata": {
        "colab": {
          "base_uri": "https://localhost:8080/",
          "height": 422
        },
        "id": "T-UunhguDBeR",
        "outputId": "f0c05fa0-b285-4a1a-c256-a98bd744fb25"
      },
      "source": [
        "print_counter(y) #original y distribution"
      ],
      "execution_count": 25,
      "outputs": [
        {
          "output_type": "stream",
          "name": "stdout",
          "text": [
            "Class=0, n=7735 (55.203%)\n",
            "Class=2, n=638 (4.553%)\n",
            "Class=5, n=539 (3.847%)\n",
            "Class=7, n=1009 (7.201%)\n",
            "Class=3, n=1713 (12.225%)\n",
            "Class=8, n=1179 (8.414%)\n",
            "Class=6, n=581 (4.146%)\n",
            "Class=4, n=149 (1.063%)\n",
            "Class=1, n=469 (3.347%)\n"
          ]
        },
        {
          "output_type": "display_data",
          "data": {
            "image/png": "[encoded data removed]",
            "text/plain": [
              "<Figure size 432x288 with 1 Axes>"
            ]
          },
          "metadata": {
            "needs_background": "light"
          }
        }
      ]
    },
    {
      "cell_type": "code",
      "metadata": {
        "colab": {
          "base_uri": "https://localhost:8080/"
        },
        "id": "AxApf6inACAe",
        "outputId": "7c6c355c-33f0-41f9-9f4a-791555905649"
      },
      "source": [
        "\n",
        "count_class=collections.Counter(y)\n",
        "print(count_class) #occurances of all classes\n",
        "count_class[0] #number of occurances of class 0"
      ],
      "execution_count": 26,
      "outputs": [
        {
          "output_type": "stream",
          "name": "stdout",
          "text": [
            "Counter({0: 7735, 3: 1713, 8: 1179, 7: 1009, 2: 638, 6: 581, 5: 539, 1: 469, 4: 149})\n"
          ]
        },
        {
          "output_type": "execute_result",
          "data": {
            "text/plain": [
              "7735"
            ]
          },
          "metadata": {},
          "execution_count": 26
        }
      ]
    },
    {
      "cell_type": "code",
      "metadata": {
        "colab": {
          "base_uri": "https://localhost:8080/"
        },
        "id": "beOS9BNoACni",
        "outputId": "acb8dd4d-54be-462a-b66a-814c27e25e1c"
      },
      "source": [
        "int(count_class[0]*25/100)  #retain 25% of data from 0 with 0 class"
      ],
      "execution_count": 27,
      "outputs": [
        {
          "output_type": "execute_result",
          "data": {
            "text/plain": [
              "1933"
            ]
          },
          "metadata": {},
          "execution_count": 27
        }
      ]
    },
    {
      "cell_type": "markdown",
      "metadata": {
        "id": "vqGrxjy0NDqd"
      },
      "source": [
        "### Undersampling majority classes"
      ]
    },
    {
      "cell_type": "code",
      "metadata": {
        "colab": {
          "base_uri": "https://localhost:8080/",
          "height": 477
        },
        "id": "swn2Bt4GAF4y",
        "outputId": "d63c29f4-be83-4236-ae10-648369bad83d"
      },
      "source": [
        "from imblearn.under_sampling import RandomUnderSampler\n",
        "\n",
        "rus = RandomUnderSampler({0:int(count_class[0]*25/100)},random_state=0)\n",
        "rus.fit(X, y)\n",
        "X, y = rus.fit_resample(X, y)\n",
        "\n",
        "\n",
        "print_counter(y)"
      ],
      "execution_count": 28,
      "outputs": [
        {
          "output_type": "stream",
          "name": "stdout",
          "text": [
            "Class=0, n=1933 (23.544%)\n",
            "Class=1, n=469 (5.713%)\n",
            "Class=2, n=638 (7.771%)\n",
            "Class=3, n=1713 (20.865%)\n",
            "Class=4, n=149 (1.815%)\n",
            "Class=5, n=539 (6.565%)\n",
            "Class=6, n=581 (7.077%)\n",
            "Class=7, n=1009 (12.290%)\n",
            "Class=8, n=1179 (14.361%)\n"
          ]
        },
        {
          "output_type": "stream",
          "name": "stderr",
          "text": [
            "/usr/local/lib/python3.7/dist-packages/sklearn/utils/deprecation.py:87: FutureWarning: Function safe_indexing is deprecated; safe_indexing is deprecated in version 0.22 and will be removed in version 0.24.\n",
            "  warnings.warn(msg, category=FutureWarning)\n"
          ]
        },
        {
          "output_type": "display_data",
          "data": {
            "image/png": "[encoded data removed]",
            "text/plain": [
              "<Figure size 432x288 with 1 Axes>"
            ]
          },
          "metadata": {
            "needs_background": "light"
          }
        }
      ]
    },
    {
      "cell_type": "markdown",
      "metadata": {
        "id": "wLcdpiU8NIxV"
      },
      "source": [
        "### Oversampling minority classes"
      ]
    },
    {
      "cell_type": "code",
      "metadata": {
        "colab": {
          "base_uri": "https://localhost:8080/",
          "height": 477
        },
        "id": "HkqnJY4WAIfH",
        "outputId": "07676e84-efbe-4f50-f07d-22b9cc190658"
      },
      "source": [
        "from imblearn.over_sampling import RandomOverSampler\n",
        "\n",
        "ros = RandomOverSampler(random_state=0)\n",
        "ros.fit(X, y)\n",
        "X, y = ros.fit_resample(X, y)\n",
        "\n",
        "print_counter(y)"
      ],
      "execution_count": 29,
      "outputs": [
        {
          "output_type": "stream",
          "name": "stderr",
          "text": [
            "/usr/local/lib/python3.7/dist-packages/sklearn/utils/deprecation.py:87: FutureWarning: Function safe_indexing is deprecated; safe_indexing is deprecated in version 0.22 and will be removed in version 0.24.\n",
            "  warnings.warn(msg, category=FutureWarning)\n"
          ]
        },
        {
          "output_type": "stream",
          "name": "stdout",
          "text": [
            "Class=0, n=1933 (11.111%)\n",
            "Class=1, n=1933 (11.111%)\n",
            "Class=2, n=1933 (11.111%)\n",
            "Class=3, n=1933 (11.111%)\n",
            "Class=4, n=1933 (11.111%)\n",
            "Class=5, n=1933 (11.111%)\n",
            "Class=6, n=1933 (11.111%)\n",
            "Class=7, n=1933 (11.111%)\n",
            "Class=8, n=1933 (11.111%)\n"
          ]
        },
        {
          "output_type": "display_data",
          "data": {
            "image/png": "[encoded data removed]",
            "text/plain": [
              "<Figure size 432x288 with 1 Axes>"
            ]
          },
          "metadata": {
            "needs_background": "light"
          }
        }
      ]
    },
    {
      "cell_type": "code",
      "metadata": {
        "colab": {
          "base_uri": "https://localhost:8080/"
        },
        "id": "imOwblELIThf",
        "outputId": "d9b54968-6b3c-4c5d-93d1-a639b30d3702"
      },
      "source": [
        "new_shape=(X.shape[0],orig_shape[1],orig_shape[2])\n",
        "new_shape"
      ],
      "execution_count": 30,
      "outputs": [
        {
          "output_type": "execute_result",
          "data": {
            "text/plain": [
              "(17397, 5, 392)"
            ]
          },
          "metadata": {},
          "execution_count": 30
        }
      ]
    },
    {
      "cell_type": "code",
      "metadata": {
        "colab": {
          "base_uri": "https://localhost:8080/"
        },
        "id": "9apwXgHGBDtd",
        "outputId": "4594ff3d-95b9-4caf-8356-460b53865e68"
      },
      "source": [
        "X = np.reshape(X, new_shape)\n",
        "print(X.shape)"
      ],
      "execution_count": 31,
      "outputs": [
        {
          "output_type": "stream",
          "name": "stdout",
          "text": [
            "(17397, 5, 392)\n"
          ]
        }
      ]
    },
    {
      "cell_type": "markdown",
      "metadata": {
        "id": "YA8wW-Ti_sqf"
      },
      "source": [
        "# After sampling : X, y"
      ]
    },
    {
      "cell_type": "code",
      "metadata": {
        "id": "CmFASG4TrJwb"
      },
      "source": [
        "X=X \n",
        "y=y\n",
        "yy = tf.keras.utils.to_categorical(le.fit_transform(y)) #for cateorical problems/DNN"
      ],
      "execution_count": 32,
      "outputs": []
    },
    {
      "cell_type": "code",
      "metadata": {
        "colab": {
          "base_uri": "https://localhost:8080/"
        },
        "id": "Cs31RG1hHmsQ",
        "outputId": "6371a63f-bd37-4786-bc29-c0d83689b294"
      },
      "source": [
        "X.shape, y.shape, yy.shape"
      ],
      "execution_count": 33,
      "outputs": [
        {
          "output_type": "execute_result",
          "data": {
            "text/plain": [
              "((17397, 5, 392), (17397,), (17397, 9))"
            ]
          },
          "metadata": {},
          "execution_count": 33
        }
      ]
    },
    {
      "cell_type": "code",
      "metadata": {
        "colab": {
          "base_uri": "https://localhost:8080/"
        },
        "id": "uH9kl8xTH3xu",
        "outputId": "3ec87060-54c7-49fb-b345-7cd5d8955149"
      },
      "source": [
        "type(X), type(y), type(yy)"
      ],
      "execution_count": 34,
      "outputs": [
        {
          "output_type": "execute_result",
          "data": {
            "text/plain": [
              "(numpy.ndarray, numpy.ndarray, numpy.ndarray)"
            ]
          },
          "metadata": {},
          "execution_count": 34
        }
      ]
    },
    {
      "cell_type": "code",
      "metadata": {
        "colab": {
          "base_uri": "https://localhost:8080/"
        },
        "id": "dcflMKzkbFKt",
        "outputId": "0d1e7792-3ca1-498e-a962-85e741d650fd"
      },
      "source": [
        "X[1][4][2]   #verify data"
      ],
      "execution_count": 35,
      "outputs": [
        {
          "output_type": "execute_result",
          "data": {
            "text/plain": [
              "0.02816516229443882"
            ]
          },
          "metadata": {},
          "execution_count": 35
        }
      ]
    },
    {
      "cell_type": "code",
      "metadata": {
        "colab": {
          "base_uri": "https://localhost:8080/"
        },
        "id": "Igsw2Q-_bKbq",
        "outputId": "f023db75-b817-4605-8df6-27e142a64fc6"
      },
      "source": [
        "y[:5]"
      ],
      "execution_count": 36,
      "outputs": [
        {
          "output_type": "execute_result",
          "data": {
            "text/plain": [
              "array([0, 0, 0, 0, 0])"
            ]
          },
          "metadata": {},
          "execution_count": 36
        }
      ]
    },
    {
      "cell_type": "code",
      "metadata": {
        "id": "_rpzeoc8RDCG",
        "colab": {
          "base_uri": "https://localhost:8080/"
        },
        "outputId": "149aa81f-c4bd-4e14-f6ed-c53e511ac0c0"
      },
      "source": [
        "yy[:5]"
      ],
      "execution_count": 37,
      "outputs": [
        {
          "output_type": "execute_result",
          "data": {
            "text/plain": [
              "array([[1., 0., 0., 0., 0., 0., 0., 0., 0.],\n",
              "       [1., 0., 0., 0., 0., 0., 0., 0., 0.],\n",
              "       [1., 0., 0., 0., 0., 0., 0., 0., 0.],\n",
              "       [1., 0., 0., 0., 0., 0., 0., 0., 0.],\n",
              "       [1., 0., 0., 0., 0., 0., 0., 0., 0.]], dtype=float32)"
            ]
          },
          "metadata": {},
          "execution_count": 37
        }
      ]
    },
    {
      "cell_type": "code",
      "metadata": {
        "id": "8fxqqOBmRJjm"
      },
      "source": [
        "#shuffle data\n",
        "\n",
        "idx = np.random.permutation(len(X))\n",
        "X_nn = X[idx]\n",
        "y_nn = yy[idx]                  #for simple caegorical problem\n",
        "y_ml = y[idx]                   #for ML models"
      ],
      "execution_count": 38,
      "outputs": []
    },
    {
      "cell_type": "code",
      "metadata": {
        "id": "phbiMBeJVNTK",
        "colab": {
          "base_uri": "https://localhost:8080/"
        },
        "outputId": "6e9bdf58-d55e-4597-be0f-b527d61fdba2"
      },
      "source": [
        "X_nn.shape, y_nn.shape, y_ml.shape"
      ],
      "execution_count": 39,
      "outputs": [
        {
          "output_type": "execute_result",
          "data": {
            "text/plain": [
              "((17397, 5, 392), (17397, 9), (17397,))"
            ]
          },
          "metadata": {},
          "execution_count": 39
        }
      ]
    },
    {
      "cell_type": "code",
      "metadata": {
        "id": "HAfHasfMWSGz",
        "colab": {
          "base_uri": "https://localhost:8080/"
        },
        "outputId": "2628eeb8-7bf2-4f9c-a89f-f6c3b4938c99"
      },
      "source": [
        "num_labels = len(np.unique(y_ml))\n",
        "num_labels"
      ],
      "execution_count": 40,
      "outputs": [
        {
          "output_type": "execute_result",
          "data": {
            "text/plain": [
              "9"
            ]
          },
          "metadata": {},
          "execution_count": 40
        }
      ]
    },
    {
      "cell_type": "code",
      "metadata": {
        "id": "IhjqcGAfWsKL"
      },
      "source": [
        "#plot accuracies\n",
        "def plot_accuracy(history, plot_type=\"accuracy\"):\n",
        "  if plot_type==\"categorical_accuracy\":\n",
        "    plt.plot(history.history['categorical_accuracy'])\n",
        "    plt.plot(history.history['val_categorical_accuracy'])\n",
        "  else:\n",
        "    plt.plot(history.history['accuracy'])\n",
        "    plt.plot(history.history['val_accuracy'])\n",
        "  \n",
        "  plt.title('Model accuracy')\n",
        "  plt.ylabel('Accuracy')\n",
        "  plt.xlabel('Epoch')\n",
        "  plt.legend(['Train', 'Test'], loc='upper left')\n",
        "  plt.show()\n",
        "  print(\"\\n\")\n",
        "\n",
        "#plot loss graph\n",
        "def plot_loss(history):\n",
        "  plt.plot(history.history['loss']) \n",
        "  plt.plot(history.history['val_loss']) \n",
        "  plt.title('Model loss') \n",
        "  plt.ylabel('Loss') \n",
        "  plt.xlabel('Epoch') \n",
        "  plt.legend(['Train', 'Test'], loc='upper left') \n",
        "  plt.show()\n",
        "  print(\"\\n\")"
      ],
      "execution_count": 41,
      "outputs": []
    },
    {
      "cell_type": "markdown",
      "metadata": {
        "id": "eGnrBaPSq6QV"
      },
      "source": [
        "# CNN"
      ]
    },
    {
      "cell_type": "code",
      "metadata": {
        "colab": {
          "base_uri": "https://localhost:8080/"
        },
        "id": "EEiLhlSTsBu0",
        "outputId": "668075c3-561b-41f3-da19-045ac5150129"
      },
      "source": [
        "#y_nn for categorical\n",
        "\n",
        "X_train, X_test, y_train, y_test = train_test_split(X_nn,y_nn, test_size=0.3, random_state = 2021,shuffle=True)\n",
        "\n",
        "X_train.shape, X_test.shape, y_train.shape, y_test.shape"
      ],
      "execution_count": 42,
      "outputs": [
        {
          "output_type": "execute_result",
          "data": {
            "text/plain": [
              "((12177, 5, 392), (5220, 5, 392), (12177, 9), (5220, 9))"
            ]
          },
          "metadata": {},
          "execution_count": 42
        }
      ]
    },
    {
      "cell_type": "code",
      "metadata": {
        "id": "EGDpvjZHcz0e"
      },
      "source": [
        "from keras.layers import Input,Conv1D, Dense, GlobalAveragePooling1D, ReLU, Dropout, BatchNormalization\n"
      ],
      "execution_count": 43,
      "outputs": []
    },
    {
      "cell_type": "code",
      "metadata": {
        "id": "tbcSrP4qaZ_b"
      },
      "source": [
        "def make_model(input_shape):\n",
        "\n",
        "    input_layer = Input(input_shape)\n",
        "\n",
        "    conv1 = Conv1D(filters=64, kernel_size=3, padding=\"same\")(input_layer)\n",
        "    conv1 =BatchNormalization()(conv1)\n",
        "    conv1 =Dropout(0.3)(conv1)  #extra\n",
        "    conv1 =ReLU()(conv1)\n",
        "\n",
        "    conv2 =Conv1D(filters=64, kernel_size=3, padding=\"same\")(conv1)\n",
        "    conv2 = BatchNormalization()(conv2)\n",
        "    conv2 =Dropout(0.3)(conv2)  #extra\n",
        "    conv2 = ReLU()(conv2)\n",
        "\n",
        "    conv3 = Conv1D(filters=64, kernel_size=3, padding=\"same\")(conv2)\n",
        "    conv3 = BatchNormalization()(conv3)\n",
        "    conv3 = Dropout(0.3)(conv3)  #extra\n",
        "    conv3 =ReLU()(conv3)\n",
        "\n",
        "    gap = GlobalAveragePooling1D()(conv3)\n",
        "\n",
        "    output_layer = Dense(num_labels, activation=\"softmax\")(gap)\n",
        "\n",
        "    model = keras.Model(inputs=input_layer, outputs=output_layer)\n",
        "\n",
        "    return model"
      ],
      "execution_count": 44,
      "outputs": []
    },
    {
      "cell_type": "code",
      "metadata": {
        "colab": {
          "base_uri": "https://localhost:8080/"
        },
        "id": "lIfu710BeYXm",
        "outputId": "794355e8-7251-4c9a-d927-62de3990df30"
      },
      "source": [
        "\n",
        "model = make_model(input_shape=X_train.shape[1:])\n",
        "#keras.utils.plot_model(model, show_shapes=True)   #visual representation of summary\n",
        "model.summary()"
      ],
      "execution_count": 45,
      "outputs": [
        {
          "output_type": "stream",
          "name": "stdout",
          "text": [
            "Model: \"model\"\n",
            "_________________________________________________________________\n",
            "Layer (type)                 Output Shape              Param #   \n",
            "=================================================================\n",
            "input_1 (InputLayer)         [(None, 5, 392)]          0         \n",
            "_________________________________________________________________\n",
            "conv1d (Conv1D)              (None, 5, 64)             75328     \n",
            "_________________________________________________________________\n",
            "batch_normalization (BatchNo (None, 5, 64)             256       \n",
            "_________________________________________________________________\n",
            "dropout (Dropout)            (None, 5, 64)             0         \n",
            "_________________________________________________________________\n",
            "re_lu (ReLU)                 (None, 5, 64)             0         \n",
            "_________________________________________________________________\n",
            "conv1d_1 (Conv1D)            (None, 5, 64)             12352     \n",
            "_________________________________________________________________\n",
            "batch_normalization_1 (Batch (None, 5, 64)             256       \n",
            "_________________________________________________________________\n",
            "dropout_1 (Dropout)          (None, 5, 64)             0         \n",
            "_________________________________________________________________\n",
            "re_lu_1 (ReLU)               (None, 5, 64)             0         \n",
            "_________________________________________________________________\n",
            "conv1d_2 (Conv1D)            (None, 5, 64)             12352     \n",
            "_________________________________________________________________\n",
            "batch_normalization_2 (Batch (None, 5, 64)             256       \n",
            "_________________________________________________________________\n",
            "dropout_2 (Dropout)          (None, 5, 64)             0         \n",
            "_________________________________________________________________\n",
            "re_lu_2 (ReLU)               (None, 5, 64)             0         \n",
            "_________________________________________________________________\n",
            "global_average_pooling1d (Gl (None, 64)                0         \n",
            "_________________________________________________________________\n",
            "dense (Dense)                (None, 9)                 585       \n",
            "=================================================================\n",
            "Total params: 101,385\n",
            "Trainable params: 101,001\n",
            "Non-trainable params: 384\n",
            "_________________________________________________________________\n"
          ]
        }
      ]
    },
    {
      "cell_type": "code",
      "metadata": {
        "colab": {
          "base_uri": "https://localhost:8080/"
        },
        "id": "uzg1Yzd0rAl2",
        "outputId": "dd381299-f706-4757-eb85-e56599b1d69d"
      },
      "source": [
        "epochs = 500\n",
        "batch_size = 32\n",
        "\n",
        "#es = EarlyStopping(monitor='val_loss', mode='min', verbose=1, patience=30)  #early stopping #overfitting\n",
        "\n",
        "callbacks = [\n",
        "    keras.callbacks.ModelCheckpoint(\n",
        "        \"best_model.h5\", save_best_only=True, monitor=\"val_loss\"\n",
        "    ),\n",
        "    keras.callbacks.ReduceLROnPlateau(\n",
        "        monitor=\"val_loss\", factor=0.5, patience=20, min_lr=0.01\n",
        "    ),\n",
        "    keras.callbacks.EarlyStopping(monitor=\"val_loss\", patience=50, verbose=1),\n",
        "]\n",
        "\n",
        "model.compile(\n",
        "    optimizer=\"adam\",\n",
        "    loss=\"categorical_crossentropy\",\n",
        "    metrics=[\"categorical_accuracy\"],\n",
        ")\n",
        "\n",
        "history = model.fit(X_train, y_train,\n",
        "                    epochs=epochs, batch_size=batch_size,\n",
        "                    validation_data=(X_test, y_test), \n",
        "                    verbose=1,callbacks=callbacks)  #early stopping # overfittin"
      ],
      "execution_count": 46,
      "outputs": [
        {
          "output_type": "stream",
          "name": "stdout",
          "text": [
            "Epoch 1/500\n",
            "381/381 [==============================] - 4s 7ms/step - loss: 2.2508 - categorical_accuracy: 0.1151 - val_loss: 2.1963 - val_categorical_accuracy: 0.1280\n",
            "Epoch 2/500\n",
            "381/381 [==============================] - 2s 6ms/step - loss: 2.1954 - categorical_accuracy: 0.1447 - val_loss: 2.1520 - val_categorical_accuracy: 0.1684\n",
            "Epoch 3/500\n",
            "381/381 [==============================] - 2s 6ms/step - loss: 2.1423 - categorical_accuracy: 0.1796 - val_loss: 2.1029 - val_categorical_accuracy: 0.2059\n",
            "Epoch 4/500\n",
            "381/381 [==============================] - 2s 6ms/step - loss: 2.0625 - categorical_accuracy: 0.2179 - val_loss: 2.0311 - val_categorical_accuracy: 0.2385\n",
            "Epoch 5/500\n",
            "381/381 [==============================] - 2s 6ms/step - loss: 1.9754 - categorical_accuracy: 0.2583 - val_loss: 1.9726 - val_categorical_accuracy: 0.2508\n",
            "Epoch 6/500\n",
            "381/381 [==============================] - 2s 6ms/step - loss: 1.9021 - categorical_accuracy: 0.2882 - val_loss: 1.9565 - val_categorical_accuracy: 0.2722\n",
            "Epoch 7/500\n",
            "381/381 [==============================] - 2s 6ms/step - loss: 1.8354 - categorical_accuracy: 0.3171 - val_loss: 1.7986 - val_categorical_accuracy: 0.3257\n",
            "Epoch 8/500\n",
            "381/381 [==============================] - 2s 7ms/step - loss: 1.7839 - categorical_accuracy: 0.3430 - val_loss: 1.7906 - val_categorical_accuracy: 0.3220\n",
            "Epoch 9/500\n",
            "381/381 [==============================] - 2s 6ms/step - loss: 1.7296 - categorical_accuracy: 0.3645 - val_loss: 1.7069 - val_categorical_accuracy: 0.3600\n",
            "Epoch 10/500\n",
            "381/381 [==============================] - 2s 6ms/step - loss: 1.6652 - categorical_accuracy: 0.3848 - val_loss: 1.7294 - val_categorical_accuracy: 0.3571\n",
            "Epoch 11/500\n",
            "381/381 [==============================] - 2s 6ms/step - loss: 1.6188 - categorical_accuracy: 0.4040 - val_loss: 1.7012 - val_categorical_accuracy: 0.3713\n",
            "Epoch 12/500\n",
            "381/381 [==============================] - 2s 6ms/step - loss: 1.5726 - categorical_accuracy: 0.4265 - val_loss: 1.6365 - val_categorical_accuracy: 0.3956\n",
            "Epoch 13/500\n",
            "381/381 [==============================] - 2s 6ms/step - loss: 1.5351 - categorical_accuracy: 0.4387 - val_loss: 1.5190 - val_categorical_accuracy: 0.4379\n",
            "Epoch 14/500\n",
            "381/381 [==============================] - 2s 6ms/step - loss: 1.4864 - categorical_accuracy: 0.4578 - val_loss: 1.6223 - val_categorical_accuracy: 0.4069\n",
            "Epoch 15/500\n",
            "381/381 [==============================] - 2s 6ms/step - loss: 1.4540 - categorical_accuracy: 0.4709 - val_loss: 1.4776 - val_categorical_accuracy: 0.4519\n",
            "Epoch 16/500\n",
            "381/381 [==============================] - 2s 6ms/step - loss: 1.4124 - categorical_accuracy: 0.4909 - val_loss: 1.4972 - val_categorical_accuracy: 0.4609\n",
            "Epoch 17/500\n",
            "381/381 [==============================] - 2s 7ms/step - loss: 1.3858 - categorical_accuracy: 0.4952 - val_loss: 1.4571 - val_categorical_accuracy: 0.4738\n",
            "Epoch 18/500\n",
            "381/381 [==============================] - 2s 6ms/step - loss: 1.3513 - categorical_accuracy: 0.5117 - val_loss: 1.4996 - val_categorical_accuracy: 0.4686\n",
            "Epoch 19/500\n",
            "381/381 [==============================] - 2s 6ms/step - loss: 1.3078 - categorical_accuracy: 0.5275 - val_loss: 1.3725 - val_categorical_accuracy: 0.4967\n",
            "Epoch 20/500\n",
            "381/381 [==============================] - 2s 6ms/step - loss: 1.2874 - categorical_accuracy: 0.5319 - val_loss: 1.3934 - val_categorical_accuracy: 0.5025\n",
            "Epoch 21/500\n",
            "381/381 [==============================] - 2s 6ms/step - loss: 1.2646 - categorical_accuracy: 0.5363 - val_loss: 1.3365 - val_categorical_accuracy: 0.5268\n",
            "Epoch 22/500\n",
            "381/381 [==============================] - 2s 6ms/step - loss: 1.2407 - categorical_accuracy: 0.5521 - val_loss: 1.3263 - val_categorical_accuracy: 0.5228\n",
            "Epoch 23/500\n",
            "381/381 [==============================] - 3s 7ms/step - loss: 1.2326 - categorical_accuracy: 0.5584 - val_loss: 1.2684 - val_categorical_accuracy: 0.5427\n",
            "Epoch 24/500\n",
            "381/381 [==============================] - 2s 6ms/step - loss: 1.1992 - categorical_accuracy: 0.5630 - val_loss: 1.3035 - val_categorical_accuracy: 0.5368\n",
            "Epoch 25/500\n",
            "381/381 [==============================] - 2s 6ms/step - loss: 1.1886 - categorical_accuracy: 0.5675 - val_loss: 1.2525 - val_categorical_accuracy: 0.5513\n",
            "Epoch 26/500\n",
            "381/381 [==============================] - 2s 6ms/step - loss: 1.1622 - categorical_accuracy: 0.5769 - val_loss: 1.2117 - val_categorical_accuracy: 0.5695\n",
            "Epoch 27/500\n",
            "381/381 [==============================] - 2s 6ms/step - loss: 1.1454 - categorical_accuracy: 0.5848 - val_loss: 1.2291 - val_categorical_accuracy: 0.5697\n",
            "Epoch 28/500\n",
            "381/381 [==============================] - 2s 6ms/step - loss: 1.1420 - categorical_accuracy: 0.5846 - val_loss: 1.2229 - val_categorical_accuracy: 0.5672\n",
            "Epoch 29/500\n",
            "381/381 [==============================] - 2s 6ms/step - loss: 1.1198 - categorical_accuracy: 0.5947 - val_loss: 1.1685 - val_categorical_accuracy: 0.5776\n",
            "Epoch 30/500\n",
            "381/381 [==============================] - 2s 6ms/step - loss: 1.1169 - categorical_accuracy: 0.5965 - val_loss: 1.1403 - val_categorical_accuracy: 0.5843\n",
            "Epoch 31/500\n",
            "381/381 [==============================] - 2s 6ms/step - loss: 1.0942 - categorical_accuracy: 0.6020 - val_loss: 1.1685 - val_categorical_accuracy: 0.5793\n",
            "Epoch 32/500\n",
            "381/381 [==============================] - 3s 7ms/step - loss: 1.0829 - categorical_accuracy: 0.6046 - val_loss: 1.2141 - val_categorical_accuracy: 0.5747\n",
            "Epoch 33/500\n",
            "381/381 [==============================] - 2s 6ms/step - loss: 1.0673 - categorical_accuracy: 0.6094 - val_loss: 1.1394 - val_categorical_accuracy: 0.6029\n",
            "Epoch 34/500\n",
            "381/381 [==============================] - 2s 6ms/step - loss: 1.0547 - categorical_accuracy: 0.6169 - val_loss: 1.1623 - val_categorical_accuracy: 0.5912\n",
            "Epoch 35/500\n",
            "381/381 [==============================] - 2s 6ms/step - loss: 1.0575 - categorical_accuracy: 0.6106 - val_loss: 1.1906 - val_categorical_accuracy: 0.5828\n",
            "Epoch 36/500\n",
            "381/381 [==============================] - 2s 6ms/step - loss: 1.0396 - categorical_accuracy: 0.6217 - val_loss: 1.1696 - val_categorical_accuracy: 0.5979\n",
            "Epoch 37/500\n",
            "381/381 [==============================] - 2s 6ms/step - loss: 1.0243 - categorical_accuracy: 0.6255 - val_loss: 1.1349 - val_categorical_accuracy: 0.5998\n",
            "Epoch 38/500\n",
            "381/381 [==============================] - 3s 7ms/step - loss: 1.0322 - categorical_accuracy: 0.6298 - val_loss: 1.1145 - val_categorical_accuracy: 0.6109\n",
            "Epoch 39/500\n",
            "381/381 [==============================] - 2s 6ms/step - loss: 1.0269 - categorical_accuracy: 0.6239 - val_loss: 1.0963 - val_categorical_accuracy: 0.6163\n",
            "Epoch 40/500\n",
            "381/381 [==============================] - 2s 6ms/step - loss: 1.0132 - categorical_accuracy: 0.6317 - val_loss: 1.1056 - val_categorical_accuracy: 0.6088\n",
            "Epoch 41/500\n",
            "381/381 [==============================] - 2s 6ms/step - loss: 0.9912 - categorical_accuracy: 0.6392 - val_loss: 1.1297 - val_categorical_accuracy: 0.6038\n",
            "Epoch 42/500\n",
            "381/381 [==============================] - 2s 7ms/step - loss: 0.9889 - categorical_accuracy: 0.6390 - val_loss: 1.1724 - val_categorical_accuracy: 0.6033\n",
            "Epoch 43/500\n",
            "381/381 [==============================] - 2s 6ms/step - loss: 0.9961 - categorical_accuracy: 0.6372 - val_loss: 1.1003 - val_categorical_accuracy: 0.6182\n",
            "Epoch 44/500\n",
            "381/381 [==============================] - 2s 6ms/step - loss: 0.9787 - categorical_accuracy: 0.6435 - val_loss: 1.0720 - val_categorical_accuracy: 0.6276\n",
            "Epoch 45/500\n",
            "381/381 [==============================] - 2s 6ms/step - loss: 0.9665 - categorical_accuracy: 0.6490 - val_loss: 1.1266 - val_categorical_accuracy: 0.6142\n",
            "Epoch 46/500\n",
            "381/381 [==============================] - 2s 6ms/step - loss: 0.9774 - categorical_accuracy: 0.6443 - val_loss: 1.0902 - val_categorical_accuracy: 0.6280\n",
            "Epoch 47/500\n",
            "381/381 [==============================] - 2s 6ms/step - loss: 0.9652 - categorical_accuracy: 0.6527 - val_loss: 1.0584 - val_categorical_accuracy: 0.6351\n",
            "Epoch 48/500\n",
            "381/381 [==============================] - 2s 6ms/step - loss: 0.9573 - categorical_accuracy: 0.6497 - val_loss: 1.0725 - val_categorical_accuracy: 0.6280\n",
            "Epoch 49/500\n",
            "381/381 [==============================] - 3s 7ms/step - loss: 0.9495 - categorical_accuracy: 0.6557 - val_loss: 1.0500 - val_categorical_accuracy: 0.6374\n",
            "Epoch 50/500\n",
            "381/381 [==============================] - 2s 7ms/step - loss: 0.9413 - categorical_accuracy: 0.6543 - val_loss: 1.0425 - val_categorical_accuracy: 0.6462\n",
            "Epoch 51/500\n",
            "381/381 [==============================] - 3s 7ms/step - loss: 0.9378 - categorical_accuracy: 0.6567 - val_loss: 1.0574 - val_categorical_accuracy: 0.6425\n",
            "Epoch 52/500\n",
            "381/381 [==============================] - 3s 7ms/step - loss: 0.9395 - categorical_accuracy: 0.6578 - val_loss: 1.0452 - val_categorical_accuracy: 0.6398\n",
            "Epoch 53/500\n",
            "381/381 [==============================] - 3s 7ms/step - loss: 0.9310 - categorical_accuracy: 0.6580 - val_loss: 1.0532 - val_categorical_accuracy: 0.6320\n",
            "Epoch 54/500\n",
            "381/381 [==============================] - 3s 7ms/step - loss: 0.9322 - categorical_accuracy: 0.6631 - val_loss: 1.0638 - val_categorical_accuracy: 0.6287\n",
            "Epoch 55/500\n",
            "381/381 [==============================] - 3s 7ms/step - loss: 0.9127 - categorical_accuracy: 0.6675 - val_loss: 1.0838 - val_categorical_accuracy: 0.6351\n",
            "Epoch 56/500\n",
            "381/381 [==============================] - 3s 7ms/step - loss: 0.8972 - categorical_accuracy: 0.6762 - val_loss: 1.0669 - val_categorical_accuracy: 0.6301\n",
            "Epoch 57/500\n",
            "381/381 [==============================] - 3s 7ms/step - loss: 0.9009 - categorical_accuracy: 0.6684 - val_loss: 1.1001 - val_categorical_accuracy: 0.6314\n",
            "Epoch 58/500\n",
            "381/381 [==============================] - 3s 7ms/step - loss: 0.8966 - categorical_accuracy: 0.6760 - val_loss: 1.0714 - val_categorical_accuracy: 0.6397\n",
            "Epoch 59/500\n",
            "381/381 [==============================] - 2s 7ms/step - loss: 0.8970 - categorical_accuracy: 0.6736 - val_loss: 1.0704 - val_categorical_accuracy: 0.6421\n",
            "Epoch 60/500\n",
            "381/381 [==============================] - 2s 7ms/step - loss: 0.8874 - categorical_accuracy: 0.6772 - val_loss: 1.0497 - val_categorical_accuracy: 0.6494\n",
            "Epoch 61/500\n",
            "381/381 [==============================] - 2s 6ms/step - loss: 0.8801 - categorical_accuracy: 0.6791 - val_loss: 1.0678 - val_categorical_accuracy: 0.6429\n",
            "Epoch 62/500\n",
            "381/381 [==============================] - 2s 6ms/step - loss: 0.8787 - categorical_accuracy: 0.6805 - val_loss: 1.0859 - val_categorical_accuracy: 0.6358\n",
            "Epoch 63/500\n",
            "381/381 [==============================] - 2s 6ms/step - loss: 0.8782 - categorical_accuracy: 0.6773 - val_loss: 1.0800 - val_categorical_accuracy: 0.6328\n",
            "Epoch 64/500\n",
            "381/381 [==============================] - 2s 6ms/step - loss: 0.8841 - categorical_accuracy: 0.6819 - val_loss: 1.0745 - val_categorical_accuracy: 0.6368\n",
            "Epoch 65/500\n",
            "381/381 [==============================] - 2s 7ms/step - loss: 0.8682 - categorical_accuracy: 0.6827 - val_loss: 1.0255 - val_categorical_accuracy: 0.6617\n",
            "Epoch 66/500\n",
            "381/381 [==============================] - 2s 6ms/step - loss: 0.8504 - categorical_accuracy: 0.6893 - val_loss: 1.0071 - val_categorical_accuracy: 0.6602\n",
            "Epoch 67/500\n",
            "381/381 [==============================] - 2s 6ms/step - loss: 0.8623 - categorical_accuracy: 0.6886 - val_loss: 1.0431 - val_categorical_accuracy: 0.6579\n",
            "Epoch 68/500\n",
            "381/381 [==============================] - 3s 7ms/step - loss: 0.8666 - categorical_accuracy: 0.6820 - val_loss: 1.0833 - val_categorical_accuracy: 0.6404\n",
            "Epoch 69/500\n",
            "381/381 [==============================] - 3s 7ms/step - loss: 0.8628 - categorical_accuracy: 0.6842 - val_loss: 1.0336 - val_categorical_accuracy: 0.6536\n",
            "Epoch 70/500\n",
            "381/381 [==============================] - 3s 7ms/step - loss: 0.8396 - categorical_accuracy: 0.6933 - val_loss: 1.0188 - val_categorical_accuracy: 0.6552\n",
            "Epoch 71/500\n",
            "381/381 [==============================] - 2s 6ms/step - loss: 0.8676 - categorical_accuracy: 0.6873 - val_loss: 1.0199 - val_categorical_accuracy: 0.6598\n",
            "Epoch 72/500\n",
            "381/381 [==============================] - 3s 7ms/step - loss: 0.8477 - categorical_accuracy: 0.6889 - val_loss: 1.0284 - val_categorical_accuracy: 0.6661\n",
            "Epoch 73/500\n",
            "381/381 [==============================] - 2s 6ms/step - loss: 0.8296 - categorical_accuracy: 0.7002 - val_loss: 1.0404 - val_categorical_accuracy: 0.6563\n",
            "Epoch 74/500\n",
            "381/381 [==============================] - 3s 7ms/step - loss: 0.8450 - categorical_accuracy: 0.6927 - val_loss: 1.0093 - val_categorical_accuracy: 0.6607\n",
            "Epoch 75/500\n",
            "381/381 [==============================] - 3s 7ms/step - loss: 0.8412 - categorical_accuracy: 0.6956 - val_loss: 0.9971 - val_categorical_accuracy: 0.6669\n",
            "Epoch 76/500\n",
            "381/381 [==============================] - 2s 7ms/step - loss: 0.8120 - categorical_accuracy: 0.7000 - val_loss: 1.0206 - val_categorical_accuracy: 0.6632\n",
            "Epoch 77/500\n",
            "381/381 [==============================] - 3s 7ms/step - loss: 0.8374 - categorical_accuracy: 0.6923 - val_loss: 1.0497 - val_categorical_accuracy: 0.6600\n",
            "Epoch 78/500\n",
            "381/381 [==============================] - 2s 7ms/step - loss: 0.8124 - categorical_accuracy: 0.7044 - val_loss: 1.0576 - val_categorical_accuracy: 0.6554\n",
            "Epoch 79/500\n",
            "381/381 [==============================] - 2s 6ms/step - loss: 0.8175 - categorical_accuracy: 0.6971 - val_loss: 1.0328 - val_categorical_accuracy: 0.6615\n",
            "Epoch 80/500\n",
            "381/381 [==============================] - 2s 7ms/step - loss: 0.8192 - categorical_accuracy: 0.7005 - val_loss: 1.0304 - val_categorical_accuracy: 0.6598\n",
            "Epoch 81/500\n",
            "381/381 [==============================] - 3s 7ms/step - loss: 0.8210 - categorical_accuracy: 0.7016 - val_loss: 1.0308 - val_categorical_accuracy: 0.6600\n",
            "Epoch 82/500\n",
            "381/381 [==============================] - 3s 7ms/step - loss: 0.8077 - categorical_accuracy: 0.7034 - val_loss: 0.9959 - val_categorical_accuracy: 0.6766\n",
            "Epoch 83/500\n",
            "381/381 [==============================] - 2s 6ms/step - loss: 0.8162 - categorical_accuracy: 0.7017 - val_loss: 1.0237 - val_categorical_accuracy: 0.6669\n",
            "Epoch 84/500\n",
            "381/381 [==============================] - 2s 6ms/step - loss: 0.8074 - categorical_accuracy: 0.7043 - val_loss: 1.0099 - val_categorical_accuracy: 0.6680\n",
            "Epoch 85/500\n",
            "381/381 [==============================] - 3s 7ms/step - loss: 0.8037 - categorical_accuracy: 0.7001 - val_loss: 1.0746 - val_categorical_accuracy: 0.6533\n",
            "Epoch 86/500\n",
            "381/381 [==============================] - 3s 7ms/step - loss: 0.7974 - categorical_accuracy: 0.7092 - val_loss: 1.0119 - val_categorical_accuracy: 0.6697\n",
            "Epoch 87/500\n",
            "381/381 [==============================] - 2s 6ms/step - loss: 0.7790 - categorical_accuracy: 0.7141 - val_loss: 1.0043 - val_categorical_accuracy: 0.6787\n",
            "Epoch 88/500\n",
            "381/381 [==============================] - 2s 7ms/step - loss: 0.8039 - categorical_accuracy: 0.7102 - val_loss: 1.0138 - val_categorical_accuracy: 0.6653\n",
            "Epoch 89/500\n",
            "381/381 [==============================] - 2s 6ms/step - loss: 0.8064 - categorical_accuracy: 0.7066 - val_loss: 1.0046 - val_categorical_accuracy: 0.6759\n",
            "Epoch 90/500\n",
            "381/381 [==============================] - 2s 7ms/step - loss: 0.7924 - categorical_accuracy: 0.7081 - val_loss: 1.0058 - val_categorical_accuracy: 0.6826\n",
            "Epoch 91/500\n",
            "381/381 [==============================] - 2s 6ms/step - loss: 0.7877 - categorical_accuracy: 0.7118 - val_loss: 0.9956 - val_categorical_accuracy: 0.6699\n",
            "Epoch 92/500\n",
            "381/381 [==============================] - 2s 6ms/step - loss: 0.7741 - categorical_accuracy: 0.7176 - val_loss: 0.9662 - val_categorical_accuracy: 0.6875\n",
            "Epoch 93/500\n",
            "381/381 [==============================] - 2s 6ms/step - loss: 0.7813 - categorical_accuracy: 0.7127 - val_loss: 1.0172 - val_categorical_accuracy: 0.6749\n",
            "Epoch 94/500\n",
            "381/381 [==============================] - 3s 7ms/step - loss: 0.7761 - categorical_accuracy: 0.7159 - val_loss: 1.0452 - val_categorical_accuracy: 0.6722\n",
            "Epoch 95/500\n",
            "381/381 [==============================] - 2s 6ms/step - loss: 0.7816 - categorical_accuracy: 0.7156 - val_loss: 0.9985 - val_categorical_accuracy: 0.6762\n",
            "Epoch 96/500\n",
            "381/381 [==============================] - 2s 7ms/step - loss: 0.7712 - categorical_accuracy: 0.7176 - val_loss: 1.0184 - val_categorical_accuracy: 0.6705\n",
            "Epoch 97/500\n",
            "381/381 [==============================] - 3s 7ms/step - loss: 0.7687 - categorical_accuracy: 0.7139 - val_loss: 0.9865 - val_categorical_accuracy: 0.6845\n",
            "Epoch 98/500\n",
            "381/381 [==============================] - 3s 7ms/step - loss: 0.7656 - categorical_accuracy: 0.7212 - val_loss: 1.0214 - val_categorical_accuracy: 0.6782\n",
            "Epoch 99/500\n",
            "381/381 [==============================] - 3s 7ms/step - loss: 0.7679 - categorical_accuracy: 0.7219 - val_loss: 1.0150 - val_categorical_accuracy: 0.6770\n",
            "Epoch 100/500\n",
            "381/381 [==============================] - 2s 7ms/step - loss: 0.7609 - categorical_accuracy: 0.7224 - val_loss: 0.9955 - val_categorical_accuracy: 0.6818\n",
            "Epoch 101/500\n",
            "381/381 [==============================] - 2s 6ms/step - loss: 0.7551 - categorical_accuracy: 0.7274 - val_loss: 1.0256 - val_categorical_accuracy: 0.6776\n",
            "Epoch 102/500\n",
            "381/381 [==============================] - 3s 7ms/step - loss: 0.7575 - categorical_accuracy: 0.7244 - val_loss: 0.9732 - val_categorical_accuracy: 0.6897\n",
            "Epoch 103/500\n",
            "381/381 [==============================] - 3s 7ms/step - loss: 0.7589 - categorical_accuracy: 0.7214 - val_loss: 1.0612 - val_categorical_accuracy: 0.6630\n",
            "Epoch 104/500\n",
            "381/381 [==============================] - 2s 6ms/step - loss: 0.7449 - categorical_accuracy: 0.7265 - val_loss: 1.0049 - val_categorical_accuracy: 0.6851\n",
            "Epoch 105/500\n",
            "381/381 [==============================] - 3s 7ms/step - loss: 0.7606 - categorical_accuracy: 0.7211 - val_loss: 0.9951 - val_categorical_accuracy: 0.6828\n",
            "Epoch 106/500\n",
            "381/381 [==============================] - 2s 6ms/step - loss: 0.7511 - categorical_accuracy: 0.7310 - val_loss: 1.0391 - val_categorical_accuracy: 0.6772\n",
            "Epoch 107/500\n",
            "381/381 [==============================] - 2s 6ms/step - loss: 0.7527 - categorical_accuracy: 0.7239 - val_loss: 1.0064 - val_categorical_accuracy: 0.6814\n",
            "Epoch 108/500\n",
            "381/381 [==============================] - 2s 7ms/step - loss: 0.7429 - categorical_accuracy: 0.7299 - val_loss: 1.0059 - val_categorical_accuracy: 0.6831\n",
            "Epoch 109/500\n",
            "381/381 [==============================] - 3s 7ms/step - loss: 0.7361 - categorical_accuracy: 0.7337 - val_loss: 0.9785 - val_categorical_accuracy: 0.6944\n",
            "Epoch 110/500\n",
            "381/381 [==============================] - 2s 6ms/step - loss: 0.7456 - categorical_accuracy: 0.7271 - val_loss: 1.0183 - val_categorical_accuracy: 0.6789\n",
            "Epoch 111/500\n",
            "381/381 [==============================] - 3s 7ms/step - loss: 0.7503 - categorical_accuracy: 0.7315 - val_loss: 0.9907 - val_categorical_accuracy: 0.6943\n",
            "Epoch 112/500\n",
            "381/381 [==============================] - 3s 7ms/step - loss: 0.7303 - categorical_accuracy: 0.7339 - val_loss: 0.9753 - val_categorical_accuracy: 0.6943\n",
            "Epoch 113/500\n",
            "381/381 [==============================] - 2s 6ms/step - loss: 0.7343 - categorical_accuracy: 0.7345 - val_loss: 1.0012 - val_categorical_accuracy: 0.6904\n",
            "Epoch 114/500\n",
            "381/381 [==============================] - 3s 7ms/step - loss: 0.7353 - categorical_accuracy: 0.7316 - val_loss: 1.0020 - val_categorical_accuracy: 0.6847\n",
            "Epoch 115/500\n",
            "381/381 [==============================] - 3s 7ms/step - loss: 0.7325 - categorical_accuracy: 0.7347 - val_loss: 0.9951 - val_categorical_accuracy: 0.6852\n",
            "Epoch 116/500\n",
            "381/381 [==============================] - 2s 7ms/step - loss: 0.7413 - categorical_accuracy: 0.7302 - val_loss: 0.9905 - val_categorical_accuracy: 0.6956\n",
            "Epoch 117/500\n",
            "381/381 [==============================] - 3s 7ms/step - loss: 0.7318 - categorical_accuracy: 0.7329 - val_loss: 0.9815 - val_categorical_accuracy: 0.6902\n",
            "Epoch 118/500\n",
            "381/381 [==============================] - 3s 7ms/step - loss: 0.7260 - categorical_accuracy: 0.7333 - val_loss: 1.0479 - val_categorical_accuracy: 0.6793\n",
            "Epoch 119/500\n",
            "381/381 [==============================] - 2s 6ms/step - loss: 0.7204 - categorical_accuracy: 0.7366 - val_loss: 1.0214 - val_categorical_accuracy: 0.6808\n",
            "Epoch 120/500\n",
            "381/381 [==============================] - 3s 7ms/step - loss: 0.7316 - categorical_accuracy: 0.7325 - val_loss: 0.9979 - val_categorical_accuracy: 0.6868\n",
            "Epoch 121/500\n",
            "381/381 [==============================] - 3s 7ms/step - loss: 0.7230 - categorical_accuracy: 0.7396 - val_loss: 1.0231 - val_categorical_accuracy: 0.6814\n",
            "Epoch 122/500\n",
            "381/381 [==============================] - 3s 7ms/step - loss: 0.7225 - categorical_accuracy: 0.7360 - val_loss: 1.0039 - val_categorical_accuracy: 0.6852\n",
            "Epoch 123/500\n",
            "381/381 [==============================] - 3s 7ms/step - loss: 0.7200 - categorical_accuracy: 0.7395 - val_loss: 1.0267 - val_categorical_accuracy: 0.6816\n",
            "Epoch 124/500\n",
            "381/381 [==============================] - 3s 7ms/step - loss: 0.7033 - categorical_accuracy: 0.7402 - val_loss: 0.9995 - val_categorical_accuracy: 0.6994\n",
            "Epoch 125/500\n",
            "381/381 [==============================] - 3s 7ms/step - loss: 0.7017 - categorical_accuracy: 0.7478 - val_loss: 0.9909 - val_categorical_accuracy: 0.6948\n",
            "Epoch 126/500\n",
            "381/381 [==============================] - 3s 7ms/step - loss: 0.7087 - categorical_accuracy: 0.7434 - val_loss: 1.0614 - val_categorical_accuracy: 0.6820\n",
            "Epoch 127/500\n",
            "381/381 [==============================] - 2s 6ms/step - loss: 0.7126 - categorical_accuracy: 0.7444 - val_loss: 1.0137 - val_categorical_accuracy: 0.6891\n",
            "Epoch 128/500\n",
            "381/381 [==============================] - 3s 7ms/step - loss: 0.7053 - categorical_accuracy: 0.7458 - val_loss: 1.0138 - val_categorical_accuracy: 0.6881\n",
            "Epoch 129/500\n",
            "381/381 [==============================] - 3s 7ms/step - loss: 0.7125 - categorical_accuracy: 0.7427 - val_loss: 1.0383 - val_categorical_accuracy: 0.6854\n",
            "Epoch 130/500\n",
            "381/381 [==============================] - 3s 7ms/step - loss: 0.7103 - categorical_accuracy: 0.7433 - val_loss: 0.9667 - val_categorical_accuracy: 0.6989\n",
            "Epoch 131/500\n",
            "381/381 [==============================] - 3s 7ms/step - loss: 0.6967 - categorical_accuracy: 0.7499 - val_loss: 0.9968 - val_categorical_accuracy: 0.6937\n",
            "Epoch 132/500\n",
            "381/381 [==============================] - 3s 7ms/step - loss: 0.6960 - categorical_accuracy: 0.7474 - val_loss: 1.0042 - val_categorical_accuracy: 0.6956\n",
            "Epoch 133/500\n",
            "381/381 [==============================] - 3s 7ms/step - loss: 0.6966 - categorical_accuracy: 0.7505 - val_loss: 0.9976 - val_categorical_accuracy: 0.6975\n",
            "Epoch 134/500\n",
            "381/381 [==============================] - 3s 7ms/step - loss: 0.7052 - categorical_accuracy: 0.7473 - val_loss: 0.9989 - val_categorical_accuracy: 0.6966\n",
            "Epoch 135/500\n",
            "381/381 [==============================] - 3s 8ms/step - loss: 0.6966 - categorical_accuracy: 0.7490 - val_loss: 1.0169 - val_categorical_accuracy: 0.6964\n",
            "Epoch 136/500\n",
            "381/381 [==============================] - 3s 8ms/step - loss: 0.6966 - categorical_accuracy: 0.7490 - val_loss: 1.0183 - val_categorical_accuracy: 0.6862\n",
            "Epoch 137/500\n",
            "381/381 [==============================] - 3s 7ms/step - loss: 0.7034 - categorical_accuracy: 0.7451 - val_loss: 1.0281 - val_categorical_accuracy: 0.6852\n",
            "Epoch 138/500\n",
            "381/381 [==============================] - 3s 7ms/step - loss: 0.6896 - categorical_accuracy: 0.7487 - val_loss: 0.9934 - val_categorical_accuracy: 0.6952\n",
            "Epoch 139/500\n",
            "381/381 [==============================] - 3s 7ms/step - loss: 0.6882 - categorical_accuracy: 0.7466 - val_loss: 1.0006 - val_categorical_accuracy: 0.6969\n",
            "Epoch 140/500\n",
            "381/381 [==============================] - 3s 7ms/step - loss: 0.6911 - categorical_accuracy: 0.7549 - val_loss: 1.0107 - val_categorical_accuracy: 0.6985\n",
            "Epoch 141/500\n",
            "381/381 [==============================] - 3s 7ms/step - loss: 0.6957 - categorical_accuracy: 0.7476 - val_loss: 0.9788 - val_categorical_accuracy: 0.7044\n",
            "Epoch 142/500\n",
            "381/381 [==============================] - 3s 7ms/step - loss: 0.6882 - categorical_accuracy: 0.7508 - val_loss: 0.9980 - val_categorical_accuracy: 0.6990\n",
            "Epoch 00142: early stopping\n"
          ]
        }
      ]
    },
    {
      "cell_type": "code",
      "metadata": {
        "colab": {
          "base_uri": "https://localhost:8080/"
        },
        "id": "rJmEKCxDrJSW",
        "outputId": "957585a3-5152-4532-8d97-ab76dde744f3"
      },
      "source": [
        "#model = keras.models.load_model(\"best_model.h5\")\n",
        "\n",
        "train_loss, train_acc = model.evaluate(X_train, y_train)\n",
        "\n",
        "print(\"Train accuracy\", train_acc)\n",
        "print(\"Train loss\", train_loss)\n",
        "\n",
        "test_loss, test_acc = model.evaluate(X_test, y_test)\n",
        "\n",
        "print(\"Test accuracy\", test_acc)\n",
        "print(\"Test loss\", test_loss)"
      ],
      "execution_count": 47,
      "outputs": [
        {
          "output_type": "stream",
          "name": "stdout",
          "text": [
            "381/381 [==============================] - 1s 2ms/step - loss: 0.3133 - categorical_accuracy: 0.9073\n",
            "Train accuracy 0.9072842001914978\n",
            "Train loss 0.3133256435394287\n",
            "164/164 [==============================] - 0s 2ms/step - loss: 0.9980 - categorical_accuracy: 0.6990\n",
            "Test accuracy 0.6990421414375305\n",
            "Test loss 0.9979597926139832\n"
          ]
        }
      ]
    },
    {
      "cell_type": "code",
      "metadata": {
        "colab": {
          "base_uri": "https://localhost:8080/",
          "height": 677
        },
        "id": "cKc91rCfZWTx",
        "outputId": "78d6749d-0e7d-4baa-ed45-12df5a7774dc"
      },
      "source": [
        "plot_accuracy(history,model.metrics_names[1])\n",
        "print(\"\\n\")\n",
        "plot_loss(history)"
      ],
      "execution_count": 48,
      "outputs": [
        {
          "output_type": "display_data",
          "data": {
            "image/png": "[encoded data removed]",
            "text/plain": [
              "<Figure size 432x288 with 1 Axes>"
            ]
          },
          "metadata": {
            "needs_background": "light"
          }
        },
        {
          "output_type": "stream",
          "name": "stdout",
          "text": [
            "\n",
            "\n",
            "\n",
            "\n"
          ]
        },
        {
          "output_type": "display_data",
          "data": {
            "image/png": "[encoded data removed]",
            "text/plain": [
              "<Figure size 432x288 with 1 Axes>"
            ]
          },
          "metadata": {
            "needs_background": "light"
          }
        },
        {
          "output_type": "stream",
          "name": "stdout",
          "text": [
            "\n",
            "\n"
          ]
        }
      ]
    },
    {
      "cell_type": "markdown",
      "metadata": {
        "id": "WeOLS5ROi9kZ"
      },
      "source": [
        "# LSTM"
      ]
    },
    {
      "cell_type": "code",
      "metadata": {
        "colab": {
          "base_uri": "https://localhost:8080/"
        },
        "id": "y-iPjNJSze3b",
        "outputId": "57995a34-d202-474e-a0a7-fe8387e48c89"
      },
      "source": [
        "#y_nn for categorical\n",
        "\n",
        "X_train, X_test, y_train, y_test = train_test_split(X_nn,y_nn, test_size=0.3, random_state = 2021,shuffle=True)\n",
        "\n",
        "X_train.shape, X_test.shape, y_train.shape, y_test.shape"
      ],
      "execution_count": 49,
      "outputs": [
        {
          "output_type": "execute_result",
          "data": {
            "text/plain": [
              "((12177, 5, 392), (5220, 5, 392), (12177, 9), (5220, 9))"
            ]
          },
          "metadata": {},
          "execution_count": 49
        }
      ]
    },
    {
      "cell_type": "code",
      "metadata": {
        "id": "YAea5yGCoCOX"
      },
      "source": [
        "from keras.layers import Input, Dense, LSTM, multiply, concatenate, Activation, Masking, Reshape\n",
        "from keras.layers import Conv1D, BatchNormalization, GlobalAveragePooling1D, Permute, Dropout"
      ],
      "execution_count": 50,
      "outputs": []
    },
    {
      "cell_type": "code",
      "metadata": {
        "colab": {
          "base_uri": "https://localhost:8080/"
        },
        "id": "b_fVnNq9gcSy",
        "outputId": "20f63256-3404-4aa9-d7a9-575235ef4a79"
      },
      "source": [
        "def make_model_LSTM(input_shape):\n",
        "    model = Sequential()\n",
        "\n",
        "    model.add(LSTM(500, input_shape=X_train.shape[1:]))\n",
        "\n",
        "    model.add(Dropout(0.2))\n",
        "\n",
        "    #model.add(Dense(256, activation='relu'))\n",
        "\n",
        "    model.add(Dense(128, activation='relu'))\n",
        "\n",
        "    model.add(Dense(num_labels, activation='softmax'))\n",
        "\n",
        "    return model\n",
        "\n",
        "\n",
        "model = make_model_LSTM(X_train.shape[1:])\n",
        "#keras.utils.plot_model(model, show_shapes=True)   #visual representation of summary\n",
        "model.summary()"
      ],
      "execution_count": 51,
      "outputs": [
        {
          "output_type": "stream",
          "name": "stdout",
          "text": [
            "Model: \"sequential\"\n",
            "_________________________________________________________________\n",
            "Layer (type)                 Output Shape              Param #   \n",
            "=================================================================\n",
            "lstm (LSTM)                  (None, 500)               1786000   \n",
            "_________________________________________________________________\n",
            "dropout_3 (Dropout)          (None, 500)               0         \n",
            "_________________________________________________________________\n",
            "dense_1 (Dense)              (None, 128)               64128     \n",
            "_________________________________________________________________\n",
            "dense_2 (Dense)              (None, 9)                 1161      \n",
            "=================================================================\n",
            "Total params: 1,851,289\n",
            "Trainable params: 1,851,289\n",
            "Non-trainable params: 0\n",
            "_________________________________________________________________\n"
          ]
        }
      ]
    },
    {
      "cell_type": "code",
      "metadata": {
        "id": "SRCS06QQk7Ei"
      },
      "source": [
        "#es = EarlyStopping(monitor='val_loss', mode='min', verbose=1, patience=30)  #early stopping #overfitting\n",
        "\n",
        "callbacks = [\n",
        "    keras.callbacks.ModelCheckpoint(\n",
        "        \"best_model.h5\", save_best_only=True, monitor=\"val_loss\"\n",
        "    ),\n",
        "    keras.callbacks.ReduceLROnPlateau(\n",
        "        monitor=\"val_loss\", factor=0.5, patience=20, min_lr=0.01\n",
        "    ),\n",
        "    keras.callbacks.EarlyStopping(monitor=\"val_loss\", patience=50, verbose=1),\n",
        "]\n",
        "\n",
        "model.compile(loss='categorical_crossentropy', optimizer='adam', metrics=['accuracy'])\n"
      ],
      "execution_count": 52,
      "outputs": []
    },
    {
      "cell_type": "code",
      "metadata": {
        "colab": {
          "base_uri": "https://localhost:8080/"
        },
        "id": "jxgMZdRJovg6",
        "outputId": "e212f793-cedd-4c42-a455-6c26e0ad2ab0"
      },
      "source": [
        "history = model.fit(X_train, y_train,\n",
        "                    epochs=epochs, batch_size=batch_size,\n",
        "                    validation_data=(X_test, y_test), \n",
        "                    verbose=1,callbacks=callbacks)"
      ],
      "execution_count": 53,
      "outputs": [
        {
          "output_type": "stream",
          "name": "stdout",
          "text": [
            "Epoch 1/500\n",
            "381/381 [==============================] - 20s 50ms/step - loss: 2.1950 - accuracy: 0.1233 - val_loss: 2.1777 - val_accuracy: 0.1307\n",
            "Epoch 2/500\n",
            "381/381 [==============================] - 18s 48ms/step - loss: 2.1543 - accuracy: 0.1520 - val_loss: 2.1455 - val_accuracy: 0.1565\n",
            "Epoch 3/500\n",
            "381/381 [==============================] - 18s 48ms/step - loss: 2.1083 - accuracy: 0.1800 - val_loss: 2.1202 - val_accuracy: 0.1672\n",
            "Epoch 4/500\n",
            "381/381 [==============================] - 18s 48ms/step - loss: 2.0655 - accuracy: 0.2017 - val_loss: 2.0872 - val_accuracy: 0.1941\n",
            "Epoch 5/500\n",
            "381/381 [==============================] - 18s 48ms/step - loss: 2.0224 - accuracy: 0.2218 - val_loss: 2.0459 - val_accuracy: 0.2209\n",
            "Epoch 6/500\n",
            "381/381 [==============================] - 18s 48ms/step - loss: 1.9749 - accuracy: 0.2478 - val_loss: 2.0038 - val_accuracy: 0.2441\n",
            "Epoch 7/500\n",
            "381/381 [==============================] - 18s 48ms/step - loss: 1.9012 - accuracy: 0.2823 - val_loss: 1.9663 - val_accuracy: 0.2648\n",
            "Epoch 8/500\n",
            "381/381 [==============================] - 18s 48ms/step - loss: 1.8233 - accuracy: 0.3187 - val_loss: 1.9027 - val_accuracy: 0.2912\n",
            "Epoch 9/500\n",
            "381/381 [==============================] - 18s 47ms/step - loss: 1.7430 - accuracy: 0.3489 - val_loss: 1.8628 - val_accuracy: 0.3209\n",
            "Epoch 10/500\n",
            "381/381 [==============================] - 18s 48ms/step - loss: 1.6486 - accuracy: 0.3865 - val_loss: 1.8163 - val_accuracy: 0.3360\n",
            "Epoch 11/500\n",
            "381/381 [==============================] - 18s 48ms/step - loss: 1.5546 - accuracy: 0.4203 - val_loss: 1.7267 - val_accuracy: 0.3814\n",
            "Epoch 12/500\n",
            "381/381 [==============================] - 18s 48ms/step - loss: 1.4709 - accuracy: 0.4568 - val_loss: 1.7003 - val_accuracy: 0.3985\n",
            "Epoch 13/500\n",
            "381/381 [==============================] - 18s 47ms/step - loss: 1.3527 - accuracy: 0.5059 - val_loss: 1.6287 - val_accuracy: 0.4393\n",
            "Epoch 14/500\n",
            "381/381 [==============================] - 18s 48ms/step - loss: 1.2728 - accuracy: 0.5374 - val_loss: 1.6322 - val_accuracy: 0.4542\n",
            "Epoch 15/500\n",
            "381/381 [==============================] - 18s 48ms/step - loss: 1.1757 - accuracy: 0.5753 - val_loss: 1.5670 - val_accuracy: 0.4860\n",
            "Epoch 16/500\n",
            "381/381 [==============================] - 18s 48ms/step - loss: 1.0960 - accuracy: 0.6022 - val_loss: 1.5769 - val_accuracy: 0.5002\n",
            "Epoch 17/500\n",
            "381/381 [==============================] - 18s 47ms/step - loss: 0.9966 - accuracy: 0.6478 - val_loss: 1.5506 - val_accuracy: 0.5352\n",
            "Epoch 18/500\n",
            "381/381 [==============================] - 18s 47ms/step - loss: 0.9051 - accuracy: 0.6777 - val_loss: 1.5927 - val_accuracy: 0.5452\n",
            "Epoch 19/500\n",
            "381/381 [==============================] - 18s 48ms/step - loss: 0.8494 - accuracy: 0.6946 - val_loss: 1.4814 - val_accuracy: 0.5711\n",
            "Epoch 20/500\n",
            "381/381 [==============================] - 18s 48ms/step - loss: 0.7382 - accuracy: 0.7356 - val_loss: 1.5356 - val_accuracy: 0.5944\n",
            "Epoch 21/500\n",
            "381/381 [==============================] - 18s 48ms/step - loss: 0.6719 - accuracy: 0.7608 - val_loss: 1.5511 - val_accuracy: 0.6038\n",
            "Epoch 22/500\n",
            "381/381 [==============================] - 18s 48ms/step - loss: 0.5984 - accuracy: 0.7903 - val_loss: 1.4994 - val_accuracy: 0.6274\n",
            "Epoch 23/500\n",
            "381/381 [==============================] - 18s 48ms/step - loss: 0.5460 - accuracy: 0.8086 - val_loss: 1.5292 - val_accuracy: 0.6452\n",
            "Epoch 24/500\n",
            "381/381 [==============================] - 18s 48ms/step - loss: 0.4818 - accuracy: 0.8281 - val_loss: 1.6168 - val_accuracy: 0.6498\n",
            "Epoch 25/500\n",
            "381/381 [==============================] - 18s 48ms/step - loss: 0.4368 - accuracy: 0.8439 - val_loss: 1.6482 - val_accuracy: 0.6669\n",
            "Epoch 26/500\n",
            "381/381 [==============================] - 18s 47ms/step - loss: 0.3739 - accuracy: 0.8666 - val_loss: 1.6877 - val_accuracy: 0.6693\n",
            "Epoch 27/500\n",
            "381/381 [==============================] - 18s 48ms/step - loss: 0.3579 - accuracy: 0.8761 - val_loss: 1.7053 - val_accuracy: 0.6732\n",
            "Epoch 28/500\n",
            "381/381 [==============================] - 18s 48ms/step - loss: 0.3218 - accuracy: 0.8870 - val_loss: 1.6873 - val_accuracy: 0.6799\n",
            "Epoch 29/500\n",
            "381/381 [==============================] - 18s 48ms/step - loss: 0.2633 - accuracy: 0.9074 - val_loss: 1.8264 - val_accuracy: 0.6948\n",
            "Epoch 30/500\n",
            "381/381 [==============================] - 18s 48ms/step - loss: 0.2539 - accuracy: 0.9116 - val_loss: 1.7800 - val_accuracy: 0.6987\n",
            "Epoch 31/500\n",
            "381/381 [==============================] - 18s 47ms/step - loss: 0.2196 - accuracy: 0.9258 - val_loss: 1.9015 - val_accuracy: 0.6935\n",
            "Epoch 32/500\n",
            "381/381 [==============================] - 18s 48ms/step - loss: 0.2076 - accuracy: 0.9262 - val_loss: 1.8970 - val_accuracy: 0.7061\n",
            "Epoch 33/500\n",
            "381/381 [==============================] - 18s 48ms/step - loss: 0.1777 - accuracy: 0.9394 - val_loss: 2.0245 - val_accuracy: 0.6831\n",
            "Epoch 34/500\n",
            "381/381 [==============================] - 18s 48ms/step - loss: 0.1626 - accuracy: 0.9434 - val_loss: 2.0461 - val_accuracy: 0.7119\n",
            "Epoch 35/500\n",
            "381/381 [==============================] - 18s 47ms/step - loss: 0.1677 - accuracy: 0.9435 - val_loss: 2.0994 - val_accuracy: 0.7086\n",
            "Epoch 36/500\n",
            "381/381 [==============================] - 18s 47ms/step - loss: 0.1482 - accuracy: 0.9504 - val_loss: 2.1232 - val_accuracy: 0.7036\n",
            "Epoch 37/500\n",
            "381/381 [==============================] - 18s 48ms/step - loss: 0.1309 - accuracy: 0.9559 - val_loss: 2.1939 - val_accuracy: 0.7140\n",
            "Epoch 38/500\n",
            "381/381 [==============================] - 18s 48ms/step - loss: 0.1100 - accuracy: 0.9639 - val_loss: 2.2277 - val_accuracy: 0.7136\n",
            "Epoch 39/500\n",
            "381/381 [==============================] - 18s 48ms/step - loss: 0.0901 - accuracy: 0.9704 - val_loss: 2.2878 - val_accuracy: 0.7165\n",
            "Epoch 40/500\n",
            "381/381 [==============================] - 18s 48ms/step - loss: 0.1085 - accuracy: 0.9637 - val_loss: 2.3582 - val_accuracy: 0.7090\n",
            "Epoch 41/500\n",
            "381/381 [==============================] - 18s 47ms/step - loss: 0.1081 - accuracy: 0.9644 - val_loss: 2.3386 - val_accuracy: 0.7195\n",
            "Epoch 42/500\n",
            "381/381 [==============================] - 18s 48ms/step - loss: 0.1144 - accuracy: 0.9613 - val_loss: 2.4336 - val_accuracy: 0.7165\n",
            "Epoch 43/500\n",
            "381/381 [==============================] - 18s 48ms/step - loss: 0.0873 - accuracy: 0.9718 - val_loss: 2.3955 - val_accuracy: 0.7182\n",
            "Epoch 44/500\n",
            "381/381 [==============================] - 18s 48ms/step - loss: 0.0809 - accuracy: 0.9742 - val_loss: 2.5196 - val_accuracy: 0.7142\n",
            "Epoch 45/500\n",
            "381/381 [==============================] - 18s 48ms/step - loss: 0.0942 - accuracy: 0.9684 - val_loss: 2.5543 - val_accuracy: 0.7105\n",
            "Epoch 46/500\n",
            "381/381 [==============================] - 18s 48ms/step - loss: 0.1057 - accuracy: 0.9650 - val_loss: 2.5445 - val_accuracy: 0.7056\n",
            "Epoch 47/500\n",
            "381/381 [==============================] - 18s 48ms/step - loss: 0.0684 - accuracy: 0.9780 - val_loss: 2.4023 - val_accuracy: 0.7241\n",
            "Epoch 48/500\n",
            "381/381 [==============================] - 18s 48ms/step - loss: 0.0589 - accuracy: 0.9809 - val_loss: 2.5661 - val_accuracy: 0.7216\n",
            "Epoch 49/500\n",
            "381/381 [==============================] - 18s 48ms/step - loss: 0.0603 - accuracy: 0.9797 - val_loss: 2.6574 - val_accuracy: 0.7105\n",
            "Epoch 50/500\n",
            "381/381 [==============================] - 18s 48ms/step - loss: 0.0806 - accuracy: 0.9730 - val_loss: 2.4906 - val_accuracy: 0.7117\n",
            "Epoch 51/500\n",
            "381/381 [==============================] - 18s 48ms/step - loss: 0.0949 - accuracy: 0.9694 - val_loss: 2.7087 - val_accuracy: 0.7042\n",
            "Epoch 52/500\n",
            "381/381 [==============================] - 18s 48ms/step - loss: 0.0896 - accuracy: 0.9699 - val_loss: 2.6584 - val_accuracy: 0.7174\n",
            "Epoch 53/500\n",
            "381/381 [==============================] - 18s 48ms/step - loss: 0.0492 - accuracy: 0.9858 - val_loss: 2.6375 - val_accuracy: 0.7192\n",
            "Epoch 54/500\n",
            "381/381 [==============================] - 18s 48ms/step - loss: 0.0462 - accuracy: 0.9857 - val_loss: 2.6804 - val_accuracy: 0.7054\n",
            "Epoch 55/500\n",
            "381/381 [==============================] - 18s 48ms/step - loss: 0.0963 - accuracy: 0.9701 - val_loss: 2.5679 - val_accuracy: 0.7163\n",
            "Epoch 56/500\n",
            "381/381 [==============================] - 18s 48ms/step - loss: 0.0550 - accuracy: 0.9818 - val_loss: 2.7390 - val_accuracy: 0.7115\n",
            "Epoch 57/500\n",
            "381/381 [==============================] - 19s 49ms/step - loss: 0.0339 - accuracy: 0.9898 - val_loss: 2.8957 - val_accuracy: 0.7172\n",
            "Epoch 58/500\n",
            "381/381 [==============================] - 18s 48ms/step - loss: 0.0754 - accuracy: 0.9778 - val_loss: 2.6413 - val_accuracy: 0.7071\n",
            "Epoch 59/500\n",
            "381/381 [==============================] - 18s 48ms/step - loss: 0.0744 - accuracy: 0.9780 - val_loss: 2.7527 - val_accuracy: 0.7142\n",
            "Epoch 60/500\n",
            "381/381 [==============================] - 18s 48ms/step - loss: 0.0742 - accuracy: 0.9771 - val_loss: 2.7993 - val_accuracy: 0.7136\n",
            "Epoch 61/500\n",
            "381/381 [==============================] - 18s 48ms/step - loss: 0.0542 - accuracy: 0.9836 - val_loss: 2.7427 - val_accuracy: 0.7203\n",
            "Epoch 62/500\n",
            "381/381 [==============================] - 18s 48ms/step - loss: 0.0303 - accuracy: 0.9901 - val_loss: 2.8378 - val_accuracy: 0.7216\n",
            "Epoch 63/500\n",
            "381/381 [==============================] - 18s 48ms/step - loss: 0.0586 - accuracy: 0.9840 - val_loss: 2.7867 - val_accuracy: 0.7174\n",
            "Epoch 64/500\n",
            "381/381 [==============================] - 18s 48ms/step - loss: 0.0687 - accuracy: 0.9783 - val_loss: 2.9237 - val_accuracy: 0.7075\n",
            "Epoch 65/500\n",
            "381/381 [==============================] - 18s 48ms/step - loss: 0.0538 - accuracy: 0.9820 - val_loss: 2.8211 - val_accuracy: 0.7169\n",
            "Epoch 66/500\n",
            "381/381 [==============================] - 18s 48ms/step - loss: 0.0658 - accuracy: 0.9793 - val_loss: 2.8626 - val_accuracy: 0.7192\n",
            "Epoch 67/500\n",
            "381/381 [==============================] - 18s 48ms/step - loss: 0.0468 - accuracy: 0.9837 - val_loss: 2.8173 - val_accuracy: 0.7195\n",
            "Epoch 68/500\n",
            "381/381 [==============================] - 18s 48ms/step - loss: 0.0354 - accuracy: 0.9887 - val_loss: 2.8165 - val_accuracy: 0.7295\n",
            "Epoch 69/500\n",
            "381/381 [==============================] - 18s 48ms/step - loss: 0.0404 - accuracy: 0.9874 - val_loss: 3.0055 - val_accuracy: 0.7157\n",
            "Epoch 00069: early stopping\n"
          ]
        }
      ]
    },
    {
      "cell_type": "code",
      "metadata": {
        "id": "aM1HB5obq2fG",
        "colab": {
          "base_uri": "https://localhost:8080/"
        },
        "outputId": "66c74f01-e787-4ca8-c3ae-d89717fe6b69"
      },
      "source": [
        "#model = keras.models.load_model(\"best_model.h5\")\n",
        "\n",
        "train_loss, train_acc = model.evaluate(X_train, y_train)\n",
        "\n",
        "print(\"Train accuracy\", train_acc)\n",
        "print(\"Train loss\", train_loss)\n",
        "\n",
        "test_loss, test_acc = model.evaluate(X_test, y_test)\n",
        "\n",
        "print(\"Test accuracy\", test_acc)\n",
        "print(\"Test loss\", test_loss)"
      ],
      "execution_count": 54,
      "outputs": [
        {
          "output_type": "stream",
          "name": "stdout",
          "text": [
            "381/381 [==============================] - 5s 14ms/step - loss: 0.0407 - accuracy: 0.9873\n",
            "Train accuracy 0.9872710704803467\n",
            "Train loss 0.04071008414030075\n",
            "164/164 [==============================] - 2s 14ms/step - loss: 3.0055 - accuracy: 0.7157\n",
            "Test accuracy 0.7157087922096252\n",
            "Test loss 3.0054593086242676\n"
          ]
        }
      ]
    },
    {
      "cell_type": "code",
      "metadata": {
        "id": "i3povKF4TlIV",
        "colab": {
          "base_uri": "https://localhost:8080/",
          "height": 677
        },
        "outputId": "f92daf3d-51d0-4343-cf7c-4a4d0b4b8f07"
      },
      "source": [
        "plot_accuracy(history,model.metrics_names[1])\n",
        "print(\"\\n\")\n",
        "plot_loss(history)"
      ],
      "execution_count": 55,
      "outputs": [
        {
          "output_type": "display_data",
          "data": {
            "image/png": "[encoded data removed]",
            "text/plain": [
              "<Figure size 432x288 with 1 Axes>"
            ]
          },
          "metadata": {
            "needs_background": "light"
          }
        },
        {
          "output_type": "stream",
          "name": "stdout",
          "text": [
            "\n",
            "\n",
            "\n",
            "\n"
          ]
        },
        {
          "output_type": "display_data",
          "data": {
            "image/png": "[encoded data removed]",
            "text/plain": [
              "<Figure size 432x288 with 1 Axes>"
            ]
          },
          "metadata": {
            "needs_background": "light"
          }
        },
        {
          "output_type": "stream",
          "name": "stdout",
          "text": [
            "\n",
            "\n"
          ]
        }
      ]
    }
  ]
}