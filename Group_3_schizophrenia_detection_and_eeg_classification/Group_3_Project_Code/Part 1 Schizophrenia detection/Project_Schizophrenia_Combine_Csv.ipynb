{
  "nbformat": 4,
  "nbformat_minor": 0,
  "metadata": {
    "colab": {
      "name": "Project Schizophrenia Combine Csv.ipynb",
      "provenance": []
    },
    "kernelspec": {
      "name": "python3",
      "display_name": "Python 3"
    },
    "language_info": {
      "name": "python"
    }
  },
  "cells": [
    {
      "cell_type": "code",
      "metadata": {
        "id": "oxkvzzhDCnJa"
      },
      "source": [
        "import pandas as pd\n",
        "import os\n",
        "import re\n",
        "import glob"
      ],
      "execution_count": null,
      "outputs": []
    },
    {
      "cell_type": "code",
      "metadata": {
        "id": "D-S3WwIMEu7x"
      },
      "source": [
        "sch_csv_path = '/content/drive/MyDrive/Schizophrenia Csv/sch_csv.csv'\n",
        "norm_csv_path = '/content/drive/MyDrive/Schizophrenia Csv/norm_csv.csv'"
      ],
      "execution_count": null,
      "outputs": []
    },
    {
      "cell_type": "code",
      "metadata": {
        "id": "fesUd5W8GAb3"
      },
      "source": [
        "sch_csv = pd.read_csv(sch_csv_path)\n",
        "norm_csv = pd.read_csv(norm_csv_path)"
      ],
      "execution_count": null,
      "outputs": []
    },
    {
      "cell_type": "code",
      "metadata": {
        "colab": {
          "base_uri": "https://localhost:8080/",
          "height": 241
        },
        "id": "VfoqWbb3HAOi",
        "outputId": "c6795a10-4d09-4e16-ad37-235b6a53a90f"
      },
      "source": [
        "sch_csv.head()"
      ],
      "execution_count": null,
      "outputs": [
        {
          "output_type": "execute_result",
          "data": {
            "text/html": [
              "<div>\n",
              "<style scoped>\n",
              "    .dataframe tbody tr th:only-of-type {\n",
              "        vertical-align: middle;\n",
              "    }\n",
              "\n",
              "    .dataframe tbody tr th {\n",
              "        vertical-align: top;\n",
              "    }\n",
              "\n",
              "    .dataframe thead th {\n",
              "        text-align: right;\n",
              "    }\n",
              "</style>\n",
              "<table border=\"1\" class=\"dataframe\">\n",
              "  <thead>\n",
              "    <tr style=\"text-align: right;\">\n",
              "      <th></th>\n",
              "      <th>Unnamed: 0</th>\n",
              "      <th>F7</th>\n",
              "      <th>F3</th>\n",
              "      <th>F4</th>\n",
              "      <th>F8</th>\n",
              "      <th>T3</th>\n",
              "      <th>C3</th>\n",
              "      <th>Cz</th>\n",
              "      <th>C4</th>\n",
              "      <th>T4</th>\n",
              "      <th>T5</th>\n",
              "      <th>P3</th>\n",
              "      <th>Pz</th>\n",
              "      <th>P4</th>\n",
              "      <th>T6</th>\n",
              "      <th>O1</th>\n",
              "      <th>O2</th>\n",
              "    </tr>\n",
              "  </thead>\n",
              "  <tbody>\n",
              "    <tr>\n",
              "      <th>0</th>\n",
              "      <td>0</td>\n",
              "      <td>-252.08</td>\n",
              "      <td>-134.44</td>\n",
              "      <td>33.61</td>\n",
              "      <td>92.43</td>\n",
              "      <td>-176.45</td>\n",
              "      <td>-92.43</td>\n",
              "      <td>-50.42</td>\n",
              "      <td>-134.44</td>\n",
              "      <td>8.40</td>\n",
              "      <td>117.64</td>\n",
              "      <td>-25.21</td>\n",
              "      <td>-117.64</td>\n",
              "      <td>-277.28</td>\n",
              "      <td>-50.42</td>\n",
              "      <td>117.64</td>\n",
              "      <td>-277.28</td>\n",
              "    </tr>\n",
              "    <tr>\n",
              "      <th>1</th>\n",
              "      <td>1</td>\n",
              "      <td>-176.45</td>\n",
              "      <td>-33.61</td>\n",
              "      <td>134.44</td>\n",
              "      <td>92.43</td>\n",
              "      <td>-117.64</td>\n",
              "      <td>-75.62</td>\n",
              "      <td>8.40</td>\n",
              "      <td>-25.21</td>\n",
              "      <td>-16.81</td>\n",
              "      <td>252.08</td>\n",
              "      <td>92.43</td>\n",
              "      <td>0.00</td>\n",
              "      <td>-117.64</td>\n",
              "      <td>-50.42</td>\n",
              "      <td>336.10</td>\n",
              "      <td>-134.44</td>\n",
              "    </tr>\n",
              "    <tr>\n",
              "      <th>2</th>\n",
              "      <td>2</td>\n",
              "      <td>-16.81</td>\n",
              "      <td>176.45</td>\n",
              "      <td>394.92</td>\n",
              "      <td>159.65</td>\n",
              "      <td>92.43</td>\n",
              "      <td>117.64</td>\n",
              "      <td>92.43</td>\n",
              "      <td>159.65</td>\n",
              "      <td>134.44</td>\n",
              "      <td>378.11</td>\n",
              "      <td>294.09</td>\n",
              "      <td>294.09</td>\n",
              "      <td>159.65</td>\n",
              "      <td>58.82</td>\n",
              "      <td>394.92</td>\n",
              "      <td>75.62</td>\n",
              "    </tr>\n",
              "    <tr>\n",
              "      <th>3</th>\n",
              "      <td>3</td>\n",
              "      <td>67.22</td>\n",
              "      <td>319.30</td>\n",
              "      <td>512.55</td>\n",
              "      <td>218.47</td>\n",
              "      <td>218.47</td>\n",
              "      <td>252.08</td>\n",
              "      <td>218.47</td>\n",
              "      <td>218.47</td>\n",
              "      <td>277.28</td>\n",
              "      <td>352.91</td>\n",
              "      <td>378.11</td>\n",
              "      <td>436.93</td>\n",
              "      <td>319.30</td>\n",
              "      <td>176.45</td>\n",
              "      <td>336.10</td>\n",
              "      <td>176.45</td>\n",
              "    </tr>\n",
              "    <tr>\n",
              "      <th>4</th>\n",
              "      <td>4</td>\n",
              "      <td>327.70</td>\n",
              "      <td>672.20</td>\n",
              "      <td>756.23</td>\n",
              "      <td>453.74</td>\n",
              "      <td>394.92</td>\n",
              "      <td>453.74</td>\n",
              "      <td>512.55</td>\n",
              "      <td>394.92</td>\n",
              "      <td>394.92</td>\n",
              "      <td>436.93</td>\n",
              "      <td>579.78</td>\n",
              "      <td>638.59</td>\n",
              "      <td>596.58</td>\n",
              "      <td>159.65</td>\n",
              "      <td>453.74</td>\n",
              "      <td>378.11</td>\n",
              "    </tr>\n",
              "  </tbody>\n",
              "</table>\n",
              "</div>"
            ],
            "text/plain": [
              "   Unnamed: 0      F7      F3      F4  ...      P4      T6      O1      O2\n",
              "0           0 -252.08 -134.44   33.61  ... -277.28  -50.42  117.64 -277.28\n",
              "1           1 -176.45  -33.61  134.44  ... -117.64  -50.42  336.10 -134.44\n",
              "2           2  -16.81  176.45  394.92  ...  159.65   58.82  394.92   75.62\n",
              "3           3   67.22  319.30  512.55  ...  319.30  176.45  336.10  176.45\n",
              "4           4  327.70  672.20  756.23  ...  596.58  159.65  453.74  378.11\n",
              "\n",
              "[5 rows x 17 columns]"
            ]
          },
          "metadata": {
            "tags": []
          },
          "execution_count": 4
        }
      ]
    },
    {
      "cell_type": "code",
      "metadata": {
        "colab": {
          "base_uri": "https://localhost:8080/",
          "height": 241
        },
        "id": "AefudMjlJaGN",
        "outputId": "1a57b913-56da-457c-b38a-7e75de940458"
      },
      "source": [
        "norm_csv.head()"
      ],
      "execution_count": null,
      "outputs": [
        {
          "output_type": "execute_result",
          "data": {
            "text/html": [
              "<div>\n",
              "<style scoped>\n",
              "    .dataframe tbody tr th:only-of-type {\n",
              "        vertical-align: middle;\n",
              "    }\n",
              "\n",
              "    .dataframe tbody tr th {\n",
              "        vertical-align: top;\n",
              "    }\n",
              "\n",
              "    .dataframe thead th {\n",
              "        text-align: right;\n",
              "    }\n",
              "</style>\n",
              "<table border=\"1\" class=\"dataframe\">\n",
              "  <thead>\n",
              "    <tr style=\"text-align: right;\">\n",
              "      <th></th>\n",
              "      <th>Unnamed: 0</th>\n",
              "      <th>F7</th>\n",
              "      <th>F3</th>\n",
              "      <th>F4</th>\n",
              "      <th>F8</th>\n",
              "      <th>T3</th>\n",
              "      <th>C3</th>\n",
              "      <th>Cz</th>\n",
              "      <th>C4</th>\n",
              "      <th>T4</th>\n",
              "      <th>T5</th>\n",
              "      <th>P3</th>\n",
              "      <th>Pz</th>\n",
              "      <th>P4</th>\n",
              "      <th>T6</th>\n",
              "      <th>O1</th>\n",
              "      <th>O2</th>\n",
              "    </tr>\n",
              "  </thead>\n",
              "  <tbody>\n",
              "    <tr>\n",
              "      <th>0</th>\n",
              "      <td>0</td>\n",
              "      <td>148.97</td>\n",
              "      <td>488.69</td>\n",
              "      <td>419.08</td>\n",
              "      <td>109.99</td>\n",
              "      <td>38.98</td>\n",
              "      <td>359.21</td>\n",
              "      <td>519.32</td>\n",
              "      <td>299.34</td>\n",
              "      <td>0.00</td>\n",
              "      <td>-50.12</td>\n",
              "      <td>368.95</td>\n",
              "      <td>559.70</td>\n",
              "      <td>258.96</td>\n",
              "      <td>199.10</td>\n",
              "      <td>409.33</td>\n",
              "      <td>268.71</td>\n",
              "    </tr>\n",
              "    <tr>\n",
              "      <th>1</th>\n",
              "      <td>1</td>\n",
              "      <td>109.99</td>\n",
              "      <td>349.46</td>\n",
              "      <td>318.83</td>\n",
              "      <td>79.36</td>\n",
              "      <td>19.49</td>\n",
              "      <td>268.71</td>\n",
              "      <td>368.95</td>\n",
              "      <td>189.35</td>\n",
              "      <td>9.75</td>\n",
              "      <td>-111.38</td>\n",
              "      <td>229.73</td>\n",
              "      <td>409.33</td>\n",
              "      <td>29.24</td>\n",
              "      <td>59.87</td>\n",
              "      <td>119.74</td>\n",
              "      <td>0.00</td>\n",
              "    </tr>\n",
              "    <tr>\n",
              "      <th>2</th>\n",
              "      <td>2</td>\n",
              "      <td>48.73</td>\n",
              "      <td>119.74</td>\n",
              "      <td>79.36</td>\n",
              "      <td>19.49</td>\n",
              "      <td>-20.88</td>\n",
              "      <td>98.85</td>\n",
              "      <td>59.87</td>\n",
              "      <td>-11.14</td>\n",
              "      <td>-50.12</td>\n",
              "      <td>-171.25</td>\n",
              "      <td>-30.63</td>\n",
              "      <td>59.87</td>\n",
              "      <td>-370.35</td>\n",
              "      <td>-111.38</td>\n",
              "      <td>-490.08</td>\n",
              "      <td>-490.08</td>\n",
              "    </tr>\n",
              "    <tr>\n",
              "      <th>3</th>\n",
              "      <td>3</td>\n",
              "      <td>29.24</td>\n",
              "      <td>89.11</td>\n",
              "      <td>-20.88</td>\n",
              "      <td>-20.88</td>\n",
              "      <td>0.00</td>\n",
              "      <td>48.73</td>\n",
              "      <td>19.49</td>\n",
              "      <td>-80.75</td>\n",
              "      <td>-90.50</td>\n",
              "      <td>-150.37</td>\n",
              "      <td>-181.00</td>\n",
              "      <td>-61.26</td>\n",
              "      <td>-501.22</td>\n",
              "      <td>-171.25</td>\n",
              "      <td>-781.07</td>\n",
              "      <td>-611.21</td>\n",
              "    </tr>\n",
              "    <tr>\n",
              "      <th>4</th>\n",
              "      <td>4</td>\n",
              "      <td>69.61</td>\n",
              "      <td>148.97</td>\n",
              "      <td>-20.88</td>\n",
              "      <td>-20.88</td>\n",
              "      <td>19.49</td>\n",
              "      <td>9.75</td>\n",
              "      <td>-80.75</td>\n",
              "      <td>-121.13</td>\n",
              "      <td>-90.50</td>\n",
              "      <td>-130.87</td>\n",
              "      <td>-400.98</td>\n",
              "      <td>-260.36</td>\n",
              "      <td>-501.22</td>\n",
              "      <td>-111.38</td>\n",
              "      <td>-1010.80</td>\n",
              "      <td>-590.33</td>\n",
              "    </tr>\n",
              "  </tbody>\n",
              "</table>\n",
              "</div>"
            ],
            "text/plain": [
              "   Unnamed: 0      F7      F3      F4  ...      P4      T6       O1      O2\n",
              "0           0  148.97  488.69  419.08  ...  258.96  199.10   409.33  268.71\n",
              "1           1  109.99  349.46  318.83  ...   29.24   59.87   119.74    0.00\n",
              "2           2   48.73  119.74   79.36  ... -370.35 -111.38  -490.08 -490.08\n",
              "3           3   29.24   89.11  -20.88  ... -501.22 -171.25  -781.07 -611.21\n",
              "4           4   69.61  148.97  -20.88  ... -501.22 -111.38 -1010.80 -590.33\n",
              "\n",
              "[5 rows x 17 columns]"
            ]
          },
          "metadata": {
            "tags": []
          },
          "execution_count": 5
        }
      ]
    },
    {
      "cell_type": "code",
      "metadata": {
        "colab": {
          "base_uri": "https://localhost:8080/"
        },
        "id": "2iFfV7zMGpv7",
        "outputId": "0b8e47b6-0dc5-4ca9-efd5-3dead04e1fe8"
      },
      "source": [
        "sch_csv.shape, norm_csv.shape"
      ],
      "execution_count": null,
      "outputs": [
        {
          "output_type": "execute_result",
          "data": {
            "text/plain": [
              "((345600, 17), (299520, 17))"
            ]
          },
          "metadata": {
            "tags": []
          },
          "execution_count": 6
        }
      ]
    },
    {
      "cell_type": "code",
      "metadata": {
        "id": "uK1WjRS0Jgy9"
      },
      "source": [
        "sch_csv.drop('Unnamed: 0', axis = 1, inplace=True)\n",
        "norm_csv.drop('Unnamed: 0', axis = 1, inplace=True)"
      ],
      "execution_count": null,
      "outputs": []
    },
    {
      "cell_type": "code",
      "metadata": {
        "colab": {
          "base_uri": "https://localhost:8080/"
        },
        "id": "VqvLAQj9Jxc-",
        "outputId": "f4b26481-41f5-4de2-9fa1-4c994231715d"
      },
      "source": [
        "sch_csv.shape, norm_csv.shape"
      ],
      "execution_count": null,
      "outputs": [
        {
          "output_type": "execute_result",
          "data": {
            "text/plain": [
              "((345600, 16), (299520, 16))"
            ]
          },
          "metadata": {
            "tags": []
          },
          "execution_count": 8
        }
      ]
    },
    {
      "cell_type": "code",
      "metadata": {
        "id": "50m8wM78L6gA"
      },
      "source": [
        "sch_csv['target'] = 1\n",
        "norm_csv['target'] = 0"
      ],
      "execution_count": null,
      "outputs": []
    },
    {
      "cell_type": "code",
      "metadata": {
        "colab": {
          "base_uri": "https://localhost:8080/"
        },
        "id": "svhS-tsRMD5U",
        "outputId": "6361e686-79cd-49b6-dc0f-730fa3600194"
      },
      "source": [
        "sch_csv.shape, norm_csv.shape"
      ],
      "execution_count": null,
      "outputs": [
        {
          "output_type": "execute_result",
          "data": {
            "text/plain": [
              "((345600, 17), (299520, 17))"
            ]
          },
          "metadata": {
            "tags": []
          },
          "execution_count": 10
        }
      ]
    },
    {
      "cell_type": "code",
      "metadata": {
        "colab": {
          "base_uri": "https://localhost:8080/",
          "height": 224
        },
        "id": "fRl5V-pjKDlt",
        "outputId": "65d87470-5d36-4d6f-f876-eff8d49471cc"
      },
      "source": [
        "sch_csv.head()"
      ],
      "execution_count": null,
      "outputs": [
        {
          "output_type": "execute_result",
          "data": {
            "text/html": [
              "<div>\n",
              "<style scoped>\n",
              "    .dataframe tbody tr th:only-of-type {\n",
              "        vertical-align: middle;\n",
              "    }\n",
              "\n",
              "    .dataframe tbody tr th {\n",
              "        vertical-align: top;\n",
              "    }\n",
              "\n",
              "    .dataframe thead th {\n",
              "        text-align: right;\n",
              "    }\n",
              "</style>\n",
              "<table border=\"1\" class=\"dataframe\">\n",
              "  <thead>\n",
              "    <tr style=\"text-align: right;\">\n",
              "      <th></th>\n",
              "      <th>F7</th>\n",
              "      <th>F3</th>\n",
              "      <th>F4</th>\n",
              "      <th>F8</th>\n",
              "      <th>T3</th>\n",
              "      <th>C3</th>\n",
              "      <th>Cz</th>\n",
              "      <th>C4</th>\n",
              "      <th>T4</th>\n",
              "      <th>T5</th>\n",
              "      <th>P3</th>\n",
              "      <th>Pz</th>\n",
              "      <th>P4</th>\n",
              "      <th>T6</th>\n",
              "      <th>O1</th>\n",
              "      <th>O2</th>\n",
              "      <th>target</th>\n",
              "    </tr>\n",
              "  </thead>\n",
              "  <tbody>\n",
              "    <tr>\n",
              "      <th>0</th>\n",
              "      <td>-252.08</td>\n",
              "      <td>-134.44</td>\n",
              "      <td>33.61</td>\n",
              "      <td>92.43</td>\n",
              "      <td>-176.45</td>\n",
              "      <td>-92.43</td>\n",
              "      <td>-50.42</td>\n",
              "      <td>-134.44</td>\n",
              "      <td>8.40</td>\n",
              "      <td>117.64</td>\n",
              "      <td>-25.21</td>\n",
              "      <td>-117.64</td>\n",
              "      <td>-277.28</td>\n",
              "      <td>-50.42</td>\n",
              "      <td>117.64</td>\n",
              "      <td>-277.28</td>\n",
              "      <td>1</td>\n",
              "    </tr>\n",
              "    <tr>\n",
              "      <th>1</th>\n",
              "      <td>-176.45</td>\n",
              "      <td>-33.61</td>\n",
              "      <td>134.44</td>\n",
              "      <td>92.43</td>\n",
              "      <td>-117.64</td>\n",
              "      <td>-75.62</td>\n",
              "      <td>8.40</td>\n",
              "      <td>-25.21</td>\n",
              "      <td>-16.81</td>\n",
              "      <td>252.08</td>\n",
              "      <td>92.43</td>\n",
              "      <td>0.00</td>\n",
              "      <td>-117.64</td>\n",
              "      <td>-50.42</td>\n",
              "      <td>336.10</td>\n",
              "      <td>-134.44</td>\n",
              "      <td>1</td>\n",
              "    </tr>\n",
              "    <tr>\n",
              "      <th>2</th>\n",
              "      <td>-16.81</td>\n",
              "      <td>176.45</td>\n",
              "      <td>394.92</td>\n",
              "      <td>159.65</td>\n",
              "      <td>92.43</td>\n",
              "      <td>117.64</td>\n",
              "      <td>92.43</td>\n",
              "      <td>159.65</td>\n",
              "      <td>134.44</td>\n",
              "      <td>378.11</td>\n",
              "      <td>294.09</td>\n",
              "      <td>294.09</td>\n",
              "      <td>159.65</td>\n",
              "      <td>58.82</td>\n",
              "      <td>394.92</td>\n",
              "      <td>75.62</td>\n",
              "      <td>1</td>\n",
              "    </tr>\n",
              "    <tr>\n",
              "      <th>3</th>\n",
              "      <td>67.22</td>\n",
              "      <td>319.30</td>\n",
              "      <td>512.55</td>\n",
              "      <td>218.47</td>\n",
              "      <td>218.47</td>\n",
              "      <td>252.08</td>\n",
              "      <td>218.47</td>\n",
              "      <td>218.47</td>\n",
              "      <td>277.28</td>\n",
              "      <td>352.91</td>\n",
              "      <td>378.11</td>\n",
              "      <td>436.93</td>\n",
              "      <td>319.30</td>\n",
              "      <td>176.45</td>\n",
              "      <td>336.10</td>\n",
              "      <td>176.45</td>\n",
              "      <td>1</td>\n",
              "    </tr>\n",
              "    <tr>\n",
              "      <th>4</th>\n",
              "      <td>327.70</td>\n",
              "      <td>672.20</td>\n",
              "      <td>756.23</td>\n",
              "      <td>453.74</td>\n",
              "      <td>394.92</td>\n",
              "      <td>453.74</td>\n",
              "      <td>512.55</td>\n",
              "      <td>394.92</td>\n",
              "      <td>394.92</td>\n",
              "      <td>436.93</td>\n",
              "      <td>579.78</td>\n",
              "      <td>638.59</td>\n",
              "      <td>596.58</td>\n",
              "      <td>159.65</td>\n",
              "      <td>453.74</td>\n",
              "      <td>378.11</td>\n",
              "      <td>1</td>\n",
              "    </tr>\n",
              "  </tbody>\n",
              "</table>\n",
              "</div>"
            ],
            "text/plain": [
              "       F7      F3      F4      F8  ...      T6      O1      O2  target\n",
              "0 -252.08 -134.44   33.61   92.43  ...  -50.42  117.64 -277.28       1\n",
              "1 -176.45  -33.61  134.44   92.43  ...  -50.42  336.10 -134.44       1\n",
              "2  -16.81  176.45  394.92  159.65  ...   58.82  394.92   75.62       1\n",
              "3   67.22  319.30  512.55  218.47  ...  176.45  336.10  176.45       1\n",
              "4  327.70  672.20  756.23  453.74  ...  159.65  453.74  378.11       1\n",
              "\n",
              "[5 rows x 17 columns]"
            ]
          },
          "metadata": {
            "tags": []
          },
          "execution_count": 11
        }
      ]
    },
    {
      "cell_type": "code",
      "metadata": {
        "colab": {
          "base_uri": "https://localhost:8080/",
          "height": 224
        },
        "id": "tOcYMlFLKJaA",
        "outputId": "3914ccbb-6903-4796-e629-fd15dc0be74e"
      },
      "source": [
        "norm_csv.head()"
      ],
      "execution_count": null,
      "outputs": [
        {
          "output_type": "execute_result",
          "data": {
            "text/html": [
              "<div>\n",
              "<style scoped>\n",
              "    .dataframe tbody tr th:only-of-type {\n",
              "        vertical-align: middle;\n",
              "    }\n",
              "\n",
              "    .dataframe tbody tr th {\n",
              "        vertical-align: top;\n",
              "    }\n",
              "\n",
              "    .dataframe thead th {\n",
              "        text-align: right;\n",
              "    }\n",
              "</style>\n",
              "<table border=\"1\" class=\"dataframe\">\n",
              "  <thead>\n",
              "    <tr style=\"text-align: right;\">\n",
              "      <th></th>\n",
              "      <th>F7</th>\n",
              "      <th>F3</th>\n",
              "      <th>F4</th>\n",
              "      <th>F8</th>\n",
              "      <th>T3</th>\n",
              "      <th>C3</th>\n",
              "      <th>Cz</th>\n",
              "      <th>C4</th>\n",
              "      <th>T4</th>\n",
              "      <th>T5</th>\n",
              "      <th>P3</th>\n",
              "      <th>Pz</th>\n",
              "      <th>P4</th>\n",
              "      <th>T6</th>\n",
              "      <th>O1</th>\n",
              "      <th>O2</th>\n",
              "      <th>target</th>\n",
              "    </tr>\n",
              "  </thead>\n",
              "  <tbody>\n",
              "    <tr>\n",
              "      <th>0</th>\n",
              "      <td>148.97</td>\n",
              "      <td>488.69</td>\n",
              "      <td>419.08</td>\n",
              "      <td>109.99</td>\n",
              "      <td>38.98</td>\n",
              "      <td>359.21</td>\n",
              "      <td>519.32</td>\n",
              "      <td>299.34</td>\n",
              "      <td>0.00</td>\n",
              "      <td>-50.12</td>\n",
              "      <td>368.95</td>\n",
              "      <td>559.70</td>\n",
              "      <td>258.96</td>\n",
              "      <td>199.10</td>\n",
              "      <td>409.33</td>\n",
              "      <td>268.71</td>\n",
              "      <td>0</td>\n",
              "    </tr>\n",
              "    <tr>\n",
              "      <th>1</th>\n",
              "      <td>109.99</td>\n",
              "      <td>349.46</td>\n",
              "      <td>318.83</td>\n",
              "      <td>79.36</td>\n",
              "      <td>19.49</td>\n",
              "      <td>268.71</td>\n",
              "      <td>368.95</td>\n",
              "      <td>189.35</td>\n",
              "      <td>9.75</td>\n",
              "      <td>-111.38</td>\n",
              "      <td>229.73</td>\n",
              "      <td>409.33</td>\n",
              "      <td>29.24</td>\n",
              "      <td>59.87</td>\n",
              "      <td>119.74</td>\n",
              "      <td>0.00</td>\n",
              "      <td>0</td>\n",
              "    </tr>\n",
              "    <tr>\n",
              "      <th>2</th>\n",
              "      <td>48.73</td>\n",
              "      <td>119.74</td>\n",
              "      <td>79.36</td>\n",
              "      <td>19.49</td>\n",
              "      <td>-20.88</td>\n",
              "      <td>98.85</td>\n",
              "      <td>59.87</td>\n",
              "      <td>-11.14</td>\n",
              "      <td>-50.12</td>\n",
              "      <td>-171.25</td>\n",
              "      <td>-30.63</td>\n",
              "      <td>59.87</td>\n",
              "      <td>-370.35</td>\n",
              "      <td>-111.38</td>\n",
              "      <td>-490.08</td>\n",
              "      <td>-490.08</td>\n",
              "      <td>0</td>\n",
              "    </tr>\n",
              "    <tr>\n",
              "      <th>3</th>\n",
              "      <td>29.24</td>\n",
              "      <td>89.11</td>\n",
              "      <td>-20.88</td>\n",
              "      <td>-20.88</td>\n",
              "      <td>0.00</td>\n",
              "      <td>48.73</td>\n",
              "      <td>19.49</td>\n",
              "      <td>-80.75</td>\n",
              "      <td>-90.50</td>\n",
              "      <td>-150.37</td>\n",
              "      <td>-181.00</td>\n",
              "      <td>-61.26</td>\n",
              "      <td>-501.22</td>\n",
              "      <td>-171.25</td>\n",
              "      <td>-781.07</td>\n",
              "      <td>-611.21</td>\n",
              "      <td>0</td>\n",
              "    </tr>\n",
              "    <tr>\n",
              "      <th>4</th>\n",
              "      <td>69.61</td>\n",
              "      <td>148.97</td>\n",
              "      <td>-20.88</td>\n",
              "      <td>-20.88</td>\n",
              "      <td>19.49</td>\n",
              "      <td>9.75</td>\n",
              "      <td>-80.75</td>\n",
              "      <td>-121.13</td>\n",
              "      <td>-90.50</td>\n",
              "      <td>-130.87</td>\n",
              "      <td>-400.98</td>\n",
              "      <td>-260.36</td>\n",
              "      <td>-501.22</td>\n",
              "      <td>-111.38</td>\n",
              "      <td>-1010.80</td>\n",
              "      <td>-590.33</td>\n",
              "      <td>0</td>\n",
              "    </tr>\n",
              "  </tbody>\n",
              "</table>\n",
              "</div>"
            ],
            "text/plain": [
              "       F7      F3      F4      F8  ...      T6       O1      O2  target\n",
              "0  148.97  488.69  419.08  109.99  ...  199.10   409.33  268.71       0\n",
              "1  109.99  349.46  318.83   79.36  ...   59.87   119.74    0.00       0\n",
              "2   48.73  119.74   79.36   19.49  ... -111.38  -490.08 -490.08       0\n",
              "3   29.24   89.11  -20.88  -20.88  ... -171.25  -781.07 -611.21       0\n",
              "4   69.61  148.97  -20.88  -20.88  ... -111.38 -1010.80 -590.33       0\n",
              "\n",
              "[5 rows x 17 columns]"
            ]
          },
          "metadata": {
            "tags": []
          },
          "execution_count": 12
        }
      ]
    },
    {
      "cell_type": "code",
      "metadata": {
        "colab": {
          "base_uri": "https://localhost:8080/"
        },
        "id": "9Uvua6-jMRfv",
        "outputId": "bfae1d26-c2c9-403d-e3fb-f406e03a84b7"
      },
      "source": [
        "sch_csv['target'].unique(), norm_csv['target'].unique()"
      ],
      "execution_count": null,
      "outputs": [
        {
          "output_type": "execute_result",
          "data": {
            "text/plain": [
              "(array([1]), array([0]))"
            ]
          },
          "metadata": {
            "tags": []
          },
          "execution_count": 13
        }
      ]
    },
    {
      "cell_type": "code",
      "metadata": {
        "id": "ULjq4DoyFsoW"
      },
      "source": [
        "df_concatenated = pd.DataFrame()"
      ],
      "execution_count": null,
      "outputs": []
    },
    {
      "cell_type": "code",
      "metadata": {
        "id": "f8FdyeiHF21H"
      },
      "source": [
        "df_concatenated = pd.concat([sch_csv, norm_csv], axis=0, ignore_index=True)"
      ],
      "execution_count": null,
      "outputs": []
    },
    {
      "cell_type": "code",
      "metadata": {
        "colab": {
          "base_uri": "https://localhost:8080/"
        },
        "id": "UGYEqyHuGwze",
        "outputId": "9f029780-58df-4398-a17c-8a67b392b8ce"
      },
      "source": [
        "df_concatenated.shape"
      ],
      "execution_count": null,
      "outputs": [
        {
          "output_type": "execute_result",
          "data": {
            "text/plain": [
              "(645120, 17)"
            ]
          },
          "metadata": {
            "tags": []
          },
          "execution_count": 16
        }
      ]
    },
    {
      "cell_type": "code",
      "metadata": {
        "colab": {
          "base_uri": "https://localhost:8080/",
          "height": 224
        },
        "id": "2Q3B-P53KOuH",
        "outputId": "c381cd23-4997-4c2d-9a54-87128835f415"
      },
      "source": [
        "df_concatenated.head()"
      ],
      "execution_count": null,
      "outputs": [
        {
          "output_type": "execute_result",
          "data": {
            "text/html": [
              "<div>\n",
              "<style scoped>\n",
              "    .dataframe tbody tr th:only-of-type {\n",
              "        vertical-align: middle;\n",
              "    }\n",
              "\n",
              "    .dataframe tbody tr th {\n",
              "        vertical-align: top;\n",
              "    }\n",
              "\n",
              "    .dataframe thead th {\n",
              "        text-align: right;\n",
              "    }\n",
              "</style>\n",
              "<table border=\"1\" class=\"dataframe\">\n",
              "  <thead>\n",
              "    <tr style=\"text-align: right;\">\n",
              "      <th></th>\n",
              "      <th>F7</th>\n",
              "      <th>F3</th>\n",
              "      <th>F4</th>\n",
              "      <th>F8</th>\n",
              "      <th>T3</th>\n",
              "      <th>C3</th>\n",
              "      <th>Cz</th>\n",
              "      <th>C4</th>\n",
              "      <th>T4</th>\n",
              "      <th>T5</th>\n",
              "      <th>P3</th>\n",
              "      <th>Pz</th>\n",
              "      <th>P4</th>\n",
              "      <th>T6</th>\n",
              "      <th>O1</th>\n",
              "      <th>O2</th>\n",
              "      <th>target</th>\n",
              "    </tr>\n",
              "  </thead>\n",
              "  <tbody>\n",
              "    <tr>\n",
              "      <th>0</th>\n",
              "      <td>-252.08</td>\n",
              "      <td>-134.44</td>\n",
              "      <td>33.61</td>\n",
              "      <td>92.43</td>\n",
              "      <td>-176.45</td>\n",
              "      <td>-92.43</td>\n",
              "      <td>-50.42</td>\n",
              "      <td>-134.44</td>\n",
              "      <td>8.40</td>\n",
              "      <td>117.64</td>\n",
              "      <td>-25.21</td>\n",
              "      <td>-117.64</td>\n",
              "      <td>-277.28</td>\n",
              "      <td>-50.42</td>\n",
              "      <td>117.64</td>\n",
              "      <td>-277.28</td>\n",
              "      <td>1</td>\n",
              "    </tr>\n",
              "    <tr>\n",
              "      <th>1</th>\n",
              "      <td>-176.45</td>\n",
              "      <td>-33.61</td>\n",
              "      <td>134.44</td>\n",
              "      <td>92.43</td>\n",
              "      <td>-117.64</td>\n",
              "      <td>-75.62</td>\n",
              "      <td>8.40</td>\n",
              "      <td>-25.21</td>\n",
              "      <td>-16.81</td>\n",
              "      <td>252.08</td>\n",
              "      <td>92.43</td>\n",
              "      <td>0.00</td>\n",
              "      <td>-117.64</td>\n",
              "      <td>-50.42</td>\n",
              "      <td>336.10</td>\n",
              "      <td>-134.44</td>\n",
              "      <td>1</td>\n",
              "    </tr>\n",
              "    <tr>\n",
              "      <th>2</th>\n",
              "      <td>-16.81</td>\n",
              "      <td>176.45</td>\n",
              "      <td>394.92</td>\n",
              "      <td>159.65</td>\n",
              "      <td>92.43</td>\n",
              "      <td>117.64</td>\n",
              "      <td>92.43</td>\n",
              "      <td>159.65</td>\n",
              "      <td>134.44</td>\n",
              "      <td>378.11</td>\n",
              "      <td>294.09</td>\n",
              "      <td>294.09</td>\n",
              "      <td>159.65</td>\n",
              "      <td>58.82</td>\n",
              "      <td>394.92</td>\n",
              "      <td>75.62</td>\n",
              "      <td>1</td>\n",
              "    </tr>\n",
              "    <tr>\n",
              "      <th>3</th>\n",
              "      <td>67.22</td>\n",
              "      <td>319.30</td>\n",
              "      <td>512.55</td>\n",
              "      <td>218.47</td>\n",
              "      <td>218.47</td>\n",
              "      <td>252.08</td>\n",
              "      <td>218.47</td>\n",
              "      <td>218.47</td>\n",
              "      <td>277.28</td>\n",
              "      <td>352.91</td>\n",
              "      <td>378.11</td>\n",
              "      <td>436.93</td>\n",
              "      <td>319.30</td>\n",
              "      <td>176.45</td>\n",
              "      <td>336.10</td>\n",
              "      <td>176.45</td>\n",
              "      <td>1</td>\n",
              "    </tr>\n",
              "    <tr>\n",
              "      <th>4</th>\n",
              "      <td>327.70</td>\n",
              "      <td>672.20</td>\n",
              "      <td>756.23</td>\n",
              "      <td>453.74</td>\n",
              "      <td>394.92</td>\n",
              "      <td>453.74</td>\n",
              "      <td>512.55</td>\n",
              "      <td>394.92</td>\n",
              "      <td>394.92</td>\n",
              "      <td>436.93</td>\n",
              "      <td>579.78</td>\n",
              "      <td>638.59</td>\n",
              "      <td>596.58</td>\n",
              "      <td>159.65</td>\n",
              "      <td>453.74</td>\n",
              "      <td>378.11</td>\n",
              "      <td>1</td>\n",
              "    </tr>\n",
              "  </tbody>\n",
              "</table>\n",
              "</div>"
            ],
            "text/plain": [
              "       F7      F3      F4      F8  ...      T6      O1      O2  target\n",
              "0 -252.08 -134.44   33.61   92.43  ...  -50.42  117.64 -277.28       1\n",
              "1 -176.45  -33.61  134.44   92.43  ...  -50.42  336.10 -134.44       1\n",
              "2  -16.81  176.45  394.92  159.65  ...   58.82  394.92   75.62       1\n",
              "3   67.22  319.30  512.55  218.47  ...  176.45  336.10  176.45       1\n",
              "4  327.70  672.20  756.23  453.74  ...  159.65  453.74  378.11       1\n",
              "\n",
              "[5 rows x 17 columns]"
            ]
          },
          "metadata": {
            "tags": []
          },
          "execution_count": 17
        }
      ]
    },
    {
      "cell_type": "code",
      "metadata": {
        "id": "s3d8Tq-kNCAj"
      },
      "source": [
        "df_concatenated.to_csv(r\"schizophrenia_final_csv.csv\")"
      ],
      "execution_count": null,
      "outputs": []
    }
  ]
}