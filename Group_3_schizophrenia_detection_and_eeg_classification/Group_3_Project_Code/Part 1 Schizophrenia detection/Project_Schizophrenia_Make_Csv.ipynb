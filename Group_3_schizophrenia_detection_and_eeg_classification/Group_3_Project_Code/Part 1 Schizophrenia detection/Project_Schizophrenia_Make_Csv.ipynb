{
  "nbformat": 4,
  "nbformat_minor": 0,
  "metadata": {
    "colab": {
      "name": "Project Schizophrenia Make Csv.ipynb",
      "provenance": [],
      "collapsed_sections": []
    },
    "kernelspec": {
      "name": "python3",
      "display_name": "Python 3"
    },
    "language_info": {
      "name": "python"
    },
    "accelerator": "GPU"
  },
  "cells": [
    {
      "cell_type": "code",
      "metadata": {
        "id": "GnLTOe00NtlP"
      },
      "source": [
        "import pandas as pd\n",
        "import os\n",
        "import re\n",
        "import glob"
      ],
      "execution_count": null,
      "outputs": []
    },
    {
      "cell_type": "code",
      "metadata": {
        "id": "5IAgehjAR5Oy"
      },
      "source": [
        "inpDir = '/content/drive/MyDrive/Schizophrenia'"
      ],
      "execution_count": null,
      "outputs": []
    },
    {
      "cell_type": "code",
      "metadata": {
        "id": "0uFhrfI3ZdLl"
      },
      "source": [
        "inpDir = '/content/drive/MyDrive/Schizophrenia'\n",
        "os.chdir(inpDir+\"/sch\")\n",
        "lst = ['F7','F3','F4','F8','T3','C3','Cz','C4','T4','T5','P3','Pz','P4','T6','O1','O2']\n",
        "\n",
        "iteration = 1\n",
        "buffer = 7680\n",
        "\n",
        "df_empty =  pd.DataFrame(columns=lst)\n",
        "df_concatenated = pd.DataFrame()\n",
        "\n",
        "all_files = glob.glob(\"*.eea\")"
      ],
      "execution_count": null,
      "outputs": []
    },
    {
      "cell_type": "code",
      "metadata": {
        "id": "umE64hS_g5Zx"
      },
      "source": [
        "\n",
        "for a in range(len(all_files)):\n",
        "\n",
        "    df = pd.read_csv(all_files[a],header=None)\n",
        "    emptyList = []\n",
        "\n",
        "    for index, row in df.iterrows():\n",
        "\n",
        "      upperBound = iteration * buffer\n",
        "\n",
        "      if index < upperBound :\n",
        "\n",
        "        emptyList.append(row[0])\n",
        "\n",
        "      else :\n",
        "        \n",
        "        df_empty[lst[iteration - 1]] = emptyList\n",
        "        emptyList = []\n",
        "        emptyList.append(row[0])\n",
        "        iteration = iteration + 1\n",
        "\n",
        "\n",
        "    df_empty[lst[iteration - 1]] = emptyList\n",
        "    df_concatenated = pd.concat([df_concatenated, df_empty], axis=0, ignore_index=True)\n",
        "    iteration = 1\n"
      ],
      "execution_count": null,
      "outputs": []
    },
    {
      "cell_type": "code",
      "metadata": {
        "colab": {
          "base_uri": "https://localhost:8080/",
          "height": 440
        },
        "id": "2KCp_VGf4kBT",
        "outputId": "f6ceed67-5410-4af0-c1fb-1bd3ec21fb85"
      },
      "source": [
        "df_concatenated"
      ],
      "execution_count": null,
      "outputs": [
        {
          "output_type": "execute_result",
          "data": {
            "text/html": [
              "<div>\n",
              "<style scoped>\n",
              "    .dataframe tbody tr th:only-of-type {\n",
              "        vertical-align: middle;\n",
              "    }\n",
              "\n",
              "    .dataframe tbody tr th {\n",
              "        vertical-align: top;\n",
              "    }\n",
              "\n",
              "    .dataframe thead th {\n",
              "        text-align: right;\n",
              "    }\n",
              "</style>\n",
              "<table border=\"1\" class=\"dataframe\">\n",
              "  <thead>\n",
              "    <tr style=\"text-align: right;\">\n",
              "      <th></th>\n",
              "      <th>F7</th>\n",
              "      <th>F3</th>\n",
              "      <th>F4</th>\n",
              "      <th>F8</th>\n",
              "      <th>T3</th>\n",
              "      <th>C3</th>\n",
              "      <th>Cz</th>\n",
              "      <th>C4</th>\n",
              "      <th>T4</th>\n",
              "      <th>T5</th>\n",
              "      <th>P3</th>\n",
              "      <th>Pz</th>\n",
              "      <th>P4</th>\n",
              "      <th>T6</th>\n",
              "      <th>O1</th>\n",
              "      <th>O2</th>\n",
              "    </tr>\n",
              "  </thead>\n",
              "  <tbody>\n",
              "    <tr>\n",
              "      <th>0</th>\n",
              "      <td>-252.08</td>\n",
              "      <td>-134.44</td>\n",
              "      <td>33.61</td>\n",
              "      <td>92.43</td>\n",
              "      <td>-176.45</td>\n",
              "      <td>-92.43</td>\n",
              "      <td>-50.42</td>\n",
              "      <td>-134.44</td>\n",
              "      <td>8.40</td>\n",
              "      <td>117.64</td>\n",
              "      <td>-25.21</td>\n",
              "      <td>-117.64</td>\n",
              "      <td>-277.28</td>\n",
              "      <td>-50.42</td>\n",
              "      <td>117.64</td>\n",
              "      <td>-277.28</td>\n",
              "    </tr>\n",
              "    <tr>\n",
              "      <th>1</th>\n",
              "      <td>-176.45</td>\n",
              "      <td>-33.61</td>\n",
              "      <td>134.44</td>\n",
              "      <td>92.43</td>\n",
              "      <td>-117.64</td>\n",
              "      <td>-75.62</td>\n",
              "      <td>8.40</td>\n",
              "      <td>-25.21</td>\n",
              "      <td>-16.81</td>\n",
              "      <td>252.08</td>\n",
              "      <td>92.43</td>\n",
              "      <td>0.00</td>\n",
              "      <td>-117.64</td>\n",
              "      <td>-50.42</td>\n",
              "      <td>336.10</td>\n",
              "      <td>-134.44</td>\n",
              "    </tr>\n",
              "    <tr>\n",
              "      <th>2</th>\n",
              "      <td>-16.81</td>\n",
              "      <td>176.45</td>\n",
              "      <td>394.92</td>\n",
              "      <td>159.65</td>\n",
              "      <td>92.43</td>\n",
              "      <td>117.64</td>\n",
              "      <td>92.43</td>\n",
              "      <td>159.65</td>\n",
              "      <td>134.44</td>\n",
              "      <td>378.11</td>\n",
              "      <td>294.09</td>\n",
              "      <td>294.09</td>\n",
              "      <td>159.65</td>\n",
              "      <td>58.82</td>\n",
              "      <td>394.92</td>\n",
              "      <td>75.62</td>\n",
              "    </tr>\n",
              "    <tr>\n",
              "      <th>3</th>\n",
              "      <td>67.22</td>\n",
              "      <td>319.30</td>\n",
              "      <td>512.55</td>\n",
              "      <td>218.47</td>\n",
              "      <td>218.47</td>\n",
              "      <td>252.08</td>\n",
              "      <td>218.47</td>\n",
              "      <td>218.47</td>\n",
              "      <td>277.28</td>\n",
              "      <td>352.91</td>\n",
              "      <td>378.11</td>\n",
              "      <td>436.93</td>\n",
              "      <td>319.30</td>\n",
              "      <td>176.45</td>\n",
              "      <td>336.10</td>\n",
              "      <td>176.45</td>\n",
              "    </tr>\n",
              "    <tr>\n",
              "      <th>4</th>\n",
              "      <td>327.70</td>\n",
              "      <td>672.20</td>\n",
              "      <td>756.23</td>\n",
              "      <td>453.74</td>\n",
              "      <td>394.92</td>\n",
              "      <td>453.74</td>\n",
              "      <td>512.55</td>\n",
              "      <td>394.92</td>\n",
              "      <td>394.92</td>\n",
              "      <td>436.93</td>\n",
              "      <td>579.78</td>\n",
              "      <td>638.59</td>\n",
              "      <td>596.58</td>\n",
              "      <td>159.65</td>\n",
              "      <td>453.74</td>\n",
              "      <td>378.11</td>\n",
              "    </tr>\n",
              "    <tr>\n",
              "      <th>...</th>\n",
              "      <td>...</td>\n",
              "      <td>...</td>\n",
              "      <td>...</td>\n",
              "      <td>...</td>\n",
              "      <td>...</td>\n",
              "      <td>...</td>\n",
              "      <td>...</td>\n",
              "      <td>...</td>\n",
              "      <td>...</td>\n",
              "      <td>...</td>\n",
              "      <td>...</td>\n",
              "      <td>...</td>\n",
              "      <td>...</td>\n",
              "      <td>...</td>\n",
              "      <td>...</td>\n",
              "      <td>...</td>\n",
              "    </tr>\n",
              "    <tr>\n",
              "      <th>345595</th>\n",
              "      <td>302.55</td>\n",
              "      <td>558.55</td>\n",
              "      <td>453.83</td>\n",
              "      <td>116.37</td>\n",
              "      <td>209.46</td>\n",
              "      <td>139.64</td>\n",
              "      <td>279.28</td>\n",
              "      <td>197.82</td>\n",
              "      <td>279.28</td>\n",
              "      <td>-395.64</td>\n",
              "      <td>-58.18</td>\n",
              "      <td>0.00</td>\n",
              "      <td>-34.91</td>\n",
              "      <td>-58.18</td>\n",
              "      <td>-139.64</td>\n",
              "      <td>0.00</td>\n",
              "    </tr>\n",
              "    <tr>\n",
              "      <th>345596</th>\n",
              "      <td>325.82</td>\n",
              "      <td>593.46</td>\n",
              "      <td>442.19</td>\n",
              "      <td>81.46</td>\n",
              "      <td>197.82</td>\n",
              "      <td>151.28</td>\n",
              "      <td>395.64</td>\n",
              "      <td>256.00</td>\n",
              "      <td>279.28</td>\n",
              "      <td>0.00</td>\n",
              "      <td>139.64</td>\n",
              "      <td>93.09</td>\n",
              "      <td>-34.91</td>\n",
              "      <td>-174.55</td>\n",
              "      <td>116.37</td>\n",
              "      <td>-116.37</td>\n",
              "    </tr>\n",
              "    <tr>\n",
              "      <th>345597</th>\n",
              "      <td>349.10</td>\n",
              "      <td>640.01</td>\n",
              "      <td>407.28</td>\n",
              "      <td>0.00</td>\n",
              "      <td>256.00</td>\n",
              "      <td>209.46</td>\n",
              "      <td>477.10</td>\n",
              "      <td>209.46</td>\n",
              "      <td>174.55</td>\n",
              "      <td>151.28</td>\n",
              "      <td>256.00</td>\n",
              "      <td>151.28</td>\n",
              "      <td>-58.18</td>\n",
              "      <td>-279.28</td>\n",
              "      <td>232.73</td>\n",
              "      <td>-116.37</td>\n",
              "    </tr>\n",
              "    <tr>\n",
              "      <th>345598</th>\n",
              "      <td>360.73</td>\n",
              "      <td>768.01</td>\n",
              "      <td>279.28</td>\n",
              "      <td>0.00</td>\n",
              "      <td>372.37</td>\n",
              "      <td>453.83</td>\n",
              "      <td>651.65</td>\n",
              "      <td>69.82</td>\n",
              "      <td>69.82</td>\n",
              "      <td>209.46</td>\n",
              "      <td>395.64</td>\n",
              "      <td>232.73</td>\n",
              "      <td>-93.09</td>\n",
              "      <td>-360.73</td>\n",
              "      <td>372.37</td>\n",
              "      <td>11.64</td>\n",
              "    </tr>\n",
              "    <tr>\n",
              "      <th>345599</th>\n",
              "      <td>302.55</td>\n",
              "      <td>721.47</td>\n",
              "      <td>209.46</td>\n",
              "      <td>46.55</td>\n",
              "      <td>372.37</td>\n",
              "      <td>523.64</td>\n",
              "      <td>674.92</td>\n",
              "      <td>23.27</td>\n",
              "      <td>69.82</td>\n",
              "      <td>151.28</td>\n",
              "      <td>337.46</td>\n",
              "      <td>209.46</td>\n",
              "      <td>-93.09</td>\n",
              "      <td>-314.19</td>\n",
              "      <td>372.37</td>\n",
              "      <td>93.09</td>\n",
              "    </tr>\n",
              "  </tbody>\n",
              "</table>\n",
              "<p>345600 rows × 16 columns</p>\n",
              "</div>"
            ],
            "text/plain": [
              "            F7      F3      F4      F8  ...      P4      T6      O1      O2\n",
              "0      -252.08 -134.44   33.61   92.43  ... -277.28  -50.42  117.64 -277.28\n",
              "1      -176.45  -33.61  134.44   92.43  ... -117.64  -50.42  336.10 -134.44\n",
              "2       -16.81  176.45  394.92  159.65  ...  159.65   58.82  394.92   75.62\n",
              "3        67.22  319.30  512.55  218.47  ...  319.30  176.45  336.10  176.45\n",
              "4       327.70  672.20  756.23  453.74  ...  596.58  159.65  453.74  378.11\n",
              "...        ...     ...     ...     ...  ...     ...     ...     ...     ...\n",
              "345595  302.55  558.55  453.83  116.37  ...  -34.91  -58.18 -139.64    0.00\n",
              "345596  325.82  593.46  442.19   81.46  ...  -34.91 -174.55  116.37 -116.37\n",
              "345597  349.10  640.01  407.28    0.00  ...  -58.18 -279.28  232.73 -116.37\n",
              "345598  360.73  768.01  279.28    0.00  ...  -93.09 -360.73  372.37   11.64\n",
              "345599  302.55  721.47  209.46   46.55  ...  -93.09 -314.19  372.37   93.09\n",
              "\n",
              "[345600 rows x 16 columns]"
            ]
          },
          "metadata": {
            "tags": []
          },
          "execution_count": 5
        }
      ]
    },
    {
      "cell_type": "code",
      "metadata": {
        "colab": {
          "base_uri": "https://localhost:8080/",
          "height": 204
        },
        "id": "PPoSguZCme5u",
        "outputId": "a1f50c6d-90b3-4415-a759-96fe00d4f325"
      },
      "source": [
        "fpath = \"/content/drive/MyDrive/Schizophrenia/norm/s12w1.eea\"\n",
        "df_1 = pd.read_csv(fpath,header=None)\n",
        "df_1.head()"
      ],
      "execution_count": null,
      "outputs": [
        {
          "output_type": "execute_result",
          "data": {
            "text/html": [
              "<div>\n",
              "<style scoped>\n",
              "    .dataframe tbody tr th:only-of-type {\n",
              "        vertical-align: middle;\n",
              "    }\n",
              "\n",
              "    .dataframe tbody tr th {\n",
              "        vertical-align: top;\n",
              "    }\n",
              "\n",
              "    .dataframe thead th {\n",
              "        text-align: right;\n",
              "    }\n",
              "</style>\n",
              "<table border=\"1\" class=\"dataframe\">\n",
              "  <thead>\n",
              "    <tr style=\"text-align: right;\">\n",
              "      <th></th>\n",
              "      <th>0</th>\n",
              "    </tr>\n",
              "  </thead>\n",
              "  <tbody>\n",
              "    <tr>\n",
              "      <th>0</th>\n",
              "      <td>-30.06</td>\n",
              "    </tr>\n",
              "    <tr>\n",
              "      <th>1</th>\n",
              "      <td>-70.74</td>\n",
              "    </tr>\n",
              "    <tr>\n",
              "      <th>2</th>\n",
              "      <td>-90.19</td>\n",
              "    </tr>\n",
              "    <tr>\n",
              "      <th>3</th>\n",
              "      <td>29.18</td>\n",
              "    </tr>\n",
              "    <tr>\n",
              "      <th>4</th>\n",
              "      <td>229.90</td>\n",
              "    </tr>\n",
              "  </tbody>\n",
              "</table>\n",
              "</div>"
            ],
            "text/plain": [
              "        0\n",
              "0  -30.06\n",
              "1  -70.74\n",
              "2  -90.19\n",
              "3   29.18\n",
              "4  229.90"
            ]
          },
          "metadata": {
            "tags": []
          },
          "execution_count": 6
        }
      ]
    },
    {
      "cell_type": "code",
      "metadata": {
        "colab": {
          "base_uri": "https://localhost:8080/",
          "height": 204
        },
        "id": "WAHLAyO39Ruy",
        "outputId": "b8dea30c-330e-4e1e-c3cb-750ea95cb565"
      },
      "source": [
        "\n",
        "fpath = \"/content/drive/MyDrive/Schizophrenia/norm/S18W1.eea\"\n",
        "df_2 = pd.read_csv(fpath,header=None)\n",
        "df_2.head()"
      ],
      "execution_count": null,
      "outputs": [
        {
          "output_type": "execute_result",
          "data": {
            "text/html": [
              "<div>\n",
              "<style scoped>\n",
              "    .dataframe tbody tr th:only-of-type {\n",
              "        vertical-align: middle;\n",
              "    }\n",
              "\n",
              "    .dataframe tbody tr th {\n",
              "        vertical-align: top;\n",
              "    }\n",
              "\n",
              "    .dataframe thead th {\n",
              "        text-align: right;\n",
              "    }\n",
              "</style>\n",
              "<table border=\"1\" class=\"dataframe\">\n",
              "  <thead>\n",
              "    <tr style=\"text-align: right;\">\n",
              "      <th></th>\n",
              "      <th>0</th>\n",
              "    </tr>\n",
              "  </thead>\n",
              "  <tbody>\n",
              "    <tr>\n",
              "      <th>0</th>\n",
              "      <td>26.43</td>\n",
              "    </tr>\n",
              "    <tr>\n",
              "      <th>1</th>\n",
              "      <td>147.27</td>\n",
              "    </tr>\n",
              "    <tr>\n",
              "      <th>2</th>\n",
              "      <td>207.69</td>\n",
              "    </tr>\n",
              "    <tr>\n",
              "      <th>3</th>\n",
              "      <td>86.85</td>\n",
              "    </tr>\n",
              "    <tr>\n",
              "      <th>4</th>\n",
              "      <td>-30.21</td>\n",
              "    </tr>\n",
              "  </tbody>\n",
              "</table>\n",
              "</div>"
            ],
            "text/plain": [
              "        0\n",
              "0   26.43\n",
              "1  147.27\n",
              "2  207.69\n",
              "3   86.85\n",
              "4  -30.21"
            ]
          },
          "metadata": {
            "tags": []
          },
          "execution_count": 7
        }
      ]
    },
    {
      "cell_type": "code",
      "metadata": {
        "colab": {
          "base_uri": "https://localhost:8080/"
        },
        "id": "heeWEvaQYzQY",
        "outputId": "e9784a1d-9ea1-4010-f072-184621357ed0"
      },
      "source": [
        "df_concatenated.iloc[7679]"
      ],
      "execution_count": null,
      "outputs": [
        {
          "output_type": "execute_result",
          "data": {
            "text/plain": [
              "F7    -92.43\n",
              "F3    -92.43\n",
              "F4   -142.84\n",
              "F8   -201.66\n",
              "T3     75.62\n",
              "C3   -151.25\n",
              "Cz   -184.86\n",
              "C4   -126.04\n",
              "T4   -193.26\n",
              "T5     84.03\n",
              "P3     16.81\n",
              "Pz    -84.03\n",
              "P4   -386.52\n",
              "T6   -285.69\n",
              "O1     25.21\n",
              "O2   -520.96\n",
              "Name: 7679, dtype: float64"
            ]
          },
          "metadata": {
            "tags": []
          },
          "execution_count": 8
        }
      ]
    },
    {
      "cell_type": "code",
      "metadata": {
        "colab": {
          "base_uri": "https://localhost:8080/"
        },
        "id": "91RHCMavFftN",
        "outputId": "980662c8-15f6-48d5-dbd2-a59ceaf212d2"
      },
      "source": [
        "df_1.iloc[7679]"
      ],
      "execution_count": null,
      "outputs": [
        {
          "output_type": "execute_result",
          "data": {
            "text/plain": [
              "0   -50.4\n",
              "Name: 7679, dtype: float64"
            ]
          },
          "metadata": {
            "tags": []
          },
          "execution_count": 9
        }
      ]
    },
    {
      "cell_type": "code",
      "metadata": {
        "id": "m_V0_z5LQiPt"
      },
      "source": [
        "df_concatenated.to_csv(r\"sch_csv.csv\")"
      ],
      "execution_count": null,
      "outputs": []
    }
  ]
}