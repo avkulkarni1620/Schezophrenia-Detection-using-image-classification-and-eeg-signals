{
  "nbformat": 4,
  "nbformat_minor": 0,
  "metadata": {
    "accelerator": "GPU",
    "colab": {
      "name": "Schizophrenia full_Data_Schizophrenia_filters,_dnn.ipynb",
      "provenance": [],
      "collapsed_sections": []
    },
    "kernelspec": {
      "display_name": "Python 3",
      "name": "python3"
    },
    "language_info": {
      "name": "python"
    }
  },
  "cells": [
    {
      "cell_type": "code",
      "metadata": {
        "id": "Q2eohrpKd_TG"
      },
      "source": [
        "import pandas as pd\n",
        "import numpy as np\n",
        "import os\n",
        "import re\n",
        "import glob\n",
        "import matplotlib as mpl\n",
        "import matplotlib.pyplot as plt\n",
        "import seaborn as sns\n",
        "from scipy import stats\n",
        "from scipy.signal import filtfilt\n",
        "import scipy"
      ],
      "execution_count": null,
      "outputs": []
    },
    {
      "cell_type": "code",
      "metadata": {
        "colab": {
          "base_uri": "https://localhost:8080/"
        },
        "id": "XHyPPLmFtlWA",
        "outputId": "59c37617-f877-42cd-f58d-38d16a9aa79b"
      },
      "source": [
        "from google.colab import drive\n",
        "drive.mount('/content/drive')"
      ],
      "execution_count": null,
      "outputs": [
        {
          "output_type": "stream",
          "name": "stdout",
          "text": [
            "Mounted at /content/drive\n"
          ]
        }
      ]
    },
    {
      "cell_type": "code",
      "metadata": {
        "id": "uTQOiodBxVyV"
      },
      "source": [
        "from sklearn.model_selection import StratifiedKFold\n",
        "from sklearn.model_selection import cross_val_score\n",
        "from sklearn.linear_model import LogisticRegression\n",
        "from sklearn.naive_bayes import GaussianNB\n",
        "from sklearn.neighbors import KNeighborsClassifier\n",
        "from sklearn.discriminant_analysis import LinearDiscriminantAnalysis\n",
        "from sklearn.discriminant_analysis import QuadraticDiscriminantAnalysis\n",
        "from sklearn.model_selection import StratifiedKFold\n",
        "from sklearn.model_selection import cross_val_score\n",
        "from sklearn import preprocessing\n",
        "from sklearn.model_selection import train_test_split \n",
        "from sklearn.metrics import confusion_matrix, classification_report\n",
        "from sklearn.metrics import accuracy_score\n",
        "from xgboost import XGBClassifier\n",
        "from sklearn.model_selection import GridSearchCV"
      ],
      "execution_count": null,
      "outputs": []
    },
    {
      "cell_type": "code",
      "metadata": {
        "id": "3XjY1ID9eb1O"
      },
      "source": [
        "df_final = pd.read_csv('/content/drive/MyDrive/Schrizophrenia/schizophrenia_final_csv.csv')"
      ],
      "execution_count": null,
      "outputs": []
    },
    {
      "cell_type": "code",
      "metadata": {
        "colab": {
          "base_uri": "https://localhost:8080/"
        },
        "id": "LHNGaoJ0gLt5",
        "outputId": "a1abe905-a3cb-4273-da1a-a62a835404ab"
      },
      "source": [
        "df_final.shape"
      ],
      "execution_count": null,
      "outputs": [
        {
          "output_type": "execute_result",
          "data": {
            "text/plain": [
              "(645120, 18)"
            ]
          },
          "metadata": {},
          "execution_count": 7
        }
      ]
    },
    {
      "cell_type": "code",
      "metadata": {
        "colab": {
          "base_uri": "https://localhost:8080/",
          "height": 204
        },
        "id": "EEuxWljmgchw",
        "outputId": "e12f6863-b8e0-46ee-886e-d0e18b56da73"
      },
      "source": [
        "df_final.head()"
      ],
      "execution_count": null,
      "outputs": [
        {
          "output_type": "execute_result",
          "data": {
            "text/html": [
              "<div>\n",
              "<style scoped>\n",
              "    .dataframe tbody tr th:only-of-type {\n",
              "        vertical-align: middle;\n",
              "    }\n",
              "\n",
              "    .dataframe tbody tr th {\n",
              "        vertical-align: top;\n",
              "    }\n",
              "\n",
              "    .dataframe thead th {\n",
              "        text-align: right;\n",
              "    }\n",
              "</style>\n",
              "<table border=\"1\" class=\"dataframe\">\n",
              "  <thead>\n",
              "    <tr style=\"text-align: right;\">\n",
              "      <th></th>\n",
              "      <th>Unnamed: 0</th>\n",
              "      <th>F7</th>\n",
              "      <th>F3</th>\n",
              "      <th>F4</th>\n",
              "      <th>F8</th>\n",
              "      <th>T3</th>\n",
              "      <th>C3</th>\n",
              "      <th>Cz</th>\n",
              "      <th>C4</th>\n",
              "      <th>T4</th>\n",
              "      <th>T5</th>\n",
              "      <th>P3</th>\n",
              "      <th>Pz</th>\n",
              "      <th>P4</th>\n",
              "      <th>T6</th>\n",
              "      <th>O1</th>\n",
              "      <th>O2</th>\n",
              "      <th>target</th>\n",
              "    </tr>\n",
              "  </thead>\n",
              "  <tbody>\n",
              "    <tr>\n",
              "      <th>0</th>\n",
              "      <td>0</td>\n",
              "      <td>-252.08</td>\n",
              "      <td>-134.44</td>\n",
              "      <td>33.61</td>\n",
              "      <td>92.43</td>\n",
              "      <td>-176.45</td>\n",
              "      <td>-92.43</td>\n",
              "      <td>-50.42</td>\n",
              "      <td>-134.44</td>\n",
              "      <td>8.40</td>\n",
              "      <td>117.64</td>\n",
              "      <td>-25.21</td>\n",
              "      <td>-117.64</td>\n",
              "      <td>-277.28</td>\n",
              "      <td>-50.42</td>\n",
              "      <td>117.64</td>\n",
              "      <td>-277.28</td>\n",
              "      <td>1</td>\n",
              "    </tr>\n",
              "    <tr>\n",
              "      <th>1</th>\n",
              "      <td>1</td>\n",
              "      <td>-176.45</td>\n",
              "      <td>-33.61</td>\n",
              "      <td>134.44</td>\n",
              "      <td>92.43</td>\n",
              "      <td>-117.64</td>\n",
              "      <td>-75.62</td>\n",
              "      <td>8.40</td>\n",
              "      <td>-25.21</td>\n",
              "      <td>-16.81</td>\n",
              "      <td>252.08</td>\n",
              "      <td>92.43</td>\n",
              "      <td>0.00</td>\n",
              "      <td>-117.64</td>\n",
              "      <td>-50.42</td>\n",
              "      <td>336.10</td>\n",
              "      <td>-134.44</td>\n",
              "      <td>1</td>\n",
              "    </tr>\n",
              "    <tr>\n",
              "      <th>2</th>\n",
              "      <td>2</td>\n",
              "      <td>-16.81</td>\n",
              "      <td>176.45</td>\n",
              "      <td>394.92</td>\n",
              "      <td>159.65</td>\n",
              "      <td>92.43</td>\n",
              "      <td>117.64</td>\n",
              "      <td>92.43</td>\n",
              "      <td>159.65</td>\n",
              "      <td>134.44</td>\n",
              "      <td>378.11</td>\n",
              "      <td>294.09</td>\n",
              "      <td>294.09</td>\n",
              "      <td>159.65</td>\n",
              "      <td>58.82</td>\n",
              "      <td>394.92</td>\n",
              "      <td>75.62</td>\n",
              "      <td>1</td>\n",
              "    </tr>\n",
              "    <tr>\n",
              "      <th>3</th>\n",
              "      <td>3</td>\n",
              "      <td>67.22</td>\n",
              "      <td>319.30</td>\n",
              "      <td>512.55</td>\n",
              "      <td>218.47</td>\n",
              "      <td>218.47</td>\n",
              "      <td>252.08</td>\n",
              "      <td>218.47</td>\n",
              "      <td>218.47</td>\n",
              "      <td>277.28</td>\n",
              "      <td>352.91</td>\n",
              "      <td>378.11</td>\n",
              "      <td>436.93</td>\n",
              "      <td>319.30</td>\n",
              "      <td>176.45</td>\n",
              "      <td>336.10</td>\n",
              "      <td>176.45</td>\n",
              "      <td>1</td>\n",
              "    </tr>\n",
              "    <tr>\n",
              "      <th>4</th>\n",
              "      <td>4</td>\n",
              "      <td>327.70</td>\n",
              "      <td>672.20</td>\n",
              "      <td>756.23</td>\n",
              "      <td>453.74</td>\n",
              "      <td>394.92</td>\n",
              "      <td>453.74</td>\n",
              "      <td>512.55</td>\n",
              "      <td>394.92</td>\n",
              "      <td>394.92</td>\n",
              "      <td>436.93</td>\n",
              "      <td>579.78</td>\n",
              "      <td>638.59</td>\n",
              "      <td>596.58</td>\n",
              "      <td>159.65</td>\n",
              "      <td>453.74</td>\n",
              "      <td>378.11</td>\n",
              "      <td>1</td>\n",
              "    </tr>\n",
              "  </tbody>\n",
              "</table>\n",
              "</div>"
            ],
            "text/plain": [
              "   Unnamed: 0      F7      F3      F4  ...      T6      O1      O2  target\n",
              "0           0 -252.08 -134.44   33.61  ...  -50.42  117.64 -277.28       1\n",
              "1           1 -176.45  -33.61  134.44  ...  -50.42  336.10 -134.44       1\n",
              "2           2  -16.81  176.45  394.92  ...   58.82  394.92   75.62       1\n",
              "3           3   67.22  319.30  512.55  ...  176.45  336.10  176.45       1\n",
              "4           4  327.70  672.20  756.23  ...  159.65  453.74  378.11       1\n",
              "\n",
              "[5 rows x 18 columns]"
            ]
          },
          "metadata": {},
          "execution_count": 8
        }
      ]
    },
    {
      "cell_type": "code",
      "metadata": {
        "id": "T4M7Z4DxgnZh"
      },
      "source": [
        "df_final.drop('Unnamed: 0',axis=1, inplace= True)"
      ],
      "execution_count": null,
      "outputs": []
    },
    {
      "cell_type": "code",
      "metadata": {
        "colab": {
          "base_uri": "https://localhost:8080/",
          "height": 204
        },
        "id": "e31snwagguXS",
        "outputId": "6115edfd-539e-4ccd-df2c-badf0ab8077c"
      },
      "source": [
        "df_final.head()"
      ],
      "execution_count": null,
      "outputs": [
        {
          "output_type": "execute_result",
          "data": {
            "text/html": [
              "<div>\n",
              "<style scoped>\n",
              "    .dataframe tbody tr th:only-of-type {\n",
              "        vertical-align: middle;\n",
              "    }\n",
              "\n",
              "    .dataframe tbody tr th {\n",
              "        vertical-align: top;\n",
              "    }\n",
              "\n",
              "    .dataframe thead th {\n",
              "        text-align: right;\n",
              "    }\n",
              "</style>\n",
              "<table border=\"1\" class=\"dataframe\">\n",
              "  <thead>\n",
              "    <tr style=\"text-align: right;\">\n",
              "      <th></th>\n",
              "      <th>F7</th>\n",
              "      <th>F3</th>\n",
              "      <th>F4</th>\n",
              "      <th>F8</th>\n",
              "      <th>T3</th>\n",
              "      <th>C3</th>\n",
              "      <th>Cz</th>\n",
              "      <th>C4</th>\n",
              "      <th>T4</th>\n",
              "      <th>T5</th>\n",
              "      <th>P3</th>\n",
              "      <th>Pz</th>\n",
              "      <th>P4</th>\n",
              "      <th>T6</th>\n",
              "      <th>O1</th>\n",
              "      <th>O2</th>\n",
              "      <th>target</th>\n",
              "    </tr>\n",
              "  </thead>\n",
              "  <tbody>\n",
              "    <tr>\n",
              "      <th>0</th>\n",
              "      <td>-252.08</td>\n",
              "      <td>-134.44</td>\n",
              "      <td>33.61</td>\n",
              "      <td>92.43</td>\n",
              "      <td>-176.45</td>\n",
              "      <td>-92.43</td>\n",
              "      <td>-50.42</td>\n",
              "      <td>-134.44</td>\n",
              "      <td>8.40</td>\n",
              "      <td>117.64</td>\n",
              "      <td>-25.21</td>\n",
              "      <td>-117.64</td>\n",
              "      <td>-277.28</td>\n",
              "      <td>-50.42</td>\n",
              "      <td>117.64</td>\n",
              "      <td>-277.28</td>\n",
              "      <td>1</td>\n",
              "    </tr>\n",
              "    <tr>\n",
              "      <th>1</th>\n",
              "      <td>-176.45</td>\n",
              "      <td>-33.61</td>\n",
              "      <td>134.44</td>\n",
              "      <td>92.43</td>\n",
              "      <td>-117.64</td>\n",
              "      <td>-75.62</td>\n",
              "      <td>8.40</td>\n",
              "      <td>-25.21</td>\n",
              "      <td>-16.81</td>\n",
              "      <td>252.08</td>\n",
              "      <td>92.43</td>\n",
              "      <td>0.00</td>\n",
              "      <td>-117.64</td>\n",
              "      <td>-50.42</td>\n",
              "      <td>336.10</td>\n",
              "      <td>-134.44</td>\n",
              "      <td>1</td>\n",
              "    </tr>\n",
              "    <tr>\n",
              "      <th>2</th>\n",
              "      <td>-16.81</td>\n",
              "      <td>176.45</td>\n",
              "      <td>394.92</td>\n",
              "      <td>159.65</td>\n",
              "      <td>92.43</td>\n",
              "      <td>117.64</td>\n",
              "      <td>92.43</td>\n",
              "      <td>159.65</td>\n",
              "      <td>134.44</td>\n",
              "      <td>378.11</td>\n",
              "      <td>294.09</td>\n",
              "      <td>294.09</td>\n",
              "      <td>159.65</td>\n",
              "      <td>58.82</td>\n",
              "      <td>394.92</td>\n",
              "      <td>75.62</td>\n",
              "      <td>1</td>\n",
              "    </tr>\n",
              "    <tr>\n",
              "      <th>3</th>\n",
              "      <td>67.22</td>\n",
              "      <td>319.30</td>\n",
              "      <td>512.55</td>\n",
              "      <td>218.47</td>\n",
              "      <td>218.47</td>\n",
              "      <td>252.08</td>\n",
              "      <td>218.47</td>\n",
              "      <td>218.47</td>\n",
              "      <td>277.28</td>\n",
              "      <td>352.91</td>\n",
              "      <td>378.11</td>\n",
              "      <td>436.93</td>\n",
              "      <td>319.30</td>\n",
              "      <td>176.45</td>\n",
              "      <td>336.10</td>\n",
              "      <td>176.45</td>\n",
              "      <td>1</td>\n",
              "    </tr>\n",
              "    <tr>\n",
              "      <th>4</th>\n",
              "      <td>327.70</td>\n",
              "      <td>672.20</td>\n",
              "      <td>756.23</td>\n",
              "      <td>453.74</td>\n",
              "      <td>394.92</td>\n",
              "      <td>453.74</td>\n",
              "      <td>512.55</td>\n",
              "      <td>394.92</td>\n",
              "      <td>394.92</td>\n",
              "      <td>436.93</td>\n",
              "      <td>579.78</td>\n",
              "      <td>638.59</td>\n",
              "      <td>596.58</td>\n",
              "      <td>159.65</td>\n",
              "      <td>453.74</td>\n",
              "      <td>378.11</td>\n",
              "      <td>1</td>\n",
              "    </tr>\n",
              "  </tbody>\n",
              "</table>\n",
              "</div>"
            ],
            "text/plain": [
              "       F7      F3      F4      F8  ...      T6      O1      O2  target\n",
              "0 -252.08 -134.44   33.61   92.43  ...  -50.42  117.64 -277.28       1\n",
              "1 -176.45  -33.61  134.44   92.43  ...  -50.42  336.10 -134.44       1\n",
              "2  -16.81  176.45  394.92  159.65  ...   58.82  394.92   75.62       1\n",
              "3   67.22  319.30  512.55  218.47  ...  176.45  336.10  176.45       1\n",
              "4  327.70  672.20  756.23  453.74  ...  159.65  453.74  378.11       1\n",
              "\n",
              "[5 rows x 17 columns]"
            ]
          },
          "metadata": {},
          "execution_count": 10
        }
      ]
    },
    {
      "cell_type": "code",
      "metadata": {
        "colab": {
          "base_uri": "https://localhost:8080/",
          "height": 317
        },
        "id": "zi_AsymWgyMI",
        "outputId": "0e0f6a94-1748-428c-9922-16d2ba7df389"
      },
      "source": [
        "df_final.describe()"
      ],
      "execution_count": null,
      "outputs": [
        {
          "output_type": "execute_result",
          "data": {
            "text/html": [
              "<div>\n",
              "<style scoped>\n",
              "    .dataframe tbody tr th:only-of-type {\n",
              "        vertical-align: middle;\n",
              "    }\n",
              "\n",
              "    .dataframe tbody tr th {\n",
              "        vertical-align: top;\n",
              "    }\n",
              "\n",
              "    .dataframe thead th {\n",
              "        text-align: right;\n",
              "    }\n",
              "</style>\n",
              "<table border=\"1\" class=\"dataframe\">\n",
              "  <thead>\n",
              "    <tr style=\"text-align: right;\">\n",
              "      <th></th>\n",
              "      <th>F7</th>\n",
              "      <th>F3</th>\n",
              "      <th>F4</th>\n",
              "      <th>F8</th>\n",
              "      <th>T3</th>\n",
              "      <th>C3</th>\n",
              "      <th>Cz</th>\n",
              "      <th>C4</th>\n",
              "      <th>T4</th>\n",
              "      <th>T5</th>\n",
              "      <th>P3</th>\n",
              "      <th>Pz</th>\n",
              "      <th>P4</th>\n",
              "      <th>T6</th>\n",
              "      <th>O1</th>\n",
              "      <th>O2</th>\n",
              "      <th>target</th>\n",
              "    </tr>\n",
              "  </thead>\n",
              "  <tbody>\n",
              "    <tr>\n",
              "      <th>count</th>\n",
              "      <td>645120.000000</td>\n",
              "      <td>645120.000000</td>\n",
              "      <td>645120.000000</td>\n",
              "      <td>645120.000000</td>\n",
              "      <td>645120.000000</td>\n",
              "      <td>645120.000000</td>\n",
              "      <td>645120.000000</td>\n",
              "      <td>645120.000000</td>\n",
              "      <td>645120.000000</td>\n",
              "      <td>645120.000000</td>\n",
              "      <td>645120.000000</td>\n",
              "      <td>645120.000000</td>\n",
              "      <td>645120.000000</td>\n",
              "      <td>645120.000000</td>\n",
              "      <td>645120.000000</td>\n",
              "      <td>645120.000000</td>\n",
              "      <td>645120.000000</td>\n",
              "    </tr>\n",
              "    <tr>\n",
              "      <th>mean</th>\n",
              "      <td>7.783969</td>\n",
              "      <td>0.874987</td>\n",
              "      <td>1.724818</td>\n",
              "      <td>2.467679</td>\n",
              "      <td>4.492934</td>\n",
              "      <td>3.841987</td>\n",
              "      <td>3.801939</td>\n",
              "      <td>3.072804</td>\n",
              "      <td>4.120217</td>\n",
              "      <td>5.971288</td>\n",
              "      <td>5.474481</td>\n",
              "      <td>4.849737</td>\n",
              "      <td>3.841628</td>\n",
              "      <td>5.658982</td>\n",
              "      <td>7.427329</td>\n",
              "      <td>6.276220</td>\n",
              "      <td>0.535714</td>\n",
              "    </tr>\n",
              "    <tr>\n",
              "      <th>std</th>\n",
              "      <td>341.361399</td>\n",
              "      <td>388.671749</td>\n",
              "      <td>380.418061</td>\n",
              "      <td>324.615547</td>\n",
              "      <td>323.351126</td>\n",
              "      <td>389.158905</td>\n",
              "      <td>410.740270</td>\n",
              "      <td>390.984711</td>\n",
              "      <td>325.585680</td>\n",
              "      <td>333.101925</td>\n",
              "      <td>437.524588</td>\n",
              "      <td>470.524283</td>\n",
              "      <td>453.263853</td>\n",
              "      <td>363.862759</td>\n",
              "      <td>564.837736</td>\n",
              "      <td>564.618013</td>\n",
              "      <td>0.498723</td>\n",
              "    </tr>\n",
              "    <tr>\n",
              "      <th>min</th>\n",
              "      <td>-3990.940000</td>\n",
              "      <td>-2890.430000</td>\n",
              "      <td>-2610.280000</td>\n",
              "      <td>-2618.220000</td>\n",
              "      <td>-3001.620000</td>\n",
              "      <td>-2710.360000</td>\n",
              "      <td>-3091.240000</td>\n",
              "      <td>-2971.450000</td>\n",
              "      <td>-2137.360000</td>\n",
              "      <td>-2710.360000</td>\n",
              "      <td>-3371.130000</td>\n",
              "      <td>-3980.610000</td>\n",
              "      <td>-3468.760000</td>\n",
              "      <td>-2660.630000</td>\n",
              "      <td>-4570.000000</td>\n",
              "      <td>-4190.000000</td>\n",
              "      <td>0.000000</td>\n",
              "    </tr>\n",
              "    <tr>\n",
              "      <th>25%</th>\n",
              "      <td>-172.490000</td>\n",
              "      <td>-230.300000</td>\n",
              "      <td>-222.470000</td>\n",
              "      <td>-177.010000</td>\n",
              "      <td>-172.080000</td>\n",
              "      <td>-230.750000</td>\n",
              "      <td>-250.110000</td>\n",
              "      <td>-231.120000</td>\n",
              "      <td>-180.110000</td>\n",
              "      <td>-180.470000</td>\n",
              "      <td>-250.230000</td>\n",
              "      <td>-270.030000</td>\n",
              "      <td>-252.000000</td>\n",
              "      <td>-193.042500</td>\n",
              "      <td>-293.870000</td>\n",
              "      <td>-310.480000</td>\n",
              "      <td>0.000000</td>\n",
              "    </tr>\n",
              "    <tr>\n",
              "      <th>50%</th>\n",
              "      <td>8.110000</td>\n",
              "      <td>0.000000</td>\n",
              "      <td>0.000000</td>\n",
              "      <td>0.000000</td>\n",
              "      <td>0.000000</td>\n",
              "      <td>0.000000</td>\n",
              "      <td>0.000000</td>\n",
              "      <td>0.000000</td>\n",
              "      <td>0.000000</td>\n",
              "      <td>0.000000</td>\n",
              "      <td>0.000000</td>\n",
              "      <td>0.000000</td>\n",
              "      <td>0.000000</td>\n",
              "      <td>0.000000</td>\n",
              "      <td>5.850000</td>\n",
              "      <td>0.000000</td>\n",
              "      <td>1.000000</td>\n",
              "    </tr>\n",
              "    <tr>\n",
              "      <th>75%</th>\n",
              "      <td>189.190000</td>\n",
              "      <td>219.610000</td>\n",
              "      <td>219.520000</td>\n",
              "      <td>179.460000</td>\n",
              "      <td>179.365000</td>\n",
              "      <td>238.330000</td>\n",
              "      <td>252.080000</td>\n",
              "      <td>238.550000</td>\n",
              "      <td>183.160000</td>\n",
              "      <td>189.580000</td>\n",
              "      <td>259.450000</td>\n",
              "      <td>279.040000</td>\n",
              "      <td>267.690000</td>\n",
              "      <td>205.810000</td>\n",
              "      <td>318.910000</td>\n",
              "      <td>329.810000</td>\n",
              "      <td>1.000000</td>\n",
              "    </tr>\n",
              "    <tr>\n",
              "      <th>max</th>\n",
              "      <td>4227.160000</td>\n",
              "      <td>3457.390000</td>\n",
              "      <td>2784.950000</td>\n",
              "      <td>2698.820000</td>\n",
              "      <td>3061.320000</td>\n",
              "      <td>3232.540000</td>\n",
              "      <td>2999.020000</td>\n",
              "      <td>2908.400000</td>\n",
              "      <td>2219.310000</td>\n",
              "      <td>3058.080000</td>\n",
              "      <td>3070.910000</td>\n",
              "      <td>2998.300000</td>\n",
              "      <td>3033.610000</td>\n",
              "      <td>2722.790000</td>\n",
              "      <td>3449.240000</td>\n",
              "      <td>3610.000000</td>\n",
              "      <td>1.000000</td>\n",
              "    </tr>\n",
              "  </tbody>\n",
              "</table>\n",
              "</div>"
            ],
            "text/plain": [
              "                  F7             F3  ...             O2         target\n",
              "count  645120.000000  645120.000000  ...  645120.000000  645120.000000\n",
              "mean        7.783969       0.874987  ...       6.276220       0.535714\n",
              "std       341.361399     388.671749  ...     564.618013       0.498723\n",
              "min     -3990.940000   -2890.430000  ...   -4190.000000       0.000000\n",
              "25%      -172.490000    -230.300000  ...    -310.480000       0.000000\n",
              "50%         8.110000       0.000000  ...       0.000000       1.000000\n",
              "75%       189.190000     219.610000  ...     329.810000       1.000000\n",
              "max      4227.160000    3457.390000  ...    3610.000000       1.000000\n",
              "\n",
              "[8 rows x 17 columns]"
            ]
          },
          "metadata": {},
          "execution_count": 11
        }
      ]
    },
    {
      "cell_type": "code",
      "metadata": {
        "colab": {
          "base_uri": "https://localhost:8080/"
        },
        "id": "aATj3ruJjD6P",
        "outputId": "f915e19a-5d85-4202-ee3d-04d92262b2ab"
      },
      "source": [
        "df_final.dtypes"
      ],
      "execution_count": null,
      "outputs": [
        {
          "output_type": "execute_result",
          "data": {
            "text/plain": [
              "F7        float64\n",
              "F3        float64\n",
              "F4        float64\n",
              "F8        float64\n",
              "T3        float64\n",
              "C3        float64\n",
              "Cz        float64\n",
              "C4        float64\n",
              "T4        float64\n",
              "T5        float64\n",
              "P3        float64\n",
              "Pz        float64\n",
              "P4        float64\n",
              "T6        float64\n",
              "O1        float64\n",
              "O2        float64\n",
              "target      int64\n",
              "dtype: object"
            ]
          },
          "metadata": {},
          "execution_count": 12
        }
      ]
    },
    {
      "cell_type": "code",
      "metadata": {
        "colab": {
          "base_uri": "https://localhost:8080/"
        },
        "id": "NhLZZ3QNjfZz",
        "outputId": "060c4313-f2f8-4903-b483-fdea3ae7cf14"
      },
      "source": [
        "df_final.isnull().any()"
      ],
      "execution_count": null,
      "outputs": [
        {
          "output_type": "execute_result",
          "data": {
            "text/plain": [
              "F7        False\n",
              "F3        False\n",
              "F4        False\n",
              "F8        False\n",
              "T3        False\n",
              "C3        False\n",
              "Cz        False\n",
              "C4        False\n",
              "T4        False\n",
              "T5        False\n",
              "P3        False\n",
              "Pz        False\n",
              "P4        False\n",
              "T6        False\n",
              "O1        False\n",
              "O2        False\n",
              "target    False\n",
              "dtype: bool"
            ]
          },
          "metadata": {},
          "execution_count": 13
        }
      ]
    },
    {
      "cell_type": "code",
      "metadata": {
        "colab": {
          "base_uri": "https://localhost:8080/",
          "height": 1000
        },
        "id": "uQ2ga2HnjsRc",
        "outputId": "87d5093c-c7d9-4626-8e17-ff144b7623f4"
      },
      "source": [
        "for i in df_final.columns:\n",
        "  df_final[[i]].hist()"
      ],
      "execution_count": null,
      "outputs": [
        {
          "output_type": "display_data",
          "data": {
            "image/png": "[encoded data removed]",
            "text/plain": [
              "<Figure size 432x288 with 1 Axes>"
            ]
          },
          "metadata": {
            "needs_background": "light"
          }
        },
        {
          "output_type": "display_data",
          "data": {
            "image/png": "[encoded data removed]",
            "text/plain": [
              "<Figure size 432x288 with 1 Axes>"
            ]
          },
          "metadata": {
            "needs_background": "light"
          }
        },
        {
          "output_type": "display_data",
          "data": {
            "image/png": "[encoded data removed]",
            "text/plain": [
              "<Figure size 432x288 with 1 Axes>"
            ]
          },
          "metadata": {
            "needs_background": "light"
          }
        },
        {
          "output_type": "display_data",
          "data": {
            "image/png": "[encoded data removed]",
            "text/plain": [
              "<Figure size 432x288 with 1 Axes>"
            ]
          },
          "metadata": {
            "needs_background": "light"
          }
        },
        {
          "output_type": "display_data",
          "data": {
            "image/png": "[encoded data removed]",
            "text/plain": [
              "<Figure size 432x288 with 1 Axes>"
            ]
          },
          "metadata": {
            "needs_background": "light"
          }
        },
        {
          "output_type": "display_data",
          "data": {
            "image/png": "[encoded data removed]",
            "text/plain": [
              "<Figure size 432x288 with 1 Axes>"
            ]
          },
          "metadata": {
            "needs_background": "light"
          }
        },
        {
          "output_type": "display_data",
          "data": {
            "image/png": "[encoded data removed]",
            "text/plain": [
              "<Figure size 432x288 with 1 Axes>"
            ]
          },
          "metadata": {
            "needs_background": "light"
          }
        },
        {
          "output_type": "display_data",
          "data": {
            "image/png": "[encoded data removed]",
            "text/plain": [
              "<Figure size 432x288 with 1 Axes>"
            ]
          },
          "metadata": {
            "needs_background": "light"
          }
        },
        {
          "output_type": "display_data",
          "data": {
            "image/png": "[encoded data removed]",
            "text/plain": [
              "<Figure size 432x288 with 1 Axes>"
            ]
          },
          "metadata": {
            "needs_background": "light"
          }
        },
        {
          "output_type": "display_data",
          "data": {
            "image/png": "[encoded data removed]",
            "text/plain": [
              "<Figure size 432x288 with 1 Axes>"
            ]
          },
          "metadata": {
            "needs_background": "light"
          }
        },
        {
          "output_type": "display_data",
          "data": {
            "image/png": "[encoded data removed]",
            "text/plain": [
              "<Figure size 432x288 with 1 Axes>"
            ]
          },
          "metadata": {
            "needs_background": "light"
          }
        },
        {
          "output_type": "display_data",
          "data": {
            "image/png": "[encoded data removed]",
            "text/plain": [
              "<Figure size 432x288 with 1 Axes>"
            ]
          },
          "metadata": {
            "needs_background": "light"
          }
        },
        {
          "output_type": "display_data",
          "data": {
            "image/png": "[encoded data removed]",
            "text/plain": [
              "<Figure size 432x288 with 1 Axes>"
            ]
          },
          "metadata": {
            "needs_background": "light"
          }
        },
        {
          "output_type": "display_data",
          "data": {
            "image/png": "[encoded data removed]",
            "text/plain": [
              "<Figure size 432x288 with 1 Axes>"
            ]
          },
          "metadata": {
            "needs_background": "light"
          }
        },
        {
          "output_type": "display_data",
          "data": {
            "image/png": "[encoded data removed]",
            "text/plain": [
              "<Figure size 432x288 with 1 Axes>"
            ]
          },
          "metadata": {
            "needs_background": "light"
          }
        },
        {
          "output_type": "display_data",
          "data": {
            "image/png": "[encoded data removed]",
            "text/plain": [
              "<Figure size 432x288 with 1 Axes>"
            ]
          },
          "metadata": {
            "needs_background": "light"
          }
        },
        {
          "output_type": "display_data",
          "data": {
            "image/png": "[encoded data removed]",
            "text/plain": [
              "<Figure size 432x288 with 1 Axes>"
            ]
          },
          "metadata": {
            "needs_background": "light"
          }
        }
      ]
    },
    {
      "cell_type": "code",
      "metadata": {
        "colab": {
          "base_uri": "https://localhost:8080/",
          "height": 282
        },
        "id": "-S64yEQOmioH",
        "outputId": "b9c451d1-5bf9-4ec2-a871-a7ee26b0595d"
      },
      "source": [
        "df_final.boxplot()"
      ],
      "execution_count": null,
      "outputs": [
        {
          "output_type": "execute_result",
          "data": {
            "text/plain": [
              "<matplotlib.axes._subplots.AxesSubplot at 0x7f6e680aaf90>"
            ]
          },
          "metadata": {},
          "execution_count": 15
        },
        {
          "output_type": "display_data",
          "data": {
            "image/png": "[encoded data removed]",
            "text/plain": [
              "<Figure size 432x288 with 1 Axes>"
            ]
          },
          "metadata": {
            "needs_background": "light"
          }
        }
      ]
    },
    {
      "cell_type": "code",
      "metadata": {
        "colab": {
          "base_uri": "https://localhost:8080/",
          "height": 341
        },
        "id": "DdCKIkPnpgAR",
        "outputId": "173785bf-d415-43f0-c76e-d15e30f6eb02"
      },
      "source": [
        "plt.figure(figsize=(10,5))\n",
        "c= df_final.corr()\n",
        "sns.heatmap(c,cmap='BrBG',annot=True)"
      ],
      "execution_count": null,
      "outputs": [
        {
          "output_type": "execute_result",
          "data": {
            "text/plain": [
              "<matplotlib.axes._subplots.AxesSubplot at 0x7f6e66fd2f50>"
            ]
          },
          "metadata": {},
          "execution_count": 16
        },
        {
          "output_type": "display_data",
          "data": {
            "image/png": "[encoded data removed]",
            "text/plain": [
              "<Figure size 720x360 with 2 Axes>"
            ]
          },
          "metadata": {
            "needs_background": "light"
          }
        }
      ]
    },
    {
      "cell_type": "code",
      "metadata": {
        "id": "bY2-ukH_ykdP"
      },
      "source": [
        "signal = df_final"
      ],
      "execution_count": null,
      "outputs": []
    },
    {
      "cell_type": "markdown",
      "metadata": {
        "id": "9AqdU0qb4h5J"
      },
      "source": [
        "Applying Low Pass Filter"
      ]
    },
    {
      "cell_type": "code",
      "metadata": {
        "colab": {
          "base_uri": "https://localhost:8080/",
          "height": 554
        },
        "id": "1r8948TGupNy",
        "outputId": "f35763b9-86f6-44b4-d2e2-ce5b51441ad7"
      },
      "source": [
        "fs= 4000.0\n",
        "lowcut = 20.0\n",
        "highcut = 50.0\n",
        "\n",
        "nyq = 0.5*fs\n",
        "low = lowcut / nyq\n",
        "high = highcut / nyq\n",
        "\n",
        "order =2 \n",
        "\n",
        "b, a = scipy.signal.butter(order, low, btype='low', analog=False)\n",
        "\n",
        "y = scipy.signal.filtfilt(b,a,signal,axis=0)\n",
        "\n",
        "plt.plot(y)"
      ],
      "execution_count": null,
      "outputs": [
        {
          "output_type": "execute_result",
          "data": {
            "text/plain": [
              "[<matplotlib.lines.Line2D at 0x7f6e67dc3cd0>,\n",
              " <matplotlib.lines.Line2D at 0x7f6e67e3fbd0>,\n",
              " <matplotlib.lines.Line2D at 0x7f6e67e3fe10>,\n",
              " <matplotlib.lines.Line2D at 0x7f6e67e3fad0>,\n",
              " <matplotlib.lines.Line2D at 0x7f6e67e3f990>,\n",
              " <matplotlib.lines.Line2D at 0x7f6e67e3f6d0>,\n",
              " <matplotlib.lines.Line2D at 0x7f6e67e3f550>,\n",
              " <matplotlib.lines.Line2D at 0x7f6e67e3f310>,\n",
              " <matplotlib.lines.Line2D at 0x7f6e67e3f110>,\n",
              " <matplotlib.lines.Line2D at 0x7f6e67e3ffd0>,\n",
              " <matplotlib.lines.Line2D at 0x7f6e67d9ba10>,\n",
              " <matplotlib.lines.Line2D at 0x7f6e67e4a990>,\n",
              " <matplotlib.lines.Line2D at 0x7f6e67e4a790>,\n",
              " <matplotlib.lines.Line2D at 0x7f6e67e4a190>,\n",
              " <matplotlib.lines.Line2D at 0x7f6e67e4a550>,\n",
              " <matplotlib.lines.Line2D at 0x7f6e67e4a350>,\n",
              " <matplotlib.lines.Line2D at 0x7f6e67e4aa90>]"
            ]
          },
          "metadata": {},
          "execution_count": 18
        },
        {
          "output_type": "display_data",
          "data": {
            "image/png": "[encoded data removed]",
            "text/plain": [
              "<Figure size 432x288 with 1 Axes>"
            ]
          },
          "metadata": {
            "needs_background": "light"
          }
        }
      ]
    },
    {
      "cell_type": "code",
      "metadata": {
        "colab": {
          "base_uri": "https://localhost:8080/"
        },
        "id": "0okIhvZ7zBbY",
        "outputId": "c1fbff24-3c1c-496f-dc2e-3d3b1654c91c"
      },
      "source": [
        "y.shape, df_final.shape, df_final.head()"
      ],
      "execution_count": null,
      "outputs": [
        {
          "output_type": "execute_result",
          "data": {
            "text/plain": [
              "((645120, 17),\n",
              " (645120, 17),\n",
              "        F7      F3      F4      F8  ...      T6      O1      O2  target\n",
              " 0 -252.08 -134.44   33.61   92.43  ...  -50.42  117.64 -277.28       1\n",
              " 1 -176.45  -33.61  134.44   92.43  ...  -50.42  336.10 -134.44       1\n",
              " 2  -16.81  176.45  394.92  159.65  ...   58.82  394.92   75.62       1\n",
              " 3   67.22  319.30  512.55  218.47  ...  176.45  336.10  176.45       1\n",
              " 4  327.70  672.20  756.23  453.74  ...  159.65  453.74  378.11       1\n",
              " \n",
              " [5 rows x 17 columns])"
            ]
          },
          "metadata": {},
          "execution_count": 19
        }
      ]
    },
    {
      "cell_type": "code",
      "metadata": {
        "colab": {
          "base_uri": "https://localhost:8080/"
        },
        "id": "8RzKSBQFzhVG",
        "outputId": "ab596a1a-5062-43dd-92e5-5a445f66dd4b"
      },
      "source": [
        "y"
      ],
      "execution_count": null,
      "outputs": [
        {
          "output_type": "execute_result",
          "data": {
            "text/plain": [
              "array([[-3.14743460e+002, -2.62954887e+002, -6.02406603e+000, ...,\n",
              "        -4.73124623e+000, -3.06720392e+002,  1.00000000e+000],\n",
              "       [-3.08926227e+002, -2.58463838e+002, -7.99497989e+000, ...,\n",
              "        -5.09255906e+000, -3.02135244e+002,  1.00000000e+000],\n",
              "       [-3.03134358e+002, -2.54015346e+002, -9.98655586e+000, ...,\n",
              "        -5.47900984e+000, -2.97539078e+002,  1.00000000e+000],\n",
              "       ...,\n",
              "       [ 2.00580092e+002,  1.89752971e+002,  1.28976395e+002, ...,\n",
              "         4.81928969e+001,  1.04031565e+002,  5.43472210e-323],\n",
              "       [ 2.00923598e+002,  1.90031698e+002,  1.29181962e+002, ...,\n",
              "         4.82747496e+001,  1.04192004e+002,  5.43472210e-323],\n",
              "       [ 2.01208288e+002,  1.90261634e+002,  1.29347344e+002, ...,\n",
              "         4.83405883e+001,  1.04331281e+002,  5.43472210e-323]])"
            ]
          },
          "metadata": {},
          "execution_count": 20
        }
      ]
    },
    {
      "cell_type": "code",
      "metadata": {
        "id": "q85uVDEmzvd3"
      },
      "source": [
        "lp_filtered_df = pd.DataFrame(y,columns=df_final.columns)"
      ],
      "execution_count": null,
      "outputs": []
    },
    {
      "cell_type": "code",
      "metadata": {
        "colab": {
          "base_uri": "https://localhost:8080/"
        },
        "id": "R8PlltgY0qDZ",
        "outputId": "c676dc8a-09ed-4b19-9735-2f48755d7b4e"
      },
      "source": [
        "lp_filtered_df.shape, lp_filtered_df.head()"
      ],
      "execution_count": null,
      "outputs": [
        {
          "output_type": "execute_result",
          "data": {
            "text/plain": [
              "((645120, 17),\n",
              "            F7          F3         F4  ...        O1          O2  target\n",
              " 0 -314.743460 -262.954887  -6.024066  ... -4.731246 -306.720392     1.0\n",
              " 1 -308.926227 -258.463838  -7.994980  ... -5.092559 -302.135244     1.0\n",
              " 2 -303.134358 -254.015346  -9.986556  ... -5.479010 -297.539078     1.0\n",
              " 3 -297.374854 -249.616777 -12.001089  ... -5.891777 -292.936898     1.0\n",
              " 4 -291.654443 -245.275081 -14.040514  ... -6.331691 -288.333377     1.0\n",
              " \n",
              " [5 rows x 17 columns])"
            ]
          },
          "metadata": {},
          "execution_count": 22
        }
      ]
    },
    {
      "cell_type": "code",
      "metadata": {
        "id": "0u1Bln5p01gz"
      },
      "source": [
        "lp_filtered_df['target'] = df_final['target']"
      ],
      "execution_count": null,
      "outputs": []
    },
    {
      "cell_type": "code",
      "metadata": {
        "colab": {
          "base_uri": "https://localhost:8080/",
          "height": 224
        },
        "id": "u_GNIZYC0_ZD",
        "outputId": "90a2fbf3-2da6-439b-9683-2f046d355ebe"
      },
      "source": [
        "lp_filtered_df.head()"
      ],
      "execution_count": null,
      "outputs": [
        {
          "output_type": "execute_result",
          "data": {
            "text/html": [
              "<div>\n",
              "<style scoped>\n",
              "    .dataframe tbody tr th:only-of-type {\n",
              "        vertical-align: middle;\n",
              "    }\n",
              "\n",
              "    .dataframe tbody tr th {\n",
              "        vertical-align: top;\n",
              "    }\n",
              "\n",
              "    .dataframe thead th {\n",
              "        text-align: right;\n",
              "    }\n",
              "</style>\n",
              "<table border=\"1\" class=\"dataframe\">\n",
              "  <thead>\n",
              "    <tr style=\"text-align: right;\">\n",
              "      <th></th>\n",
              "      <th>F7</th>\n",
              "      <th>F3</th>\n",
              "      <th>F4</th>\n",
              "      <th>F8</th>\n",
              "      <th>T3</th>\n",
              "      <th>C3</th>\n",
              "      <th>Cz</th>\n",
              "      <th>C4</th>\n",
              "      <th>T4</th>\n",
              "      <th>T5</th>\n",
              "      <th>P3</th>\n",
              "      <th>Pz</th>\n",
              "      <th>P4</th>\n",
              "      <th>T6</th>\n",
              "      <th>O1</th>\n",
              "      <th>O2</th>\n",
              "      <th>target</th>\n",
              "    </tr>\n",
              "  </thead>\n",
              "  <tbody>\n",
              "    <tr>\n",
              "      <th>0</th>\n",
              "      <td>-314.743460</td>\n",
              "      <td>-262.954887</td>\n",
              "      <td>-6.024066</td>\n",
              "      <td>60.816262</td>\n",
              "      <td>-168.931306</td>\n",
              "      <td>-193.483437</td>\n",
              "      <td>-144.109988</td>\n",
              "      <td>-158.602224</td>\n",
              "      <td>48.292171</td>\n",
              "      <td>83.329619</td>\n",
              "      <td>-27.756071</td>\n",
              "      <td>-63.692657</td>\n",
              "      <td>-232.603901</td>\n",
              "      <td>-49.296876</td>\n",
              "      <td>-4.731246</td>\n",
              "      <td>-306.720392</td>\n",
              "      <td>1</td>\n",
              "    </tr>\n",
              "    <tr>\n",
              "      <th>1</th>\n",
              "      <td>-308.926227</td>\n",
              "      <td>-258.463838</td>\n",
              "      <td>-7.994980</td>\n",
              "      <td>58.170732</td>\n",
              "      <td>-166.218293</td>\n",
              "      <td>-191.097076</td>\n",
              "      <td>-142.945615</td>\n",
              "      <td>-157.718460</td>\n",
              "      <td>44.887962</td>\n",
              "      <td>80.097812</td>\n",
              "      <td>-28.837557</td>\n",
              "      <td>-64.212640</td>\n",
              "      <td>-231.486072</td>\n",
              "      <td>-51.481319</td>\n",
              "      <td>-5.092559</td>\n",
              "      <td>-302.135244</td>\n",
              "      <td>1</td>\n",
              "    </tr>\n",
              "    <tr>\n",
              "      <th>2</th>\n",
              "      <td>-303.134358</td>\n",
              "      <td>-254.015346</td>\n",
              "      <td>-9.986556</td>\n",
              "      <td>55.510887</td>\n",
              "      <td>-163.518098</td>\n",
              "      <td>-188.726857</td>\n",
              "      <td>-141.792753</td>\n",
              "      <td>-156.830904</td>\n",
              "      <td>41.495365</td>\n",
              "      <td>76.854291</td>\n",
              "      <td>-29.913044</td>\n",
              "      <td>-64.713294</td>\n",
              "      <td>-230.334112</td>\n",
              "      <td>-53.647030</td>\n",
              "      <td>-5.479010</td>\n",
              "      <td>-297.539078</td>\n",
              "      <td>1</td>\n",
              "    </tr>\n",
              "    <tr>\n",
              "      <th>3</th>\n",
              "      <td>-297.374854</td>\n",
              "      <td>-249.616777</td>\n",
              "      <td>-12.001089</td>\n",
              "      <td>52.836743</td>\n",
              "      <td>-160.835770</td>\n",
              "      <td>-186.376801</td>\n",
              "      <td>-140.654396</td>\n",
              "      <td>-155.942421</td>\n",
              "      <td>38.115333</td>\n",
              "      <td>73.599671</td>\n",
              "      <td>-30.983701</td>\n",
              "      <td>-65.196685</td>\n",
              "      <td>-229.150840</td>\n",
              "      <td>-55.792740</td>\n",
              "      <td>-5.891777</td>\n",
              "      <td>-292.936898</td>\n",
              "      <td>1</td>\n",
              "    </tr>\n",
              "    <tr>\n",
              "      <th>4</th>\n",
              "      <td>-291.654443</td>\n",
              "      <td>-245.275081</td>\n",
              "      <td>-14.040514</td>\n",
              "      <td>50.148429</td>\n",
              "      <td>-158.176125</td>\n",
              "      <td>-184.050639</td>\n",
              "      <td>-139.533285</td>\n",
              "      <td>-155.055599</td>\n",
              "      <td>34.748915</td>\n",
              "      <td>70.334813</td>\n",
              "      <td>-32.050409</td>\n",
              "      <td>-65.664572</td>\n",
              "      <td>-227.938724</td>\n",
              "      <td>-57.917069</td>\n",
              "      <td>-6.331691</td>\n",
              "      <td>-288.333377</td>\n",
              "      <td>1</td>\n",
              "    </tr>\n",
              "  </tbody>\n",
              "</table>\n",
              "</div>"
            ],
            "text/plain": [
              "           F7          F3         F4  ...        O1          O2  target\n",
              "0 -314.743460 -262.954887  -6.024066  ... -4.731246 -306.720392       1\n",
              "1 -308.926227 -258.463838  -7.994980  ... -5.092559 -302.135244       1\n",
              "2 -303.134358 -254.015346  -9.986556  ... -5.479010 -297.539078       1\n",
              "3 -297.374854 -249.616777 -12.001089  ... -5.891777 -292.936898       1\n",
              "4 -291.654443 -245.275081 -14.040514  ... -6.331691 -288.333377       1\n",
              "\n",
              "[5 rows x 17 columns]"
            ]
          },
          "metadata": {},
          "execution_count": 24
        }
      ]
    },
    {
      "cell_type": "code",
      "metadata": {
        "colab": {
          "base_uri": "https://localhost:8080/",
          "height": 317
        },
        "id": "8AiSuzto1FGw",
        "outputId": "feb7ab8b-bde7-4d89-cf46-065dddabc513"
      },
      "source": [
        "lp_filtered_df.describe()"
      ],
      "execution_count": null,
      "outputs": [
        {
          "output_type": "execute_result",
          "data": {
            "text/html": [
              "<div>\n",
              "<style scoped>\n",
              "    .dataframe tbody tr th:only-of-type {\n",
              "        vertical-align: middle;\n",
              "    }\n",
              "\n",
              "    .dataframe tbody tr th {\n",
              "        vertical-align: top;\n",
              "    }\n",
              "\n",
              "    .dataframe thead th {\n",
              "        text-align: right;\n",
              "    }\n",
              "</style>\n",
              "<table border=\"1\" class=\"dataframe\">\n",
              "  <thead>\n",
              "    <tr style=\"text-align: right;\">\n",
              "      <th></th>\n",
              "      <th>F7</th>\n",
              "      <th>F3</th>\n",
              "      <th>F4</th>\n",
              "      <th>F8</th>\n",
              "      <th>T3</th>\n",
              "      <th>C3</th>\n",
              "      <th>Cz</th>\n",
              "      <th>C4</th>\n",
              "      <th>T4</th>\n",
              "      <th>T5</th>\n",
              "      <th>P3</th>\n",
              "      <th>Pz</th>\n",
              "      <th>P4</th>\n",
              "      <th>T6</th>\n",
              "      <th>O1</th>\n",
              "      <th>O2</th>\n",
              "      <th>target</th>\n",
              "    </tr>\n",
              "  </thead>\n",
              "  <tbody>\n",
              "    <tr>\n",
              "      <th>count</th>\n",
              "      <td>645120.000000</td>\n",
              "      <td>645120.000000</td>\n",
              "      <td>645120.000000</td>\n",
              "      <td>645120.000000</td>\n",
              "      <td>645120.000000</td>\n",
              "      <td>645120.000000</td>\n",
              "      <td>645120.000000</td>\n",
              "      <td>645120.000000</td>\n",
              "      <td>645120.000000</td>\n",
              "      <td>645120.000000</td>\n",
              "      <td>645120.000000</td>\n",
              "      <td>645120.000000</td>\n",
              "      <td>645120.000000</td>\n",
              "      <td>645120.000000</td>\n",
              "      <td>645120.000000</td>\n",
              "      <td>645120.000000</td>\n",
              "      <td>645120.000000</td>\n",
              "    </tr>\n",
              "    <tr>\n",
              "      <th>mean</th>\n",
              "      <td>7.763810</td>\n",
              "      <td>0.854793</td>\n",
              "      <td>1.712777</td>\n",
              "      <td>2.457649</td>\n",
              "      <td>4.477188</td>\n",
              "      <td>3.826370</td>\n",
              "      <td>3.788867</td>\n",
              "      <td>3.059834</td>\n",
              "      <td>4.113787</td>\n",
              "      <td>5.966800</td>\n",
              "      <td>5.466833</td>\n",
              "      <td>4.839798</td>\n",
              "      <td>3.831025</td>\n",
              "      <td>5.653465</td>\n",
              "      <td>7.422055</td>\n",
              "      <td>6.267933</td>\n",
              "      <td>0.535714</td>\n",
              "    </tr>\n",
              "    <tr>\n",
              "      <th>std</th>\n",
              "      <td>130.494629</td>\n",
              "      <td>124.554551</td>\n",
              "      <td>115.775260</td>\n",
              "      <td>115.062596</td>\n",
              "      <td>116.081371</td>\n",
              "      <td>95.629399</td>\n",
              "      <td>95.764643</td>\n",
              "      <td>91.143991</td>\n",
              "      <td>97.445342</td>\n",
              "      <td>96.601682</td>\n",
              "      <td>90.492441</td>\n",
              "      <td>87.810701</td>\n",
              "      <td>99.552584</td>\n",
              "      <td>108.394823</td>\n",
              "      <td>112.102116</td>\n",
              "      <td>121.630017</td>\n",
              "      <td>0.498723</td>\n",
              "    </tr>\n",
              "    <tr>\n",
              "      <th>min</th>\n",
              "      <td>-1101.848647</td>\n",
              "      <td>-916.310205</td>\n",
              "      <td>-1221.688588</td>\n",
              "      <td>-1364.558555</td>\n",
              "      <td>-872.103310</td>\n",
              "      <td>-853.271055</td>\n",
              "      <td>-835.000762</td>\n",
              "      <td>-1070.714712</td>\n",
              "      <td>-1003.649731</td>\n",
              "      <td>-1239.509052</td>\n",
              "      <td>-801.822514</td>\n",
              "      <td>-1136.737088</td>\n",
              "      <td>-2094.487559</td>\n",
              "      <td>-1209.330391</td>\n",
              "      <td>-945.790751</td>\n",
              "      <td>-1117.605841</td>\n",
              "      <td>0.000000</td>\n",
              "    </tr>\n",
              "    <tr>\n",
              "      <th>25%</th>\n",
              "      <td>-40.163186</td>\n",
              "      <td>-48.688717</td>\n",
              "      <td>-47.921881</td>\n",
              "      <td>-41.008863</td>\n",
              "      <td>-37.204886</td>\n",
              "      <td>-37.486028</td>\n",
              "      <td>-37.907554</td>\n",
              "      <td>-37.863077</td>\n",
              "      <td>-34.635665</td>\n",
              "      <td>-30.173331</td>\n",
              "      <td>-36.908170</td>\n",
              "      <td>-37.343547</td>\n",
              "      <td>-36.720128</td>\n",
              "      <td>-30.459629</td>\n",
              "      <td>-36.188607</td>\n",
              "      <td>-36.007140</td>\n",
              "      <td>0.000000</td>\n",
              "    </tr>\n",
              "    <tr>\n",
              "      <th>50%</th>\n",
              "      <td>8.210047</td>\n",
              "      <td>3.295959</td>\n",
              "      <td>2.880583</td>\n",
              "      <td>3.765138</td>\n",
              "      <td>3.820370</td>\n",
              "      <td>3.832988</td>\n",
              "      <td>4.397612</td>\n",
              "      <td>4.165661</td>\n",
              "      <td>3.790062</td>\n",
              "      <td>4.834568</td>\n",
              "      <td>4.334067</td>\n",
              "      <td>4.427302</td>\n",
              "      <td>4.579086</td>\n",
              "      <td>4.344905</td>\n",
              "      <td>5.924837</td>\n",
              "      <td>5.383679</td>\n",
              "      <td>1.000000</td>\n",
              "    </tr>\n",
              "    <tr>\n",
              "      <th>75%</th>\n",
              "      <td>55.823306</td>\n",
              "      <td>52.052075</td>\n",
              "      <td>52.468193</td>\n",
              "      <td>46.358510</td>\n",
              "      <td>43.668650</td>\n",
              "      <td>44.818657</td>\n",
              "      <td>46.359086</td>\n",
              "      <td>45.373898</td>\n",
              "      <td>41.474237</td>\n",
              "      <td>39.790144</td>\n",
              "      <td>45.624635</td>\n",
              "      <td>46.222132</td>\n",
              "      <td>45.690470</td>\n",
              "      <td>39.320412</td>\n",
              "      <td>47.517811</td>\n",
              "      <td>47.072928</td>\n",
              "      <td>1.000000</td>\n",
              "    </tr>\n",
              "    <tr>\n",
              "      <th>max</th>\n",
              "      <td>1483.909918</td>\n",
              "      <td>1370.582160</td>\n",
              "      <td>1382.477470</td>\n",
              "      <td>1324.696894</td>\n",
              "      <td>1591.525385</td>\n",
              "      <td>1147.663783</td>\n",
              "      <td>1015.139364</td>\n",
              "      <td>970.092469</td>\n",
              "      <td>1062.835316</td>\n",
              "      <td>1633.687676</td>\n",
              "      <td>989.745210</td>\n",
              "      <td>1633.898089</td>\n",
              "      <td>1469.150173</td>\n",
              "      <td>1933.887490</td>\n",
              "      <td>1963.423338</td>\n",
              "      <td>1687.758045</td>\n",
              "      <td>1.000000</td>\n",
              "    </tr>\n",
              "  </tbody>\n",
              "</table>\n",
              "</div>"
            ],
            "text/plain": [
              "                  F7             F3  ...             O2         target\n",
              "count  645120.000000  645120.000000  ...  645120.000000  645120.000000\n",
              "mean        7.763810       0.854793  ...       6.267933       0.535714\n",
              "std       130.494629     124.554551  ...     121.630017       0.498723\n",
              "min     -1101.848647    -916.310205  ...   -1117.605841       0.000000\n",
              "25%       -40.163186     -48.688717  ...     -36.007140       0.000000\n",
              "50%         8.210047       3.295959  ...       5.383679       1.000000\n",
              "75%        55.823306      52.052075  ...      47.072928       1.000000\n",
              "max      1483.909918    1370.582160  ...    1687.758045       1.000000\n",
              "\n",
              "[8 rows x 17 columns]"
            ]
          },
          "metadata": {},
          "execution_count": 25
        }
      ]
    },
    {
      "cell_type": "markdown",
      "metadata": {
        "id": "GVYjygw65ong"
      },
      "source": [
        "Applying High Pass Filter"
      ]
    },
    {
      "cell_type": "code",
      "metadata": {
        "colab": {
          "base_uri": "https://localhost:8080/",
          "height": 554
        },
        "id": "H-gNbmHd5rhF",
        "outputId": "97e5bea0-c553-4d5e-848c-8080b06f7a3d"
      },
      "source": [
        "fs= 4000.0\n",
        "lowcut = 20.0\n",
        "highcut = 50.0\n",
        "\n",
        "nyq = 0.5*fs\n",
        "low = lowcut / nyq\n",
        "high = highcut / nyq\n",
        "\n",
        "order =2 \n",
        "\n",
        "b, a = scipy.signal.butter(order, low, btype='low', analog=False)\n",
        "\n",
        "y = scipy.signal.filtfilt(b,a,signal,axis=0)\n",
        "\n",
        "plt.plot(y)"
      ],
      "execution_count": null,
      "outputs": [
        {
          "output_type": "execute_result",
          "data": {
            "text/plain": [
              "[<matplotlib.lines.Line2D at 0x7f6e6797a810>,\n",
              " <matplotlib.lines.Line2D at 0x7f6e6797a890>,\n",
              " <matplotlib.lines.Line2D at 0x7f6e6797aa90>,\n",
              " <matplotlib.lines.Line2D at 0x7f6e6797a290>,\n",
              " <matplotlib.lines.Line2D at 0x7f6e6797ac10>,\n",
              " <matplotlib.lines.Line2D at 0x7f6e6797a690>,\n",
              " <matplotlib.lines.Line2D at 0x7f6e67f32110>,\n",
              " <matplotlib.lines.Line2D at 0x7f6e67f32f90>,\n",
              " <matplotlib.lines.Line2D at 0x7f6e6797a210>,\n",
              " <matplotlib.lines.Line2D at 0x7f6e6797af90>,\n",
              " <matplotlib.lines.Line2D at 0x7f6e67ef2b50>,\n",
              " <matplotlib.lines.Line2D at 0x7f6e67f32ad0>,\n",
              " <matplotlib.lines.Line2D at 0x7f6e67f320d0>,\n",
              " <matplotlib.lines.Line2D at 0x7f6e67f32e10>,\n",
              " <matplotlib.lines.Line2D at 0x7f6e67f32690>,\n",
              " <matplotlib.lines.Line2D at 0x7f6e671b6a50>,\n",
              " <matplotlib.lines.Line2D at 0x7f6e671b6c50>]"
            ]
          },
          "metadata": {},
          "execution_count": 26
        },
        {
          "output_type": "display_data",
          "data": {
            "image/png": "[encoded data removed]",
            "text/plain": [
              "<Figure size 432x288 with 1 Axes>"
            ]
          },
          "metadata": {
            "needs_background": "light"
          }
        }
      ]
    },
    {
      "cell_type": "code",
      "metadata": {
        "colab": {
          "base_uri": "https://localhost:8080/"
        },
        "id": "R-pDdvZm5_kh",
        "outputId": "cb44df8f-aef5-46c5-da0a-6e226b086db4"
      },
      "source": [
        "y.shape, df_final.shape, df_final.head()"
      ],
      "execution_count": null,
      "outputs": [
        {
          "output_type": "execute_result",
          "data": {
            "text/plain": [
              "((645120, 17),\n",
              " (645120, 17),\n",
              "        F7      F3      F4      F8  ...      T6      O1      O2  target\n",
              " 0 -252.08 -134.44   33.61   92.43  ...  -50.42  117.64 -277.28       1\n",
              " 1 -176.45  -33.61  134.44   92.43  ...  -50.42  336.10 -134.44       1\n",
              " 2  -16.81  176.45  394.92  159.65  ...   58.82  394.92   75.62       1\n",
              " 3   67.22  319.30  512.55  218.47  ...  176.45  336.10  176.45       1\n",
              " 4  327.70  672.20  756.23  453.74  ...  159.65  453.74  378.11       1\n",
              " \n",
              " [5 rows x 17 columns])"
            ]
          },
          "metadata": {},
          "execution_count": 27
        }
      ]
    },
    {
      "cell_type": "code",
      "metadata": {
        "colab": {
          "base_uri": "https://localhost:8080/"
        },
        "id": "bXXhgctC6amz",
        "outputId": "553c3f40-a257-4e50-a67a-1081d559ca4d"
      },
      "source": [
        "y"
      ],
      "execution_count": null,
      "outputs": [
        {
          "output_type": "execute_result",
          "data": {
            "text/plain": [
              "array([[-3.14743460e+002, -2.62954887e+002, -6.02406603e+000, ...,\n",
              "        -4.73124623e+000, -3.06720392e+002,  1.00000000e+000],\n",
              "       [-3.08926227e+002, -2.58463838e+002, -7.99497989e+000, ...,\n",
              "        -5.09255906e+000, -3.02135244e+002,  1.00000000e+000],\n",
              "       [-3.03134358e+002, -2.54015346e+002, -9.98655586e+000, ...,\n",
              "        -5.47900984e+000, -2.97539078e+002,  1.00000000e+000],\n",
              "       ...,\n",
              "       [ 2.00580092e+002,  1.89752971e+002,  1.28976395e+002, ...,\n",
              "         4.81928969e+001,  1.04031565e+002,  5.43472210e-323],\n",
              "       [ 2.00923598e+002,  1.90031698e+002,  1.29181962e+002, ...,\n",
              "         4.82747496e+001,  1.04192004e+002,  5.43472210e-323],\n",
              "       [ 2.01208288e+002,  1.90261634e+002,  1.29347344e+002, ...,\n",
              "         4.83405883e+001,  1.04331281e+002,  5.43472210e-323]])"
            ]
          },
          "metadata": {},
          "execution_count": 28
        }
      ]
    },
    {
      "cell_type": "code",
      "metadata": {
        "id": "YTs38Yri66ic"
      },
      "source": [
        "hp_filtered_df = pd.DataFrame(y,columns=df_final.columns)"
      ],
      "execution_count": null,
      "outputs": []
    },
    {
      "cell_type": "code",
      "metadata": {
        "colab": {
          "base_uri": "https://localhost:8080/"
        },
        "id": "3HuIaXfA7NTs",
        "outputId": "80edb341-0375-4b18-f28f-0636ab7f39db"
      },
      "source": [
        "hp_filtered_df.shape, hp_filtered_df.head()"
      ],
      "execution_count": null,
      "outputs": [
        {
          "output_type": "execute_result",
          "data": {
            "text/plain": [
              "((645120, 17),\n",
              "            F7          F3         F4  ...        O1          O2  target\n",
              " 0 -314.743460 -262.954887  -6.024066  ... -4.731246 -306.720392     1.0\n",
              " 1 -308.926227 -258.463838  -7.994980  ... -5.092559 -302.135244     1.0\n",
              " 2 -303.134358 -254.015346  -9.986556  ... -5.479010 -297.539078     1.0\n",
              " 3 -297.374854 -249.616777 -12.001089  ... -5.891777 -292.936898     1.0\n",
              " 4 -291.654443 -245.275081 -14.040514  ... -6.331691 -288.333377     1.0\n",
              " \n",
              " [5 rows x 17 columns])"
            ]
          },
          "metadata": {},
          "execution_count": 30
        }
      ]
    },
    {
      "cell_type": "code",
      "metadata": {
        "id": "WCIE742R7QXs"
      },
      "source": [
        "hp_filtered_df['target'] = df_final['target']"
      ],
      "execution_count": null,
      "outputs": []
    },
    {
      "cell_type": "code",
      "metadata": {
        "colab": {
          "base_uri": "https://localhost:8080/",
          "height": 224
        },
        "id": "E_-b2mBM7Tk2",
        "outputId": "6fd42e78-820c-4803-dae7-033c04cbf3fe"
      },
      "source": [
        "hp_filtered_df.head()"
      ],
      "execution_count": null,
      "outputs": [
        {
          "output_type": "execute_result",
          "data": {
            "text/html": [
              "<div>\n",
              "<style scoped>\n",
              "    .dataframe tbody tr th:only-of-type {\n",
              "        vertical-align: middle;\n",
              "    }\n",
              "\n",
              "    .dataframe tbody tr th {\n",
              "        vertical-align: top;\n",
              "    }\n",
              "\n",
              "    .dataframe thead th {\n",
              "        text-align: right;\n",
              "    }\n",
              "</style>\n",
              "<table border=\"1\" class=\"dataframe\">\n",
              "  <thead>\n",
              "    <tr style=\"text-align: right;\">\n",
              "      <th></th>\n",
              "      <th>F7</th>\n",
              "      <th>F3</th>\n",
              "      <th>F4</th>\n",
              "      <th>F8</th>\n",
              "      <th>T3</th>\n",
              "      <th>C3</th>\n",
              "      <th>Cz</th>\n",
              "      <th>C4</th>\n",
              "      <th>T4</th>\n",
              "      <th>T5</th>\n",
              "      <th>P3</th>\n",
              "      <th>Pz</th>\n",
              "      <th>P4</th>\n",
              "      <th>T6</th>\n",
              "      <th>O1</th>\n",
              "      <th>O2</th>\n",
              "      <th>target</th>\n",
              "    </tr>\n",
              "  </thead>\n",
              "  <tbody>\n",
              "    <tr>\n",
              "      <th>0</th>\n",
              "      <td>-314.743460</td>\n",
              "      <td>-262.954887</td>\n",
              "      <td>-6.024066</td>\n",
              "      <td>60.816262</td>\n",
              "      <td>-168.931306</td>\n",
              "      <td>-193.483437</td>\n",
              "      <td>-144.109988</td>\n",
              "      <td>-158.602224</td>\n",
              "      <td>48.292171</td>\n",
              "      <td>83.329619</td>\n",
              "      <td>-27.756071</td>\n",
              "      <td>-63.692657</td>\n",
              "      <td>-232.603901</td>\n",
              "      <td>-49.296876</td>\n",
              "      <td>-4.731246</td>\n",
              "      <td>-306.720392</td>\n",
              "      <td>1</td>\n",
              "    </tr>\n",
              "    <tr>\n",
              "      <th>1</th>\n",
              "      <td>-308.926227</td>\n",
              "      <td>-258.463838</td>\n",
              "      <td>-7.994980</td>\n",
              "      <td>58.170732</td>\n",
              "      <td>-166.218293</td>\n",
              "      <td>-191.097076</td>\n",
              "      <td>-142.945615</td>\n",
              "      <td>-157.718460</td>\n",
              "      <td>44.887962</td>\n",
              "      <td>80.097812</td>\n",
              "      <td>-28.837557</td>\n",
              "      <td>-64.212640</td>\n",
              "      <td>-231.486072</td>\n",
              "      <td>-51.481319</td>\n",
              "      <td>-5.092559</td>\n",
              "      <td>-302.135244</td>\n",
              "      <td>1</td>\n",
              "    </tr>\n",
              "    <tr>\n",
              "      <th>2</th>\n",
              "      <td>-303.134358</td>\n",
              "      <td>-254.015346</td>\n",
              "      <td>-9.986556</td>\n",
              "      <td>55.510887</td>\n",
              "      <td>-163.518098</td>\n",
              "      <td>-188.726857</td>\n",
              "      <td>-141.792753</td>\n",
              "      <td>-156.830904</td>\n",
              "      <td>41.495365</td>\n",
              "      <td>76.854291</td>\n",
              "      <td>-29.913044</td>\n",
              "      <td>-64.713294</td>\n",
              "      <td>-230.334112</td>\n",
              "      <td>-53.647030</td>\n",
              "      <td>-5.479010</td>\n",
              "      <td>-297.539078</td>\n",
              "      <td>1</td>\n",
              "    </tr>\n",
              "    <tr>\n",
              "      <th>3</th>\n",
              "      <td>-297.374854</td>\n",
              "      <td>-249.616777</td>\n",
              "      <td>-12.001089</td>\n",
              "      <td>52.836743</td>\n",
              "      <td>-160.835770</td>\n",
              "      <td>-186.376801</td>\n",
              "      <td>-140.654396</td>\n",
              "      <td>-155.942421</td>\n",
              "      <td>38.115333</td>\n",
              "      <td>73.599671</td>\n",
              "      <td>-30.983701</td>\n",
              "      <td>-65.196685</td>\n",
              "      <td>-229.150840</td>\n",
              "      <td>-55.792740</td>\n",
              "      <td>-5.891777</td>\n",
              "      <td>-292.936898</td>\n",
              "      <td>1</td>\n",
              "    </tr>\n",
              "    <tr>\n",
              "      <th>4</th>\n",
              "      <td>-291.654443</td>\n",
              "      <td>-245.275081</td>\n",
              "      <td>-14.040514</td>\n",
              "      <td>50.148429</td>\n",
              "      <td>-158.176125</td>\n",
              "      <td>-184.050639</td>\n",
              "      <td>-139.533285</td>\n",
              "      <td>-155.055599</td>\n",
              "      <td>34.748915</td>\n",
              "      <td>70.334813</td>\n",
              "      <td>-32.050409</td>\n",
              "      <td>-65.664572</td>\n",
              "      <td>-227.938724</td>\n",
              "      <td>-57.917069</td>\n",
              "      <td>-6.331691</td>\n",
              "      <td>-288.333377</td>\n",
              "      <td>1</td>\n",
              "    </tr>\n",
              "  </tbody>\n",
              "</table>\n",
              "</div>"
            ],
            "text/plain": [
              "           F7          F3         F4  ...        O1          O2  target\n",
              "0 -314.743460 -262.954887  -6.024066  ... -4.731246 -306.720392       1\n",
              "1 -308.926227 -258.463838  -7.994980  ... -5.092559 -302.135244       1\n",
              "2 -303.134358 -254.015346  -9.986556  ... -5.479010 -297.539078       1\n",
              "3 -297.374854 -249.616777 -12.001089  ... -5.891777 -292.936898       1\n",
              "4 -291.654443 -245.275081 -14.040514  ... -6.331691 -288.333377       1\n",
              "\n",
              "[5 rows x 17 columns]"
            ]
          },
          "metadata": {},
          "execution_count": 32
        }
      ]
    },
    {
      "cell_type": "code",
      "metadata": {
        "colab": {
          "base_uri": "https://localhost:8080/",
          "height": 317
        },
        "id": "rys-6BcO7ULD",
        "outputId": "40ac843c-ecf9-4fb8-dae5-b2cb97264a69"
      },
      "source": [
        "hp_filtered_df.describe()"
      ],
      "execution_count": null,
      "outputs": [
        {
          "output_type": "execute_result",
          "data": {
            "text/html": [
              "<div>\n",
              "<style scoped>\n",
              "    .dataframe tbody tr th:only-of-type {\n",
              "        vertical-align: middle;\n",
              "    }\n",
              "\n",
              "    .dataframe tbody tr th {\n",
              "        vertical-align: top;\n",
              "    }\n",
              "\n",
              "    .dataframe thead th {\n",
              "        text-align: right;\n",
              "    }\n",
              "</style>\n",
              "<table border=\"1\" class=\"dataframe\">\n",
              "  <thead>\n",
              "    <tr style=\"text-align: right;\">\n",
              "      <th></th>\n",
              "      <th>F7</th>\n",
              "      <th>F3</th>\n",
              "      <th>F4</th>\n",
              "      <th>F8</th>\n",
              "      <th>T3</th>\n",
              "      <th>C3</th>\n",
              "      <th>Cz</th>\n",
              "      <th>C4</th>\n",
              "      <th>T4</th>\n",
              "      <th>T5</th>\n",
              "      <th>P3</th>\n",
              "      <th>Pz</th>\n",
              "      <th>P4</th>\n",
              "      <th>T6</th>\n",
              "      <th>O1</th>\n",
              "      <th>O2</th>\n",
              "      <th>target</th>\n",
              "    </tr>\n",
              "  </thead>\n",
              "  <tbody>\n",
              "    <tr>\n",
              "      <th>count</th>\n",
              "      <td>645120.000000</td>\n",
              "      <td>645120.000000</td>\n",
              "      <td>645120.000000</td>\n",
              "      <td>645120.000000</td>\n",
              "      <td>645120.000000</td>\n",
              "      <td>645120.000000</td>\n",
              "      <td>645120.000000</td>\n",
              "      <td>645120.000000</td>\n",
              "      <td>645120.000000</td>\n",
              "      <td>645120.000000</td>\n",
              "      <td>645120.000000</td>\n",
              "      <td>645120.000000</td>\n",
              "      <td>645120.000000</td>\n",
              "      <td>645120.000000</td>\n",
              "      <td>645120.000000</td>\n",
              "      <td>645120.000000</td>\n",
              "      <td>645120.000000</td>\n",
              "    </tr>\n",
              "    <tr>\n",
              "      <th>mean</th>\n",
              "      <td>7.763810</td>\n",
              "      <td>0.854793</td>\n",
              "      <td>1.712777</td>\n",
              "      <td>2.457649</td>\n",
              "      <td>4.477188</td>\n",
              "      <td>3.826370</td>\n",
              "      <td>3.788867</td>\n",
              "      <td>3.059834</td>\n",
              "      <td>4.113787</td>\n",
              "      <td>5.966800</td>\n",
              "      <td>5.466833</td>\n",
              "      <td>4.839798</td>\n",
              "      <td>3.831025</td>\n",
              "      <td>5.653465</td>\n",
              "      <td>7.422055</td>\n",
              "      <td>6.267933</td>\n",
              "      <td>0.535714</td>\n",
              "    </tr>\n",
              "    <tr>\n",
              "      <th>std</th>\n",
              "      <td>130.494629</td>\n",
              "      <td>124.554551</td>\n",
              "      <td>115.775260</td>\n",
              "      <td>115.062596</td>\n",
              "      <td>116.081371</td>\n",
              "      <td>95.629399</td>\n",
              "      <td>95.764643</td>\n",
              "      <td>91.143991</td>\n",
              "      <td>97.445342</td>\n",
              "      <td>96.601682</td>\n",
              "      <td>90.492441</td>\n",
              "      <td>87.810701</td>\n",
              "      <td>99.552584</td>\n",
              "      <td>108.394823</td>\n",
              "      <td>112.102116</td>\n",
              "      <td>121.630017</td>\n",
              "      <td>0.498723</td>\n",
              "    </tr>\n",
              "    <tr>\n",
              "      <th>min</th>\n",
              "      <td>-1101.848647</td>\n",
              "      <td>-916.310205</td>\n",
              "      <td>-1221.688588</td>\n",
              "      <td>-1364.558555</td>\n",
              "      <td>-872.103310</td>\n",
              "      <td>-853.271055</td>\n",
              "      <td>-835.000762</td>\n",
              "      <td>-1070.714712</td>\n",
              "      <td>-1003.649731</td>\n",
              "      <td>-1239.509052</td>\n",
              "      <td>-801.822514</td>\n",
              "      <td>-1136.737088</td>\n",
              "      <td>-2094.487559</td>\n",
              "      <td>-1209.330391</td>\n",
              "      <td>-945.790751</td>\n",
              "      <td>-1117.605841</td>\n",
              "      <td>0.000000</td>\n",
              "    </tr>\n",
              "    <tr>\n",
              "      <th>25%</th>\n",
              "      <td>-40.163186</td>\n",
              "      <td>-48.688717</td>\n",
              "      <td>-47.921881</td>\n",
              "      <td>-41.008863</td>\n",
              "      <td>-37.204886</td>\n",
              "      <td>-37.486028</td>\n",
              "      <td>-37.907554</td>\n",
              "      <td>-37.863077</td>\n",
              "      <td>-34.635665</td>\n",
              "      <td>-30.173331</td>\n",
              "      <td>-36.908170</td>\n",
              "      <td>-37.343547</td>\n",
              "      <td>-36.720128</td>\n",
              "      <td>-30.459629</td>\n",
              "      <td>-36.188607</td>\n",
              "      <td>-36.007140</td>\n",
              "      <td>0.000000</td>\n",
              "    </tr>\n",
              "    <tr>\n",
              "      <th>50%</th>\n",
              "      <td>8.210047</td>\n",
              "      <td>3.295959</td>\n",
              "      <td>2.880583</td>\n",
              "      <td>3.765138</td>\n",
              "      <td>3.820370</td>\n",
              "      <td>3.832988</td>\n",
              "      <td>4.397612</td>\n",
              "      <td>4.165661</td>\n",
              "      <td>3.790062</td>\n",
              "      <td>4.834568</td>\n",
              "      <td>4.334067</td>\n",
              "      <td>4.427302</td>\n",
              "      <td>4.579086</td>\n",
              "      <td>4.344905</td>\n",
              "      <td>5.924837</td>\n",
              "      <td>5.383679</td>\n",
              "      <td>1.000000</td>\n",
              "    </tr>\n",
              "    <tr>\n",
              "      <th>75%</th>\n",
              "      <td>55.823306</td>\n",
              "      <td>52.052075</td>\n",
              "      <td>52.468193</td>\n",
              "      <td>46.358510</td>\n",
              "      <td>43.668650</td>\n",
              "      <td>44.818657</td>\n",
              "      <td>46.359086</td>\n",
              "      <td>45.373898</td>\n",
              "      <td>41.474237</td>\n",
              "      <td>39.790144</td>\n",
              "      <td>45.624635</td>\n",
              "      <td>46.222132</td>\n",
              "      <td>45.690470</td>\n",
              "      <td>39.320412</td>\n",
              "      <td>47.517811</td>\n",
              "      <td>47.072928</td>\n",
              "      <td>1.000000</td>\n",
              "    </tr>\n",
              "    <tr>\n",
              "      <th>max</th>\n",
              "      <td>1483.909918</td>\n",
              "      <td>1370.582160</td>\n",
              "      <td>1382.477470</td>\n",
              "      <td>1324.696894</td>\n",
              "      <td>1591.525385</td>\n",
              "      <td>1147.663783</td>\n",
              "      <td>1015.139364</td>\n",
              "      <td>970.092469</td>\n",
              "      <td>1062.835316</td>\n",
              "      <td>1633.687676</td>\n",
              "      <td>989.745210</td>\n",
              "      <td>1633.898089</td>\n",
              "      <td>1469.150173</td>\n",
              "      <td>1933.887490</td>\n",
              "      <td>1963.423338</td>\n",
              "      <td>1687.758045</td>\n",
              "      <td>1.000000</td>\n",
              "    </tr>\n",
              "  </tbody>\n",
              "</table>\n",
              "</div>"
            ],
            "text/plain": [
              "                  F7             F3  ...             O2         target\n",
              "count  645120.000000  645120.000000  ...  645120.000000  645120.000000\n",
              "mean        7.763810       0.854793  ...       6.267933       0.535714\n",
              "std       130.494629     124.554551  ...     121.630017       0.498723\n",
              "min     -1101.848647    -916.310205  ...   -1117.605841       0.000000\n",
              "25%       -40.163186     -48.688717  ...     -36.007140       0.000000\n",
              "50%         8.210047       3.295959  ...       5.383679       1.000000\n",
              "75%        55.823306      52.052075  ...      47.072928       1.000000\n",
              "max      1483.909918    1370.582160  ...    1687.758045       1.000000\n",
              "\n",
              "[8 rows x 17 columns]"
            ]
          },
          "metadata": {},
          "execution_count": 33
        }
      ]
    },
    {
      "cell_type": "markdown",
      "metadata": {
        "id": "TT7sd3Ya1gSh"
      },
      "source": [
        "Models"
      ]
    },
    {
      "cell_type": "markdown",
      "metadata": {
        "id": "AO9XeIbO5PxC"
      },
      "source": [
        "Original Data"
      ]
    },
    {
      "cell_type": "code",
      "metadata": {
        "id": "wMlhvvGFThEX"
      },
      "source": [
        "from keras.models import Sequential\n",
        "from keras.layers import Dense\n",
        "from keras.wrappers.scikit_learn import KerasClassifier\n",
        "from sklearn.model_selection import cross_val_score\n",
        "from sklearn.preprocessing import LabelEncoder\n",
        "from sklearn.model_selection import StratifiedKFold\n",
        "from sklearn.preprocessing import StandardScaler\n",
        "from sklearn.pipeline import Pipeline"
      ],
      "execution_count": null,
      "outputs": []
    },
    {
      "cell_type": "code",
      "metadata": {
        "id": "_z5ebAv_1TvX"
      },
      "source": [
        "from numpy import loadtxt\n",
        "from keras.models import Sequential\n",
        "from keras.layers import Dense\n",
        "from keras.layers import Dropout\n",
        "from keras.layers import BatchNormalization\n",
        "from keras.regularizers import l2\n",
        "# load the dataset"
      ],
      "execution_count": null,
      "outputs": []
    },
    {
      "cell_type": "code",
      "metadata": {
        "id": "zpwHYpBh1fPv"
      },
      "source": [
        "X = df_final.iloc[:,:-1]\n",
        "y = df_final.iloc[:,-1]"
      ],
      "execution_count": null,
      "outputs": []
    },
    {
      "cell_type": "code",
      "metadata": {
        "colab": {
          "base_uri": "https://localhost:8080/"
        },
        "id": "rZtezvei1vrD",
        "outputId": "06487801-af7c-44da-ee55-0bc7fcf25c25"
      },
      "source": [
        "y"
      ],
      "execution_count": null,
      "outputs": [
        {
          "output_type": "execute_result",
          "data": {
            "text/plain": [
              "0         1\n",
              "1         1\n",
              "2         1\n",
              "3         1\n",
              "4         1\n",
              "         ..\n",
              "645115    0\n",
              "645116    0\n",
              "645117    0\n",
              "645118    0\n",
              "645119    0\n",
              "Name: target, Length: 645120, dtype: int64"
            ]
          },
          "metadata": {},
          "execution_count": 37
        }
      ]
    },
    {
      "cell_type": "code",
      "metadata": {
        "id": "j2c1LfUXTpFs"
      },
      "source": [
        "model = Sequential()\n",
        "model.add(Dense(16, activation='swish'))\n",
        "#model.add(Dropout(0.1))\n",
        "#model.add(BatchNormalization())\n",
        "model.add(Dense(32, kernel_regularizer=l2(0.01) ,activation='swish'))\n",
        "#model.add(Dropout(0.1))\n",
        "#model.add(BatchNormalization())\n",
        "model.add(Dense(64, kernel_regularizer=l2(0.01), activation='swish'))\n",
        "#model.add(BatchNormalization())\n",
        "model.add(Dense(1, activation='softmax'))"
      ],
      "execution_count": null,
      "outputs": []
    },
    {
      "cell_type": "code",
      "metadata": {
        "id": "WaygO6N21Y0w",
        "colab": {
          "base_uri": "https://localhost:8080/"
        },
        "outputId": "aaf2e775-015a-4a7e-d454-314c9b6b69ae"
      },
      "source": [
        "model.compile(loss='binary_crossentropy', optimizer='adam', metrics=['accuracy'])\n",
        "model.fit(X, y, epochs=10, batch_size=10)"
      ],
      "execution_count": null,
      "outputs": [
        {
          "output_type": "stream",
          "name": "stdout",
          "text": [
            "Epoch 1/10\n",
            "64512/64512 [==============================] - 181s 3ms/step - loss: 0.7635 - accuracy: 0.5357\n",
            "Epoch 2/10\n",
            "64512/64512 [==============================] - 177s 3ms/step - loss: 0.6202 - accuracy: 0.5357\n",
            "Epoch 3/10\n",
            "64512/64512 [==============================] - 178s 3ms/step - loss: 0.6169 - accuracy: 0.5357\n",
            "Epoch 4/10\n",
            "64512/64512 [==============================] - 181s 3ms/step - loss: 0.6154 - accuracy: 0.5357\n",
            "Epoch 5/10\n",
            "64512/64512 [==============================] - 180s 3ms/step - loss: 0.6141 - accuracy: 0.5357\n",
            "Epoch 6/10\n",
            "64512/64512 [==============================] - 179s 3ms/step - loss: 0.6129 - accuracy: 0.5357\n",
            "Epoch 7/10\n",
            "64512/64512 [==============================] - 179s 3ms/step - loss: 0.6123 - accuracy: 0.5357\n",
            "Epoch 8/10\n",
            "64512/64512 [==============================] - 180s 3ms/step - loss: 0.6115 - accuracy: 0.5357\n",
            "Epoch 9/10\n",
            "64512/64512 [==============================] - 180s 3ms/step - loss: 0.6109 - accuracy: 0.5357\n",
            "Epoch 10/10\n",
            "64512/64512 [==============================] - 179s 3ms/step - loss: 0.6105 - accuracy: 0.5357\n"
          ]
        },
        {
          "output_type": "execute_result",
          "data": {
            "text/plain": [
              "<keras.callbacks.History at 0x7f6d9e2fc550>"
            ]
          },
          "metadata": {},
          "execution_count": 39
        }
      ]
    },
    {
      "cell_type": "code",
      "metadata": {
        "id": "e7PLStzAX49V"
      },
      "source": [
        "model = Sequential()\n",
        "model.add(Dense(16, activation='swish'))\n",
        "model.add(Dropout(0.1))\n",
        "#model.add(BatchNormalization())\n",
        "model.add(Dense(32, kernel_regularizer=l2(0.01) ,activation='swish'))\n",
        "model.add(Dropout(0.1))\n",
        "#model.add(BatchNormalization())\n",
        "model.add(Dense(64, kernel_regularizer=l2(0.01), activation='swish'))\n",
        "#model.add(BatchNormalization())\n",
        "model.add(Dense(1, activation='softmax'))"
      ],
      "execution_count": null,
      "outputs": []
    },
    {
      "cell_type": "code",
      "metadata": {
        "colab": {
          "base_uri": "https://localhost:8080/"
        },
        "id": "7aJ6Fd_7X_vn",
        "outputId": "39734772-c09a-40e5-93b8-dd5a7aead0d0"
      },
      "source": [
        "model.compile(loss='binary_crossentropy', optimizer='adam', metrics=['accuracy'])\n",
        "model.fit(X, y, epochs=10, batch_size=10)"
      ],
      "execution_count": null,
      "outputs": [
        {
          "output_type": "stream",
          "name": "stdout",
          "text": [
            "Epoch 1/10\n",
            "64512/64512 [==============================] - 190s 3ms/step - loss: 0.7953 - accuracy: 0.5357\n",
            "Epoch 2/10\n",
            "64512/64512 [==============================] - 188s 3ms/step - loss: 0.6384 - accuracy: 0.5357\n",
            "Epoch 3/10\n",
            "64512/64512 [==============================] - 186s 3ms/step - loss: 0.6370 - accuracy: 0.5357\n",
            "Epoch 4/10\n",
            "64512/64512 [==============================] - 188s 3ms/step - loss: 0.6358 - accuracy: 0.5357\n",
            "Epoch 5/10\n",
            "64512/64512 [==============================] - 186s 3ms/step - loss: 0.6349 - accuracy: 0.5357\n",
            "Epoch 6/10\n",
            "64512/64512 [==============================] - 188s 3ms/step - loss: 0.6342 - accuracy: 0.5357\n",
            "Epoch 7/10\n",
            "64512/64512 [==============================] - 188s 3ms/step - loss: 0.6338 - accuracy: 0.5357\n",
            "Epoch 8/10\n",
            "64512/64512 [==============================] - 187s 3ms/step - loss: 0.6336 - accuracy: 0.5357\n",
            "Epoch 9/10\n",
            "64512/64512 [==============================] - 188s 3ms/step - loss: 0.6329 - accuracy: 0.5357\n",
            "Epoch 10/10\n",
            "64512/64512 [==============================] - 187s 3ms/step - loss: 0.6327 - accuracy: 0.5357\n"
          ]
        },
        {
          "output_type": "execute_result",
          "data": {
            "text/plain": [
              "<keras.callbacks.History at 0x7f6d9e284210>"
            ]
          },
          "metadata": {},
          "execution_count": 41
        }
      ]
    },
    {
      "cell_type": "markdown",
      "metadata": {
        "id": "8cqnQho35Vb0"
      },
      "source": [
        "Low Pass Filtered Data"
      ]
    },
    {
      "cell_type": "code",
      "metadata": {
        "id": "F7k6c69N2FL6"
      },
      "source": [
        "X = lp_filtered_df.iloc[:,:-1]\n",
        "y = lp_filtered_df.iloc[:,-1]"
      ],
      "execution_count": null,
      "outputs": []
    },
    {
      "cell_type": "code",
      "metadata": {
        "id": "WIllx9La2ICf",
        "colab": {
          "base_uri": "https://localhost:8080/"
        },
        "outputId": "4148268a-7ef5-49eb-8b8c-6f8709a2ba06"
      },
      "source": [
        "y"
      ],
      "execution_count": null,
      "outputs": [
        {
          "output_type": "execute_result",
          "data": {
            "text/plain": [
              "0         1\n",
              "1         1\n",
              "2         1\n",
              "3         1\n",
              "4         1\n",
              "         ..\n",
              "645115    0\n",
              "645116    0\n",
              "645117    0\n",
              "645118    0\n",
              "645119    0\n",
              "Name: target, Length: 645120, dtype: int64"
            ]
          },
          "metadata": {},
          "execution_count": 43
        }
      ]
    },
    {
      "cell_type": "code",
      "metadata": {
        "id": "itI2sjGvUIkj"
      },
      "source": [
        "model = Sequential()\n",
        "model.add(Dense(16, activation='swish'))\n",
        "model.add(Dropout(0.1))\n",
        "#model.add(BatchNormalization())\n",
        "model.add(Dense(32, kernel_regularizer=l2(0.01) ,activation='swish'))\n",
        "model.add(Dropout(0.1))\n",
        "#model.add(BatchNormalization())\n",
        "model.add(Dense(64, kernel_regularizer=l2(0.01), activation='swish'))\n",
        "#model.add(BatchNormalization())\n",
        "model.add(Dense(1, activation='softmax'))"
      ],
      "execution_count": null,
      "outputs": []
    },
    {
      "cell_type": "code",
      "metadata": {
        "id": "PVspo62E1lIH",
        "colab": {
          "base_uri": "https://localhost:8080/"
        },
        "outputId": "02121252-dee7-4f3a-c869-26e49e66c1e0"
      },
      "source": [
        "model.compile(loss='binary_crossentropy', optimizer='adam', metrics=['accuracy'])\n",
        "model.fit(X, y, epochs=10, batch_size=10)"
      ],
      "execution_count": null,
      "outputs": [
        {
          "output_type": "stream",
          "name": "stdout",
          "text": [
            "Epoch 1/10\n",
            "64512/64512 [==============================] - 189s 3ms/step - loss: 0.6929 - accuracy: 0.5357\n",
            "Epoch 2/10\n",
            "64512/64512 [==============================] - 187s 3ms/step - loss: 0.6087 - accuracy: 0.5357\n",
            "Epoch 3/10\n",
            "64512/64512 [==============================] - 187s 3ms/step - loss: 0.6030 - accuracy: 0.5357\n",
            "Epoch 4/10\n",
            "64512/64512 [==============================] - 186s 3ms/step - loss: 0.6002 - accuracy: 0.5357\n",
            "Epoch 5/10\n",
            "64512/64512 [==============================] - 186s 3ms/step - loss: 0.5985 - accuracy: 0.5357\n",
            "Epoch 6/10\n",
            "64512/64512 [==============================] - 187s 3ms/step - loss: 0.5964 - accuracy: 0.5357\n",
            "Epoch 7/10\n",
            "64512/64512 [==============================] - 185s 3ms/step - loss: 0.5958 - accuracy: 0.5357\n",
            "Epoch 8/10\n",
            "64512/64512 [==============================] - 186s 3ms/step - loss: 0.5948 - accuracy: 0.5357\n",
            "Epoch 9/10\n",
            "64512/64512 [==============================] - 185s 3ms/step - loss: 0.5939 - accuracy: 0.5357\n",
            "Epoch 10/10\n",
            "64512/64512 [==============================] - 186s 3ms/step - loss: 0.5938 - accuracy: 0.5357\n"
          ]
        },
        {
          "output_type": "execute_result",
          "data": {
            "text/plain": [
              "<keras.callbacks.History at 0x7f6d9e0bcd10>"
            ]
          },
          "metadata": {},
          "execution_count": 45
        }
      ]
    },
    {
      "cell_type": "markdown",
      "metadata": {
        "id": "36VMOcC85caY"
      },
      "source": [
        "High Pass Filtered Data"
      ]
    },
    {
      "cell_type": "code",
      "metadata": {
        "id": "a9kNTA6a5gCR"
      },
      "source": [
        "X = hp_filtered_df.iloc[:,:-1]\n",
        "y = hp_filtered_df.iloc[:,-1]"
      ],
      "execution_count": null,
      "outputs": []
    },
    {
      "cell_type": "code",
      "metadata": {
        "id": "YELf9Ylp7qoe",
        "colab": {
          "base_uri": "https://localhost:8080/"
        },
        "outputId": "f6d7d357-50db-4dcb-aa9f-66b16d4b75a1"
      },
      "source": [
        "y"
      ],
      "execution_count": null,
      "outputs": [
        {
          "output_type": "execute_result",
          "data": {
            "text/plain": [
              "0         1\n",
              "1         1\n",
              "2         1\n",
              "3         1\n",
              "4         1\n",
              "         ..\n",
              "645115    0\n",
              "645116    0\n",
              "645117    0\n",
              "645118    0\n",
              "645119    0\n",
              "Name: target, Length: 645120, dtype: int64"
            ]
          },
          "metadata": {},
          "execution_count": 47
        }
      ]
    },
    {
      "cell_type": "code",
      "metadata": {
        "id": "UoCc1CDhUJzq"
      },
      "source": [
        "model = Sequential()\n",
        "model.add(Dense(16, activation='swish'))\n",
        "model.add(Dropout(0.1))\n",
        "#model.add(BatchNormalization())\n",
        "model.add(Dense(32, kernel_regularizer=l2(0.01) ,activation='swish'))\n",
        "model.add(Dropout(0.1))\n",
        "#model.add(BatchNormalization())\n",
        "model.add(Dense(64, kernel_regularizer=l2(0.01), activation='swish'))\n",
        "#model.add(BatchNormalization())\n",
        "model.add(Dense(1, activation='softmax'))"
      ],
      "execution_count": null,
      "outputs": []
    },
    {
      "cell_type": "code",
      "metadata": {
        "id": "36B-Dm3K1uPh",
        "colab": {
          "base_uri": "https://localhost:8080/"
        },
        "outputId": "31f9a78d-5c7e-44b8-e7e5-5b7baa066b79"
      },
      "source": [
        "model.compile(loss='binary_crossentropy', optimizer='adam', metrics=['accuracy'])\n",
        "model.fit(X, y, epochs=10, batch_size=10)"
      ],
      "execution_count": null,
      "outputs": [
        {
          "output_type": "stream",
          "name": "stdout",
          "text": [
            "Epoch 1/10\n",
            "64512/64512 [==============================] - 188s 3ms/step - loss: 0.6803 - accuracy: 0.5357\n",
            "Epoch 2/10\n",
            "64512/64512 [==============================] - 186s 3ms/step - loss: 0.6072 - accuracy: 0.5357\n",
            "Epoch 3/10\n",
            "64512/64512 [==============================] - 185s 3ms/step - loss: 0.6039 - accuracy: 0.5357\n",
            "Epoch 4/10\n",
            "64512/64512 [==============================] - 187s 3ms/step - loss: 0.6025 - accuracy: 0.5357\n",
            "Epoch 5/10\n",
            "64512/64512 [==============================] - 188s 3ms/step - loss: 0.6013 - accuracy: 0.5357\n",
            "Epoch 6/10\n",
            "64512/64512 [==============================] - 188s 3ms/step - loss: 0.6002 - accuracy: 0.5357\n",
            "Epoch 7/10\n",
            "64512/64512 [==============================] - 187s 3ms/step - loss: 0.5993 - accuracy: 0.5357\n",
            "Epoch 8/10\n",
            "64512/64512 [==============================] - 187s 3ms/step - loss: 0.5989 - accuracy: 0.5357\n",
            "Epoch 9/10\n",
            "64512/64512 [==============================] - 186s 3ms/step - loss: 0.5980 - accuracy: 0.5357\n",
            "Epoch 10/10\n",
            "64512/64512 [==============================] - 187s 3ms/step - loss: 0.5978 - accuracy: 0.5357\n"
          ]
        },
        {
          "output_type": "execute_result",
          "data": {
            "text/plain": [
              "<keras.callbacks.History at 0x7f6d9deff0d0>"
            ]
          },
          "metadata": {},
          "execution_count": 49
        }
      ]
    }
  ]
}